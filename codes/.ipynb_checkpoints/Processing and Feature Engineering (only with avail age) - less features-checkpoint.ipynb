{
 "cells": [
  {
   "cell_type": "markdown",
   "metadata": {},
   "source": [
    "## Processing"
   ]
  },
  {
   "cell_type": "code",
   "execution_count": 1,
   "metadata": {},
   "outputs": [
    {
     "name": "stderr",
     "output_type": "stream",
     "text": [
      "Using TensorFlow backend.\n"
     ]
    }
   ],
   "source": [
    "import pandas as pd\n",
    "import seaborn as sns\n",
    "import numpy as np\n",
    "import string\n",
    "\n",
    "from tqdm import tqdm_notebook as tqdm\n",
    "from keras.utils import np_utils\n",
    "import matplotlib.pyplot as plt\n",
    "%matplotlib inline\n",
    "\n",
    "from sklearn.cluster import KMeans, DBSCAN\n",
    "from sklearn.preprocessing import StandardScaler, OneHotEncoder\n",
    "from sklearn import metrics\n",
    "from sklearn.metrics import silhouette_score\n",
    "from sklearn.model_selection import GridSearchCV\n",
    "from sklearn.feature_extraction.text import CountVectorizer\n",
    "\n"
   ]
  },
  {
   "cell_type": "code",
   "execution_count": 2,
   "metadata": {},
   "outputs": [],
   "source": [
    "df = pd.read_csv('../inputs/profile_features_clean.csv')"
   ]
  },
  {
   "cell_type": "code",
   "execution_count": 3,
   "metadata": {},
   "outputs": [
    {
     "data": {
      "text/html": [
       "<div>\n",
       "<style scoped>\n",
       "    .dataframe tbody tr th:only-of-type {\n",
       "        vertical-align: middle;\n",
       "    }\n",
       "\n",
       "    .dataframe tbody tr th {\n",
       "        vertical-align: top;\n",
       "    }\n",
       "\n",
       "    .dataframe thead th {\n",
       "        text-align: right;\n",
       "    }\n",
       "</style>\n",
       "<table border=\"1\" class=\"dataframe\">\n",
       "  <thead>\n",
       "    <tr style=\"text-align: right;\">\n",
       "      <th></th>\n",
       "      <th>address</th>\n",
       "      <th>postal_code</th>\n",
       "      <th>account_balance</th>\n",
       "      <th>card_brand_users</th>\n",
       "      <th>has_coupon</th>\n",
       "      <th>birthday_year</th>\n",
       "      <th>birthday_month</th>\n",
       "      <th>age</th>\n",
       "      <th>user_id</th>\n",
       "      <th>zone_id</th>\n",
       "      <th>discount</th>\n",
       "      <th>due_dates_only</th>\n",
       "      <th>card_details</th>\n",
       "      <th>card_brand_delivery_info</th>\n",
       "      <th>source</th>\n",
       "      <th>delivery_fee</th>\n",
       "      <th>meal_wave</th>\n",
       "      <th>surcharge_amount</th>\n",
       "      <th>promo_code_used</th>\n",
       "      <th>gave_feedback</th>\n",
       "      <th>delivery_order_id</th>\n",
       "      <th>item_id</th>\n",
       "      <th>item_type</th>\n",
       "      <th>quantity</th>\n",
       "      <th>unit_price</th>\n",
       "      <th>name</th>\n",
       "      <th>macros</th>\n",
       "      <th>ingredients</th>\n",
       "      <th>temperature</th>\n",
       "      <th>category</th>\n",
       "    </tr>\n",
       "  </thead>\n",
       "  <tbody>\n",
       "    <tr>\n",
       "      <th>9393</th>\n",
       "      <td>174A Hougang Avenue 1</td>\n",
       "      <td>531174.0</td>\n",
       "      <td>0</td>\n",
       "      <td>Visa</td>\n",
       "      <td>0</td>\n",
       "      <td>1989.0</td>\n",
       "      <td>9.0</td>\n",
       "      <td>30.0</td>\n",
       "      <td>46220</td>\n",
       "      <td>70.0</td>\n",
       "      <td>0.0</td>\n",
       "      <td>2018-07-18</td>\n",
       "      <td>NaN</td>\n",
       "      <td>Visa</td>\n",
       "      <td>web</td>\n",
       "      <td>200.0</td>\n",
       "      <td>0</td>\n",
       "      <td>0.0</td>\n",
       "      <td>0</td>\n",
       "      <td>0</td>\n",
       "      <td>132111</td>\n",
       "      <td>336.0</td>\n",
       "      <td>main</td>\n",
       "      <td>1.0</td>\n",
       "      <td>1195.0</td>\n",
       "      <td>Grilled Farm Fresh Chicken</td>\n",
       "      <td>Calories: 549, Fat: 14g, Carb: 61g, Protein: 45g</td>\n",
       "      <td>chicken breast, cherry tomato, broccoli, arugu...</td>\n",
       "      <td>warm</td>\n",
       "      <td>regular</td>\n",
       "    </tr>\n",
       "    <tr>\n",
       "      <th>22870</th>\n",
       "      <td>80 Bendemeer Road</td>\n",
       "      <td>339949.0</td>\n",
       "      <td>0</td>\n",
       "      <td>Visa</td>\n",
       "      <td>0</td>\n",
       "      <td>NaN</td>\n",
       "      <td>NaN</td>\n",
       "      <td>NaN</td>\n",
       "      <td>35778</td>\n",
       "      <td>74.0</td>\n",
       "      <td>0.0</td>\n",
       "      <td>2017-06-28</td>\n",
       "      <td>NaN</td>\n",
       "      <td>Visa</td>\n",
       "      <td>web</td>\n",
       "      <td>200.0</td>\n",
       "      <td>second</td>\n",
       "      <td>0.0</td>\n",
       "      <td>0</td>\n",
       "      <td>0</td>\n",
       "      <td>93673</td>\n",
       "      <td>459.0</td>\n",
       "      <td>main</td>\n",
       "      <td>2.0</td>\n",
       "      <td>950.0</td>\n",
       "      <td>Roasted Pumpkin and Black Rice Salad</td>\n",
       "      <td>Calories: 575, Protein: 27.7g, Fat: 8.5g, Carb...</td>\n",
       "      <td>pumpkin, black rice, brown rice, sweet corn, c...</td>\n",
       "      <td>chilled</td>\n",
       "      <td>regular</td>\n",
       "    </tr>\n",
       "    <tr>\n",
       "      <th>35267</th>\n",
       "      <td>69 Cairnhill Road</td>\n",
       "      <td>229675.0</td>\n",
       "      <td>0</td>\n",
       "      <td>Visa</td>\n",
       "      <td>0</td>\n",
       "      <td>NaN</td>\n",
       "      <td>NaN</td>\n",
       "      <td>NaN</td>\n",
       "      <td>22758</td>\n",
       "      <td>74.0</td>\n",
       "      <td>0.0</td>\n",
       "      <td>2017-05-29</td>\n",
       "      <td>NaN</td>\n",
       "      <td>Visa</td>\n",
       "      <td>mobile-ios</td>\n",
       "      <td>200.0</td>\n",
       "      <td>third</td>\n",
       "      <td>0.0</td>\n",
       "      <td>0</td>\n",
       "      <td>1</td>\n",
       "      <td>90837</td>\n",
       "      <td>460.0</td>\n",
       "      <td>main</td>\n",
       "      <td>2.0</td>\n",
       "      <td>1395.0</td>\n",
       "      <td>Twice‑cooked Braised Beef Brisket</td>\n",
       "      <td>Calories: 612, Protein: 68g, Fat: 29g, Carb: 79g</td>\n",
       "      <td>beef brisket, dried shrimp, oyster sauce, hois...</td>\n",
       "      <td>warm</td>\n",
       "      <td>highlight</td>\n",
       "    </tr>\n",
       "  </tbody>\n",
       "</table>\n",
       "</div>"
      ],
      "text/plain": [
       "                     address  postal_code  account_balance card_brand_users  \\\n",
       "9393   174A Hougang Avenue 1     531174.0                0             Visa   \n",
       "22870      80 Bendemeer Road     339949.0                0             Visa   \n",
       "35267      69 Cairnhill Road     229675.0                0             Visa   \n",
       "\n",
       "       has_coupon  birthday_year  birthday_month   age  user_id  zone_id  \\\n",
       "9393            0         1989.0             9.0  30.0    46220     70.0   \n",
       "22870           0            NaN             NaN   NaN    35778     74.0   \n",
       "35267           0            NaN             NaN   NaN    22758     74.0   \n",
       "\n",
       "       discount due_dates_only card_details card_brand_delivery_info  \\\n",
       "9393        0.0     2018-07-18          NaN                     Visa   \n",
       "22870       0.0     2017-06-28          NaN                     Visa   \n",
       "35267       0.0     2017-05-29          NaN                     Visa   \n",
       "\n",
       "           source  delivery_fee meal_wave  surcharge_amount  promo_code_used  \\\n",
       "9393          web         200.0         0               0.0                0   \n",
       "22870         web         200.0    second               0.0                0   \n",
       "35267  mobile-ios         200.0     third               0.0                0   \n",
       "\n",
       "       gave_feedback  delivery_order_id  item_id item_type  quantity  \\\n",
       "9393               0             132111    336.0      main       1.0   \n",
       "22870              0              93673    459.0      main       2.0   \n",
       "35267              1              90837    460.0      main       2.0   \n",
       "\n",
       "       unit_price                                   name  \\\n",
       "9393       1195.0             Grilled Farm Fresh Chicken   \n",
       "22870       950.0  Roasted Pumpkin and Black Rice Salad    \n",
       "35267      1395.0     Twice‑cooked Braised Beef Brisket    \n",
       "\n",
       "                                                  macros  \\\n",
       "9393    Calories: 549, Fat: 14g, Carb: 61g, Protein: 45g   \n",
       "22870  Calories: 575, Protein: 27.7g, Fat: 8.5g, Carb...   \n",
       "35267  Calories: 612, Protein: 68g, Fat: 29g, Carb: 79g    \n",
       "\n",
       "                                             ingredients temperature  \\\n",
       "9393   chicken breast, cherry tomato, broccoli, arugu...        warm   \n",
       "22870  pumpkin, black rice, brown rice, sweet corn, c...     chilled   \n",
       "35267  beef brisket, dried shrimp, oyster sauce, hois...        warm   \n",
       "\n",
       "        category  \n",
       "9393     regular  \n",
       "22870    regular  \n",
       "35267  highlight  "
      ]
     },
     "execution_count": 3,
     "metadata": {},
     "output_type": "execute_result"
    }
   ],
   "source": [
    "pd.options.display.max_columns = None\n",
    "df.sample(3)"
   ]
  },
  {
   "cell_type": "code",
   "execution_count": 4,
   "metadata": {},
   "outputs": [
    {
     "data": {
      "text/plain": [
       "(57283, 30)"
      ]
     },
     "execution_count": 4,
     "metadata": {},
     "output_type": "execute_result"
    }
   ],
   "source": [
    "df.shape"
   ]
  },
  {
   "cell_type": "code",
   "execution_count": 5,
   "metadata": {},
   "outputs": [
    {
     "data": {
      "text/html": [
       "<div>\n",
       "<style scoped>\n",
       "    .dataframe tbody tr th:only-of-type {\n",
       "        vertical-align: middle;\n",
       "    }\n",
       "\n",
       "    .dataframe tbody tr th {\n",
       "        vertical-align: top;\n",
       "    }\n",
       "\n",
       "    .dataframe thead th {\n",
       "        text-align: right;\n",
       "    }\n",
       "</style>\n",
       "<table border=\"1\" class=\"dataframe\">\n",
       "  <thead>\n",
       "    <tr style=\"text-align: right;\">\n",
       "      <th></th>\n",
       "      <th>%Null</th>\n",
       "    </tr>\n",
       "  </thead>\n",
       "  <tbody>\n",
       "    <tr>\n",
       "      <th>birthday_year</th>\n",
       "      <td>0.877520</td>\n",
       "    </tr>\n",
       "    <tr>\n",
       "      <th>age</th>\n",
       "      <td>0.877520</td>\n",
       "    </tr>\n",
       "    <tr>\n",
       "      <th>birthday_month</th>\n",
       "      <td>0.875024</td>\n",
       "    </tr>\n",
       "    <tr>\n",
       "      <th>card_details</th>\n",
       "      <td>0.616483</td>\n",
       "    </tr>\n",
       "    <tr>\n",
       "      <th>card_brand_delivery_info</th>\n",
       "      <td>0.322033</td>\n",
       "    </tr>\n",
       "    <tr>\n",
       "      <th>card_brand_users</th>\n",
       "      <td>0.114379</td>\n",
       "    </tr>\n",
       "    <tr>\n",
       "      <th>category</th>\n",
       "      <td>0.001554</td>\n",
       "    </tr>\n",
       "    <tr>\n",
       "      <th>ingredients</th>\n",
       "      <td>0.001082</td>\n",
       "    </tr>\n",
       "    <tr>\n",
       "      <th>item_type</th>\n",
       "      <td>0.000017</td>\n",
       "    </tr>\n",
       "  </tbody>\n",
       "</table>\n",
       "</div>"
      ],
      "text/plain": [
       "                             %Null\n",
       "birthday_year             0.877520\n",
       "age                       0.877520\n",
       "birthday_month            0.875024\n",
       "card_details              0.616483\n",
       "card_brand_delivery_info  0.322033\n",
       "card_brand_users          0.114379\n",
       "category                  0.001554\n",
       "ingredients               0.001082\n",
       "item_type                 0.000017"
      ]
     },
     "execution_count": 5,
     "metadata": {},
     "output_type": "execute_result"
    }
   ],
   "source": [
    "#Find % of missing values in each column\n",
    "missing_pct = pd.DataFrame(df.isnull().sum()/df.shape[0], columns=['%Null']).sort_values('%Null',ascending=False)\n",
    "\n",
    "#Print only those with missing values\n",
    "missing_pct[missing_pct['%Null']> 0]"
   ]
  },
  {
   "cell_type": "markdown",
   "metadata": {},
   "source": [
    "### Item_type"
   ]
  },
  {
   "cell_type": "code",
   "execution_count": 6,
   "metadata": {},
   "outputs": [
    {
     "data": {
      "text/html": [
       "<div>\n",
       "<style scoped>\n",
       "    .dataframe tbody tr th:only-of-type {\n",
       "        vertical-align: middle;\n",
       "    }\n",
       "\n",
       "    .dataframe tbody tr th {\n",
       "        vertical-align: top;\n",
       "    }\n",
       "\n",
       "    .dataframe thead th {\n",
       "        text-align: right;\n",
       "    }\n",
       "</style>\n",
       "<table border=\"1\" class=\"dataframe\">\n",
       "  <thead>\n",
       "    <tr style=\"text-align: right;\">\n",
       "      <th></th>\n",
       "      <th>address</th>\n",
       "      <th>postal_code</th>\n",
       "      <th>account_balance</th>\n",
       "      <th>card_brand_users</th>\n",
       "      <th>has_coupon</th>\n",
       "      <th>birthday_year</th>\n",
       "      <th>birthday_month</th>\n",
       "      <th>age</th>\n",
       "      <th>user_id</th>\n",
       "      <th>zone_id</th>\n",
       "      <th>discount</th>\n",
       "      <th>due_dates_only</th>\n",
       "      <th>card_details</th>\n",
       "      <th>card_brand_delivery_info</th>\n",
       "      <th>source</th>\n",
       "      <th>delivery_fee</th>\n",
       "      <th>meal_wave</th>\n",
       "      <th>surcharge_amount</th>\n",
       "      <th>promo_code_used</th>\n",
       "      <th>gave_feedback</th>\n",
       "      <th>delivery_order_id</th>\n",
       "      <th>item_id</th>\n",
       "      <th>item_type</th>\n",
       "      <th>quantity</th>\n",
       "      <th>unit_price</th>\n",
       "      <th>name</th>\n",
       "      <th>macros</th>\n",
       "      <th>ingredients</th>\n",
       "      <th>temperature</th>\n",
       "      <th>category</th>\n",
       "    </tr>\n",
       "  </thead>\n",
       "  <tbody>\n",
       "    <tr>\n",
       "      <th>16678</th>\n",
       "      <td>100 High Street</td>\n",
       "      <td>179434.0</td>\n",
       "      <td>1215</td>\n",
       "      <td>MasterCard</td>\n",
       "      <td>0</td>\n",
       "      <td>NaN</td>\n",
       "      <td>NaN</td>\n",
       "      <td>NaN</td>\n",
       "      <td>8782</td>\n",
       "      <td>74.0</td>\n",
       "      <td>0.0</td>\n",
       "      <td>2016-11-23</td>\n",
       "      <td>---\\n23/11:\\n  :name: '23/11 | 12:00pm | 100 H...</td>\n",
       "      <td>MasterCard</td>\n",
       "      <td>0</td>\n",
       "      <td>0.0</td>\n",
       "      <td>second</td>\n",
       "      <td>0.0</td>\n",
       "      <td>0</td>\n",
       "      <td>0</td>\n",
       "      <td>73242</td>\n",
       "      <td>186.0</td>\n",
       "      <td>NaN</td>\n",
       "      <td>1.0</td>\n",
       "      <td>4.0</td>\n",
       "      <td>Pink Coconut Water</td>\n",
       "      <td>Serving Size: 270ml, Calories: 59, Fat: 0g, Ca...</td>\n",
       "      <td>coconut water</td>\n",
       "      <td>chilled</td>\n",
       "      <td>drink</td>\n",
       "    </tr>\n",
       "  </tbody>\n",
       "</table>\n",
       "</div>"
      ],
      "text/plain": [
       "               address  postal_code  account_balance card_brand_users  \\\n",
       "16678  100 High Street     179434.0             1215       MasterCard   \n",
       "\n",
       "       has_coupon  birthday_year  birthday_month  age  user_id  zone_id  \\\n",
       "16678           0            NaN             NaN  NaN     8782     74.0   \n",
       "\n",
       "       discount due_dates_only  \\\n",
       "16678       0.0     2016-11-23   \n",
       "\n",
       "                                            card_details  \\\n",
       "16678  ---\\n23/11:\\n  :name: '23/11 | 12:00pm | 100 H...   \n",
       "\n",
       "      card_brand_delivery_info source  delivery_fee meal_wave  \\\n",
       "16678               MasterCard      0           0.0    second   \n",
       "\n",
       "       surcharge_amount  promo_code_used  gave_feedback  delivery_order_id  \\\n",
       "16678               0.0                0              0              73242   \n",
       "\n",
       "       item_id item_type  quantity  unit_price                name  \\\n",
       "16678    186.0       NaN       1.0         4.0  Pink Coconut Water   \n",
       "\n",
       "                                                  macros    ingredients  \\\n",
       "16678  Serving Size: 270ml, Calories: 59, Fat: 0g, Ca...  coconut water   \n",
       "\n",
       "      temperature category  \n",
       "16678     chilled    drink  "
      ]
     },
     "execution_count": 6,
     "metadata": {},
     "output_type": "execute_result"
    }
   ],
   "source": [
    "df[df.item_type.isnull()]"
   ]
  },
  {
   "cell_type": "code",
   "execution_count": 7,
   "metadata": {},
   "outputs": [
    {
     "data": {
      "text/plain": [
       "array(['main', 'drink', nan, 'side', 'dessert', 'product', 'BundleItem'],\n",
       "      dtype=object)"
      ]
     },
     "execution_count": 7,
     "metadata": {},
     "output_type": "execute_result"
    }
   ],
   "source": [
    "df.item_type.unique()"
   ]
  },
  {
   "cell_type": "code",
   "execution_count": 8,
   "metadata": {},
   "outputs": [],
   "source": [
    "df.item_type.fillna('drink', inplace=True)"
   ]
  },
  {
   "cell_type": "markdown",
   "metadata": {},
   "source": [
    "### Ingredients"
   ]
  },
  {
   "cell_type": "code",
   "execution_count": 9,
   "metadata": {},
   "outputs": [
    {
     "data": {
      "text/plain": [
       "Teriyaki Chicken with Japanese Risotto             28\n",
       "Smoked Salmon Salad with Compressed Cider Apple    23\n",
       "Vietnamese Salad                                    6\n",
       "Personalised meal                                   4\n",
       "Beef Goulash with Polenta Cake                      1\n",
       "Name: name, dtype: int64"
      ]
     },
     "execution_count": 9,
     "metadata": {},
     "output_type": "execute_result"
    }
   ],
   "source": [
    "df[df.ingredients.isnull()]['name'].value_counts()"
   ]
  },
  {
   "cell_type": "code",
   "execution_count": 10,
   "metadata": {},
   "outputs": [],
   "source": [
    "texts = pd.DataFrame(df[df.ingredients.notnull()].ingredients)"
   ]
  },
  {
   "cell_type": "code",
   "execution_count": 11,
   "metadata": {},
   "outputs": [
    {
     "data": {
      "text/html": [
       "<div>\n",
       "<style scoped>\n",
       "    .dataframe tbody tr th:only-of-type {\n",
       "        vertical-align: middle;\n",
       "    }\n",
       "\n",
       "    .dataframe tbody tr th {\n",
       "        vertical-align: top;\n",
       "    }\n",
       "\n",
       "    .dataframe thead th {\n",
       "        text-align: right;\n",
       "    }\n",
       "</style>\n",
       "<table border=\"1\" class=\"dataframe\">\n",
       "  <thead>\n",
       "    <tr style=\"text-align: right;\">\n",
       "      <th></th>\n",
       "      <th>ingredients</th>\n",
       "    </tr>\n",
       "  </thead>\n",
       "  <tbody>\n",
       "    <tr>\n",
       "      <th>0</th>\n",
       "      <td>salmon, couscous, eggplant, zucchini, onion, c...</td>\n",
       "    </tr>\n",
       "    <tr>\n",
       "      <th>1</th>\n",
       "      <td>salmon, couscous, eggplant, zucchini, onion, c...</td>\n",
       "    </tr>\n",
       "    <tr>\n",
       "      <th>2</th>\n",
       "      <td>salmon, couscous, eggplant, zucchini, onion, c...</td>\n",
       "    </tr>\n",
       "    <tr>\n",
       "      <th>3</th>\n",
       "      <td>salmon, couscous, eggplant, zucchini, onion, c...</td>\n",
       "    </tr>\n",
       "    <tr>\n",
       "      <th>4</th>\n",
       "      <td>salmon, couscous, eggplant, zucchini, onion, c...</td>\n",
       "    </tr>\n",
       "  </tbody>\n",
       "</table>\n",
       "</div>"
      ],
      "text/plain": [
       "                                         ingredients\n",
       "0  salmon, couscous, eggplant, zucchini, onion, c...\n",
       "1  salmon, couscous, eggplant, zucchini, onion, c...\n",
       "2  salmon, couscous, eggplant, zucchini, onion, c...\n",
       "3  salmon, couscous, eggplant, zucchini, onion, c...\n",
       "4  salmon, couscous, eggplant, zucchini, onion, c..."
      ]
     },
     "execution_count": 11,
     "metadata": {},
     "output_type": "execute_result"
    }
   ],
   "source": [
    "texts.head()"
   ]
  },
  {
   "cell_type": "code",
   "execution_count": 12,
   "metadata": {},
   "outputs": [],
   "source": [
    "#Removes punctuation\n",
    "texts['clean_text'] = texts.ingredients.map(lambda x : ''.join(k for k in str(x) if k not in string.punctuation))"
   ]
  },
  {
   "cell_type": "code",
   "execution_count": 13,
   "metadata": {},
   "outputs": [
    {
     "data": {
      "text/plain": [
       "CountVectorizer(analyzer='word', binary=False, decode_error='strict',\n",
       "                dtype=<class 'numpy.int64'>, encoding='utf-8', input='content',\n",
       "                lowercase=True, max_df=1.0, max_features=None, min_df=1,\n",
       "                ngram_range=(1, 1), preprocessor=None, stop_words='english',\n",
       "                strip_accents=None, token_pattern='(?u)\\\\b\\\\w\\\\w+\\\\b',\n",
       "                tokenizer=None, vocabulary=None)"
      ]
     },
     "execution_count": 13,
     "metadata": {},
     "output_type": "execute_result"
    }
   ],
   "source": [
    "cvec = CountVectorizer(stop_words='english')\n",
    "cvec.fit(texts.clean_text)"
   ]
  },
  {
   "cell_type": "code",
   "execution_count": 14,
   "metadata": {},
   "outputs": [
    {
     "name": "stdout",
     "output_type": "stream",
     "text": [
      "# of features: 695\n"
     ]
    }
   ],
   "source": [
    "print('# of features: {}'.format(len(cvec.get_feature_names())))"
   ]
  },
  {
   "cell_type": "code",
   "execution_count": 15,
   "metadata": {},
   "outputs": [
    {
     "name": "stdout",
     "output_type": "stream",
     "text": [
      "Most common ingredients:\n"
     ]
    },
    {
     "data": {
      "text/plain": [
       "oil         49244\n",
       "rice        43820\n",
       "salt        38563\n",
       "juice       32021\n",
       "sauce       29574\n",
       "chicken     27074\n",
       "olive       26870\n",
       "sugar       26865\n",
       "black       26674\n",
       "tomato      26521\n",
       "garlic      24515\n",
       "white       24215\n",
       "onion       24155\n",
       "brown       23566\n",
       "lime        20070\n",
       "vinegar     19944\n",
       "cherry      18846\n",
       "chilli      18081\n",
       "sesame      17038\n",
       "mushroom    16293\n",
       "dtype: int64"
      ]
     },
     "execution_count": 15,
     "metadata": {},
     "output_type": "execute_result"
    }
   ],
   "source": [
    "bow = pd.DataFrame(cvec.transform(texts.clean_text).todense(),columns=cvec.get_feature_names())\n",
    "word_count = bow.sum(axis=0)\n",
    "\n",
    "print(\"Most common ingredients:\")\n",
    "word_count.sort_values(ascending = False).head(20)"
   ]
  },
  {
   "cell_type": "markdown",
   "metadata": {},
   "source": [
    "### Category"
   ]
  },
  {
   "cell_type": "code",
   "execution_count": 16,
   "metadata": {},
   "outputs": [
    {
     "data": {
      "text/plain": [
       "main    89\n",
       "Name: item_type, dtype: int64"
      ]
     },
     "execution_count": 16,
     "metadata": {},
     "output_type": "execute_result"
    }
   ],
   "source": [
    "df[df.category.isnull()]['item_type'].value_counts()"
   ]
  },
  {
   "cell_type": "code",
   "execution_count": 17,
   "metadata": {},
   "outputs": [
    {
     "data": {
      "text/plain": [
       "Chirashi-don    89\n",
       "Name: name, dtype: int64"
      ]
     },
     "execution_count": 17,
     "metadata": {},
     "output_type": "execute_result"
    }
   ],
   "source": [
    "df[df.category.isnull()]['name'].value_counts()"
   ]
  },
  {
   "cell_type": "code",
   "execution_count": 18,
   "metadata": {},
   "outputs": [
    {
     "data": {
      "text/plain": [
       "regular        25669\n",
       "highlight       9022\n",
       "main            5863\n",
       "drink           5128\n",
       "side            3998\n",
       "favorite        2075\n",
       "dessert         2060\n",
       "off_menu        1082\n",
       "guilt-free      1012\n",
       "local            904\n",
       "fresh            345\n",
       "Main Course       22\n",
       "Dessert            5\n",
       "Appetiser          5\n",
       "partnership        4\n",
       "Name: category, dtype: int64"
      ]
     },
     "execution_count": 18,
     "metadata": {},
     "output_type": "execute_result"
    }
   ],
   "source": [
    "df.category.value_counts()"
   ]
  },
  {
   "cell_type": "code",
   "execution_count": 19,
   "metadata": {},
   "outputs": [
    {
     "data": {
      "text/plain": [
       "array(['guilt-free', 'regular', 'favorite', 'highlight', 'fresh', 'main',\n",
       "       'drink', 'side', 'off_menu', 'local', 'dessert', nan,\n",
       "       'partnership', 'Main Course', 'Appetiser', 'Dessert'], dtype=object)"
      ]
     },
     "execution_count": 19,
     "metadata": {},
     "output_type": "execute_result"
    }
   ],
   "source": [
    "df.category.unique()"
   ]
  },
  {
   "cell_type": "code",
   "execution_count": 20,
   "metadata": {},
   "outputs": [],
   "source": [
    "#Fill missing values as 'main' as they are all Chirashi-don\n",
    "df.category.fillna('main', inplace=True)"
   ]
  },
  {
   "cell_type": "code",
   "execution_count": 21,
   "metadata": {},
   "outputs": [
    {
     "data": {
      "text/plain": [
       "regular        25669\n",
       "highlight       9022\n",
       "main            5974\n",
       "drink           5128\n",
       "side            4003\n",
       "favorite        2075\n",
       "dessert         2065\n",
       "off_menu        1082\n",
       "guilt-free      1012\n",
       "local            904\n",
       "fresh            345\n",
       "partnership        4\n",
       "Name: category, dtype: int64"
      ]
     },
     "execution_count": 21,
     "metadata": {},
     "output_type": "execute_result"
    }
   ],
   "source": [
    "#Consolidating similiar categories\n",
    "def consolidate_cat(x):\n",
    "    if x == 'Main Course':\n",
    "        return 'main'\n",
    "    elif x == 'Appetiser':\n",
    "        return 'side'\n",
    "    elif x == 'Dessert':\n",
    "        return 'dessert'\n",
    "    else:\n",
    "        return x\n",
    "\n",
    "df.category = df.category.apply(lambda x : consolidate_cat(x))\n",
    "df.category.value_counts()"
   ]
  },
  {
   "cell_type": "markdown",
   "metadata": {},
   "source": [
    "### Macros"
   ]
  },
  {
   "cell_type": "markdown",
   "metadata": {},
   "source": [
    "Split out macros into components: Calories, Fat, Protein, Carbs"
   ]
  },
  {
   "cell_type": "code",
   "execution_count": 22,
   "metadata": {},
   "outputs": [],
   "source": [
    "new = df.macros.str.split(',', n=5, expand=True)\n",
    "\n",
    "df['macros_1_name'] = new[0].str.split(': ', n=2, expand=True)[0]\n",
    "df['macros_1_value'] = new[0].str.split(': ', n=2, expand=True)[1]\n",
    "\n",
    "df['macros_2_name'] = new[1].str.split(': ', n=2, expand=True)[0]\n",
    "df['macros_2_value'] = new[1].str.split(': ', n=2, expand=True)[1]\n",
    "\n",
    "df['macros_3_name'] = new[2].str.split(': ', n=2, expand=True)[0]\n",
    "df['macros_3_value'] = new[2].str.split(': ', n=2, expand=True)[1]\n",
    "\n",
    "df['macros_4_name'] = new[3].str.split(': ', n=2, expand=True)[0]\n",
    "df['macros_4_value'] = new[3].str.split(': ', n=2, expand=True)[1]\n",
    "\n",
    "df['macros_5_name'] = new[4].str.split(': ', n=2, expand=True)[0]\n",
    "df['macros_5_value'] = new[4].str.split(': ', n=2, expand=True)[1]"
   ]
  },
  {
   "cell_type": "code",
   "execution_count": 23,
   "metadata": {},
   "outputs": [
    {
     "name": "stdout",
     "output_type": "stream",
     "text": [
      "['Calories' 'Serving Size' 'Coming soon' 'calories' '0'\n",
      " 'Information included in Christmas Box' ' Calories']\n",
      "[' Fat' ' Protein' ' Calories' None ' Carbs']\n",
      "[' Carb' ' Fat' None ' Protein']\n",
      "[' Protein' ' Carb' None '  Fat']\n",
      "[None ' Protein']\n"
     ]
    }
   ],
   "source": [
    "print(df.macros_1_name.unique())\n",
    "print(df.macros_2_name.unique())\n",
    "print(df.macros_3_name.unique())\n",
    "print(df.macros_4_name.unique())\n",
    "print(df.macros_5_name.unique())"
   ]
  },
  {
   "cell_type": "code",
   "execution_count": 24,
   "metadata": {},
   "outputs": [],
   "source": [
    "df['calories'] = 0\n",
    "df.loc[df.macros_1_name == 'Calories', 'calories'] = df.loc[df.macros_1_name == 'Calories', 'macros_1_value']\n",
    "df.loc[df.macros_1_name == 'calories', 'calories'] = df.loc[df.macros_1_name == 'calories', 'macros_1_value']\n",
    "df.loc[df.macros_1_name == ' Calories', 'calories'] = df.loc[df.macros_1_name == 'calories', 'macros_1_value']\n",
    "df.drop(['macros_1_value','macros_1_name'], axis=1, inplace=True)"
   ]
  },
  {
   "cell_type": "code",
   "execution_count": 25,
   "metadata": {},
   "outputs": [],
   "source": [
    "df['fat'] = 0\n",
    "df['protein'] = 0\n",
    "df['carbs'] = 0\n",
    "df.loc[df.macros_2_name == ' Calories', 'calories'] = df.loc[df.macros_2_name == ' Calories', 'macros_2_value']\n",
    "df.loc[df.macros_2_name == ' Fat', 'fat'] = df.loc[df.macros_2_name == ' Fat', 'macros_2_value']\n",
    "df.loc[df.macros_2_name == ' Protein', 'protein'] = df.loc[df.macros_2_name == ' Protein', 'macros_2_value']\n",
    "df.loc[df.macros_2_name == ' Carbs', 'carbs'] = df.loc[df.macros_2_name == ' Carbs', 'macros_2_value']\n",
    "df.drop(['macros_2_value','macros_2_name'], axis=1, inplace=True)"
   ]
  },
  {
   "cell_type": "code",
   "execution_count": 26,
   "metadata": {},
   "outputs": [],
   "source": [
    "df.loc[df.macros_3_name == ' Fat', 'fat'] = df.loc[df.macros_3_name == ' Fat', 'macros_3_value']\n",
    "df.loc[df.macros_3_name == ' Protein', 'protein'] = df.loc[df.macros_3_name == ' Protein', 'macros_3_value']\n",
    "df.loc[df.macros_3_name == ' Carb', 'carbs'] = df.loc[df.macros_3_name == ' Carb', 'macros_3_value']\n",
    "df.drop(['macros_3_value','macros_3_name'], axis=1, inplace=True)"
   ]
  },
  {
   "cell_type": "code",
   "execution_count": 27,
   "metadata": {},
   "outputs": [],
   "source": [
    "df.loc[df.macros_4_name == ' Fat', 'fat'] = df.loc[df.macros_4_name == ' Fat', 'macros_4_value']\n",
    "df.loc[df.macros_4_name == ' Protein', 'protein'] = df.loc[df.macros_4_name == ' Protein', 'macros_4_value']\n",
    "df.loc[df.macros_4_name == ' Carb', 'carbs'] = df.loc[df.macros_4_name == ' Carb', 'macros_4_value']\n",
    "df.drop(['macros_4_value','macros_4_name'], axis=1, inplace=True)"
   ]
  },
  {
   "cell_type": "code",
   "execution_count": 28,
   "metadata": {},
   "outputs": [],
   "source": [
    "df.loc[df.macros_5_name == ' Protein', 'protein'] = df.loc[df.macros_5_name == ' Protein', 'macros_5_value']\n",
    "\n",
    "df.drop(['macros_5_value','macros_5_name'], axis=1, inplace=True)"
   ]
  },
  {
   "cell_type": "code",
   "execution_count": 29,
   "metadata": {},
   "outputs": [],
   "source": [
    "g = ['fat','protein','carbs']\n",
    "for i in g:\n",
    "    df[str(i)] = df[str(i)].apply(lambda x: str(x).split('g')[0])"
   ]
  },
  {
   "cell_type": "code",
   "execution_count": 30,
   "metadata": {},
   "outputs": [],
   "source": [
    "for i in ['calories', 'fat','protein','carbs']:\n",
    "    df[i] = df[i].astype(float)"
   ]
  },
  {
   "cell_type": "code",
   "execution_count": 31,
   "metadata": {},
   "outputs": [
    {
     "data": {
      "text/plain": [
       "address                      object\n",
       "postal_code                 float64\n",
       "account_balance               int64\n",
       "card_brand_users             object\n",
       "has_coupon                    int64\n",
       "birthday_year               float64\n",
       "birthday_month              float64\n",
       "age                         float64\n",
       "user_id                       int64\n",
       "zone_id                     float64\n",
       "discount                    float64\n",
       "due_dates_only               object\n",
       "card_details                 object\n",
       "card_brand_delivery_info     object\n",
       "source                       object\n",
       "delivery_fee                float64\n",
       "meal_wave                    object\n",
       "surcharge_amount            float64\n",
       "promo_code_used               int64\n",
       "gave_feedback                 int64\n",
       "delivery_order_id             int64\n",
       "item_id                     float64\n",
       "item_type                    object\n",
       "quantity                    float64\n",
       "unit_price                  float64\n",
       "name                         object\n",
       "macros                       object\n",
       "ingredients                  object\n",
       "temperature                  object\n",
       "category                     object\n",
       "calories                    float64\n",
       "fat                         float64\n",
       "protein                     float64\n",
       "carbs                       float64\n",
       "dtype: object"
      ]
     },
     "execution_count": 31,
     "metadata": {},
     "output_type": "execute_result"
    }
   ],
   "source": [
    "df.dtypes"
   ]
  },
  {
   "cell_type": "markdown",
   "metadata": {},
   "source": [
    "## Feature Engineering"
   ]
  },
  {
   "cell_type": "markdown",
   "metadata": {},
   "source": [
    "### Age"
   ]
  },
  {
   "cell_type": "code",
   "execution_count": 32,
   "metadata": {},
   "outputs": [
    {
     "data": {
      "text/plain": [
       "(7016, 34)"
      ]
     },
     "execution_count": 32,
     "metadata": {},
     "output_type": "execute_result"
    }
   ],
   "source": [
    "#Inspect number of rows with age data\n",
    "df[df.age.notnull()].shape"
   ]
  },
  {
   "cell_type": "code",
   "execution_count": 33,
   "metadata": {},
   "outputs": [
    {
     "data": {
      "image/png": "[encoded data removed]",
      "text/plain": [
       "<Figure size 1080x360 with 1 Axes>"
      ]
     },
     "metadata": {
      "needs_background": "light"
     },
     "output_type": "display_data"
    }
   ],
   "source": [
    "#Plot distribution of age\n",
    "plt.figure(figsize=(15,5))\n",
    "sns.distplot(df.age.dropna(), bins=55)\n",
    "plt.xticks(np.arange(min(df.age.dropna()), max(df.age.dropna())+1, 1.0))\n",
    "plt.show()"
   ]
  },
  {
   "cell_type": "code",
   "execution_count": 34,
   "metadata": {},
   "outputs": [
    {
     "data": {
      "image/png": "[encoded data removed]",
      "text/plain": [
       "<Figure size 1440x504 with 1 Axes>"
      ]
     },
     "metadata": {
      "needs_background": "light"
     },
     "output_type": "display_data"
    }
   ],
   "source": [
    "#Plot age of users\n",
    "plt.figure(figsize=(20,7))\n",
    "sns.scatterplot(y='user_id',x='age',data=df)\n",
    "plt.show()"
   ]
  },
  {
   "cell_type": "code",
   "execution_count": 35,
   "metadata": {},
   "outputs": [
    {
     "data": {
      "text/plain": [
       "4224      2.0\n",
       "17272     2.0\n",
       "25990     2.0\n",
       "47160     2.0\n",
       "39299     2.0\n",
       "26609     2.0\n",
       "44712     2.0\n",
       "8807     14.0\n",
       "44638    14.0\n",
       "3852     14.0\n",
       "Name: age, dtype: float64"
      ]
     },
     "execution_count": 35,
     "metadata": {},
     "output_type": "execute_result"
    }
   ],
   "source": [
    "#Find lower end outliers\n",
    "df.age.dropna().sort_values().head(10)"
   ]
  },
  {
   "cell_type": "code",
   "execution_count": 36,
   "metadata": {},
   "outputs": [
    {
     "data": {
      "text/plain": [
       "(7009, 34)"
      ]
     },
     "execution_count": 36,
     "metadata": {},
     "output_type": "execute_result"
    }
   ],
   "source": [
    "#Drop rows with age less than 2 years\n",
    "df = df[df.age > 2]\n",
    "\n",
    "#Check number of rows\n",
    "df.shape"
   ]
  },
  {
   "cell_type": "code",
   "execution_count": 37,
   "metadata": {},
   "outputs": [
    {
     "data": {
      "text/plain": [
       "(1257,)"
      ]
     },
     "execution_count": 37,
     "metadata": {},
     "output_type": "execute_result"
    }
   ],
   "source": [
    "#Check number of unique users\n",
    "unique_user = df.user_id.unique()\n",
    "\n",
    "unique_user.shape"
   ]
  },
  {
   "cell_type": "markdown",
   "metadata": {},
   "source": [
    "### Account Balance"
   ]
  },
  {
   "cell_type": "code",
   "execution_count": 38,
   "metadata": {},
   "outputs": [
    {
     "data": {
      "text/plain": [
       "dtype('int64')"
      ]
     },
     "execution_count": 38,
     "metadata": {},
     "output_type": "execute_result"
    }
   ],
   "source": [
    "df.account_balance.dtype"
   ]
  },
  {
   "cell_type": "code",
   "execution_count": 39,
   "metadata": {},
   "outputs": [],
   "source": [
    "df['use_wallet'] = df.account_balance.map(lambda x: 1 if x != 0 else 0)"
   ]
  },
  {
   "cell_type": "code",
   "execution_count": 40,
   "metadata": {},
   "outputs": [
    {
     "data": {
      "text/plain": [
       "0    6352\n",
       "1     657\n",
       "Name: use_wallet, dtype: int64"
      ]
     },
     "execution_count": 40,
     "metadata": {},
     "output_type": "execute_result"
    }
   ],
   "source": [
    "df.use_wallet.value_counts()"
   ]
  },
  {
   "cell_type": "markdown",
   "metadata": {},
   "source": [
    "### Meal wave"
   ]
  },
  {
   "cell_type": "code",
   "execution_count": 41,
   "metadata": {},
   "outputs": [
    {
     "data": {
      "text/plain": [
       "first     3301\n",
       "second    2448\n",
       "third      969\n",
       "0          291\n",
       "Name: meal_wave, dtype: int64"
      ]
     },
     "execution_count": 41,
     "metadata": {},
     "output_type": "execute_result"
    }
   ],
   "source": [
    "df.meal_wave.value_counts()"
   ]
  },
  {
   "cell_type": "code",
   "execution_count": 42,
   "metadata": {},
   "outputs": [],
   "source": [
    "df_mw = pd.get_dummies(df.meal_wave, drop_first=True)"
   ]
  },
  {
   "cell_type": "markdown",
   "metadata": {},
   "source": [
    "### Calorie, Fat, Protein, Carb preference"
   ]
  },
  {
   "cell_type": "code",
   "execution_count": 43,
   "metadata": {},
   "outputs": [
    {
     "data": {
      "image/png": "[encoded data removed]",
      "text/plain": [
       "<Figure size 1080x360 with 1 Axes>"
      ]
     },
     "metadata": {
      "needs_background": "light"
     },
     "output_type": "display_data"
    }
   ],
   "source": [
    "cal = df.groupby('item_id')['calories'].mean()\n",
    "plt.figure(figsize=(15,5))\n",
    "sns.distplot(cal, bins=40)\n",
    "plt.xticks(np.arange(min(cal), max(cal)+1, 50))\n",
    "plt.show()"
   ]
  },
  {
   "cell_type": "code",
   "execution_count": 44,
   "metadata": {},
   "outputs": [],
   "source": [
    "#Low calorie == ≤100g (≤ 40 kilocalorie per 100g for 1 serving 250g)\n",
    "#High calorie == ≥750g (≥ 300 kilocalorie per 100g for 1 serving 250g)\n",
    "def calorie_pref(x):\n",
    "    if x <= 100 :\n",
    "        return 1 #low calorie\n",
    "    elif x >= 750:\n",
    "        return 3 #High calorie\n",
    "    else:\n",
    "        return 2 \n",
    "\n",
    "df['calorie_pref'] = df.calories.map(lambda x : calorie_pref(x))"
   ]
  },
  {
   "cell_type": "code",
   "execution_count": 45,
   "metadata": {},
   "outputs": [
    {
     "data": {
      "image/png": "[encoded data removed]",
      "text/plain": [
       "<Figure size 1080x360 with 1 Axes>"
      ]
     },
     "metadata": {
      "needs_background": "light"
     },
     "output_type": "display_data"
    }
   ],
   "source": [
    "fat = df.groupby('item_id')['fat'].mean()\n",
    "plt.figure(figsize=(15,5))\n",
    "sns.distplot(fat, bins=40)\n",
    "plt.xticks(np.arange(min(fat), max(fat)+1, 5))\n",
    "plt.show()"
   ]
  },
  {
   "cell_type": "code",
   "execution_count": 46,
   "metadata": {},
   "outputs": [],
   "source": [
    "#Low fat == ≤7.5g (≤3g fat per 100g for 1 serving 250g) \n",
    "def fat_pref(x):\n",
    "    if x <= 7.5 :\n",
    "        return 1 #low fat\n",
    "    else:\n",
    "        return 0  \n",
    "    \n",
    "df['fat_pref'] = df.fat.map(lambda x : fat_pref(x))"
   ]
  },
  {
   "cell_type": "code",
   "execution_count": 47,
   "metadata": {},
   "outputs": [
    {
     "data": {
      "image/png": "[encoded data removed]",
      "text/plain": [
       "<Figure size 1080x360 with 1 Axes>"
      ]
     },
     "metadata": {
      "needs_background": "light"
     },
     "output_type": "display_data"
    }
   ],
   "source": [
    "pro = df.groupby('item_id')['protein'].mean()\n",
    "plt.figure(figsize=(15,5))\n",
    "sns.distplot(pro, bins=40)\n",
    "plt.xticks(np.arange(min(pro), max(pro)+1, 5))\n",
    "plt.show()"
   ]
  },
  {
   "cell_type": "code",
   "execution_count": 48,
   "metadata": {},
   "outputs": [],
   "source": [
    "#Rich in protein == ≥25 (≥10g of protein per 100g for 1 serving 250g)\n",
    "def pro_pref(x):\n",
    "    if x >= 25 :\n",
    "        return 1 #high protein\n",
    "    else:\n",
    "        return 0  \n",
    "    \n",
    "df['pro_pref'] = df.protein.map(lambda x : pro_pref(x))"
   ]
  },
  {
   "cell_type": "code",
   "execution_count": 49,
   "metadata": {},
   "outputs": [
    {
     "data": {
      "image/png": "[encoded data removed]",
      "text/plain": [
       "<Figure size 1080x360 with 1 Axes>"
      ]
     },
     "metadata": {
      "needs_background": "light"
     },
     "output_type": "display_data"
    }
   ],
   "source": [
    "carbs = df.groupby('item_id')['carbs'].mean()\n",
    "plt.figure(figsize=(15,5))\n",
    "sns.distplot(carbs, bins=40)\n",
    "plt.xticks(np.arange(min(carbs), max(carbs)+1, 5))\n",
    "plt.show()\n"
   ]
  },
  {
   "cell_type": "code",
   "execution_count": 50,
   "metadata": {},
   "outputs": [],
   "source": [
    "#Low carbs == ≤25 (≤10 g carbohydrate per 100g for 1 serving 250g)\n",
    "def carb_pref(x):\n",
    "    if x <= 25 :\n",
    "        return 1 #low carvs\n",
    "    else:\n",
    "        return 0  \n",
    "    \n",
    "df['carb_pref'] = df.carbs.map(lambda x : carb_pref(x))"
   ]
  },
  {
   "cell_type": "markdown",
   "metadata": {},
   "source": [
    "### Group buyer"
   ]
  },
  {
   "cell_type": "code",
   "execution_count": 51,
   "metadata": {},
   "outputs": [
    {
     "data": {
      "image/png": "[encoded data removed]",
      "text/plain": [
       "<Figure size 1080x360 with 1 Axes>"
      ]
     },
     "metadata": {
      "needs_background": "light"
     },
     "output_type": "display_data"
    }
   ],
   "source": [
    "plt.figure(figsize=(15,5))\n",
    "df.groupby('user_id').mean()['quantity'].hist()\n",
    "plt.show()"
   ]
  },
  {
   "cell_type": "code",
   "execution_count": 52,
   "metadata": {},
   "outputs": [
    {
     "data": {
      "application/vnd.jupyter.widget-view+json": {
       "model_id": "4bc5f0874ce049e0b2330ce03bd711cc",
       "version_major": 2,
       "version_minor": 0
      },
      "text/plain": [
       "HBox(children=(IntProgress(value=0, max=1257), HTML(value='')))"
      ]
     },
     "metadata": {},
     "output_type": "display_data"
    },
    {
     "name": "stdout",
     "output_type": "stream",
     "text": [
      "\n"
     ]
    }
   ],
   "source": [
    "#Create new feature where average quantity > 1.5 is a user who makes group purchase\n",
    "df['groupbuyer'] = 0\n",
    "for user in tqdm(unique_user):\n",
    "    if df.groupby('user_id')['quantity'].mean().loc[user] <= 1.5:\n",
    "        df.loc[df.user_id == user, 'groupbuyer'] = 0\n",
    "    else:\n",
    "        df.loc[df.user_id == user, 'groupbuyer'] = 1"
   ]
  },
  {
   "cell_type": "code",
   "execution_count": 53,
   "metadata": {},
   "outputs": [
    {
     "data": {
      "text/plain": [
       "0    5897\n",
       "1    1112\n",
       "Name: groupbuyer, dtype: int64"
      ]
     },
     "execution_count": 53,
     "metadata": {},
     "output_type": "execute_result"
    }
   ],
   "source": [
    "df.groupbuyer.value_counts()"
   ]
  },
  {
   "cell_type": "markdown",
   "metadata": {},
   "source": [
    "### Temperature"
   ]
  },
  {
   "cell_type": "code",
   "execution_count": 54,
   "metadata": {},
   "outputs": [
    {
     "data": {
      "text/plain": [
       "warm       4645\n",
       "chilled    2341\n",
       "room         23\n",
       "Name: temperature, dtype: int64"
      ]
     },
     "execution_count": 54,
     "metadata": {},
     "output_type": "execute_result"
    }
   ],
   "source": [
    "df.temperature.value_counts()"
   ]
  },
  {
   "cell_type": "code",
   "execution_count": 55,
   "metadata": {},
   "outputs": [],
   "source": [
    "df['is_chilled'] = df.temperature.map(lambda x : 1 if x == 'chilled' else 0)"
   ]
  },
  {
   "cell_type": "markdown",
   "metadata": {},
   "source": [
    "### Category"
   ]
  },
  {
   "cell_type": "code",
   "execution_count": 56,
   "metadata": {},
   "outputs": [
    {
     "data": {
      "text/plain": [
       "regular       3778\n",
       "highlight     1356\n",
       "side           584\n",
       "drink          550\n",
       "dessert        275\n",
       "main           197\n",
       "favorite       112\n",
       "local           63\n",
       "guilt-free      59\n",
       "fresh           23\n",
       "off_menu        12\n",
       "Name: category, dtype: int64"
      ]
     },
     "execution_count": 56,
     "metadata": {},
     "output_type": "execute_result"
    }
   ],
   "source": [
    "df.category.value_counts()"
   ]
  },
  {
   "cell_type": "code",
   "execution_count": 57,
   "metadata": {},
   "outputs": [
    {
     "data": {
      "text/plain": [
       "Index(['drink', 'favorite', 'fresh', 'guilt-free', 'highlight', 'local',\n",
       "       'main', 'off_menu', 'regular', 'side'],\n",
       "      dtype='object')"
      ]
     },
     "execution_count": 57,
     "metadata": {},
     "output_type": "execute_result"
    }
   ],
   "source": [
    "df_cat = pd.get_dummies(df.category, drop_first=True) #drop dessert\n",
    "df_cat.columns"
   ]
  },
  {
   "cell_type": "markdown",
   "metadata": {},
   "source": [
    "## Modelling"
   ]
  },
  {
   "cell_type": "code",
   "execution_count": 58,
   "metadata": {},
   "outputs": [],
   "source": [
    "df_merge = pd.concat([df,df_cat,df_mw], axis=1)"
   ]
  },
  {
   "cell_type": "code",
   "execution_count": 59,
   "metadata": {},
   "outputs": [
    {
     "data": {
      "text/plain": [
       "card_details                5577\n",
       "card_brand_delivery_info    1201\n",
       "card_brand_users             262\n",
       "unit_price                     0\n",
       "quantity                       0\n",
       "dtype: int64"
      ]
     },
     "execution_count": 59,
     "metadata": {},
     "output_type": "execute_result"
    }
   ],
   "source": [
    "df_merge.isnull().sum().sort_values(ascending=False).head()"
   ]
  },
  {
   "cell_type": "code",
   "execution_count": 60,
   "metadata": {},
   "outputs": [
    {
     "data": {
      "text/plain": [
       "Index(['address', 'postal_code', 'account_balance', 'card_brand_users',\n",
       "       'has_coupon', 'birthday_year', 'birthday_month', 'age', 'user_id',\n",
       "       'zone_id', 'discount', 'due_dates_only', 'card_details',\n",
       "       'card_brand_delivery_info', 'source', 'delivery_fee', 'meal_wave',\n",
       "       'surcharge_amount', 'promo_code_used', 'gave_feedback',\n",
       "       'delivery_order_id', 'item_id', 'item_type', 'quantity', 'unit_price',\n",
       "       'name', 'macros', 'ingredients', 'temperature', 'category', 'calories',\n",
       "       'fat', 'protein', 'carbs', 'use_wallet', 'calorie_pref', 'fat_pref',\n",
       "       'pro_pref', 'carb_pref', 'groupbuyer', 'is_chilled', 'drink',\n",
       "       'favorite', 'fresh', 'guilt-free', 'highlight', 'local', 'main',\n",
       "       'off_menu', 'regular', 'side', 'first', 'second', 'third'],\n",
       "      dtype='object')"
      ]
     },
     "execution_count": 60,
     "metadata": {},
     "output_type": "execute_result"
    }
   ],
   "source": [
    "df_merge.columns"
   ]
  },
  {
   "cell_type": "code",
   "execution_count": 94,
   "metadata": {},
   "outputs": [],
   "source": [
    "features = ['postal_code',\n",
    "            'age','first',\n",
    "            'groupbuyer',\n",
    "            'unit_price',\n",
    "            'is_chilled',]"
   ]
  },
  {
   "cell_type": "code",
   "execution_count": 95,
   "metadata": {},
   "outputs": [],
   "source": [
    "df_merge = df_merge.groupby('user_id').mean()"
   ]
  },
  {
   "cell_type": "code",
   "execution_count": 96,
   "metadata": {},
   "outputs": [],
   "source": [
    "X = df_merge[features].round()"
   ]
  },
  {
   "cell_type": "code",
   "execution_count": 97,
   "metadata": {},
   "outputs": [
    {
     "data": {
      "text/html": [
       "<div>\n",
       "<style scoped>\n",
       "    .dataframe tbody tr th:only-of-type {\n",
       "        vertical-align: middle;\n",
       "    }\n",
       "\n",
       "    .dataframe tbody tr th {\n",
       "        vertical-align: top;\n",
       "    }\n",
       "\n",
       "    .dataframe thead th {\n",
       "        text-align: right;\n",
       "    }\n",
       "</style>\n",
       "<table border=\"1\" class=\"dataframe\">\n",
       "  <thead>\n",
       "    <tr style=\"text-align: right;\">\n",
       "      <th></th>\n",
       "      <th>postal_code</th>\n",
       "      <th>age</th>\n",
       "      <th>first</th>\n",
       "      <th>groupbuyer</th>\n",
       "      <th>unit_price</th>\n",
       "      <th>is_chilled</th>\n",
       "    </tr>\n",
       "    <tr>\n",
       "      <th>user_id</th>\n",
       "      <th></th>\n",
       "      <th></th>\n",
       "      <th></th>\n",
       "      <th></th>\n",
       "      <th></th>\n",
       "      <th></th>\n",
       "    </tr>\n",
       "  </thead>\n",
       "  <tbody>\n",
       "    <tr>\n",
       "      <th>35</th>\n",
       "      <td>189720.0</td>\n",
       "      <td>32.0</td>\n",
       "      <td>0.0</td>\n",
       "      <td>1.0</td>\n",
       "      <td>986.0</td>\n",
       "      <td>1.0</td>\n",
       "    </tr>\n",
       "    <tr>\n",
       "      <th>117</th>\n",
       "      <td>18982.0</td>\n",
       "      <td>47.0</td>\n",
       "      <td>0.0</td>\n",
       "      <td>0.0</td>\n",
       "      <td>1085.0</td>\n",
       "      <td>0.0</td>\n",
       "    </tr>\n",
       "    <tr>\n",
       "      <th>171</th>\n",
       "      <td>331010.0</td>\n",
       "      <td>31.0</td>\n",
       "      <td>1.0</td>\n",
       "      <td>0.0</td>\n",
       "      <td>986.0</td>\n",
       "      <td>1.0</td>\n",
       "    </tr>\n",
       "    <tr>\n",
       "      <th>210</th>\n",
       "      <td>169858.0</td>\n",
       "      <td>31.0</td>\n",
       "      <td>0.0</td>\n",
       "      <td>0.0</td>\n",
       "      <td>1145.0</td>\n",
       "      <td>0.0</td>\n",
       "    </tr>\n",
       "    <tr>\n",
       "      <th>217</th>\n",
       "      <td>573960.0</td>\n",
       "      <td>33.0</td>\n",
       "      <td>1.0</td>\n",
       "      <td>0.0</td>\n",
       "      <td>1038.0</td>\n",
       "      <td>1.0</td>\n",
       "    </tr>\n",
       "  </tbody>\n",
       "</table>\n",
       "</div>"
      ],
      "text/plain": [
       "         postal_code   age  first  groupbuyer  unit_price  is_chilled\n",
       "user_id                                                              \n",
       "35          189720.0  32.0    0.0         1.0       986.0         1.0\n",
       "117          18982.0  47.0    0.0         0.0      1085.0         0.0\n",
       "171         331010.0  31.0    1.0         0.0       986.0         1.0\n",
       "210         169858.0  31.0    0.0         0.0      1145.0         0.0\n",
       "217         573960.0  33.0    1.0         0.0      1038.0         1.0"
      ]
     },
     "execution_count": 97,
     "metadata": {},
     "output_type": "execute_result"
    }
   ],
   "source": [
    "X.head()"
   ]
  },
  {
   "cell_type": "code",
   "execution_count": 98,
   "metadata": {},
   "outputs": [
    {
     "data": {
      "image/png": "[encoded data removed]",
      "text/plain": [
       "<Figure size 1080x504 with 2 Axes>"
      ]
     },
     "metadata": {
      "needs_background": "light"
     },
     "output_type": "display_data"
    }
   ],
   "source": [
    "plt.figure(figsize=(15,7))\n",
    "sns.heatmap(X.corr(), annot=True, cmap='RdBu_r')\n",
    "plt.show()"
   ]
  },
  {
   "cell_type": "code",
   "execution_count": 99,
   "metadata": {},
   "outputs": [],
   "source": [
    "ss = StandardScaler()\n",
    "Xs = ss.fit_transform(X)"
   ]
  },
  {
   "cell_type": "markdown",
   "metadata": {},
   "source": [
    "### KMeans"
   ]
  },
  {
   "cell_type": "code",
   "execution_count": 100,
   "metadata": {},
   "outputs": [
    {
     "data": {
      "application/vnd.jupyter.widget-view+json": {
       "model_id": "e36a06d5d8c14231a6e1992dae8ced58",
       "version_major": 2,
       "version_minor": 0
      },
      "text/plain": [
       "HBox(children=(IntProgress(value=0, max=9), HTML(value='')))"
      ]
     },
     "metadata": {},
     "output_type": "display_data"
    },
    {
     "name": "stdout",
     "output_type": "stream",
     "text": [
      "\n"
     ]
    }
   ],
   "source": [
    "wcss=[] #within-cluster sum of square\n",
    "for i in tqdm(range(1,10)):\n",
    "    kmeans = KMeans(n_clusters= i, init='k-means++', random_state=42)\n",
    "    kmeans.fit(Xs)\n",
    "    wcss.append(kmeans.inertia_)"
   ]
  },
  {
   "cell_type": "code",
   "execution_count": 101,
   "metadata": {},
   "outputs": [
    {
     "data": {
      "image/png": "[encoded data removed]",
      "text/plain": [
       "<Figure size 432x288 with 1 Axes>"
      ]
     },
     "metadata": {
      "needs_background": "light"
     },
     "output_type": "display_data"
    }
   ],
   "source": [
    "plt.plot(range(1,10), wcss)\n",
    "plt.title('The Elbow Method')\n",
    "plt.xlabel('no of clusters')\n",
    "plt.ylabel('wcss')\n",
    "plt.show()"
   ]
  },
  {
   "cell_type": "code",
   "execution_count": 102,
   "metadata": {},
   "outputs": [
    {
     "data": {
      "text/html": [
       "<div>\n",
       "<style scoped>\n",
       "    .dataframe tbody tr th:only-of-type {\n",
       "        vertical-align: middle;\n",
       "    }\n",
       "\n",
       "    .dataframe tbody tr th {\n",
       "        vertical-align: top;\n",
       "    }\n",
       "\n",
       "    .dataframe thead th {\n",
       "        text-align: right;\n",
       "    }\n",
       "</style>\n",
       "<table border=\"1\" class=\"dataframe\">\n",
       "  <thead>\n",
       "    <tr style=\"text-align: right;\">\n",
       "      <th></th>\n",
       "      <th>postal_code</th>\n",
       "      <th>age</th>\n",
       "      <th>first</th>\n",
       "      <th>groupbuyer</th>\n",
       "      <th>unit_price</th>\n",
       "      <th>is_chilled</th>\n",
       "    </tr>\n",
       "  </thead>\n",
       "  <tbody>\n",
       "    <tr>\n",
       "      <th>0</th>\n",
       "      <td>0.088912</td>\n",
       "      <td>0.084412</td>\n",
       "      <td>1.257422</td>\n",
       "      <td>-0.396810</td>\n",
       "      <td>0.065100</td>\n",
       "      <td>-0.408816</td>\n",
       "    </tr>\n",
       "    <tr>\n",
       "      <th>1</th>\n",
       "      <td>0.096812</td>\n",
       "      <td>-0.091579</td>\n",
       "      <td>0.037531</td>\n",
       "      <td>-0.146790</td>\n",
       "      <td>-0.875359</td>\n",
       "      <td>2.413458</td>\n",
       "    </tr>\n",
       "    <tr>\n",
       "      <th>2</th>\n",
       "      <td>-0.113963</td>\n",
       "      <td>-0.032268</td>\n",
       "      <td>-0.795278</td>\n",
       "      <td>-0.396810</td>\n",
       "      <td>0.146260</td>\n",
       "      <td>-0.408816</td>\n",
       "    </tr>\n",
       "    <tr>\n",
       "      <th>3</th>\n",
       "      <td>0.134811</td>\n",
       "      <td>0.045207</td>\n",
       "      <td>0.296863</td>\n",
       "      <td>2.520095</td>\n",
       "      <td>0.287036</td>\n",
       "      <td>-0.280712</td>\n",
       "    </tr>\n",
       "  </tbody>\n",
       "</table>\n",
       "</div>"
      ],
      "text/plain": [
       "   postal_code       age     first  groupbuyer  unit_price  is_chilled\n",
       "0     0.088912  0.084412  1.257422   -0.396810    0.065100   -0.408816\n",
       "1     0.096812 -0.091579  0.037531   -0.146790   -0.875359    2.413458\n",
       "2    -0.113963 -0.032268 -0.795278   -0.396810    0.146260   -0.408816\n",
       "3     0.134811  0.045207  0.296863    2.520095    0.287036   -0.280712"
      ]
     },
     "execution_count": 102,
     "metadata": {},
     "output_type": "execute_result"
    }
   ],
   "source": [
    "kmeansmodel = KMeans(n_clusters= 4, init='k-means++', random_state=42)\n",
    "model = kmeansmodel.fit(Xs)\n",
    "pd.DataFrame(model.cluster_centers_, columns=df_merge[features].columns)"
   ]
  },
  {
   "cell_type": "code",
   "execution_count": 103,
   "metadata": {},
   "outputs": [],
   "source": [
    "pred = model.labels_"
   ]
  },
  {
   "cell_type": "code",
   "execution_count": 104,
   "metadata": {},
   "outputs": [
    {
     "data": {
      "text/html": [
       "<div>\n",
       "<style scoped>\n",
       "    .dataframe tbody tr th:only-of-type {\n",
       "        vertical-align: middle;\n",
       "    }\n",
       "\n",
       "    .dataframe tbody tr th {\n",
       "        vertical-align: top;\n",
       "    }\n",
       "\n",
       "    .dataframe thead th {\n",
       "        text-align: right;\n",
       "    }\n",
       "</style>\n",
       "<table border=\"1\" class=\"dataframe\">\n",
       "  <thead>\n",
       "    <tr style=\"text-align: right;\">\n",
       "      <th></th>\n",
       "      <th>Users</th>\n",
       "      <th>Cluster</th>\n",
       "    </tr>\n",
       "  </thead>\n",
       "  <tbody>\n",
       "    <tr>\n",
       "      <th>0</th>\n",
       "      <td>35</td>\n",
       "      <td>1</td>\n",
       "    </tr>\n",
       "    <tr>\n",
       "      <th>1</th>\n",
       "      <td>117</td>\n",
       "      <td>2</td>\n",
       "    </tr>\n",
       "    <tr>\n",
       "      <th>2</th>\n",
       "      <td>171</td>\n",
       "      <td>1</td>\n",
       "    </tr>\n",
       "    <tr>\n",
       "      <th>3</th>\n",
       "      <td>210</td>\n",
       "      <td>2</td>\n",
       "    </tr>\n",
       "    <tr>\n",
       "      <th>4</th>\n",
       "      <td>217</td>\n",
       "      <td>1</td>\n",
       "    </tr>\n",
       "  </tbody>\n",
       "</table>\n",
       "</div>"
      ],
      "text/plain": [
       "   Users  Cluster\n",
       "0     35        1\n",
       "1    117        2\n",
       "2    171        1\n",
       "3    210        2\n",
       "4    217        1"
      ]
     },
     "execution_count": 104,
     "metadata": {},
     "output_type": "execute_result"
    }
   ],
   "source": [
    "#Users and clusters\n",
    "pd.DataFrame({'Users': X.index, 'Cluster': pred}).head()"
   ]
  },
  {
   "cell_type": "code",
   "execution_count": 105,
   "metadata": {},
   "outputs": [],
   "source": [
    "X['cluster'] = pred"
   ]
  },
  {
   "cell_type": "code",
   "execution_count": 106,
   "metadata": {},
   "outputs": [
    {
     "data": {
      "text/plain": [
       "2    593\n",
       "0    333\n",
       "1    175\n",
       "3    156\n",
       "Name: cluster, dtype: int64"
      ]
     },
     "execution_count": 106,
     "metadata": {},
     "output_type": "execute_result"
    }
   ],
   "source": [
    "X.cluster.value_counts()"
   ]
  },
  {
   "cell_type": "code",
   "execution_count": 107,
   "metadata": {},
   "outputs": [
    {
     "data": {
      "text/plain": [
       "-0.018190273574374628"
      ]
     },
     "execution_count": 107,
     "metadata": {},
     "output_type": "execute_result"
    }
   ],
   "source": [
    "silhouette_score(X, pred, metric='euclidean')"
   ]
  },
  {
   "cell_type": "markdown",
   "metadata": {},
   "source": [
    "### DBSCAN"
   ]
  },
  {
   "cell_type": "code",
   "execution_count": 108,
   "metadata": {},
   "outputs": [
    {
     "name": "stdout",
     "output_type": "stream",
     "text": [
      "Fitting 1 folds for each of 1600 candidates, totalling 1600 fits\n"
     ]
    },
    {
     "name": "stderr",
     "output_type": "stream",
     "text": [
      "[Parallel(n_jobs=-1)]: Using backend LokyBackend with 4 concurrent workers.\n",
      "[Parallel(n_jobs=-1)]: Done  42 tasks      | elapsed:    3.6s\n",
      "[Parallel(n_jobs=-1)]: Done 192 tasks      | elapsed:   10.6s\n",
      "[Parallel(n_jobs=-1)]: Done 442 tasks      | elapsed:   23.9s\n",
      "[Parallel(n_jobs=-1)]: Done 792 tasks      | elapsed:   40.7s\n",
      "[Parallel(n_jobs=-1)]: Done 1488 tasks      | elapsed:   57.6s\n",
      "[Parallel(n_jobs=-1)]: Done 1600 out of 1600 | elapsed:   59.4s finished\n"
     ]
    },
    {
     "data": {
      "text/plain": [
       "GridSearchCV(cv=[(slice(None, None, None), slice(None, None, None))],\n",
       "             error_score='raise-deprecating',\n",
       "             estimator=DBSCAN(algorithm='auto', eps=0.5, leaf_size=30,\n",
       "                              metric='euclidean', metric_params=None,\n",
       "                              min_samples=5, n_jobs=None, p=None),\n",
       "             iid='warn', n_jobs=-1,\n",
       "             param_grid={'eps': array([ 1.        ,  1.23076923,  1.46153846,  1.69230769,  1.92307692,\n",
       "        2.15384615,  2.38461538,  2.61538462,  2...\n",
       "        4.46153846,  4.69230769,  4.92307692,  5.15384615,  5.38461538,\n",
       "        5.61538462,  5.84615385,  6.07692308,  6.30769231,  6.53846154,\n",
       "        6.76923077,  7.        ,  7.23076923,  7.46153846,  7.69230769,\n",
       "        7.92307692,  8.15384615,  8.38461538,  8.61538462,  8.84615385,\n",
       "        9.07692308,  9.30769231,  9.53846154,  9.76923077, 10.        ])},\n",
       "             pre_dispatch='2*n_jobs', refit=True, return_train_score=False,\n",
       "             scoring=<function cv_silhouette_scorer at 0x1a3fea0bf8>,\n",
       "             verbose=1)"
      ]
     },
     "execution_count": 108,
     "metadata": {},
     "output_type": "execute_result"
    }
   ],
   "source": [
    "from sklearn.metrics import silhouette_score as sc\n",
    "\n",
    "def cv_silhouette_scorer(estimator, X):\n",
    "    estimator.fit(X)\n",
    "    cluster_labels = estimator.labels_\n",
    "    num_labels = len(set(cluster_labels))\n",
    "    num_samples = len(X)\n",
    "    if num_labels == 1 or num_labels == num_samples:\n",
    "        return -1\n",
    "    else:\n",
    "        return sc(X, cluster_labels)\n",
    "\n",
    "cv = [(slice(None), slice(None))]\n",
    "\n",
    "param = {'eps': np.linspace(1,10,40) ,'min_samples': np.linspace(1,10,40)}\n",
    "\n",
    "gs = GridSearchCV(\n",
    "    estimator=DBSCAN(), \n",
    "    param_grid= param, \n",
    "    scoring=cv_silhouette_scorer, \n",
    "    cv=cv, \n",
    "    n_jobs=-1,\n",
    "    verbose=1\n",
    ")\n",
    "\n",
    "gs.fit(Xs)"
   ]
  },
  {
   "cell_type": "code",
   "execution_count": 109,
   "metadata": {},
   "outputs": [
    {
     "data": {
      "text/plain": [
       "{'eps': 3.076923076923077, 'min_samples': 1.0}"
      ]
     },
     "execution_count": 109,
     "metadata": {},
     "output_type": "execute_result"
    }
   ],
   "source": [
    "gs.best_params_"
   ]
  },
  {
   "cell_type": "code",
   "execution_count": 110,
   "metadata": {},
   "outputs": [],
   "source": [
    "dbscan = DBSCAN(eps=3.07, min_samples=1).fit(Xs)"
   ]
  },
  {
   "cell_type": "code",
   "execution_count": 111,
   "metadata": {},
   "outputs": [
    {
     "data": {
      "text/plain": [
       "0.46804566649747503"
      ]
     },
     "execution_count": 111,
     "metadata": {},
     "output_type": "execute_result"
    }
   ],
   "source": [
    "gs.best_score_"
   ]
  },
  {
   "cell_type": "code",
   "execution_count": 112,
   "metadata": {},
   "outputs": [],
   "source": [
    "clustering = dbscan.labels_"
   ]
  },
  {
   "cell_type": "code",
   "execution_count": 113,
   "metadata": {},
   "outputs": [],
   "source": [
    "X['cluster'] = clustering"
   ]
  },
  {
   "cell_type": "code",
   "execution_count": 114,
   "metadata": {},
   "outputs": [
    {
     "data": {
      "text/plain": [
       "0    1255\n",
       "1       2\n",
       "Name: cluster, dtype: int64"
      ]
     },
     "execution_count": 114,
     "metadata": {},
     "output_type": "execute_result"
    }
   ],
   "source": [
    "X.cluster.value_counts()"
   ]
  },
  {
   "cell_type": "code",
   "execution_count": 115,
   "metadata": {},
   "outputs": [],
   "source": [
    "# sns.pairplot(X, hue='cluster')"
   ]
  },
  {
   "cell_type": "code",
   "execution_count": null,
   "metadata": {},
   "outputs": [],
   "source": []
  }
 ],
 "metadata": {
  "kernelspec": {
   "display_name": "Python 3",
   "language": "python",
   "name": "python3"
  },
  "language_info": {
   "codemirror_mode": {
    "name": "ipython",
    "version": 3
   },
   "file_extension": ".py",
   "mimetype": "text/x-python",
   "name": "python",
   "nbconvert_exporter": "python",
   "pygments_lexer": "ipython3",
   "version": "3.7.3"
  }
 },
 "nbformat": 4,
 "nbformat_minor": 2
}
