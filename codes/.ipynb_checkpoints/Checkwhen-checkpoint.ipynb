{
 "cells": [
  {
   "cell_type": "code",
   "execution_count": 1,
   "metadata": {},
   "outputs": [],
   "source": [
    "import pandas as pd\n",
    "import matplotlib.pyplot as plt\n",
    "from matplotlib.ticker import FuncFormatter\n",
    "import seaborn as sns\n",
    "\n",
    "%matplotlib inline"
   ]
  },
  {
   "cell_type": "code",
   "execution_count": 2,
   "metadata": {},
   "outputs": [],
   "source": [
    "df = pd.read_csv('../raw/analytics_orders.csv')"
   ]
  },
  {
   "cell_type": "code",
   "execution_count": 3,
   "metadata": {},
   "outputs": [
    {
     "data": {
      "text/html": [
       "<div>\n",
       "<style scoped>\n",
       "    .dataframe tbody tr th:only-of-type {\n",
       "        vertical-align: middle;\n",
       "    }\n",
       "\n",
       "    .dataframe tbody tr th {\n",
       "        vertical-align: top;\n",
       "    }\n",
       "\n",
       "    .dataframe thead th {\n",
       "        text-align: right;\n",
       "    }\n",
       "</style>\n",
       "<table border=\"1\" class=\"dataframe\">\n",
       "  <thead>\n",
       "    <tr style=\"text-align: right;\">\n",
       "      <th></th>\n",
       "      <th>id</th>\n",
       "      <th>sales</th>\n",
       "      <th>discount_given</th>\n",
       "      <th>credits_deducted</th>\n",
       "      <th>amount_charged</th>\n",
       "      <th>delivery_fee</th>\n",
       "      <th>short_code</th>\n",
       "      <th>hub</th>\n",
       "      <th>order_date</th>\n",
       "      <th>serving_date</th>\n",
       "      <th>...</th>\n",
       "      <th>ancillary_count</th>\n",
       "      <th>created_at</th>\n",
       "      <th>updated_at</th>\n",
       "      <th>ao_id</th>\n",
       "      <th>user_id</th>\n",
       "      <th>delivery_order_id</th>\n",
       "      <th>amount_paid</th>\n",
       "      <th>surcharge_amount</th>\n",
       "      <th>service_zone_id</th>\n",
       "      <th>revenue</th>\n",
       "    </tr>\n",
       "  </thead>\n",
       "  <tbody>\n",
       "    <tr>\n",
       "      <th>113917</th>\n",
       "      <td>152802</td>\n",
       "      <td>1200</td>\n",
       "      <td>NaN</td>\n",
       "      <td>1200</td>\n",
       "      <td>0</td>\n",
       "      <td>0</td>\n",
       "      <td>JB-L</td>\n",
       "      <td>JB-L</td>\n",
       "      <td>2016-02-18 11:20:56.848993</td>\n",
       "      <td>2016-02-18 00:00:00.000000</td>\n",
       "      <td>...</td>\n",
       "      <td>1</td>\n",
       "      <td>2016-05-03 19:33:37.812743</td>\n",
       "      <td>2019-04-03 16:24:59.654985</td>\n",
       "      <td>GO58535-2016-2-18</td>\n",
       "      <td>1481</td>\n",
       "      <td>42959</td>\n",
       "      <td>1200</td>\n",
       "      <td>NaN</td>\n",
       "      <td>74.0</td>\n",
       "      <td>1200.0</td>\n",
       "    </tr>\n",
       "    <tr>\n",
       "      <th>39910</th>\n",
       "      <td>207744</td>\n",
       "      <td>6830</td>\n",
       "      <td>0.0</td>\n",
       "      <td>0</td>\n",
       "      <td>7330</td>\n",
       "      <td>500</td>\n",
       "      <td>ZONE 3</td>\n",
       "      <td>JB-L</td>\n",
       "      <td>2017-06-05 08:58:26.130688</td>\n",
       "      <td>2017-06-05 00:00:00.000000</td>\n",
       "      <td>...</td>\n",
       "      <td>0</td>\n",
       "      <td>2017-06-13 16:29:42.651788</td>\n",
       "      <td>2019-04-03 15:44:55.470916</td>\n",
       "      <td>GO208103-AO</td>\n",
       "      <td>30518</td>\n",
       "      <td>91499</td>\n",
       "      <td>7330</td>\n",
       "      <td>0.0</td>\n",
       "      <td>71.0</td>\n",
       "      <td>7330.0</td>\n",
       "    </tr>\n",
       "    <tr>\n",
       "      <th>110584</th>\n",
       "      <td>151139</td>\n",
       "      <td>1400</td>\n",
       "      <td>NaN</td>\n",
       "      <td>1400</td>\n",
       "      <td>0</td>\n",
       "      <td>0</td>\n",
       "      <td>JB-L</td>\n",
       "      <td>JB-L</td>\n",
       "      <td>2016-01-29 09:33:56.133653</td>\n",
       "      <td>2016-01-29 00:00:00.000000</td>\n",
       "      <td>...</td>\n",
       "      <td>1</td>\n",
       "      <td>2016-05-03 19:32:02.187109</td>\n",
       "      <td>2019-04-03 16:23:07.960358</td>\n",
       "      <td>GO53500-2016-1-29</td>\n",
       "      <td>12245</td>\n",
       "      <td>41296</td>\n",
       "      <td>1400</td>\n",
       "      <td>NaN</td>\n",
       "      <td>74.0</td>\n",
       "      <td>1400.0</td>\n",
       "    </tr>\n",
       "    <tr>\n",
       "      <th>22244</th>\n",
       "      <td>133750</td>\n",
       "      <td>12000</td>\n",
       "      <td>0.0</td>\n",
       "      <td>0</td>\n",
       "      <td>12000</td>\n",
       "      <td>0</td>\n",
       "      <td>NaN</td>\n",
       "      <td>JB-L</td>\n",
       "      <td>2015-08-27 07:44:40.182245</td>\n",
       "      <td>2015-08-27 00:00:00.000000</td>\n",
       "      <td>...</td>\n",
       "      <td>0</td>\n",
       "      <td>2016-05-03 19:15:27.731127</td>\n",
       "      <td>2019-04-02 19:02:58.518315</td>\n",
       "      <td>G24329350-2015-8-27</td>\n",
       "      <td>2175</td>\n",
       "      <td>23905</td>\n",
       "      <td>12000</td>\n",
       "      <td>NaN</td>\n",
       "      <td>74.0</td>\n",
       "      <td>12000.0</td>\n",
       "    </tr>\n",
       "    <tr>\n",
       "      <th>103480</th>\n",
       "      <td>252541</td>\n",
       "      <td>1450</td>\n",
       "      <td>600.0</td>\n",
       "      <td>850</td>\n",
       "      <td>0</td>\n",
       "      <td>0</td>\n",
       "      <td>MBFC2</td>\n",
       "      <td>JB-L</td>\n",
       "      <td>2018-06-22 07:32:08.236158</td>\n",
       "      <td>2018-06-22 00:00:00.000000</td>\n",
       "      <td>...</td>\n",
       "      <td>0</td>\n",
       "      <td>2018-06-22 07:32:08.291267</td>\n",
       "      <td>2019-04-03 14:30:45.706256</td>\n",
       "      <td>GO326983-AO</td>\n",
       "      <td>31200</td>\n",
       "      <td>127970</td>\n",
       "      <td>850</td>\n",
       "      <td>0.0</td>\n",
       "      <td>74.0</td>\n",
       "      <td>1450.0</td>\n",
       "    </tr>\n",
       "  </tbody>\n",
       "</table>\n",
       "<p>5 rows × 22 columns</p>\n",
       "</div>"
      ],
      "text/plain": [
       "            id  sales  discount_given  credits_deducted  amount_charged  \\\n",
       "113917  152802   1200             NaN              1200               0   \n",
       "39910   207744   6830             0.0                 0            7330   \n",
       "110584  151139   1400             NaN              1400               0   \n",
       "22244   133750  12000             0.0                 0           12000   \n",
       "103480  252541   1450           600.0               850               0   \n",
       "\n",
       "        delivery_fee short_code   hub                  order_date  \\\n",
       "113917             0       JB-L  JB-L  2016-02-18 11:20:56.848993   \n",
       "39910            500     ZONE 3  JB-L  2017-06-05 08:58:26.130688   \n",
       "110584             0       JB-L  JB-L  2016-01-29 09:33:56.133653   \n",
       "22244              0        NaN  JB-L  2015-08-27 07:44:40.182245   \n",
       "103480             0      MBFC2  JB-L  2018-06-22 07:32:08.236158   \n",
       "\n",
       "                      serving_date  ... ancillary_count  \\\n",
       "113917  2016-02-18 00:00:00.000000  ...               1   \n",
       "39910   2017-06-05 00:00:00.000000  ...               0   \n",
       "110584  2016-01-29 00:00:00.000000  ...               1   \n",
       "22244   2015-08-27 00:00:00.000000  ...               0   \n",
       "103480  2018-06-22 00:00:00.000000  ...               0   \n",
       "\n",
       "                        created_at                  updated_at  \\\n",
       "113917  2016-05-03 19:33:37.812743  2019-04-03 16:24:59.654985   \n",
       "39910   2017-06-13 16:29:42.651788  2019-04-03 15:44:55.470916   \n",
       "110584  2016-05-03 19:32:02.187109  2019-04-03 16:23:07.960358   \n",
       "22244   2016-05-03 19:15:27.731127  2019-04-02 19:02:58.518315   \n",
       "103480  2018-06-22 07:32:08.291267  2019-04-03 14:30:45.706256   \n",
       "\n",
       "                      ao_id user_id delivery_order_id  amount_paid  \\\n",
       "113917    GO58535-2016-2-18    1481             42959         1200   \n",
       "39910           GO208103-AO   30518             91499         7330   \n",
       "110584    GO53500-2016-1-29   12245             41296         1400   \n",
       "22244   G24329350-2015-8-27    2175             23905        12000   \n",
       "103480          GO326983-AO   31200            127970          850   \n",
       "\n",
       "        surcharge_amount  service_zone_id  revenue  \n",
       "113917               NaN             74.0   1200.0  \n",
       "39910                0.0             71.0   7330.0  \n",
       "110584               NaN             74.0   1400.0  \n",
       "22244                NaN             74.0  12000.0  \n",
       "103480               0.0             74.0   1450.0  \n",
       "\n",
       "[5 rows x 22 columns]"
      ]
     },
     "execution_count": 3,
     "metadata": {},
     "output_type": "execute_result"
    }
   ],
   "source": [
    "df.sample(5)"
   ]
  },
  {
   "cell_type": "code",
   "execution_count": 4,
   "metadata": {},
   "outputs": [
    {
     "data": {
      "text/plain": [
       "id                       0\n",
       "sales                    0\n",
       "discount_given       21130\n",
       "credits_deducted         0\n",
       "amount_charged           0\n",
       "delivery_fee             0\n",
       "short_code           35975\n",
       "hub                      0\n",
       "order_date               0\n",
       "serving_date             0\n",
       "timeslot              8146\n",
       "meal_count               0\n",
       "ancillary_count          0\n",
       "created_at               0\n",
       "updated_at               0\n",
       "ao_id                    0\n",
       "user_id                  0\n",
       "delivery_order_id        0\n",
       "amount_paid              0\n",
       "surcharge_amount     66119\n",
       "service_zone_id         19\n",
       "revenue                 13\n",
       "dtype: int64"
      ]
     },
     "execution_count": 4,
     "metadata": {},
     "output_type": "execute_result"
    }
   ],
   "source": [
    "df.isnull().sum()"
   ]
  },
  {
   "cell_type": "code",
   "execution_count": 5,
   "metadata": {},
   "outputs": [],
   "source": [
    "df.revenue = df.revenue/100\n",
    "df.sales = df.sales/100"
   ]
  },
  {
   "cell_type": "code",
   "execution_count": 6,
   "metadata": {},
   "outputs": [
    {
     "data": {
      "text/plain": [
       "<matplotlib.axes._subplots.AxesSubplot at 0x112b70e48>"
      ]
     },
     "execution_count": 6,
     "metadata": {},
     "output_type": "execute_result"
    },
    {
     "data": {
      "image/png": "[encoded data removed]",
      "text/plain": [
       "<Figure size 432x288 with 1 Axes>"
      ]
     },
     "metadata": {
      "needs_background": "light"
     },
     "output_type": "display_data"
    }
   ],
   "source": [
    "df.sales.plot(kind='box')"
   ]
  },
  {
   "cell_type": "code",
   "execution_count": 7,
   "metadata": {},
   "outputs": [
    {
     "data": {
      "text/plain": [
       "<matplotlib.axes._subplots.AxesSubplot at 0x109d839b0>"
      ]
     },
     "execution_count": 7,
     "metadata": {},
     "output_type": "execute_result"
    },
    {
     "data": {
      "image/png": "[encoded data removed]",
      "text/plain": [
       "<Figure size 432x288 with 1 Axes>"
      ]
     },
     "metadata": {
      "needs_background": "light"
     },
     "output_type": "display_data"
    }
   ],
   "source": [
    "df[df.sales < 40000].sales.plot(kind='box')"
   ]
  },
  {
   "cell_type": "code",
   "execution_count": 8,
   "metadata": {},
   "outputs": [],
   "source": [
    "df = df[(df.sales < 40000)&(df.sales>0)]"
   ]
  },
  {
   "cell_type": "code",
   "execution_count": 9,
   "metadata": {},
   "outputs": [],
   "source": [
    "df.serving_date = pd.to_datetime(df.serving_date)"
   ]
  },
  {
   "cell_type": "code",
   "execution_count": 10,
   "metadata": {},
   "outputs": [
    {
     "data": {
      "text/plain": [
       "Timestamp('2014-07-15 00:00:00')"
      ]
     },
     "execution_count": 10,
     "metadata": {},
     "output_type": "execute_result"
    }
   ],
   "source": [
    "df.serving_date.min()"
   ]
  },
  {
   "cell_type": "code",
   "execution_count": 11,
   "metadata": {},
   "outputs": [
    {
     "data": {
      "text/plain": [
       "Timestamp('2019-12-01 00:00:00')"
      ]
     },
     "execution_count": 11,
     "metadata": {},
     "output_type": "execute_result"
    }
   ],
   "source": [
    "df.serving_date.max()"
   ]
  },
  {
   "cell_type": "code",
   "execution_count": 12,
   "metadata": {},
   "outputs": [
    {
     "data": {
      "text/plain": [
       "24185"
      ]
     },
     "execution_count": 12,
     "metadata": {},
     "output_type": "execute_result"
    }
   ],
   "source": [
    "df.user_id.nunique()"
   ]
  },
  {
   "cell_type": "code",
   "execution_count": 13,
   "metadata": {},
   "outputs": [],
   "source": [
    "df = df[df.serving_date.dt.year <2019]"
   ]
  },
  {
   "cell_type": "code",
   "execution_count": 14,
   "metadata": {},
   "outputs": [
    {
     "data": {
      "text/html": [
       "<div>\n",
       "<style scoped>\n",
       "    .dataframe tbody tr th:only-of-type {\n",
       "        vertical-align: middle;\n",
       "    }\n",
       "\n",
       "    .dataframe tbody tr th {\n",
       "        vertical-align: top;\n",
       "    }\n",
       "\n",
       "    .dataframe thead th {\n",
       "        text-align: right;\n",
       "    }\n",
       "</style>\n",
       "<table border=\"1\" class=\"dataframe\">\n",
       "  <thead>\n",
       "    <tr style=\"text-align: right;\">\n",
       "      <th></th>\n",
       "      <th>user_id</th>\n",
       "    </tr>\n",
       "    <tr>\n",
       "      <th>serving_date</th>\n",
       "      <th></th>\n",
       "    </tr>\n",
       "  </thead>\n",
       "  <tbody>\n",
       "    <tr>\n",
       "      <th>2014</th>\n",
       "      <td>871</td>\n",
       "    </tr>\n",
       "    <tr>\n",
       "      <th>2015</th>\n",
       "      <td>5088</td>\n",
       "    </tr>\n",
       "    <tr>\n",
       "      <th>2016</th>\n",
       "      <td>7541</td>\n",
       "    </tr>\n",
       "    <tr>\n",
       "      <th>2017</th>\n",
       "      <td>7468</td>\n",
       "    </tr>\n",
       "    <tr>\n",
       "      <th>2018</th>\n",
       "      <td>9202</td>\n",
       "    </tr>\n",
       "  </tbody>\n",
       "</table>\n",
       "</div>"
      ],
      "text/plain": [
       "              user_id\n",
       "serving_date         \n",
       "2014              871\n",
       "2015             5088\n",
       "2016             7541\n",
       "2017             7468\n",
       "2018             9202"
      ]
     },
     "execution_count": 14,
     "metadata": {},
     "output_type": "execute_result"
    }
   ],
   "source": [
    "df.groupby(df.serving_date.dt.year).agg({'user_id':lambda x: x.nunique()})"
   ]
  },
  {
   "cell_type": "code",
   "execution_count": 15,
   "metadata": {},
   "outputs": [
    {
     "data": {
      "text/plain": [
       "32765.0"
      ]
     },
     "execution_count": 15,
     "metadata": {},
     "output_type": "execute_result"
    }
   ],
   "source": [
    "df.sales.max()"
   ]
  },
  {
   "cell_type": "code",
   "execution_count": 16,
   "metadata": {},
   "outputs": [],
   "source": [
    "sales_by_year = pd.DataFrame(df.groupby(df.serving_date.dt.year).sales.sum())\n",
    "sales_by_year['num_orders'] = df.groupby(df.serving_date.dt.year).delivery_order_id.nunique()"
   ]
  },
  {
   "cell_type": "code",
   "execution_count": 17,
   "metadata": {},
   "outputs": [],
   "source": [
    "#Average order value by year\n",
    "sales_by_year['avg_order_val'] = sales_by_year.sales / sales_by_year.num_orders"
   ]
  },
  {
   "cell_type": "code",
   "execution_count": 18,
   "metadata": {},
   "outputs": [
    {
     "data": {
      "text/html": [
       "<div>\n",
       "<style scoped>\n",
       "    .dataframe tbody tr th:only-of-type {\n",
       "        vertical-align: middle;\n",
       "    }\n",
       "\n",
       "    .dataframe tbody tr th {\n",
       "        vertical-align: top;\n",
       "    }\n",
       "\n",
       "    .dataframe thead th {\n",
       "        text-align: right;\n",
       "    }\n",
       "</style>\n",
       "<table border=\"1\" class=\"dataframe\">\n",
       "  <thead>\n",
       "    <tr style=\"text-align: right;\">\n",
       "      <th></th>\n",
       "      <th>sales</th>\n",
       "      <th>num_orders</th>\n",
       "      <th>avg_order_val</th>\n",
       "    </tr>\n",
       "    <tr>\n",
       "      <th>serving_date</th>\n",
       "      <th></th>\n",
       "      <th></th>\n",
       "      <th></th>\n",
       "    </tr>\n",
       "  </thead>\n",
       "  <tbody>\n",
       "    <tr>\n",
       "      <th>2014</th>\n",
       "      <td>7.946863e+04</td>\n",
       "      <td>4742</td>\n",
       "      <td>16.758463</td>\n",
       "    </tr>\n",
       "    <tr>\n",
       "      <th>2015</th>\n",
       "      <td>7.529380e+05</td>\n",
       "      <td>32678</td>\n",
       "      <td>23.041127</td>\n",
       "    </tr>\n",
       "    <tr>\n",
       "      <th>2016</th>\n",
       "      <td>1.922218e+06</td>\n",
       "      <td>38472</td>\n",
       "      <td>49.964090</td>\n",
       "    </tr>\n",
       "    <tr>\n",
       "      <th>2017</th>\n",
       "      <td>3.597511e+06</td>\n",
       "      <td>31898</td>\n",
       "      <td>112.781700</td>\n",
       "    </tr>\n",
       "    <tr>\n",
       "      <th>2018</th>\n",
       "      <td>2.875891e+06</td>\n",
       "      <td>39827</td>\n",
       "      <td>72.209571</td>\n",
       "    </tr>\n",
       "  </tbody>\n",
       "</table>\n",
       "</div>"
      ],
      "text/plain": [
       "                     sales  num_orders  avg_order_val\n",
       "serving_date                                         \n",
       "2014          7.946863e+04        4742      16.758463\n",
       "2015          7.529380e+05       32678      23.041127\n",
       "2016          1.922218e+06       38472      49.964090\n",
       "2017          3.597511e+06       31898     112.781700\n",
       "2018          2.875891e+06       39827      72.209571"
      ]
     },
     "execution_count": 18,
     "metadata": {},
     "output_type": "execute_result"
    }
   ],
   "source": [
    "sales_by_year"
   ]
  },
  {
   "cell_type": "code",
   "execution_count": 19,
   "metadata": {},
   "outputs": [
    {
     "data": {
      "image/png": "[encoded data removed]",
      "text/plain": [
       "<Figure size 720x360 with 1 Axes>"
      ]
     },
     "metadata": {
      "needs_background": "light"
     },
     "output_type": "display_data"
    }
   ],
   "source": [
    "fig = plt.figure(figsize=(10,5))\n",
    "sales_by_year.avg_order_val.sort_index(ascending=False).plot(kind='barh', color='navy')\n",
    "fig.suptitle('Average Order Value by Year', fontsize=20)\n",
    "plt.xlabel('Value $', fontsize=18)\n",
    "plt.ylabel('Year', fontsize=10)\n",
    "plt.show()\n",
    "\n"
   ]
  },
  {
   "cell_type": "code",
   "execution_count": 20,
   "metadata": {},
   "outputs": [
    {
     "data": {
      "text/html": [
       "<div>\n",
       "<style scoped>\n",
       "    .dataframe tbody tr th:only-of-type {\n",
       "        vertical-align: middle;\n",
       "    }\n",
       "\n",
       "    .dataframe tbody tr th {\n",
       "        vertical-align: top;\n",
       "    }\n",
       "\n",
       "    .dataframe thead th {\n",
       "        text-align: right;\n",
       "    }\n",
       "</style>\n",
       "<table border=\"1\" class=\"dataframe\">\n",
       "  <thead>\n",
       "    <tr style=\"text-align: right;\">\n",
       "      <th></th>\n",
       "      <th>index</th>\n",
       "      <th>serving_date</th>\n",
       "      <th>pct_change</th>\n",
       "    </tr>\n",
       "  </thead>\n",
       "  <tbody>\n",
       "    <tr>\n",
       "      <th>0</th>\n",
       "      <td>2014</td>\n",
       "      <td>4742</td>\n",
       "      <td>NaN</td>\n",
       "    </tr>\n",
       "    <tr>\n",
       "      <th>1</th>\n",
       "      <td>2015</td>\n",
       "      <td>32678</td>\n",
       "      <td>5.891185</td>\n",
       "    </tr>\n",
       "    <tr>\n",
       "      <th>2</th>\n",
       "      <td>2016</td>\n",
       "      <td>38497</td>\n",
       "      <td>0.178071</td>\n",
       "    </tr>\n",
       "    <tr>\n",
       "      <th>3</th>\n",
       "      <td>2017</td>\n",
       "      <td>31898</td>\n",
       "      <td>-0.171416</td>\n",
       "    </tr>\n",
       "    <tr>\n",
       "      <th>4</th>\n",
       "      <td>2018</td>\n",
       "      <td>39827</td>\n",
       "      <td>0.248574</td>\n",
       "    </tr>\n",
       "  </tbody>\n",
       "</table>\n",
       "</div>"
      ],
      "text/plain": [
       "   index  serving_date  pct_change\n",
       "0   2014          4742         NaN\n",
       "1   2015         32678    5.891185\n",
       "2   2016         38497    0.178071\n",
       "3   2017         31898   -0.171416\n",
       "4   2018         39827    0.248574"
      ]
     },
     "execution_count": 20,
     "metadata": {},
     "output_type": "execute_result"
    }
   ],
   "source": [
    "tot_orders = pd.DataFrame(df.serving_date.dt.year.value_counts().sort_index()).reset_index()\n",
    "tot_orders['pct_change'] = tot_orders.pct_change()['serving_date']\n",
    "tot_orders"
   ]
  },
  {
   "cell_type": "code",
   "execution_count": 21,
   "metadata": {},
   "outputs": [],
   "source": [
    "tot_sales = pd.DataFrame(df.groupby(df.serving_date.dt.year).sales.sum().sort_index()).reset_index()"
   ]
  },
  {
   "cell_type": "code",
   "execution_count": 22,
   "metadata": {},
   "outputs": [],
   "source": [
    "tot_sales['pct_change'] = tot_sales.pct_change()['sales']"
   ]
  },
  {
   "cell_type": "code",
   "execution_count": 23,
   "metadata": {},
   "outputs": [
    {
     "data": {
      "text/html": [
       "<div>\n",
       "<style scoped>\n",
       "    .dataframe tbody tr th:only-of-type {\n",
       "        vertical-align: middle;\n",
       "    }\n",
       "\n",
       "    .dataframe tbody tr th {\n",
       "        vertical-align: top;\n",
       "    }\n",
       "\n",
       "    .dataframe thead th {\n",
       "        text-align: right;\n",
       "    }\n",
       "</style>\n",
       "<table border=\"1\" class=\"dataframe\">\n",
       "  <thead>\n",
       "    <tr style=\"text-align: right;\">\n",
       "      <th></th>\n",
       "      <th>serving_date</th>\n",
       "      <th>sales</th>\n",
       "      <th>pct_change</th>\n",
       "    </tr>\n",
       "  </thead>\n",
       "  <tbody>\n",
       "    <tr>\n",
       "      <th>0</th>\n",
       "      <td>2014</td>\n",
       "      <td>7.946863e+04</td>\n",
       "      <td>NaN</td>\n",
       "    </tr>\n",
       "    <tr>\n",
       "      <th>1</th>\n",
       "      <td>2015</td>\n",
       "      <td>7.529380e+05</td>\n",
       "      <td>8.474656</td>\n",
       "    </tr>\n",
       "    <tr>\n",
       "      <th>2</th>\n",
       "      <td>2016</td>\n",
       "      <td>1.922218e+06</td>\n",
       "      <td>1.552957</td>\n",
       "    </tr>\n",
       "    <tr>\n",
       "      <th>3</th>\n",
       "      <td>2017</td>\n",
       "      <td>3.597511e+06</td>\n",
       "      <td>0.871541</td>\n",
       "    </tr>\n",
       "    <tr>\n",
       "      <th>4</th>\n",
       "      <td>2018</td>\n",
       "      <td>2.875891e+06</td>\n",
       "      <td>-0.200589</td>\n",
       "    </tr>\n",
       "  </tbody>\n",
       "</table>\n",
       "</div>"
      ],
      "text/plain": [
       "   serving_date         sales  pct_change\n",
       "0          2014  7.946863e+04         NaN\n",
       "1          2015  7.529380e+05    8.474656\n",
       "2          2016  1.922218e+06    1.552957\n",
       "3          2017  3.597511e+06    0.871541\n",
       "4          2018  2.875891e+06   -0.200589"
      ]
     },
     "execution_count": 23,
     "metadata": {},
     "output_type": "execute_result"
    }
   ],
   "source": [
    "tot_sales"
   ]
  },
  {
   "cell_type": "code",
   "execution_count": 24,
   "metadata": {},
   "outputs": [],
   "source": [
    "# def millions(x, pos):\n",
    "#     'The two args are the value and tick position'\n",
    "#     return '$%1.1fM' % (x * 1e-6)\n",
    "# formatter = FuncFormatter(millions)\n",
    "\n",
    "# fig, ax1 = plt.subplots()\n",
    "\n",
    "# color = 'tab:red'\n",
    "# ax1.set_xlabel('Year')\n",
    "# ax1.set_ylabel('Total Sales', color=color)\n",
    "# ax1.plot(tot_sales[['serving_date','sales']], color=color)\n",
    "# ax1.tick_params(axis='y', labelcolor=color)\n",
    "# ax1.yaxis.set_major_formatter(formatter)\n",
    "\n",
    "# ax2 = ax1.twinx()  # instantiate a second axes that shares the same x-axis\n",
    "\n",
    "# color = 'tab:blue'\n",
    "# ax2.set_ylabel('sin', color=color)  # we already handled the x-label with ax1\n",
    "# ax2.plot(tot_sales[['serving_date','pct_change']], color=color)\n",
    "# ax2.tick_params(axis='y', labelcolor=color)\n",
    "\n",
    "# plt.title(\"Total Sales by Year\")\n",
    "\n",
    "\n",
    "# fig.tight_layout()  # otherwise the right y-label is slightly clipped\n",
    "# plt.show()"
   ]
  },
  {
   "cell_type": "code",
   "execution_count": 25,
   "metadata": {},
   "outputs": [],
   "source": [
    "df_2018 = df[df.serving_date.dt.year == 2018]"
   ]
  },
  {
   "cell_type": "code",
   "execution_count": 26,
   "metadata": {},
   "outputs": [
    {
     "data": {
      "text/plain": [
       "(39827, 22)"
      ]
     },
     "execution_count": 26,
     "metadata": {},
     "output_type": "execute_result"
    }
   ],
   "source": [
    "df_2018.shape"
   ]
  },
  {
   "cell_type": "code",
   "execution_count": 27,
   "metadata": {},
   "outputs": [
    {
     "data": {
      "text/plain": [
       "9202"
      ]
     },
     "execution_count": 27,
     "metadata": {},
     "output_type": "execute_result"
    }
   ],
   "source": [
    "df_2018.user_id.nunique()"
   ]
  },
  {
   "cell_type": "code",
   "execution_count": 28,
   "metadata": {},
   "outputs": [],
   "source": [
    "rev_2018 = df_2018.groupby('user_id').agg({'sales':'sum', 'delivery_order_id':'count' })"
   ]
  },
  {
   "cell_type": "code",
   "execution_count": 29,
   "metadata": {},
   "outputs": [
    {
     "data": {
      "image/png": "[encoded data removed]",
      "text/plain": [
       "<Figure size 1080x360 with 1 Axes>"
      ]
     },
     "metadata": {
      "needs_background": "light"
     },
     "output_type": "display_data"
    }
   ],
   "source": [
    "plt.figure(figsize=(15,5))\n",
    "rev_2018.sales.plot()\n",
    "plt.show()"
   ]
  },
  {
   "cell_type": "code",
   "execution_count": 30,
   "metadata": {},
   "outputs": [
    {
     "data": {
      "text/plain": [
       "user_id\n",
       "28126    463555.20\n",
       "28133    324984.24\n",
       "24270     78191.14\n",
       "4727      77039.42\n",
       "40025     71487.25\n",
       "Name: sales, dtype: float64"
      ]
     },
     "execution_count": 30,
     "metadata": {},
     "output_type": "execute_result"
    }
   ],
   "source": [
    "#Sort \n",
    "df_2018.groupby('user_id').sales.sum().sort_values(ascending=False).head()"
   ]
  },
  {
   "cell_type": "code",
   "execution_count": 31,
   "metadata": {},
   "outputs": [
    {
     "data": {
      "text/plain": [
       "2875890.57"
      ]
     },
     "execution_count": 31,
     "metadata": {},
     "output_type": "execute_result"
    }
   ],
   "source": [
    "df_2018.sales.sum()"
   ]
  },
  {
   "cell_type": "code",
   "execution_count": 32,
   "metadata": {},
   "outputs": [],
   "source": [
    "df_18_rev = df_2018.groupby('user_id').agg({'sales':'sum'})"
   ]
  },
  {
   "cell_type": "code",
   "execution_count": 33,
   "metadata": {},
   "outputs": [],
   "source": [
    "df_18_rev['pct_sales'] = df_18_rev.sales.map(lambda x: x/df_2018.sales.sum())"
   ]
  },
  {
   "cell_type": "code",
   "execution_count": 34,
   "metadata": {},
   "outputs": [
    {
     "data": {
      "text/html": [
       "<div>\n",
       "<style scoped>\n",
       "    .dataframe tbody tr th:only-of-type {\n",
       "        vertical-align: middle;\n",
       "    }\n",
       "\n",
       "    .dataframe tbody tr th {\n",
       "        vertical-align: top;\n",
       "    }\n",
       "\n",
       "    .dataframe thead th {\n",
       "        text-align: right;\n",
       "    }\n",
       "</style>\n",
       "<table border=\"1\" class=\"dataframe\">\n",
       "  <thead>\n",
       "    <tr style=\"text-align: right;\">\n",
       "      <th></th>\n",
       "      <th>sales</th>\n",
       "      <th>pct_sales</th>\n",
       "    </tr>\n",
       "    <tr>\n",
       "      <th>user_id</th>\n",
       "      <th></th>\n",
       "      <th></th>\n",
       "    </tr>\n",
       "  </thead>\n",
       "  <tbody>\n",
       "    <tr>\n",
       "      <th>28126</th>\n",
       "      <td>463555.20</td>\n",
       "      <td>0.161187</td>\n",
       "    </tr>\n",
       "    <tr>\n",
       "      <th>28133</th>\n",
       "      <td>324984.24</td>\n",
       "      <td>0.113003</td>\n",
       "    </tr>\n",
       "    <tr>\n",
       "      <th>24270</th>\n",
       "      <td>78191.14</td>\n",
       "      <td>0.027188</td>\n",
       "    </tr>\n",
       "    <tr>\n",
       "      <th>4727</th>\n",
       "      <td>77039.42</td>\n",
       "      <td>0.026788</td>\n",
       "    </tr>\n",
       "    <tr>\n",
       "      <th>40025</th>\n",
       "      <td>71487.25</td>\n",
       "      <td>0.024857</td>\n",
       "    </tr>\n",
       "    <tr>\n",
       "      <th>40409</th>\n",
       "      <td>70655.00</td>\n",
       "      <td>0.024568</td>\n",
       "    </tr>\n",
       "    <tr>\n",
       "      <th>19178</th>\n",
       "      <td>15593.26</td>\n",
       "      <td>0.005422</td>\n",
       "    </tr>\n",
       "    <tr>\n",
       "      <th>37594</th>\n",
       "      <td>15364.90</td>\n",
       "      <td>0.005343</td>\n",
       "    </tr>\n",
       "    <tr>\n",
       "      <th>45838</th>\n",
       "      <td>12933.70</td>\n",
       "      <td>0.004497</td>\n",
       "    </tr>\n",
       "    <tr>\n",
       "      <th>35015</th>\n",
       "      <td>10705.70</td>\n",
       "      <td>0.003723</td>\n",
       "    </tr>\n",
       "    <tr>\n",
       "      <th>46825</th>\n",
       "      <td>8688.40</td>\n",
       "      <td>0.003021</td>\n",
       "    </tr>\n",
       "    <tr>\n",
       "      <th>27801</th>\n",
       "      <td>8595.45</td>\n",
       "      <td>0.002989</td>\n",
       "    </tr>\n",
       "    <tr>\n",
       "      <th>44771</th>\n",
       "      <td>6477.50</td>\n",
       "      <td>0.002252</td>\n",
       "    </tr>\n",
       "    <tr>\n",
       "      <th>5222</th>\n",
       "      <td>6308.15</td>\n",
       "      <td>0.002193</td>\n",
       "    </tr>\n",
       "    <tr>\n",
       "      <th>40075</th>\n",
       "      <td>6282.05</td>\n",
       "      <td>0.002184</td>\n",
       "    </tr>\n",
       "    <tr>\n",
       "      <th>27705</th>\n",
       "      <td>5630.55</td>\n",
       "      <td>0.001958</td>\n",
       "    </tr>\n",
       "    <tr>\n",
       "      <th>5025</th>\n",
       "      <td>5554.20</td>\n",
       "      <td>0.001931</td>\n",
       "    </tr>\n",
       "    <tr>\n",
       "      <th>32164</th>\n",
       "      <td>5547.65</td>\n",
       "      <td>0.001929</td>\n",
       "    </tr>\n",
       "    <tr>\n",
       "      <th>40767</th>\n",
       "      <td>5524.19</td>\n",
       "      <td>0.001921</td>\n",
       "    </tr>\n",
       "    <tr>\n",
       "      <th>43382</th>\n",
       "      <td>5407.00</td>\n",
       "      <td>0.001880</td>\n",
       "    </tr>\n",
       "    <tr>\n",
       "      <th>40176</th>\n",
       "      <td>5313.60</td>\n",
       "      <td>0.001848</td>\n",
       "    </tr>\n",
       "    <tr>\n",
       "      <th>42913</th>\n",
       "      <td>4990.13</td>\n",
       "      <td>0.001735</td>\n",
       "    </tr>\n",
       "    <tr>\n",
       "      <th>15254</th>\n",
       "      <td>4889.81</td>\n",
       "      <td>0.001700</td>\n",
       "    </tr>\n",
       "    <tr>\n",
       "      <th>26810</th>\n",
       "      <td>4861.44</td>\n",
       "      <td>0.001690</td>\n",
       "    </tr>\n",
       "    <tr>\n",
       "      <th>34275</th>\n",
       "      <td>4652.75</td>\n",
       "      <td>0.001618</td>\n",
       "    </tr>\n",
       "    <tr>\n",
       "      <th>39325</th>\n",
       "      <td>4643.90</td>\n",
       "      <td>0.001615</td>\n",
       "    </tr>\n",
       "    <tr>\n",
       "      <th>19484</th>\n",
       "      <td>4545.65</td>\n",
       "      <td>0.001581</td>\n",
       "    </tr>\n",
       "    <tr>\n",
       "      <th>16570</th>\n",
       "      <td>4488.80</td>\n",
       "      <td>0.001561</td>\n",
       "    </tr>\n",
       "    <tr>\n",
       "      <th>37550</th>\n",
       "      <td>4320.80</td>\n",
       "      <td>0.001502</td>\n",
       "    </tr>\n",
       "    <tr>\n",
       "      <th>28884</th>\n",
       "      <td>4104.35</td>\n",
       "      <td>0.001427</td>\n",
       "    </tr>\n",
       "    <tr>\n",
       "      <th>...</th>\n",
       "      <td>...</td>\n",
       "      <td>...</td>\n",
       "    </tr>\n",
       "    <tr>\n",
       "      <th>29746</th>\n",
       "      <td>9.50</td>\n",
       "      <td>0.000003</td>\n",
       "    </tr>\n",
       "    <tr>\n",
       "      <th>3093</th>\n",
       "      <td>9.50</td>\n",
       "      <td>0.000003</td>\n",
       "    </tr>\n",
       "    <tr>\n",
       "      <th>12369</th>\n",
       "      <td>9.50</td>\n",
       "      <td>0.000003</td>\n",
       "    </tr>\n",
       "    <tr>\n",
       "      <th>46881</th>\n",
       "      <td>9.50</td>\n",
       "      <td>0.000003</td>\n",
       "    </tr>\n",
       "    <tr>\n",
       "      <th>46711</th>\n",
       "      <td>9.50</td>\n",
       "      <td>0.000003</td>\n",
       "    </tr>\n",
       "    <tr>\n",
       "      <th>44581</th>\n",
       "      <td>9.50</td>\n",
       "      <td>0.000003</td>\n",
       "    </tr>\n",
       "    <tr>\n",
       "      <th>43489</th>\n",
       "      <td>9.50</td>\n",
       "      <td>0.000003</td>\n",
       "    </tr>\n",
       "    <tr>\n",
       "      <th>44572</th>\n",
       "      <td>9.50</td>\n",
       "      <td>0.000003</td>\n",
       "    </tr>\n",
       "    <tr>\n",
       "      <th>46486</th>\n",
       "      <td>9.50</td>\n",
       "      <td>0.000003</td>\n",
       "    </tr>\n",
       "    <tr>\n",
       "      <th>49066</th>\n",
       "      <td>9.50</td>\n",
       "      <td>0.000003</td>\n",
       "    </tr>\n",
       "    <tr>\n",
       "      <th>43849</th>\n",
       "      <td>9.50</td>\n",
       "      <td>0.000003</td>\n",
       "    </tr>\n",
       "    <tr>\n",
       "      <th>48611</th>\n",
       "      <td>9.50</td>\n",
       "      <td>0.000003</td>\n",
       "    </tr>\n",
       "    <tr>\n",
       "      <th>21435</th>\n",
       "      <td>8.95</td>\n",
       "      <td>0.000003</td>\n",
       "    </tr>\n",
       "    <tr>\n",
       "      <th>41115</th>\n",
       "      <td>8.95</td>\n",
       "      <td>0.000003</td>\n",
       "    </tr>\n",
       "    <tr>\n",
       "      <th>4517</th>\n",
       "      <td>8.95</td>\n",
       "      <td>0.000003</td>\n",
       "    </tr>\n",
       "    <tr>\n",
       "      <th>41557</th>\n",
       "      <td>8.95</td>\n",
       "      <td>0.000003</td>\n",
       "    </tr>\n",
       "    <tr>\n",
       "      <th>41131</th>\n",
       "      <td>8.95</td>\n",
       "      <td>0.000003</td>\n",
       "    </tr>\n",
       "    <tr>\n",
       "      <th>31300</th>\n",
       "      <td>8.95</td>\n",
       "      <td>0.000003</td>\n",
       "    </tr>\n",
       "    <tr>\n",
       "      <th>41487</th>\n",
       "      <td>8.95</td>\n",
       "      <td>0.000003</td>\n",
       "    </tr>\n",
       "    <tr>\n",
       "      <th>6490</th>\n",
       "      <td>8.95</td>\n",
       "      <td>0.000003</td>\n",
       "    </tr>\n",
       "    <tr>\n",
       "      <th>40788</th>\n",
       "      <td>8.95</td>\n",
       "      <td>0.000003</td>\n",
       "    </tr>\n",
       "    <tr>\n",
       "      <th>23299</th>\n",
       "      <td>8.95</td>\n",
       "      <td>0.000003</td>\n",
       "    </tr>\n",
       "    <tr>\n",
       "      <th>40755</th>\n",
       "      <td>8.95</td>\n",
       "      <td>0.000003</td>\n",
       "    </tr>\n",
       "    <tr>\n",
       "      <th>52859</th>\n",
       "      <td>6.95</td>\n",
       "      <td>0.000002</td>\n",
       "    </tr>\n",
       "    <tr>\n",
       "      <th>51056</th>\n",
       "      <td>6.95</td>\n",
       "      <td>0.000002</td>\n",
       "    </tr>\n",
       "    <tr>\n",
       "      <th>28309</th>\n",
       "      <td>5.95</td>\n",
       "      <td>0.000002</td>\n",
       "    </tr>\n",
       "    <tr>\n",
       "      <th>53400</th>\n",
       "      <td>5.95</td>\n",
       "      <td>0.000002</td>\n",
       "    </tr>\n",
       "    <tr>\n",
       "      <th>4399</th>\n",
       "      <td>5.95</td>\n",
       "      <td>0.000002</td>\n",
       "    </tr>\n",
       "    <tr>\n",
       "      <th>50831</th>\n",
       "      <td>4.95</td>\n",
       "      <td>0.000002</td>\n",
       "    </tr>\n",
       "    <tr>\n",
       "      <th>47467</th>\n",
       "      <td>4.95</td>\n",
       "      <td>0.000002</td>\n",
       "    </tr>\n",
       "  </tbody>\n",
       "</table>\n",
       "<p>9202 rows × 2 columns</p>\n",
       "</div>"
      ],
      "text/plain": [
       "             sales  pct_sales\n",
       "user_id                      \n",
       "28126    463555.20   0.161187\n",
       "28133    324984.24   0.113003\n",
       "24270     78191.14   0.027188\n",
       "4727      77039.42   0.026788\n",
       "40025     71487.25   0.024857\n",
       "40409     70655.00   0.024568\n",
       "19178     15593.26   0.005422\n",
       "37594     15364.90   0.005343\n",
       "45838     12933.70   0.004497\n",
       "35015     10705.70   0.003723\n",
       "46825      8688.40   0.003021\n",
       "27801      8595.45   0.002989\n",
       "44771      6477.50   0.002252\n",
       "5222       6308.15   0.002193\n",
       "40075      6282.05   0.002184\n",
       "27705      5630.55   0.001958\n",
       "5025       5554.20   0.001931\n",
       "32164      5547.65   0.001929\n",
       "40767      5524.19   0.001921\n",
       "43382      5407.00   0.001880\n",
       "40176      5313.60   0.001848\n",
       "42913      4990.13   0.001735\n",
       "15254      4889.81   0.001700\n",
       "26810      4861.44   0.001690\n",
       "34275      4652.75   0.001618\n",
       "39325      4643.90   0.001615\n",
       "19484      4545.65   0.001581\n",
       "16570      4488.80   0.001561\n",
       "37550      4320.80   0.001502\n",
       "28884      4104.35   0.001427\n",
       "...            ...        ...\n",
       "29746         9.50   0.000003\n",
       "3093          9.50   0.000003\n",
       "12369         9.50   0.000003\n",
       "46881         9.50   0.000003\n",
       "46711         9.50   0.000003\n",
       "44581         9.50   0.000003\n",
       "43489         9.50   0.000003\n",
       "44572         9.50   0.000003\n",
       "46486         9.50   0.000003\n",
       "49066         9.50   0.000003\n",
       "43849         9.50   0.000003\n",
       "48611         9.50   0.000003\n",
       "21435         8.95   0.000003\n",
       "41115         8.95   0.000003\n",
       "4517          8.95   0.000003\n",
       "41557         8.95   0.000003\n",
       "41131         8.95   0.000003\n",
       "31300         8.95   0.000003\n",
       "41487         8.95   0.000003\n",
       "6490          8.95   0.000003\n",
       "40788         8.95   0.000003\n",
       "23299         8.95   0.000003\n",
       "40755         8.95   0.000003\n",
       "52859         6.95   0.000002\n",
       "51056         6.95   0.000002\n",
       "28309         5.95   0.000002\n",
       "53400         5.95   0.000002\n",
       "4399          5.95   0.000002\n",
       "50831         4.95   0.000002\n",
       "47467         4.95   0.000002\n",
       "\n",
       "[9202 rows x 2 columns]"
      ]
     },
     "execution_count": 34,
     "metadata": {},
     "output_type": "execute_result"
    }
   ],
   "source": [
    "df_18_rev.sort_values('sales',ascending=False)"
   ]
  },
  {
   "cell_type": "code",
   "execution_count": 35,
   "metadata": {},
   "outputs": [],
   "source": [
    "pct_sales = df_18_rev.sort_values('pct_sales', ascending=False)\n",
    "cum_sum = pd.DataFrame(pct_sales.pct_sales.cumsum())"
   ]
  },
  {
   "cell_type": "code",
   "execution_count": 36,
   "metadata": {},
   "outputs": [
    {
     "data": {
      "text/html": [
       "<div>\n",
       "<style scoped>\n",
       "    .dataframe tbody tr th:only-of-type {\n",
       "        vertical-align: middle;\n",
       "    }\n",
       "\n",
       "    .dataframe tbody tr th {\n",
       "        vertical-align: top;\n",
       "    }\n",
       "\n",
       "    .dataframe thead th {\n",
       "        text-align: right;\n",
       "    }\n",
       "</style>\n",
       "<table border=\"1\" class=\"dataframe\">\n",
       "  <thead>\n",
       "    <tr style=\"text-align: right;\">\n",
       "      <th></th>\n",
       "      <th>pct_sales</th>\n",
       "    </tr>\n",
       "    <tr>\n",
       "      <th>user_id</th>\n",
       "      <th></th>\n",
       "    </tr>\n",
       "  </thead>\n",
       "  <tbody>\n",
       "    <tr>\n",
       "      <th>28126</th>\n",
       "      <td>0.161187</td>\n",
       "    </tr>\n",
       "    <tr>\n",
       "      <th>28133</th>\n",
       "      <td>0.274190</td>\n",
       "    </tr>\n",
       "    <tr>\n",
       "      <th>24270</th>\n",
       "      <td>0.301378</td>\n",
       "    </tr>\n",
       "    <tr>\n",
       "      <th>4727</th>\n",
       "      <td>0.328166</td>\n",
       "    </tr>\n",
       "    <tr>\n",
       "      <th>40025</th>\n",
       "      <td>0.353024</td>\n",
       "    </tr>\n",
       "    <tr>\n",
       "      <th>40409</th>\n",
       "      <td>0.377592</td>\n",
       "    </tr>\n",
       "    <tr>\n",
       "      <th>19178</th>\n",
       "      <td>0.383014</td>\n",
       "    </tr>\n",
       "    <tr>\n",
       "      <th>37594</th>\n",
       "      <td>0.388356</td>\n",
       "    </tr>\n",
       "    <tr>\n",
       "      <th>45838</th>\n",
       "      <td>0.392854</td>\n",
       "    </tr>\n",
       "    <tr>\n",
       "      <th>35015</th>\n",
       "      <td>0.396576</td>\n",
       "    </tr>\n",
       "    <tr>\n",
       "      <th>46825</th>\n",
       "      <td>0.399597</td>\n",
       "    </tr>\n",
       "    <tr>\n",
       "      <th>27801</th>\n",
       "      <td>0.402586</td>\n",
       "    </tr>\n",
       "    <tr>\n",
       "      <th>44771</th>\n",
       "      <td>0.404838</td>\n",
       "    </tr>\n",
       "    <tr>\n",
       "      <th>5222</th>\n",
       "      <td>0.407032</td>\n",
       "    </tr>\n",
       "    <tr>\n",
       "      <th>40075</th>\n",
       "      <td>0.409216</td>\n",
       "    </tr>\n",
       "    <tr>\n",
       "      <th>27705</th>\n",
       "      <td>0.411174</td>\n",
       "    </tr>\n",
       "    <tr>\n",
       "      <th>5025</th>\n",
       "      <td>0.413105</td>\n",
       "    </tr>\n",
       "    <tr>\n",
       "      <th>32164</th>\n",
       "      <td>0.415034</td>\n",
       "    </tr>\n",
       "    <tr>\n",
       "      <th>40767</th>\n",
       "      <td>0.416955</td>\n",
       "    </tr>\n",
       "    <tr>\n",
       "      <th>43382</th>\n",
       "      <td>0.418835</td>\n",
       "    </tr>\n",
       "  </tbody>\n",
       "</table>\n",
       "</div>"
      ],
      "text/plain": [
       "         pct_sales\n",
       "user_id           \n",
       "28126     0.161187\n",
       "28133     0.274190\n",
       "24270     0.301378\n",
       "4727      0.328166\n",
       "40025     0.353024\n",
       "40409     0.377592\n",
       "19178     0.383014\n",
       "37594     0.388356\n",
       "45838     0.392854\n",
       "35015     0.396576\n",
       "46825     0.399597\n",
       "27801     0.402586\n",
       "44771     0.404838\n",
       "5222      0.407032\n",
       "40075     0.409216\n",
       "27705     0.411174\n",
       "5025      0.413105\n",
       "32164     0.415034\n",
       "40767     0.416955\n",
       "43382     0.418835"
      ]
     },
     "execution_count": 36,
     "metadata": {},
     "output_type": "execute_result"
    }
   ],
   "source": [
    "cum_sum.head(20)"
   ]
  },
  {
   "cell_type": "code",
   "execution_count": 37,
   "metadata": {},
   "outputs": [
    {
     "data": {
      "text/plain": [
       "[28126, 28133, 24270, 4727, 40025]"
      ]
     },
     "execution_count": 37,
     "metadata": {},
     "output_type": "execute_result"
    }
   ],
   "source": [
    "top_users = cum_sum[:5].index.tolist()\n",
    "top_users"
   ]
  },
  {
   "cell_type": "code",
   "execution_count": 38,
   "metadata": {},
   "outputs": [
    {
     "name": "stderr",
     "output_type": "stream",
     "text": [
      "/anaconda3/lib/python3.7/site-packages/IPython/core/interactiveshell.py:3049: DtypeWarning: Columns (9,13,22,31,33,35,36,38,44,65) have mixed types. Specify dtype option on import or set low_memory=False.\n",
      "  interactivity=interactivity, compiler=compiler, result=result)\n"
     ]
    }
   ],
   "source": [
    "delivery = pd.read_csv('../raw/delivery_orders.csv')"
   ]
  },
  {
   "cell_type": "code",
   "execution_count": 39,
   "metadata": {},
   "outputs": [
    {
     "data": {
      "text/plain": [
       "Index(['id', 'zone_id', 'address', 'state', 'item', 'created_at', 'updated_at',\n",
       "       'location_id', 'user_id', 'cart_id', 'amount', 'charge_id', 'discount',\n",
       "       'due', 'credit_deduction', 'delivery_orders_count', 'feedback_link',\n",
       "       'meal_names', 'order_id', 'due_dates', 'to_office', 'card_details',\n",
       "       'billing_reference', 'credit_terms', 'card_brand', 'card_last4',\n",
       "       'source', 'macros', 'component_string', 'timing', 'delivery_fee',\n",
       "       'delivery_fees', 'cbd_fee', 'meal_wave', 'version', 'card_id',\n",
       "       'islandwide', 'pickup_point_id', 'trello_url', 'pickup_points', 'floor',\n",
       "       'unit_no', 'delivery_node_id', 'surcharge_amount', 'business',\n",
       "       'serving_date', 'promo_code', 'hub_id', 'delivery_state', 'type',\n",
       "       'delivery_note', 'courier', 'sample', 'feedback_form_id',\n",
       "       'product_tracking_option_id', 'business_unit_tracking_option_id',\n",
       "       'invoice_date', 'xero_contact_id', 'gst_charged', 'salesperson_id',\n",
       "       'delivery_fee_excluding_gst', 'surcharge_amount_excluding_gst',\n",
       "       'discount_excluding_gst', 'should_commit_stock', 'recurring_type',\n",
       "       'xero_invoice_id', 'dispatching_hub_id', 'blk_tower', 'feedback_token',\n",
       "       'credit_deduction_excluding_gst', 'is_outbound'],\n",
       "      dtype='object')"
      ]
     },
     "execution_count": 39,
     "metadata": {},
     "output_type": "execute_result"
    }
   ],
   "source": [
    "delivery.columns"
   ]
  },
  {
   "cell_type": "code",
   "execution_count": 40,
   "metadata": {},
   "outputs": [
    {
     "name": "stdout",
     "output_type": "stream",
     "text": [
      "28126 [24270. 40025.    nan 32565. 25503. 30546.]\n",
      "28133 [24270. 32565. 40025. 35343.    nan 30546.]\n",
      "24270 [24270.    nan 15366. 30546.]\n",
      "4727 [19951.    nan 40025. 34906.]\n",
      "40025 [40025.]\n"
     ]
    }
   ],
   "source": [
    "for i in top_users:\n",
    "    print(i, delivery.loc[delivery.user_id==i,'salesperson_id'].unique())"
   ]
  },
  {
   "cell_type": "code",
   "execution_count": 41,
   "metadata": {},
   "outputs": [
    {
     "data": {
      "text/plain": [
       "(109, 1)"
      ]
     },
     "execution_count": 41,
     "metadata": {},
     "output_type": "execute_result"
    }
   ],
   "source": [
    "cum_sum[cum_sum.pct_sales <= 0.5].shape"
   ]
  },
  {
   "cell_type": "code",
   "execution_count": 42,
   "metadata": {},
   "outputs": [],
   "source": [
    "# plt.figure(figsize=(20,5))\n",
    "# pct_sales.pct_sales.cumsum().plot(kind='bar')\n",
    "# # plt.tick_params(\n",
    "# #     axis='x',          # changes apply to the x-axis\n",
    "# #     which='both',      # both major and minor ticks are affected\n",
    "# #     bottom=False,      # ticks along the bottom edge are off\n",
    "# #     top=False,         # ticks along the top edge are off\n",
    "# #     labelbottom=False) # labels along the bottom edge are off\n",
    "# plt.show()"
   ]
  },
  {
   "cell_type": "code",
   "execution_count": 43,
   "metadata": {},
   "outputs": [],
   "source": [
    "btc = delivery[delivery.salesperson_id.isnull()]"
   ]
  },
  {
   "cell_type": "code",
   "execution_count": 44,
   "metadata": {},
   "outputs": [],
   "source": [
    "btc_users = btc.user_id.unique().tolist()"
   ]
  },
  {
   "cell_type": "code",
   "execution_count": 45,
   "metadata": {},
   "outputs": [
    {
     "data": {
      "text/plain": [
       "8955"
      ]
     },
     "execution_count": 45,
     "metadata": {},
     "output_type": "execute_result"
    }
   ],
   "source": [
    "len(btc_users)"
   ]
  },
  {
   "cell_type": "code",
   "execution_count": 46,
   "metadata": {},
   "outputs": [
    {
     "data": {
      "text/plain": [
       "3249"
      ]
     },
     "execution_count": 46,
     "metadata": {},
     "output_type": "execute_result"
    }
   ],
   "source": [
    "#Num b2c users in 2018\n",
    "df_2018[df_2018.user_id.isin(btc_users)].user_id.nunique()"
   ]
  },
  {
   "cell_type": "code",
   "execution_count": 47,
   "metadata": {},
   "outputs": [],
   "source": [
    "#Sales per user in 2018\n",
    "df_18_btc_rev = df_2018[df_2018.user_id.isin(btc_users)].groupby('user_id').agg({'sales':'sum'})"
   ]
  },
  {
   "cell_type": "code",
   "execution_count": 48,
   "metadata": {},
   "outputs": [
    {
     "data": {
      "text/plain": [
       "1730583.4300000002"
      ]
     },
     "execution_count": 48,
     "metadata": {},
     "output_type": "execute_result"
    }
   ],
   "source": [
    "df_18_btc_rev.sales.sum()"
   ]
  },
  {
   "cell_type": "code",
   "execution_count": 49,
   "metadata": {},
   "outputs": [],
   "source": [
    "df_18_btc_rev['pct_sales'] = df_18_btc_rev['sales'].map(lambda x: x/df_18_btc_rev.sales.sum())"
   ]
  },
  {
   "cell_type": "code",
   "execution_count": 50,
   "metadata": {},
   "outputs": [],
   "source": [
    "btc_pct_sales = df_18_btc_rev.sort_values('pct_sales', ascending=False)\n",
    "btc_cum_sum = pd.DataFrame(btc_pct_sales.pct_sales.cumsum())"
   ]
  },
  {
   "cell_type": "code",
   "execution_count": 51,
   "metadata": {},
   "outputs": [
    {
     "data": {
      "text/html": [
       "<div>\n",
       "<style scoped>\n",
       "    .dataframe tbody tr th:only-of-type {\n",
       "        vertical-align: middle;\n",
       "    }\n",
       "\n",
       "    .dataframe tbody tr th {\n",
       "        vertical-align: top;\n",
       "    }\n",
       "\n",
       "    .dataframe thead th {\n",
       "        text-align: right;\n",
       "    }\n",
       "</style>\n",
       "<table border=\"1\" class=\"dataframe\">\n",
       "  <thead>\n",
       "    <tr style=\"text-align: right;\">\n",
       "      <th></th>\n",
       "      <th>pct_sales</th>\n",
       "    </tr>\n",
       "    <tr>\n",
       "      <th>user_id</th>\n",
       "      <th></th>\n",
       "    </tr>\n",
       "  </thead>\n",
       "  <tbody>\n",
       "    <tr>\n",
       "      <th>28126</th>\n",
       "      <td>0.267861</td>\n",
       "    </tr>\n",
       "    <tr>\n",
       "      <th>28133</th>\n",
       "      <td>0.455649</td>\n",
       "    </tr>\n",
       "    <tr>\n",
       "      <th>24270</th>\n",
       "      <td>0.500831</td>\n",
       "    </tr>\n",
       "    <tr>\n",
       "      <th>4727</th>\n",
       "      <td>0.545348</td>\n",
       "    </tr>\n",
       "    <tr>\n",
       "      <th>19178</th>\n",
       "      <td>0.554358</td>\n",
       "    </tr>\n",
       "    <tr>\n",
       "      <th>27801</th>\n",
       "      <td>0.559325</td>\n",
       "    </tr>\n",
       "    <tr>\n",
       "      <th>5222</th>\n",
       "      <td>0.562970</td>\n",
       "    </tr>\n",
       "    <tr>\n",
       "      <th>27705</th>\n",
       "      <td>0.566224</td>\n",
       "    </tr>\n",
       "    <tr>\n",
       "      <th>5025</th>\n",
       "      <td>0.569433</td>\n",
       "    </tr>\n",
       "    <tr>\n",
       "      <th>32164</th>\n",
       "      <td>0.572639</td>\n",
       "    </tr>\n",
       "  </tbody>\n",
       "</table>\n",
       "</div>"
      ],
      "text/plain": [
       "         pct_sales\n",
       "user_id           \n",
       "28126     0.267861\n",
       "28133     0.455649\n",
       "24270     0.500831\n",
       "4727      0.545348\n",
       "19178     0.554358\n",
       "27801     0.559325\n",
       "5222      0.562970\n",
       "27705     0.566224\n",
       "5025      0.569433\n",
       "32164     0.572639"
      ]
     },
     "execution_count": 51,
     "metadata": {},
     "output_type": "execute_result"
    }
   ],
   "source": [
    "btc_cum_sum.head(10)"
   ]
  },
  {
   "cell_type": "code",
   "execution_count": 52,
   "metadata": {},
   "outputs": [],
   "source": [
    "top_users_btc = btc_cum_sum[:3].index.tolist()"
   ]
  },
  {
   "cell_type": "code",
   "execution_count": 53,
   "metadata": {},
   "outputs": [
    {
     "data": {
      "text/plain": [
       "[28126, 28133, 24270]"
      ]
     },
     "execution_count": 53,
     "metadata": {},
     "output_type": "execute_result"
    }
   ],
   "source": [
    "top_users_btc"
   ]
  },
  {
   "cell_type": "code",
   "execution_count": 54,
   "metadata": {},
   "outputs": [],
   "source": [
    "# for i in top_three_users:\n",
    "#     print(i, delivery.loc[delivery.user_id==1, 'card_details'].unique())"
   ]
  },
  {
   "cell_type": "code",
   "execution_count": 55,
   "metadata": {},
   "outputs": [],
   "source": [
    "menu = pd.read_csv('../raw/meals.csv')"
   ]
  },
  {
   "cell_type": "code",
   "execution_count": 59,
   "metadata": {},
   "outputs": [
    {
     "data": {
      "text/plain": [
       "23.641538461538488"
      ]
     },
     "execution_count": 59,
     "metadata": {},
     "output_type": "execute_result"
    }
   ],
   "source": [
    "menu[menu.category == 'regular'].price.mean()"
   ]
  },
  {
   "cell_type": "code",
   "execution_count": 57,
   "metadata": {},
   "outputs": [
    {
     "data": {
      "text/plain": [
       "6.124561403508768"
      ]
     },
     "execution_count": 57,
     "metadata": {},
     "output_type": "execute_result"
    }
   ],
   "source": [
    "menu[menu.category == 'side'].price.mean()"
   ]
  },
  {
   "cell_type": "code",
   "execution_count": 58,
   "metadata": {},
   "outputs": [
    {
     "data": {
      "text/plain": [
       "6.024999999999999"
      ]
     },
     "execution_count": 58,
     "metadata": {},
     "output_type": "execute_result"
    }
   ],
   "source": [
    "menu[menu.category == 'drink'].price.mean()"
   ]
  },
  {
   "cell_type": "code",
   "execution_count": null,
   "metadata": {},
   "outputs": [],
   "source": []
  }
 ],
 "metadata": {
  "kernelspec": {
   "display_name": "Python 3",
   "language": "python",
   "name": "python3"
  },
  "language_info": {
   "codemirror_mode": {
    "name": "ipython",
    "version": 3
   },
   "file_extension": ".py",
   "mimetype": "text/x-python",
   "name": "python",
   "nbconvert_exporter": "python",
   "pygments_lexer": "ipython3",
   "version": "3.7.3"
  }
 },
 "nbformat": 4,
 "nbformat_minor": 2
}
