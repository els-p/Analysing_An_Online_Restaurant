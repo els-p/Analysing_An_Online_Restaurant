{
 "cells": [
  {
   "cell_type": "markdown",
   "metadata": {},
   "source": [
    "## Recency, Frequency, Monetary Value Model for Marketing Decisions"
   ]
  },
  {
   "cell_type": "code",
   "execution_count": 1,
   "metadata": {},
   "outputs": [
    {
     "name": "stderr",
     "output_type": "stream",
     "text": [
      "Using TensorFlow backend.\n"
     ]
    }
   ],
   "source": [
    "#Import libraries\n",
    "import pandas as pd\n",
    "import seaborn as sns\n",
    "import numpy as np\n",
    "import string\n",
    "from datetime import timedelta\n",
    "import squarify\n",
    "\n",
    "from tqdm import tqdm_notebook as tqdm\n",
    "from keras.utils import np_utils\n",
    "import matplotlib.pyplot as plt\n",
    "%matplotlib inline\n",
    "\n",
    "from sklearn.cluster import KMeans, DBSCAN\n",
    "from sklearn.preprocessing import StandardScaler, OneHotEncoder\n",
    "from sklearn import metrics\n",
    "from sklearn.metrics import silhouette_score\n",
    "from sklearn.model_selection import GridSearchCV\n",
    "from sklearn.feature_extraction.text import CountVectorizer\n",
    "from sklearn.decomposition import PCA"
   ]
  },
  {
   "cell_type": "code",
   "execution_count": 2,
   "metadata": {},
   "outputs": [],
   "source": [
    "#Import data\n",
    "df = pd.read_csv('../inputs/profile_features_clean.csv')"
   ]
  },
  {
   "cell_type": "code",
   "execution_count": 3,
   "metadata": {},
   "outputs": [
    {
     "data": {
      "text/html": [
       "<div>\n",
       "<style scoped>\n",
       "    .dataframe tbody tr th:only-of-type {\n",
       "        vertical-align: middle;\n",
       "    }\n",
       "\n",
       "    .dataframe tbody tr th {\n",
       "        vertical-align: top;\n",
       "    }\n",
       "\n",
       "    .dataframe thead th {\n",
       "        text-align: right;\n",
       "    }\n",
       "</style>\n",
       "<table border=\"1\" class=\"dataframe\">\n",
       "  <thead>\n",
       "    <tr style=\"text-align: right;\">\n",
       "      <th></th>\n",
       "      <th>address</th>\n",
       "      <th>postal_code</th>\n",
       "      <th>account_balance</th>\n",
       "      <th>card_brand_users</th>\n",
       "      <th>has_coupon</th>\n",
       "      <th>birthday_year</th>\n",
       "      <th>birthday_month</th>\n",
       "      <th>age</th>\n",
       "      <th>region</th>\n",
       "      <th>user_id</th>\n",
       "      <th>zone_id</th>\n",
       "      <th>discount</th>\n",
       "      <th>due_dates_only</th>\n",
       "      <th>card_details</th>\n",
       "      <th>card_brand_delivery_info</th>\n",
       "      <th>source</th>\n",
       "      <th>delivery_fee</th>\n",
       "      <th>meal_wave</th>\n",
       "      <th>surcharge_amount</th>\n",
       "      <th>promo_code_used</th>\n",
       "      <th>gave_feedback</th>\n",
       "      <th>delivery_order_id</th>\n",
       "      <th>item_id</th>\n",
       "      <th>item_type</th>\n",
       "      <th>quantity</th>\n",
       "      <th>unit_price</th>\n",
       "      <th>name</th>\n",
       "      <th>macros</th>\n",
       "      <th>ingredients</th>\n",
       "      <th>temperature</th>\n",
       "      <th>category</th>\n",
       "    </tr>\n",
       "  </thead>\n",
       "  <tbody>\n",
       "    <tr>\n",
       "      <th>56187</th>\n",
       "      <td>12 Marina Boulevard</td>\n",
       "      <td>18982.0</td>\n",
       "      <td>0</td>\n",
       "      <td>Visa</td>\n",
       "      <td>0</td>\n",
       "      <td>NaN</td>\n",
       "      <td>NaN</td>\n",
       "      <td>NaN</td>\n",
       "      <td>1.0</td>\n",
       "      <td>9379</td>\n",
       "      <td>74.0</td>\n",
       "      <td>0.0</td>\n",
       "      <td>2018-07-17</td>\n",
       "      <td>---\\n17/7:\\n  :name: '17/7 | 12:00pm | MBFC3 |...</td>\n",
       "      <td>Visa</td>\n",
       "      <td>web</td>\n",
       "      <td>0.0</td>\n",
       "      <td>second</td>\n",
       "      <td>0.0</td>\n",
       "      <td>0</td>\n",
       "      <td>0</td>\n",
       "      <td>131829</td>\n",
       "      <td>547.0</td>\n",
       "      <td>main</td>\n",
       "      <td>1.0</td>\n",
       "      <td>1495.0</td>\n",
       "      <td>Assam Pedas New Zealand Blue Hake</td>\n",
       "      <td>Calories: 631, Fat: 10, Carb: 98, Protein: 47</td>\n",
       "      <td>blue hake, tomato, okra, eggplant, bulgur whea...</td>\n",
       "      <td>warm</td>\n",
       "      <td>highlight</td>\n",
       "    </tr>\n",
       "    <tr>\n",
       "      <th>44202</th>\n",
       "      <td>1 Pioneer Sector 1</td>\n",
       "      <td>628413.0</td>\n",
       "      <td>0</td>\n",
       "      <td>Visa</td>\n",
       "      <td>0</td>\n",
       "      <td>NaN</td>\n",
       "      <td>NaN</td>\n",
       "      <td>NaN</td>\n",
       "      <td>22.0</td>\n",
       "      <td>15509</td>\n",
       "      <td>61.0</td>\n",
       "      <td>0.0</td>\n",
       "      <td>2015-12-17</td>\n",
       "      <td>---\\n17/12:\\n  :name: '17/12 | 11:30am | 1 Pio...</td>\n",
       "      <td>MasterCard</td>\n",
       "      <td>0</td>\n",
       "      <td>0.0</td>\n",
       "      <td>first</td>\n",
       "      <td>0.0</td>\n",
       "      <td>0</td>\n",
       "      <td>0</td>\n",
       "      <td>37419</td>\n",
       "      <td>230.0</td>\n",
       "      <td>main</td>\n",
       "      <td>2.0</td>\n",
       "      <td>1295.0</td>\n",
       "      <td>Seared Salmon with Mediterranean Root Vegetabl...</td>\n",
       "      <td>Calories: 531, Fat: 18g, Carb: 52g, Protein: 42g</td>\n",
       "      <td>salmon, pumpkin, celeriac, beetroot, white ric...</td>\n",
       "      <td>chilled</td>\n",
       "      <td>main</td>\n",
       "    </tr>\n",
       "    <tr>\n",
       "      <th>41641</th>\n",
       "      <td>12 Marina Boulevard</td>\n",
       "      <td>18982.0</td>\n",
       "      <td>1195</td>\n",
       "      <td>Visa</td>\n",
       "      <td>1</td>\n",
       "      <td>NaN</td>\n",
       "      <td>NaN</td>\n",
       "      <td>NaN</td>\n",
       "      <td>1.0</td>\n",
       "      <td>13364</td>\n",
       "      <td>74.0</td>\n",
       "      <td>0.0</td>\n",
       "      <td>2016-12-07</td>\n",
       "      <td>---\\n7/12:\\n  :name: '7/12 | 1:00pm | MBFC3 | ...</td>\n",
       "      <td>Visa</td>\n",
       "      <td>0</td>\n",
       "      <td>0.0</td>\n",
       "      <td>third</td>\n",
       "      <td>0.0</td>\n",
       "      <td>0</td>\n",
       "      <td>0</td>\n",
       "      <td>74593</td>\n",
       "      <td>241.0</td>\n",
       "      <td>main</td>\n",
       "      <td>1.0</td>\n",
       "      <td>1195.0</td>\n",
       "      <td>Chimichurri Jerk Chicken</td>\n",
       "      <td>Calories: 572, Fat: 10g, Carb: 71g, Protein: 49g</td>\n",
       "      <td>chicken breast, black rice, brown rice, carrot...</td>\n",
       "      <td>warm</td>\n",
       "      <td>local</td>\n",
       "    </tr>\n",
       "  </tbody>\n",
       "</table>\n",
       "</div>"
      ],
      "text/plain": [
       "                   address  postal_code  account_balance card_brand_users  \\\n",
       "56187  12 Marina Boulevard      18982.0                0             Visa   \n",
       "44202   1 Pioneer Sector 1     628413.0                0             Visa   \n",
       "41641  12 Marina Boulevard      18982.0             1195             Visa   \n",
       "\n",
       "       has_coupon  birthday_year  birthday_month  age  region  user_id  \\\n",
       "56187           0            NaN             NaN  NaN     1.0     9379   \n",
       "44202           0            NaN             NaN  NaN    22.0    15509   \n",
       "41641           1            NaN             NaN  NaN     1.0    13364   \n",
       "\n",
       "       zone_id  discount due_dates_only  \\\n",
       "56187     74.0       0.0     2018-07-17   \n",
       "44202     61.0       0.0     2015-12-17   \n",
       "41641     74.0       0.0     2016-12-07   \n",
       "\n",
       "                                            card_details  \\\n",
       "56187  ---\\n17/7:\\n  :name: '17/7 | 12:00pm | MBFC3 |...   \n",
       "44202  ---\\n17/12:\\n  :name: '17/12 | 11:30am | 1 Pio...   \n",
       "41641  ---\\n7/12:\\n  :name: '7/12 | 1:00pm | MBFC3 | ...   \n",
       "\n",
       "      card_brand_delivery_info source  delivery_fee meal_wave  \\\n",
       "56187                     Visa    web           0.0    second   \n",
       "44202               MasterCard      0           0.0     first   \n",
       "41641                     Visa      0           0.0     third   \n",
       "\n",
       "       surcharge_amount  promo_code_used  gave_feedback  delivery_order_id  \\\n",
       "56187               0.0                0              0             131829   \n",
       "44202               0.0                0              0              37419   \n",
       "41641               0.0                0              0              74593   \n",
       "\n",
       "       item_id item_type  quantity  unit_price  \\\n",
       "56187    547.0      main       1.0      1495.0   \n",
       "44202    230.0      main       2.0      1295.0   \n",
       "41641    241.0      main       1.0      1195.0   \n",
       "\n",
       "                                                    name  \\\n",
       "56187                  Assam Pedas New Zealand Blue Hake   \n",
       "44202  Seared Salmon with Mediterranean Root Vegetabl...   \n",
       "41641                           Chimichurri Jerk Chicken   \n",
       "\n",
       "                                                 macros  \\\n",
       "56187     Calories: 631, Fat: 10, Carb: 98, Protein: 47   \n",
       "44202  Calories: 531, Fat: 18g, Carb: 52g, Protein: 42g   \n",
       "41641  Calories: 572, Fat: 10g, Carb: 71g, Protein: 49g   \n",
       "\n",
       "                                             ingredients temperature  \\\n",
       "56187  blue hake, tomato, okra, eggplant, bulgur whea...        warm   \n",
       "44202  salmon, pumpkin, celeriac, beetroot, white ric...     chilled   \n",
       "41641  chicken breast, black rice, brown rice, carrot...        warm   \n",
       "\n",
       "        category  \n",
       "56187  highlight  \n",
       "44202       main  \n",
       "41641      local  "
      ]
     },
     "execution_count": 3,
     "metadata": {},
     "output_type": "execute_result"
    }
   ],
   "source": [
    "#Inspect data\n",
    "pd.options.display.max_columns = None\n",
    "df.sample(3)"
   ]
  },
  {
   "cell_type": "code",
   "execution_count": 4,
   "metadata": {},
   "outputs": [],
   "source": [
    "df.due_dates_only = pd.to_datetime(df.due_dates_only)"
   ]
  },
  {
   "cell_type": "code",
   "execution_count": 5,
   "metadata": {},
   "outputs": [
    {
     "data": {
      "text/plain": [
       "2017    36122\n",
       "2015     7796\n",
       "2016     6002\n",
       "2018     5893\n",
       "2014      794\n",
       "2019      676\n",
       "Name: due_dates_only, dtype: int64"
      ]
     },
     "execution_count": 5,
     "metadata": {},
     "output_type": "execute_result"
    }
   ],
   "source": [
    "df.due_dates_only.dt.year.value_counts()"
   ]
  },
  {
   "cell_type": "code",
   "execution_count": 6,
   "metadata": {},
   "outputs": [],
   "source": [
    "#Convert dates to datetime format\n",
    "df=df[df.due_dates_only.dt.year > 2016]"
   ]
  },
  {
   "cell_type": "code",
   "execution_count": 7,
   "metadata": {},
   "outputs": [
    {
     "data": {
      "text/html": [
       "<div>\n",
       "<style scoped>\n",
       "    .dataframe tbody tr th:only-of-type {\n",
       "        vertical-align: middle;\n",
       "    }\n",
       "\n",
       "    .dataframe tbody tr th {\n",
       "        vertical-align: top;\n",
       "    }\n",
       "\n",
       "    .dataframe thead th {\n",
       "        text-align: right;\n",
       "    }\n",
       "</style>\n",
       "<table border=\"1\" class=\"dataframe\">\n",
       "  <thead>\n",
       "    <tr style=\"text-align: right;\">\n",
       "      <th></th>\n",
       "      <th>%Null</th>\n",
       "    </tr>\n",
       "  </thead>\n",
       "  <tbody>\n",
       "    <tr>\n",
       "      <th>birthday_year</th>\n",
       "      <td>0.850437</td>\n",
       "    </tr>\n",
       "    <tr>\n",
       "      <th>age</th>\n",
       "      <td>0.850437</td>\n",
       "    </tr>\n",
       "    <tr>\n",
       "      <th>birthday_month</th>\n",
       "      <td>0.847181</td>\n",
       "    </tr>\n",
       "    <tr>\n",
       "      <th>card_details</th>\n",
       "      <td>0.787332</td>\n",
       "    </tr>\n",
       "    <tr>\n",
       "      <th>card_brand_delivery_info</th>\n",
       "      <td>0.299993</td>\n",
       "    </tr>\n",
       "    <tr>\n",
       "      <th>card_brand_users</th>\n",
       "      <td>0.130449</td>\n",
       "    </tr>\n",
       "    <tr>\n",
       "      <th>ingredients</th>\n",
       "      <td>0.000023</td>\n",
       "    </tr>\n",
       "  </tbody>\n",
       "</table>\n",
       "</div>"
      ],
      "text/plain": [
       "                             %Null\n",
       "birthday_year             0.850437\n",
       "age                       0.850437\n",
       "birthday_month            0.847181\n",
       "card_details              0.787332\n",
       "card_brand_delivery_info  0.299993\n",
       "card_brand_users          0.130449\n",
       "ingredients               0.000023"
      ]
     },
     "execution_count": 7,
     "metadata": {},
     "output_type": "execute_result"
    }
   ],
   "source": [
    "#Find pct missing values in each column\n",
    "missing_pct = pd.DataFrame(df.isnull().sum()/df.shape[0], columns=['%Null']).sort_values('%Null',ascending=False)\n",
    "\n",
    "#Print only those with missing values\n",
    "missing_pct[missing_pct['%Null']> 0]"
   ]
  },
  {
   "cell_type": "code",
   "execution_count": 8,
   "metadata": {},
   "outputs": [
    {
     "data": {
      "text/plain": [
       "address                             object\n",
       "postal_code                        float64\n",
       "account_balance                      int64\n",
       "card_brand_users                    object\n",
       "has_coupon                           int64\n",
       "birthday_year                      float64\n",
       "birthday_month                     float64\n",
       "age                                float64\n",
       "region                             float64\n",
       "user_id                              int64\n",
       "zone_id                            float64\n",
       "discount                           float64\n",
       "due_dates_only              datetime64[ns]\n",
       "card_details                        object\n",
       "card_brand_delivery_info            object\n",
       "source                              object\n",
       "delivery_fee                       float64\n",
       "meal_wave                           object\n",
       "surcharge_amount                   float64\n",
       "promo_code_used                      int64\n",
       "gave_feedback                        int64\n",
       "delivery_order_id                    int64\n",
       "item_id                            float64\n",
       "item_type                           object\n",
       "quantity                           float64\n",
       "unit_price                         float64\n",
       "name                                object\n",
       "macros                              object\n",
       "ingredients                         object\n",
       "temperature                         object\n",
       "category                            object\n",
       "dtype: object"
      ]
     },
     "execution_count": 8,
     "metadata": {},
     "output_type": "execute_result"
    }
   ],
   "source": [
    "#Inspect data types\n",
    "df.dtypes"
   ]
  },
  {
   "cell_type": "code",
   "execution_count": 9,
   "metadata": {},
   "outputs": [
    {
     "name": "stdout",
     "output_type": "stream",
     "text": [
      "We have 42691 records of transactions dated from 2017-01-01 to 2019-04-16 from 6581 unique users.\n"
     ]
    }
   ],
   "source": [
    "print('We have {} records of transactions dated from {} to {} from {} unique users.'.format(\n",
    "    df.shape[0],\n",
    "    df.due_dates_only.dt.date.min(),\n",
    "    df.due_dates_only.dt.date.max(),\n",
    "    df.user_id.nunique()\n",
    "))"
   ]
  },
  {
   "cell_type": "code",
   "execution_count": 10,
   "metadata": {},
   "outputs": [],
   "source": [
    "#Convert unit price to dollar unit\n",
    "df.unit_price = df.unit_price / 100"
   ]
  },
  {
   "cell_type": "code",
   "execution_count": 11,
   "metadata": {},
   "outputs": [],
   "source": [
    "#Take useful columns to develop RFM model\n",
    "df_rfm = df[[\n",
    "    'due_dates_only',       #to find last transaction date\n",
    "    'user_id',\n",
    "    'quantity',             #to multiply with unit price for rev contributed\n",
    "    'unit_price',           #to multiply with quantity for rev contributed\n",
    "    'delivery_order_id'     #to count for number of orders made\n",
    "]]"
   ]
  },
  {
   "cell_type": "code",
   "execution_count": 12,
   "metadata": {},
   "outputs": [
    {
     "data": {
      "text/plain": [
       "due_dates_only       0\n",
       "user_id              0\n",
       "quantity             0\n",
       "unit_price           0\n",
       "delivery_order_id    0\n",
       "dtype: int64"
      ]
     },
     "execution_count": 12,
     "metadata": {},
     "output_type": "execute_result"
    }
   ],
   "source": [
    "#Check for missing values\n",
    "df_rfm.isnull().sum()"
   ]
  },
  {
   "cell_type": "code",
   "execution_count": 13,
   "metadata": {},
   "outputs": [
    {
     "name": "stderr",
     "output_type": "stream",
     "text": [
      "/anaconda3/lib/python3.7/site-packages/ipykernel_launcher.py:2: SettingWithCopyWarning: \n",
      "A value is trying to be set on a copy of a slice from a DataFrame.\n",
      "Try using .loc[row_indexer,col_indexer] = value instead\n",
      "\n",
      "See the caveats in the documentation: http://pandas.pydata.org/pandas-docs/stable/indexing.html#indexing-view-versus-copy\n",
      "  \n"
     ]
    }
   ],
   "source": [
    "#Create new column for rev contributed from purchase of items\n",
    "df_rfm['rev'] = df_rfm.quantity * df_rfm.unit_price"
   ]
  },
  {
   "cell_type": "code",
   "execution_count": 14,
   "metadata": {},
   "outputs": [
    {
     "name": "stdout",
     "output_type": "stream",
     "text": [
      "The reference date is 2019-04-17 i.e. the latest transaction date.\n"
     ]
    }
   ],
   "source": [
    "#Set reference date as last transaction date\n",
    "ref_date = df.due_dates_only.dt.date.max() + timedelta(days=1)\n",
    "print('The reference date is {} i.e. the latest transaction date.'.format(ref_date))"
   ]
  },
  {
   "cell_type": "code",
   "execution_count": 15,
   "metadata": {},
   "outputs": [],
   "source": [
    "#Compute Recency as no. of days from ref date, Frequency as no. of delivery orders, Monetary Value as revenue contributed \n",
    "rfm = df_rfm.groupby(['user_id']).agg({\n",
    "    'due_dates_only': lambda x: (ref_date - x.dt.date.max()).days,\n",
    "    'delivery_order_id': 'count',\n",
    "    'rev': 'sum'})\n",
    "\n",
    "rfm.rename(columns={'due_dates_only': 'Recency',\n",
    "                         'delivery_order_id': 'Frequency',\n",
    "                         'rev': 'Monetary_Val'}, inplace=True)"
   ]
  },
  {
   "cell_type": "code",
   "execution_count": 16,
   "metadata": {},
   "outputs": [
    {
     "data": {
      "text/html": [
       "<div>\n",
       "<style scoped>\n",
       "    .dataframe tbody tr th:only-of-type {\n",
       "        vertical-align: middle;\n",
       "    }\n",
       "\n",
       "    .dataframe tbody tr th {\n",
       "        vertical-align: top;\n",
       "    }\n",
       "\n",
       "    .dataframe thead th {\n",
       "        text-align: right;\n",
       "    }\n",
       "</style>\n",
       "<table border=\"1\" class=\"dataframe\">\n",
       "  <thead>\n",
       "    <tr style=\"text-align: right;\">\n",
       "      <th></th>\n",
       "      <th>Recency</th>\n",
       "      <th>Frequency</th>\n",
       "      <th>Monetary_Val</th>\n",
       "    </tr>\n",
       "    <tr>\n",
       "      <th>user_id</th>\n",
       "      <th></th>\n",
       "      <th></th>\n",
       "      <th></th>\n",
       "    </tr>\n",
       "  </thead>\n",
       "  <tbody>\n",
       "    <tr>\n",
       "      <th>11872</th>\n",
       "      <td>825</td>\n",
       "      <td>1</td>\n",
       "      <td>15.95</td>\n",
       "    </tr>\n",
       "    <tr>\n",
       "      <th>5595</th>\n",
       "      <td>320</td>\n",
       "      <td>3</td>\n",
       "      <td>37.85</td>\n",
       "    </tr>\n",
       "    <tr>\n",
       "      <th>48072</th>\n",
       "      <td>279</td>\n",
       "      <td>2</td>\n",
       "      <td>24.90</td>\n",
       "    </tr>\n",
       "    <tr>\n",
       "      <th>15569</th>\n",
       "      <td>274</td>\n",
       "      <td>21</td>\n",
       "      <td>249.70</td>\n",
       "    </tr>\n",
       "    <tr>\n",
       "      <th>39961</th>\n",
       "      <td>512</td>\n",
       "      <td>6</td>\n",
       "      <td>53.70</td>\n",
       "    </tr>\n",
       "  </tbody>\n",
       "</table>\n",
       "</div>"
      ],
      "text/plain": [
       "         Recency  Frequency  Monetary_Val\n",
       "user_id                                  \n",
       "11872        825          1         15.95\n",
       "5595         320          3         37.85\n",
       "48072        279          2         24.90\n",
       "15569        274         21        249.70\n",
       "39961        512          6         53.70"
      ]
     },
     "execution_count": 16,
     "metadata": {},
     "output_type": "execute_result"
    }
   ],
   "source": [
    "#Inspect data\n",
    "rfm.sample(5)"
   ]
  },
  {
   "cell_type": "code",
   "execution_count": 17,
   "metadata": {},
   "outputs": [
    {
     "data": {
      "image/png": "[encoded data removed]",
      "text/plain": [
       "<Figure size 1080x360 with 1 Axes>"
      ]
     },
     "metadata": {
      "needs_background": "light"
     },
     "output_type": "display_data"
    }
   ],
   "source": [
    "# Plot Recency dist\n",
    "fig = plt.figure(figsize=(15,5))\n",
    "sns.distplot(rfm.Recency, bins = 30, color='darkblue')\n",
    "fig.suptitle('Recency of transaction', fontsize=20)\n",
    "plt.xlabel('Days between date of delivery and ref date', fontsize=18)\n",
    "plt.ylabel('Probability density', fontsize=10)\n",
    "\n",
    "plt.show()"
   ]
  },
  {
   "cell_type": "code",
   "execution_count": 18,
   "metadata": {},
   "outputs": [
    {
     "data": {
      "image/png": "[encoded data removed]",
      "text/plain": [
       "<Figure size 1080x360 with 1 Axes>"
      ]
     },
     "metadata": {
      "needs_background": "light"
     },
     "output_type": "display_data"
    }
   ],
   "source": [
    "# Plot Frequency dist\n",
    "fig = plt.figure(figsize=(15,5))\n",
    "sns.distplot(rfm.Frequency, bins = 20, color='green')\n",
    "fig.suptitle('Frequency of delivery order', fontsize=20)\n",
    "plt.xlabel('No. of deliveries', fontsize=18)\n",
    "plt.ylabel('Probability density', fontsize=10)\n",
    "\n",
    "plt.show()"
   ]
  },
  {
   "cell_type": "code",
   "execution_count": 19,
   "metadata": {},
   "outputs": [
    {
     "data": {
      "image/png": "[encoded data removed]",
      "text/plain": [
       "<Figure size 1080x360 with 1 Axes>"
      ]
     },
     "metadata": {
      "needs_background": "light"
     },
     "output_type": "display_data"
    }
   ],
   "source": [
    "# Plot Monetary Value dist\n",
    "fig = plt.figure(figsize=(15,5))\n",
    "sns.distplot(rfm.Monetary_Val, bins=20, color='purple')\n",
    "fig.suptitle('Monetary Value of Users', fontsize=20)\n",
    "plt.xlabel('Revenue dollars', fontsize=18)\n",
    "plt.ylabel('Probability density', fontsize=10)\n",
    "\n",
    "plt.show()"
   ]
  },
  {
   "cell_type": "code",
   "execution_count": 20,
   "metadata": {},
   "outputs": [
    {
     "data": {
      "text/html": [
       "<div>\n",
       "<style scoped>\n",
       "    .dataframe tbody tr th:only-of-type {\n",
       "        vertical-align: middle;\n",
       "    }\n",
       "\n",
       "    .dataframe tbody tr th {\n",
       "        vertical-align: top;\n",
       "    }\n",
       "\n",
       "    .dataframe thead th {\n",
       "        text-align: right;\n",
       "    }\n",
       "</style>\n",
       "<table border=\"1\" class=\"dataframe\">\n",
       "  <thead>\n",
       "    <tr style=\"text-align: right;\">\n",
       "      <th></th>\n",
       "      <th>Recency</th>\n",
       "      <th>Frequency</th>\n",
       "      <th>Monetary_Val</th>\n",
       "      <th>R</th>\n",
       "      <th>F</th>\n",
       "      <th>M</th>\n",
       "    </tr>\n",
       "    <tr>\n",
       "      <th>user_id</th>\n",
       "      <th></th>\n",
       "      <th></th>\n",
       "      <th></th>\n",
       "      <th></th>\n",
       "      <th></th>\n",
       "      <th></th>\n",
       "    </tr>\n",
       "  </thead>\n",
       "  <tbody>\n",
       "    <tr>\n",
       "      <th>1</th>\n",
       "      <td>580</td>\n",
       "      <td>8</td>\n",
       "      <td>115.55</td>\n",
       "      <td>2</td>\n",
       "      <td>4</td>\n",
       "      <td>3</td>\n",
       "    </tr>\n",
       "    <tr>\n",
       "      <th>29</th>\n",
       "      <td>799</td>\n",
       "      <td>2</td>\n",
       "      <td>23.90</td>\n",
       "      <td>1</td>\n",
       "      <td>1</td>\n",
       "      <td>2</td>\n",
       "    </tr>\n",
       "    <tr>\n",
       "      <th>38</th>\n",
       "      <td>548</td>\n",
       "      <td>2</td>\n",
       "      <td>17.90</td>\n",
       "      <td>3</td>\n",
       "      <td>1</td>\n",
       "      <td>1</td>\n",
       "    </tr>\n",
       "    <tr>\n",
       "      <th>44</th>\n",
       "      <td>659</td>\n",
       "      <td>4</td>\n",
       "      <td>53.80</td>\n",
       "      <td>1</td>\n",
       "      <td>3</td>\n",
       "      <td>3</td>\n",
       "    </tr>\n",
       "    <tr>\n",
       "      <th>48</th>\n",
       "      <td>681</td>\n",
       "      <td>6</td>\n",
       "      <td>74.70</td>\n",
       "      <td>1</td>\n",
       "      <td>3</td>\n",
       "      <td>3</td>\n",
       "    </tr>\n",
       "  </tbody>\n",
       "</table>\n",
       "</div>"
      ],
      "text/plain": [
       "         Recency  Frequency  Monetary_Val  R  F  M\n",
       "user_id                                           \n",
       "1            580          8        115.55  2  4  3\n",
       "29           799          2         23.90  1  1  2\n",
       "38           548          2         17.90  3  1  1\n",
       "44           659          4         53.80  1  3  3\n",
       "48           681          6         74.70  1  3  3"
      ]
     },
     "execution_count": 20,
     "metadata": {},
     "output_type": "execute_result"
    }
   ],
   "source": [
    "#Create scoring (1-4)\n",
    "r_labels = range(4, 0, -1) #low recency, higher score\n",
    "f_labels = range(1, 5)     #low frequency, lower score\n",
    "m_labels = range(1, 5)     #low monetary value, lower score\n",
    "\n",
    "#Split users into quartile groups wrt to RFM\n",
    "r_groups = pd.qcut(rfm.Recency, q=4, labels=r_labels)\n",
    "f_groups = pd.qcut(rfm.Frequency, q=4, labels=f_labels)\n",
    "m_groups = pd.qcut(rfm.Monetary_Val, q=4, labels=m_labels)\n",
    "\n",
    "# Create new columns \n",
    "rfm = rfm.assign(R = r_groups.values, F = f_groups.values, M = m_groups.values)\n",
    "rfm.head()"
   ]
  },
  {
   "cell_type": "code",
   "execution_count": 21,
   "metadata": {},
   "outputs": [],
   "source": [
    "#Sum scores in new column\n",
    "rfm['RFM_Score'] = rfm[['R','F','M']].sum(axis=1)"
   ]
  },
  {
   "cell_type": "code",
   "execution_count": 22,
   "metadata": {},
   "outputs": [
    {
     "data": {
      "text/html": [
       "<div>\n",
       "<style scoped>\n",
       "    .dataframe tbody tr th:only-of-type {\n",
       "        vertical-align: middle;\n",
       "    }\n",
       "\n",
       "    .dataframe tbody tr th {\n",
       "        vertical-align: top;\n",
       "    }\n",
       "\n",
       "    .dataframe thead th {\n",
       "        text-align: right;\n",
       "    }\n",
       "</style>\n",
       "<table border=\"1\" class=\"dataframe\">\n",
       "  <thead>\n",
       "    <tr style=\"text-align: right;\">\n",
       "      <th></th>\n",
       "      <th>Recency</th>\n",
       "      <th>Frequency</th>\n",
       "      <th>Monetary_Val</th>\n",
       "      <th>R</th>\n",
       "      <th>F</th>\n",
       "      <th>M</th>\n",
       "      <th>RFM_Score</th>\n",
       "    </tr>\n",
       "    <tr>\n",
       "      <th>user_id</th>\n",
       "      <th></th>\n",
       "      <th></th>\n",
       "      <th></th>\n",
       "      <th></th>\n",
       "      <th></th>\n",
       "      <th></th>\n",
       "      <th></th>\n",
       "    </tr>\n",
       "  </thead>\n",
       "  <tbody>\n",
       "    <tr>\n",
       "      <th>1</th>\n",
       "      <td>580</td>\n",
       "      <td>8</td>\n",
       "      <td>115.55</td>\n",
       "      <td>2</td>\n",
       "      <td>4</td>\n",
       "      <td>3</td>\n",
       "      <td>9.0</td>\n",
       "    </tr>\n",
       "    <tr>\n",
       "      <th>29</th>\n",
       "      <td>799</td>\n",
       "      <td>2</td>\n",
       "      <td>23.90</td>\n",
       "      <td>1</td>\n",
       "      <td>1</td>\n",
       "      <td>2</td>\n",
       "      <td>4.0</td>\n",
       "    </tr>\n",
       "    <tr>\n",
       "      <th>38</th>\n",
       "      <td>548</td>\n",
       "      <td>2</td>\n",
       "      <td>17.90</td>\n",
       "      <td>3</td>\n",
       "      <td>1</td>\n",
       "      <td>1</td>\n",
       "      <td>5.0</td>\n",
       "    </tr>\n",
       "    <tr>\n",
       "      <th>44</th>\n",
       "      <td>659</td>\n",
       "      <td>4</td>\n",
       "      <td>53.80</td>\n",
       "      <td>1</td>\n",
       "      <td>3</td>\n",
       "      <td>3</td>\n",
       "      <td>7.0</td>\n",
       "    </tr>\n",
       "    <tr>\n",
       "      <th>48</th>\n",
       "      <td>681</td>\n",
       "      <td>6</td>\n",
       "      <td>74.70</td>\n",
       "      <td>1</td>\n",
       "      <td>3</td>\n",
       "      <td>3</td>\n",
       "      <td>7.0</td>\n",
       "    </tr>\n",
       "  </tbody>\n",
       "</table>\n",
       "</div>"
      ],
      "text/plain": [
       "         Recency  Frequency  Monetary_Val  R  F  M  RFM_Score\n",
       "user_id                                                      \n",
       "1            580          8        115.55  2  4  3        9.0\n",
       "29           799          2         23.90  1  1  2        4.0\n",
       "38           548          2         17.90  3  1  1        5.0\n",
       "44           659          4         53.80  1  3  3        7.0\n",
       "48           681          6         74.70  1  3  3        7.0"
      ]
     },
     "execution_count": 22,
     "metadata": {},
     "output_type": "execute_result"
    }
   ],
   "source": [
    "#Inspect data\n",
    "rfm.head()"
   ]
  },
  {
   "cell_type": "code",
   "execution_count": 23,
   "metadata": {},
   "outputs": [
    {
     "data": {
      "image/png": "[encoded data removed]",
      "text/plain": [
       "<Figure size 432x288 with 1 Axes>"
      ]
     },
     "metadata": {
      "needs_background": "light"
     },
     "output_type": "display_data"
    }
   ],
   "source": [
    "#Plot frequency of scores\n",
    "fig = plt.figure()\n",
    "rfm.RFM_Score.hist(bins=30)\n",
    "fig.suptitle('RFM Scores', fontsize=20)\n",
    "plt.xlabel('Score', fontsize=18)\n",
    "plt.ylabel('Frequency', fontsize=10)\n",
    "plt.show()"
   ]
  },
  {
   "cell_type": "code",
   "execution_count": 24,
   "metadata": {},
   "outputs": [
    {
     "data": {
      "text/html": [
       "<div>\n",
       "<style scoped>\n",
       "    .dataframe tbody tr th:only-of-type {\n",
       "        vertical-align: middle;\n",
       "    }\n",
       "\n",
       "    .dataframe tbody tr th {\n",
       "        vertical-align: top;\n",
       "    }\n",
       "\n",
       "    .dataframe thead th {\n",
       "        text-align: right;\n",
       "    }\n",
       "</style>\n",
       "<table border=\"1\" class=\"dataframe\">\n",
       "  <thead>\n",
       "    <tr style=\"text-align: right;\">\n",
       "      <th></th>\n",
       "      <th>Recency</th>\n",
       "      <th>Frequency</th>\n",
       "      <th>Monetary_Val</th>\n",
       "      <th>R</th>\n",
       "      <th>F</th>\n",
       "      <th>M</th>\n",
       "      <th>RFM_Score</th>\n",
       "      <th>Labels</th>\n",
       "    </tr>\n",
       "    <tr>\n",
       "      <th>user_id</th>\n",
       "      <th></th>\n",
       "      <th></th>\n",
       "      <th></th>\n",
       "      <th></th>\n",
       "      <th></th>\n",
       "      <th></th>\n",
       "      <th></th>\n",
       "      <th></th>\n",
       "    </tr>\n",
       "  </thead>\n",
       "  <tbody>\n",
       "    <tr>\n",
       "      <th>30735</th>\n",
       "      <td>792</td>\n",
       "      <td>1</td>\n",
       "      <td>12.95</td>\n",
       "      <td>1</td>\n",
       "      <td>1</td>\n",
       "      <td>1</td>\n",
       "      <td>3.0</td>\n",
       "      <td>Say Goodbye</td>\n",
       "    </tr>\n",
       "    <tr>\n",
       "      <th>49199</th>\n",
       "      <td>279</td>\n",
       "      <td>3</td>\n",
       "      <td>68.25</td>\n",
       "      <td>4</td>\n",
       "      <td>2</td>\n",
       "      <td>3</td>\n",
       "      <td>9.0</td>\n",
       "      <td>Don't Stop Engaging</td>\n",
       "    </tr>\n",
       "    <tr>\n",
       "      <th>32763</th>\n",
       "      <td>658</td>\n",
       "      <td>2</td>\n",
       "      <td>20.45</td>\n",
       "      <td>2</td>\n",
       "      <td>1</td>\n",
       "      <td>1</td>\n",
       "      <td>4.0</td>\n",
       "      <td>Say Goodbye</td>\n",
       "    </tr>\n",
       "    <tr>\n",
       "      <th>1072</th>\n",
       "      <td>828</td>\n",
       "      <td>2</td>\n",
       "      <td>19.90</td>\n",
       "      <td>1</td>\n",
       "      <td>1</td>\n",
       "      <td>1</td>\n",
       "      <td>3.0</td>\n",
       "      <td>Say Goodbye</td>\n",
       "    </tr>\n",
       "    <tr>\n",
       "      <th>35185</th>\n",
       "      <td>673</td>\n",
       "      <td>3</td>\n",
       "      <td>1808.30</td>\n",
       "      <td>1</td>\n",
       "      <td>2</td>\n",
       "      <td>4</td>\n",
       "      <td>7.0</td>\n",
       "      <td>Hanging By The Thread</td>\n",
       "    </tr>\n",
       "  </tbody>\n",
       "</table>\n",
       "</div>"
      ],
      "text/plain": [
       "         Recency  Frequency  Monetary_Val  R  F  M  RFM_Score  \\\n",
       "user_id                                                         \n",
       "30735        792          1         12.95  1  1  1        3.0   \n",
       "49199        279          3         68.25  4  2  3        9.0   \n",
       "32763        658          2         20.45  2  1  1        4.0   \n",
       "1072         828          2         19.90  1  1  1        3.0   \n",
       "35185        673          3       1808.30  1  2  4        7.0   \n",
       "\n",
       "                        Labels  \n",
       "user_id                         \n",
       "30735              Say Goodbye  \n",
       "49199      Don't Stop Engaging  \n",
       "32763              Say Goodbye  \n",
       "1072               Say Goodbye  \n",
       "35185    Hanging By The Thread  "
      ]
     },
     "execution_count": 24,
     "metadata": {},
     "output_type": "execute_result"
    }
   ],
   "source": [
    "#Label segments\n",
    "def label_rfm(df):\n",
    "    if df['RFM_Score'] <= 4:\n",
    "        return 'Say Goodbye'\n",
    "    elif df['RFM_Score'] <= 7:\n",
    "        return 'Hanging By The Thread'\n",
    "    elif df['RFM_Score'] <= 10 :\n",
    "        return \"Don't Stop Engaging\"\n",
    "    else:\n",
    "        return 'Absolutely Loyal' #score of 12\n",
    "\n",
    "rfm['Labels'] = rfm.apply(label_rfm, axis=1)\n",
    "\n",
    "#Inspect\n",
    "rfm.sample(5)"
   ]
  },
  {
   "cell_type": "code",
   "execution_count": 25,
   "metadata": {},
   "outputs": [
    {
     "name": "stdout",
     "output_type": "stream",
     "text": [
      "Total unique users: 6581\n",
      "------------------------------------------------------------\n"
     ]
    },
    {
     "data": {
      "text/html": [
       "<div>\n",
       "<style scoped>\n",
       "    .dataframe tbody tr th:only-of-type {\n",
       "        vertical-align: middle;\n",
       "    }\n",
       "\n",
       "    .dataframe tbody tr th {\n",
       "        vertical-align: top;\n",
       "    }\n",
       "\n",
       "    .dataframe thead tr th {\n",
       "        text-align: left;\n",
       "    }\n",
       "\n",
       "    .dataframe thead tr:last-of-type th {\n",
       "        text-align: right;\n",
       "    }\n",
       "</style>\n",
       "<table border=\"1\" class=\"dataframe\">\n",
       "  <thead>\n",
       "    <tr>\n",
       "      <th></th>\n",
       "      <th colspan=\"2\" halign=\"left\">Recency</th>\n",
       "      <th colspan=\"2\" halign=\"left\">Frequency</th>\n",
       "      <th colspan=\"3\" halign=\"left\">Monetary_Val</th>\n",
       "    </tr>\n",
       "    <tr>\n",
       "      <th></th>\n",
       "      <th>mean</th>\n",
       "      <th>median</th>\n",
       "      <th>mean</th>\n",
       "      <th>median</th>\n",
       "      <th>mean</th>\n",
       "      <th>median</th>\n",
       "      <th>count</th>\n",
       "    </tr>\n",
       "    <tr>\n",
       "      <th>Labels</th>\n",
       "      <th></th>\n",
       "      <th></th>\n",
       "      <th></th>\n",
       "      <th></th>\n",
       "      <th></th>\n",
       "      <th></th>\n",
       "      <th></th>\n",
       "    </tr>\n",
       "  </thead>\n",
       "  <tbody>\n",
       "    <tr>\n",
       "      <th>Absolutely Loyal</th>\n",
       "      <td>363.13</td>\n",
       "      <td>282</td>\n",
       "      <td>22.48</td>\n",
       "      <td>14</td>\n",
       "      <td>1008.07</td>\n",
       "      <td>252.68</td>\n",
       "      <td>964</td>\n",
       "    </tr>\n",
       "    <tr>\n",
       "      <th>Don't Stop Engaging</th>\n",
       "      <td>504.01</td>\n",
       "      <td>560</td>\n",
       "      <td>6.85</td>\n",
       "      <td>5</td>\n",
       "      <td>456.78</td>\n",
       "      <td>89.40</td>\n",
       "      <td>2081</td>\n",
       "    </tr>\n",
       "    <tr>\n",
       "      <th>Hanging By The Thread</th>\n",
       "      <td>530.96</td>\n",
       "      <td>566</td>\n",
       "      <td>2.19</td>\n",
       "      <td>2</td>\n",
       "      <td>110.18</td>\n",
       "      <td>27.90</td>\n",
       "      <td>2319</td>\n",
       "    </tr>\n",
       "    <tr>\n",
       "      <th>Say Goodbye</th>\n",
       "      <td>699.00</td>\n",
       "      <td>688</td>\n",
       "      <td>1.38</td>\n",
       "      <td>1</td>\n",
       "      <td>17.64</td>\n",
       "      <td>14.95</td>\n",
       "      <td>1217</td>\n",
       "    </tr>\n",
       "  </tbody>\n",
       "</table>\n",
       "</div>"
      ],
      "text/plain": [
       "                      Recency        Frequency        Monetary_Val          \\\n",
       "                         mean median      mean median         mean  median   \n",
       "Labels                                                                       \n",
       "Absolutely Loyal       363.13    282     22.48     14      1008.07  252.68   \n",
       "Don't Stop Engaging    504.01    560      6.85      5       456.78   89.40   \n",
       "Hanging By The Thread  530.96    566      2.19      2       110.18   27.90   \n",
       "Say Goodbye            699.00    688      1.38      1        17.64   14.95   \n",
       "\n",
       "                             \n",
       "                      count  \n",
       "Labels                       \n",
       "Absolutely Loyal        964  \n",
       "Don't Stop Engaging    2081  \n",
       "Hanging By The Thread  2319  \n",
       "Say Goodbye            1217  "
      ]
     },
     "execution_count": 25,
     "metadata": {},
     "output_type": "execute_result"
    }
   ],
   "source": [
    "#Print mean, median and category size\n",
    "rfm_agg = pd.DataFrame(rfm.groupby('Labels').agg({\n",
    "    'Recency': ['mean','median'],\n",
    "    'Frequency': ['mean','median'],\n",
    "    'Monetary_Val': ['mean', 'median','count']\n",
    "}).round(2))\n",
    "\n",
    "print('Total unique users: {}'.format(df_rfm.user_id.nunique()))\n",
    "print('-'*60)\n",
    "rfm_agg"
   ]
  },
  {
   "cell_type": "code",
   "execution_count": 26,
   "metadata": {},
   "outputs": [
    {
     "data": {
      "image/png": "[encoded data removed]",
      "text/plain": [
       "<Figure size 864x360 with 1 Axes>"
      ]
     },
     "metadata": {
      "needs_background": "light"
     },
     "output_type": "display_data"
    }
   ],
   "source": [
    "#Visualising size of segments\n",
    "rfm_agg.columns = rfm_agg.columns.droplevel()\n",
    "fig = plt.figure()\n",
    "fig.set_size_inches(12, 5)\n",
    "squarify.plot(sizes=rfm_agg['count'], \n",
    "              label=['Absolutely Loyal',\n",
    "                     \"Don't Stop Engaging\",\n",
    "                     'Hanging By The Thread',\n",
    "                     'Say Goodbye',], alpha=.6 )\n",
    "\n",
    "plt.title(\"RFM Segment Sizes\",fontsize=18)\n",
    "plt.axis('off')\n",
    "plt.show()"
   ]
  },
  {
   "cell_type": "code",
   "execution_count": 27,
   "metadata": {},
   "outputs": [],
   "source": [
    "# #Find loyalists\n",
    "# loyal_users = rfm[rfm.Labels == 'Absolutely Loyal'].index.tolist()\n",
    "# print(\"List of user ids categorised as 'Absolutely Loyal':\")\n",
    "# print('='*110)\n",
    "# print(loyal_users)"
   ]
  }
 ],
 "metadata": {
  "kernelspec": {
   "display_name": "Python 3",
   "language": "python",
   "name": "python3"
  },
  "language_info": {
   "codemirror_mode": {
    "name": "ipython",
    "version": 3
   },
   "file_extension": ".py",
   "mimetype": "text/x-python",
   "name": "python",
   "nbconvert_exporter": "python",
   "pygments_lexer": "ipython3",
   "version": "3.7.3"
  }
 },
 "nbformat": 4,
 "nbformat_minor": 2
}
