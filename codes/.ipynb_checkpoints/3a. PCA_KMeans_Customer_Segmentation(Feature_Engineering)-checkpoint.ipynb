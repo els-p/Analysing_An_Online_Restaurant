{
 "cells": [
  {
   "cell_type": "markdown",
   "metadata": {},
   "source": [
    "# Unsupervised Machine Learning: Customer Segmentation"
   ]
  },
  {
   "cell_type": "markdown",
   "metadata": {},
   "source": [
    "Here we use the K-Means unsupervised machine learning algorithm to group users by purchase behaviour. \n",
    "\n",
    "K-means clustering is one of the simplest unsupervised machine learning algorithms where similar data points are grouped together in a cluster because of certain similarities. We can use this clustering method to discover underlying patterns. \n",
    "\n",
    "A number (k) of cluster centers are randomly assigned. For each data point, the distance between itself and the cluster centers are calculated and the data point is assigned to the nearest cluster center. This process is iterated until the mean of the cluster is stable.\n",
    "\n",
    "\n",
    "\n",
    "\n"
   ]
  },
  {
   "cell_type": "markdown",
   "metadata": {},
   "source": [
    "## Direct links to sections:\n",
    "\n",
    "1. [Data Pre-Processing](#Data-Pre-Processing)\n",
    "2. [Feature Engineering](#Feature-Engineering)"
   ]
  },
  {
   "cell_type": "markdown",
   "metadata": {},
   "source": [
    "## Data Import and Pre-Processing"
   ]
  },
  {
   "cell_type": "code",
   "execution_count": 1,
   "metadata": {},
   "outputs": [
    {
     "name": "stderr",
     "output_type": "stream",
     "text": [
      "Using TensorFlow backend.\n"
     ]
    }
   ],
   "source": [
    "#Import libraries\n",
    "import pandas as pd\n",
    "import seaborn as sns\n",
    "import numpy as np\n",
    "import string\n",
    "\n",
    "from tqdm import tqdm_notebook as tqdm\n",
    "from keras.utils import np_utils\n",
    "import matplotlib.pyplot as plt\n",
    "%matplotlib inline\n",
    "\n",
    "from sklearn.feature_extraction.text import CountVectorizer\n",
    "\n",
    "import warnings\n",
    "warnings.filterwarnings(\"ignore\")"
   ]
  },
  {
   "cell_type": "code",
   "execution_count": 2,
   "metadata": {},
   "outputs": [],
   "source": [
    "#Import data\n",
    "df = pd.read_csv('../inputs/profile_features_clean.csv')"
   ]
  },
  {
   "cell_type": "code",
   "execution_count": 3,
   "metadata": {},
   "outputs": [],
   "source": [
    "# #Inspect data\n",
    "# pd.options.display.max_columns = None\n",
    "# print(df.shape)\n",
    "# df.sample()"
   ]
  },
  {
   "cell_type": "code",
   "execution_count": 4,
   "metadata": {},
   "outputs": [],
   "source": [
    "#Convert currency values from cents to dollars\n",
    "df.unit_price = df.unit_price / 100\n",
    "df.delivery_fee = df.delivery_fee / 100\n",
    "df.discount = df.discount / 100\n",
    "\n",
    "#Replace quantity where 0 with 1\n",
    "df.quantity.replace(0,1, inplace=True)"
   ]
  },
  {
   "cell_type": "code",
   "execution_count": 5,
   "metadata": {},
   "outputs": [
    {
     "name": "stdout",
     "output_type": "stream",
     "text": [
      "We have data from 2014-11-17 00:00:00 to 2019-04-16 00:00:00.\n",
      "\n",
      "Number of data points by year:\n",
      "\n",
      "2014      794\n",
      "2015     7815\n",
      "2016     6167\n",
      "2017    36154\n",
      "2018     5893\n",
      "2019      676\n",
      "Name: due_dates_only, dtype: int64\n"
     ]
    },
    {
     "data": {
      "image/png": "[encoded data removed]",
      "text/plain": [
       "<Figure size 432x288 with 1 Axes>"
      ]
     },
     "metadata": {
      "needs_background": "light"
     },
     "output_type": "display_data"
    }
   ],
   "source": [
    "#Convert due date to datetime type\n",
    "df['due_dates_only'] = pd.to_datetime(df.due_dates_only)\n",
    "print('We have data from {} to {}.\\n'.format(df.due_dates_only.min(),df.due_dates_only.max()))\n",
    "\n",
    "#Plot number of data points by year\n",
    "x = df.due_dates_only.dt.year.value_counts().sort_index()\n",
    "print('Number of data points by year:'+'\\n')\n",
    "print(x)\n",
    "\n",
    "x.plot(kind='bar')\n",
    "plt.title('Number of Data Points by Year')\n",
    "plt.show()"
   ]
  },
  {
   "cell_type": "markdown",
   "metadata": {},
   "source": [
    "Customer tastes and preferences are typically considered within the last two years. Hence for relevance, I only take transactions from year 2017 to 2019."
   ]
  },
  {
   "cell_type": "code",
   "execution_count": 6,
   "metadata": {},
   "outputs": [],
   "source": [
    "#Only take transactions from year 2017 to 2019\n",
    "df = df[df.due_dates_only.dt.year > 2016]"
   ]
  },
  {
   "cell_type": "code",
   "execution_count": 7,
   "metadata": {},
   "outputs": [
    {
     "name": "stdout",
     "output_type": "stream",
     "text": [
      "We have 42723 records of transactions from 6581 unique users.\n"
     ]
    }
   ],
   "source": [
    "#Print amount of transaction data for number of unique users\n",
    "print('We have {} records of transactions from {} unique users.'.format(df.shape[0],df.user_id.nunique()))"
   ]
  },
  {
   "cell_type": "markdown",
   "metadata": {},
   "source": [
    "### Check for outliers"
   ]
  },
  {
   "cell_type": "code",
   "execution_count": 8,
   "metadata": {},
   "outputs": [
    {
     "data": {
      "image/png": "[encoded data removed]",
      "text/plain": [
       "<Figure size 360x1080 with 4 Axes>"
      ]
     },
     "metadata": {
      "needs_background": "light"
     },
     "output_type": "display_data"
    }
   ],
   "source": [
    "#Plot unit_price to check for outliers\n",
    "fig, axes = plt.subplots(nrows=4, figsize=(5,15))\n",
    "plt.subplot(4,1,1)\n",
    "df.unit_price.plot(kind='box')\n",
    "plt.subplot(4,1,2)\n",
    "df[df.unit_price < 25000].unit_price.plot(kind='box')\n",
    "plt.subplot(4,1,3)\n",
    "df[df.unit_price < 1000].unit_price.plot(kind='box')\n",
    "plt.subplot(4,1,4)\n",
    "df[df.unit_price < 60].unit_price.plot(kind='box')\n",
    "plt.show()"
   ]
  },
  {
   "cell_type": "markdown",
   "metadata": {},
   "source": [
    "I remove outlying points where unit_price above $60, negative and zero."
   ]
  },
  {
   "cell_type": "code",
   "execution_count": 9,
   "metadata": {},
   "outputs": [],
   "source": [
    "#Drop rows with unit_price > 60, negative and 0\n",
    "df = df[(df.unit_price < 60)&(df.unit_price>0)]"
   ]
  },
  {
   "cell_type": "markdown",
   "metadata": {},
   "source": [
    "### Check for missing values"
   ]
  },
  {
   "cell_type": "code",
   "execution_count": 10,
   "metadata": {},
   "outputs": [
    {
     "data": {
      "text/html": [
       "<div>\n",
       "<style scoped>\n",
       "    .dataframe tbody tr th:only-of-type {\n",
       "        vertical-align: middle;\n",
       "    }\n",
       "\n",
       "    .dataframe tbody tr th {\n",
       "        vertical-align: top;\n",
       "    }\n",
       "\n",
       "    .dataframe thead th {\n",
       "        text-align: right;\n",
       "    }\n",
       "</style>\n",
       "<table border=\"1\" class=\"dataframe\">\n",
       "  <thead>\n",
       "    <tr style=\"text-align: right;\">\n",
       "      <th></th>\n",
       "      <th>%Null</th>\n",
       "    </tr>\n",
       "  </thead>\n",
       "  <tbody>\n",
       "    <tr>\n",
       "      <th>birthday_year</th>\n",
       "      <td>0.849798</td>\n",
       "    </tr>\n",
       "    <tr>\n",
       "      <th>age</th>\n",
       "      <td>0.849798</td>\n",
       "    </tr>\n",
       "    <tr>\n",
       "      <th>birthday_month</th>\n",
       "      <td>0.846520</td>\n",
       "    </tr>\n",
       "    <tr>\n",
       "      <th>card_details</th>\n",
       "      <td>0.785369</td>\n",
       "    </tr>\n",
       "    <tr>\n",
       "      <th>card_brand_delivery_info</th>\n",
       "      <td>0.295946</td>\n",
       "    </tr>\n",
       "    <tr>\n",
       "      <th>card_brand_users</th>\n",
       "      <td>0.126005</td>\n",
       "    </tr>\n",
       "    <tr>\n",
       "      <th>ingredients</th>\n",
       "      <td>0.000660</td>\n",
       "    </tr>\n",
       "    <tr>\n",
       "      <th>temperature</th>\n",
       "      <td>0.000637</td>\n",
       "    </tr>\n",
       "    <tr>\n",
       "      <th>category</th>\n",
       "      <td>0.000118</td>\n",
       "    </tr>\n",
       "    <tr>\n",
       "      <th>macros</th>\n",
       "      <td>0.000118</td>\n",
       "    </tr>\n",
       "    <tr>\n",
       "      <th>name</th>\n",
       "      <td>0.000118</td>\n",
       "    </tr>\n",
       "  </tbody>\n",
       "</table>\n",
       "</div>"
      ],
      "text/plain": [
       "                             %Null\n",
       "birthday_year             0.849798\n",
       "age                       0.849798\n",
       "birthday_month            0.846520\n",
       "card_details              0.785369\n",
       "card_brand_delivery_info  0.295946\n",
       "card_brand_users          0.126005\n",
       "ingredients               0.000660\n",
       "temperature               0.000637\n",
       "category                  0.000118\n",
       "macros                    0.000118\n",
       "name                      0.000118"
      ]
     },
     "execution_count": 10,
     "metadata": {},
     "output_type": "execute_result"
    }
   ],
   "source": [
    "#Find pct of missing values in each column\n",
    "missing_pct = pd.DataFrame(df.isnull().sum()/df.shape[0], columns=['%Null']).sort_values('%Null',ascending=False)\n",
    "\n",
    "#Print only those with missing values\n",
    "missing_pct[missing_pct['%Null']> 0]"
   ]
  },
  {
   "cell_type": "markdown",
   "metadata": {},
   "source": [
    "## Feature Engineering"
   ]
  },
  {
   "cell_type": "markdown",
   "metadata": {},
   "source": [
    "Note: `district` was input as a feature but did not improve the silhouette score of the clustering model hence I did not keep it."
   ]
  },
  {
   "cell_type": "markdown",
   "metadata": {},
   "source": [
    "### 1. Ingredients"
   ]
  },
  {
   "cell_type": "code",
   "execution_count": 11,
   "metadata": {},
   "outputs": [],
   "source": [
    "# #Inspect unique item names for rows with missing values\n",
    "# df[df.ingredients.isnull()]['name'].value_counts()"
   ]
  },
  {
   "cell_type": "code",
   "execution_count": 12,
   "metadata": {},
   "outputs": [],
   "source": [
    "#Compile ingredients as corpus\n",
    "texts = pd.DataFrame(df[df.ingredients.notnull()].ingredients)\n",
    "\n",
    "#Remove convert to lowercase and remove punctuations\n",
    "texts['clean_text'] = texts.ingredients.map(lambda x : ''.join(k.lower() for k in str(x) if k not in string.punctuation))"
   ]
  },
  {
   "cell_type": "code",
   "execution_count": 13,
   "metadata": {},
   "outputs": [
    {
     "name": "stdout",
     "output_type": "stream",
     "text": [
      "Number of ingredients detected by text analysis: 515\n"
     ]
    }
   ],
   "source": [
    "#Vectorise the corpus\n",
    "cvec = CountVectorizer(stop_words='english')\n",
    "cvec.fit(texts.clean_text)\n",
    "\n",
    "#Print number of ingredients detected\n",
    "print('Number of ingredients detected by text analysis: {}'.format(len(cvec.get_feature_names())))"
   ]
  },
  {
   "cell_type": "code",
   "execution_count": 14,
   "metadata": {},
   "outputs": [
    {
     "name": "stdout",
     "output_type": "stream",
     "text": [
      "Most common ingredients:\n"
     ]
    },
    {
     "data": {
      "text/plain": [
       "oil        38222\n",
       "rice       33366\n",
       "salt       28273\n",
       "juice      26997\n",
       "black      22215\n",
       "tomato     21576\n",
       "sauce      20994\n",
       "sugar      20905\n",
       "chicken    19976\n",
       "olive      19949\n",
       "garlic     19690\n",
       "white      19612\n",
       "brown      17773\n",
       "lime       16818\n",
       "onion      16703\n",
       "vinegar    15986\n",
       "cherry     15850\n",
       "chilli     14530\n",
       "red        13107\n",
       "extra      12955\n",
       "dtype: int64"
      ]
     },
     "execution_count": 14,
     "metadata": {},
     "output_type": "execute_result"
    }
   ],
   "source": [
    "#Find most common ingredients\n",
    "bow = pd.DataFrame(cvec.transform(texts.clean_text).todense(),columns=cvec.get_feature_names())\n",
    "word_count = bow.sum(axis=0)\n",
    "\n",
    "print(\"Most common ingredients:\")\n",
    "word_count.sort_values(ascending = False).head(20)"
   ]
  },
  {
   "cell_type": "markdown",
   "metadata": {},
   "source": [
    "We will not use this column for modelling as yet."
   ]
  },
  {
   "cell_type": "markdown",
   "metadata": {},
   "source": [
    "### 2. Temperature"
   ]
  },
  {
   "cell_type": "code",
   "execution_count": 15,
   "metadata": {},
   "outputs": [
    {
     "data": {
      "text/plain": [
       "warm       28562\n",
       "chilled    13814\n",
       "NaN           27\n",
       "Name: temperature, dtype: int64"
      ]
     },
     "execution_count": 15,
     "metadata": {},
     "output_type": "execute_result"
    }
   ],
   "source": [
    "#Check possible values\n",
    "df.temperature.value_counts(dropna=False)"
   ]
  },
  {
   "cell_type": "code",
   "execution_count": 16,
   "metadata": {},
   "outputs": [
    {
     "data": {
      "text/plain": [
       "Delivery fee    22\n",
       "Name: name, dtype: int64"
      ]
     },
     "execution_count": 16,
     "metadata": {},
     "output_type": "execute_result"
    }
   ],
   "source": [
    "#For missing values, check what is the item name\n",
    "df[df.temperature.isnull()].name.value_counts()"
   ]
  },
  {
   "cell_type": "markdown",
   "metadata": {},
   "source": [
    "For `temperature`, the missing values are for a delivery fee item. As this is not a menu item, I record the information in delivery fee column for the respective orders instead and remove these rows."
   ]
  },
  {
   "cell_type": "code",
   "execution_count": 17,
   "metadata": {},
   "outputs": [
    {
     "data": {
      "text/plain": [
       "15.0    22\n",
       "Name: unit_price, dtype: int64"
      ]
     },
     "execution_count": 17,
     "metadata": {},
     "output_type": "execute_result"
    }
   ],
   "source": [
    "#Check price of delivery fee\n",
    "df.loc[df.name == 'Delivery fee','unit_price'].value_counts()"
   ]
  },
  {
   "cell_type": "code",
   "execution_count": 18,
   "metadata": {},
   "outputs": [],
   "source": [
    "#Record this information in deliver_fee column instead\n",
    "for i in list(df.loc[df.name == 'Delivery fee','delivery_order_id'].unique()):\n",
    "    df.loc[df.delivery_order_id == i ,'delivery_fee'] == 1500.0\n",
    "    \n",
    "#Drop the above rows that indicate it is a menu line item for delivery fee\n",
    "df = df[df.temperature.notnull()]"
   ]
  },
  {
   "cell_type": "markdown",
   "metadata": {},
   "source": [
    "I convert this feature to binary, 1 representing a chilled meal and 0 for the rest consolidated. I then sum the number of chilled meals per user and calculate the percentage of meals ordered that was chilled for each user as a new feature."
   ]
  },
  {
   "cell_type": "code",
   "execution_count": 19,
   "metadata": {},
   "outputs": [],
   "source": [
    "#Add new column to indicate whether meal is chilled or not\n",
    "df['is_chilled'] = df.temperature.map(lambda x : 1 if x == 'chilled' else 0)"
   ]
  },
  {
   "cell_type": "code",
   "execution_count": 20,
   "metadata": {},
   "outputs": [
    {
     "data": {
      "application/vnd.jupyter.widget-view+json": {
       "model_id": "85372013135b4dc89f376604815ffde3",
       "version_major": 2,
       "version_minor": 0
      },
      "text/plain": [
       "HBox(children=(IntProgress(value=0, max=6556), HTML(value='')))"
      ]
     },
     "metadata": {},
     "output_type": "display_data"
    },
    {
     "name": "stdout",
     "output_type": "stream",
     "text": [
      "\n"
     ]
    }
   ],
   "source": [
    "#Define unique users in data set\n",
    "unique_user = df.user_id.unique().tolist()\n",
    "\n",
    "#For each user, find sum of chilled items and total quantity bought \n",
    "qtysum_ischilledsum = df.groupby(['user_id']).agg({'is_chilled':'sum','quantity':'sum'})\n",
    "\n",
    "#Add new columns for percent of meals that were chilled\n",
    "df['pct_is_chilled'] = 0\n",
    "qtysum_ischilledsum['pct_is_chilled'] = qtysum_ischilledsum.is_chilled/ qtysum_ischilledsum.quantity\n",
    "for user in tqdm(unique_user):\n",
    "    df.loc[df.user_id==user,'pct_is_chilled'] = qtysum_ischilledsum.loc[user, 'pct_is_chilled']"
   ]
  },
  {
   "cell_type": "markdown",
   "metadata": {},
   "source": [
    "### 3. Category"
   ]
  },
  {
   "cell_type": "code",
   "execution_count": 21,
   "metadata": {},
   "outputs": [
    {
     "data": {
      "text/plain": [
       "regular        24199\n",
       "highlight       8025\n",
       "side            3667\n",
       "drink           2692\n",
       "dessert         1909\n",
       "off_menu         920\n",
       "favorite         355\n",
       "local            321\n",
       "guilt-free       280\n",
       "main               2\n",
       "Dessert            2\n",
       "Main Course        2\n",
       "fresh              2\n",
       "Name: category, dtype: int64"
      ]
     },
     "execution_count": 21,
     "metadata": {},
     "output_type": "execute_result"
    }
   ],
   "source": [
    "#Check possible values\n",
    "df.category.value_counts()"
   ]
  },
  {
   "cell_type": "markdown",
   "metadata": {},
   "source": [
    "There are repeated categories such as 'main' and 'Main Course' which can be consolidated."
   ]
  },
  {
   "cell_type": "code",
   "execution_count": 22,
   "metadata": {},
   "outputs": [
    {
     "data": {
      "text/plain": [
       "regular       24199\n",
       "highlight      8025\n",
       "side           3667\n",
       "drink          2692\n",
       "dessert        1911\n",
       "off_menu        920\n",
       "favorite        355\n",
       "local           321\n",
       "guilt-free      280\n",
       "main              4\n",
       "fresh             2\n",
       "Name: category, dtype: int64"
      ]
     },
     "execution_count": 22,
     "metadata": {},
     "output_type": "execute_result"
    }
   ],
   "source": [
    "#Consolidating similiar categories\n",
    "def consolidate_cat(x):\n",
    "    if x == 'Main Course':\n",
    "        return 'main'\n",
    "    elif x == 'Appetiser':\n",
    "        return 'side'\n",
    "    elif x == 'Dessert':\n",
    "        return 'dessert'\n",
    "    else:\n",
    "        return x\n",
    "\n",
    "df.category = df.category.apply(lambda x : consolidate_cat(x))\n",
    "\n",
    "#Print new categories\n",
    "df.category.value_counts()"
   ]
  },
  {
   "cell_type": "code",
   "execution_count": 23,
   "metadata": {},
   "outputs": [],
   "source": [
    "#One hot encode categories\n",
    "df_cat = pd.get_dummies(df.category)"
   ]
  },
  {
   "cell_type": "code",
   "execution_count": 24,
   "metadata": {},
   "outputs": [
    {
     "data": {
      "image/png": "[encoded data removed]",
      "text/plain": [
       "<Figure size 720x360 with 2 Axes>"
      ]
     },
     "metadata": {
      "needs_background": "light"
     },
     "output_type": "display_data"
    }
   ],
   "source": [
    "#Plot correlation between menu items in each category\n",
    "plt.figure(figsize=(10,5))\n",
    "sns.heatmap(df_cat.corr(), annot=True, cmap='RdBu_r')\n",
    "plt.show()"
   ]
  },
  {
   "cell_type": "markdown",
   "metadata": {},
   "source": [
    "### 4. Macros"
   ]
  },
  {
   "cell_type": "markdown",
   "metadata": {},
   "source": [
    "I split macros into its components i.e. Calories, Fat, Protein, Carbs and create new features to reflect the preference for low calorie, high protein, low fat and low carbs as indicated by the Health Promotion Board (HPB) guideline."
   ]
  },
  {
   "cell_type": "code",
   "execution_count": 25,
   "metadata": {},
   "outputs": [],
   "source": [
    "#Split in new dataframe\n",
    "new = df.macros.str.split(', ', n=5, expand=True)"
   ]
  },
  {
   "cell_type": "code",
   "execution_count": 26,
   "metadata": {},
   "outputs": [
    {
     "name": "stdout",
     "output_type": "stream",
     "text": [
      "['calories' 'serving size' 'coming soon']\n",
      "['fat' 'protein' 'calories' 'none' 'carbs']\n",
      "['carb' 'fat' 'none' 'protein']\n",
      "['protein' 'carb' 'none' ' fat']\n",
      "['none' 'protein']\n"
     ]
    }
   ],
   "source": [
    "#Split name and values into seperate columns\n",
    "def split_values_into_name_and_val(col):\n",
    "    \n",
    "    #Split name into new column and convert to lowercase\n",
    "    new[str(col)+'_macros_name'] = new[col].str.split(': ', n=2, expand=True)[0].fillna('None').map(lambda x: x.lower())\n",
    "    \n",
    "    #Split value into new column\n",
    "    new[str(col)+'_macros_val'] = new[col].str.split(': ', n=2, expand=True)[1]\n",
    "    \n",
    "    #Print component names present in each name column\n",
    "    print(new[str(col)+'_macros_name'].unique())\n",
    "\n",
    "#Call function for each column in new dataframe   \n",
    "for col in new:\n",
    "    split_values_into_name_and_val(col)"
   ]
  },
  {
   "cell_type": "code",
   "execution_count": 27,
   "metadata": {},
   "outputs": [],
   "source": [
    "#Start new columns to store values for each component\n",
    "new['calories'] = 0\n",
    "new['fat'] = 0\n",
    "new['protein'] = 0\n",
    "new['carb'] = 0"
   ]
  },
  {
   "cell_type": "code",
   "execution_count": 28,
   "metadata": {},
   "outputs": [],
   "source": [
    "#Iterate through rows in new dataframe and allocate values into the right component columns\n",
    "new.loc[new['0_macros_name'] == 'calories', 'calories'] = new.loc[new['0_macros_name'] == 'calories', '0_macros_val']\n",
    "\n",
    "new.loc[new['1_macros_name'] == 'calories', 'calories'] = new.loc[new['1_macros_name'] == 'calories', '1_macros_val']\n",
    "new.loc[new['1_macros_name'] == 'fat', 'fat'] = new.loc[new['1_macros_name'] == 'fat', '1_macros_val']\n",
    "new.loc[new['1_macros_name'] == 'protein', 'protein'] = new.loc[new['1_macros_name'] == 'protein', '1_macros_val']\n",
    "new.loc[new['1_macros_name'] == 'carbs', 'carb'] = new.loc[new['1_macros_name'] == 'carbs', '1_macros_val']\n",
    "\n",
    "new.loc[new['2_macros_name'] == 'fat', 'fat'] = new.loc[new['2_macros_name'] == 'fat', '2_macros_val']\n",
    "new.loc[new['2_macros_name'] == 'protein', 'protein'] = new.loc[new['2_macros_name'] == 'protein', '2_macros_val']\n",
    "new.loc[new['2_macros_name'] == 'carb', 'carb'] = new.loc[new['2_macros_name'] == 'carb', '2_macros_val']\n",
    "\n",
    "new.loc[new['3_macros_name'] == ' fat', 'fat'] = new.loc[new['3_macros_name'] == ' fat', '3_macros_val']\n",
    "new.loc[new['3_macros_name'] == 'protein', 'protein'] = new.loc[new['3_macros_name'] == 'protein', '3_macros_val']\n",
    "new.loc[new['3_macros_name'] == 'carb', 'carb'] = new.loc[new['3_macros_name'] == 'carb', '3_macros_val']\n",
    "\n",
    "new.loc[new['4_macros_name'] == 'protein', 'protein'] = new.loc[new['4_macros_name'] == 'protein', '4_macros_val']"
   ]
  },
  {
   "cell_type": "code",
   "execution_count": 29,
   "metadata": {},
   "outputs": [],
   "source": [
    "#Remove grams(g) from values in fat, protein and carb\n",
    "cols = ['fat','protein','carb']\n",
    "for i in cols:\n",
    "    new[str(i)] = new[str(i)].apply(lambda x: str(x).split('g')[0])"
   ]
  },
  {
   "cell_type": "code",
   "execution_count": 30,
   "metadata": {},
   "outputs": [],
   "source": [
    "#Merge only component columns with original dataframe\n",
    "df = pd.concat([df, new[['calories','fat','protein','carb']]],axis=1)\n",
    "\n",
    "#Convert to float type\n",
    "for i in ['calories', 'fat','protein','carb']:\n",
    "    df[i] = df[i].astype(float)"
   ]
  },
  {
   "cell_type": "markdown",
   "metadata": {},
   "source": [
    "Items are first defined according to HPB's guideline."
   ]
  },
  {
   "cell_type": "code",
   "execution_count": 31,
   "metadata": {},
   "outputs": [
    {
     "data": {
      "image/png": "[encoded data removed]",
      "text/plain": [
       "<Figure size 1080x360 with 1 Axes>"
      ]
     },
     "metadata": {
      "needs_background": "light"
     },
     "output_type": "display_data"
    }
   ],
   "source": [
    "#Plot distribution of calorie count by item\n",
    "cal = df.groupby('item_id')['calories'].mean()\n",
    "plt.figure(figsize=(15,5))\n",
    "sns.distplot(cal, bins=25, color='blue')\n",
    "plt.xticks(np.arange(min(cal), max(cal)+1, 50))\n",
    "plt.title('Calorie Distribution')\n",
    "plt.show()"
   ]
  },
  {
   "cell_type": "code",
   "execution_count": 32,
   "metadata": {},
   "outputs": [],
   "source": [
    "#Low calorie == ≤100g (≤ 40 kilocalorie per 100g for 1 serving 250g)\n",
    "#Define low calorie item\n",
    "def calorie_pref(x):\n",
    "    if x <= 100 :\n",
    "        return 1 #low calorie\n",
    "    else:\n",
    "        return 0 \n",
    "\n",
    "df['calorie_pref'] = df.calories.map(lambda x : calorie_pref(x))"
   ]
  },
  {
   "cell_type": "code",
   "execution_count": 33,
   "metadata": {},
   "outputs": [
    {
     "data": {
      "image/png": "[encoded data removed]",
      "text/plain": [
       "<Figure size 1080x360 with 1 Axes>"
      ]
     },
     "metadata": {
      "needs_background": "light"
     },
     "output_type": "display_data"
    }
   ],
   "source": [
    "#Plot distribution of fat by item\n",
    "fat = df.groupby('item_id')['fat'].mean()\n",
    "plt.figure(figsize=(15,5))\n",
    "sns.distplot(fat, bins=25, color='brown')\n",
    "plt.xticks(np.arange(min(fat), max(fat)+1, 5))\n",
    "plt.title('Fat Distribution')\n",
    "plt.show()"
   ]
  },
  {
   "cell_type": "code",
   "execution_count": 34,
   "metadata": {},
   "outputs": [],
   "source": [
    "#Low fat == ≤7.5g (≤3g fat per 100g for 1 serving 250g) \n",
    "#Define low fat item\n",
    "def fat_pref(x):\n",
    "    if x <= 7.5 :\n",
    "        return 1 #low fat\n",
    "    else:\n",
    "        return 0  \n",
    "    \n",
    "df['fat_pref'] = df.fat.map(lambda x : fat_pref(x))"
   ]
  },
  {
   "cell_type": "code",
   "execution_count": 35,
   "metadata": {},
   "outputs": [
    {
     "data": {
      "image/png": "[encoded data removed]",
      "text/plain": [
       "<Figure size 1080x360 with 1 Axes>"
      ]
     },
     "metadata": {
      "needs_background": "light"
     },
     "output_type": "display_data"
    }
   ],
   "source": [
    "#Plot distribution of protein by item\n",
    "pro = df.groupby('item_id')['protein'].mean()\n",
    "plt.figure(figsize=(15,5))\n",
    "sns.distplot(pro, bins=25, color='darkgreen')\n",
    "plt.xticks(np.arange(min(pro), max(pro)+1, 5))\n",
    "plt.title('Protein distribution')\n",
    "plt.show()"
   ]
  },
  {
   "cell_type": "code",
   "execution_count": 36,
   "metadata": {},
   "outputs": [],
   "source": [
    "#Rich in protein == ≥25 (≥10g of protein per 100g for 1 serving 250g)\n",
    "#Define high protein item\n",
    "def pro_pref(x):\n",
    "    if x >= 25 :\n",
    "        return 1 #high protein\n",
    "    else:\n",
    "        return 0  \n",
    "    \n",
    "df['pro_pref'] = df.protein.map(lambda x : pro_pref(x))"
   ]
  },
  {
   "cell_type": "code",
   "execution_count": 37,
   "metadata": {},
   "outputs": [
    {
     "data": {
      "image/png": "[encoded data removed]",
      "text/plain": [
       "<Figure size 1080x360 with 1 Axes>"
      ]
     },
     "metadata": {
      "needs_background": "light"
     },
     "output_type": "display_data"
    }
   ],
   "source": [
    "#Plot distribution of carbs by item\n",
    "carbs = df.groupby('item_id')['carb'].mean()\n",
    "plt.figure(figsize=(15,5))\n",
    "sns.distplot(carbs, bins=25, color='purple')\n",
    "plt.xticks(np.arange(min(carbs), max(carbs)+1, 5))\n",
    "plt.title('Carbs distribution')\n",
    "plt.show()\n"
   ]
  },
  {
   "cell_type": "code",
   "execution_count": 38,
   "metadata": {},
   "outputs": [],
   "source": [
    "#Low carbs == ≤25 (≤10 g carbohydrate per 100g for 1 serving 250g)\n",
    "#Define low carb item\n",
    "def carb_pref(x):\n",
    "    if x <= 25 :\n",
    "        return 1 #low carb\n",
    "    else:\n",
    "        return 0  \n",
    "    \n",
    "df['carb_pref'] = df.carb.map(lambda x : carb_pref(x))"
   ]
  },
  {
   "cell_type": "markdown",
   "metadata": {},
   "source": [
    "I then sum the number of meals each user has that was low fat, high protein, low carbs and low calorie respectively and calculate the percentage of meals ordered that fell under each definition as a new feature."
   ]
  },
  {
   "cell_type": "code",
   "execution_count": 39,
   "metadata": {},
   "outputs": [
    {
     "data": {
      "application/vnd.jupyter.widget-view+json": {
       "model_id": "f9f66f2f2f9340a1b2a7c41344086bfe",
       "version_major": 2,
       "version_minor": 0
      },
      "text/plain": [
       "HBox(children=(IntProgress(value=0, max=4), HTML(value='')))"
      ]
     },
     "metadata": {},
     "output_type": "display_data"
    },
    {
     "name": "stdout",
     "output_type": "stream",
     "text": [
      "\n"
     ]
    }
   ],
   "source": [
    "#For each user, find total quantity and sum of meals that were: low calorie, high protein, low fat, low carbs\n",
    "qtysum_prefsum = pd.DataFrame(df.groupby('user_id').sum()[['quantity','calorie_pref','pro_pref','fat_pref','carb_pref']])\n",
    "\n",
    "#Add new columns for percent of meals that were: low calorie, high protein, low fat, low carbs\n",
    "for k,v in tqdm({'calorie_pref':'pct_meals_low_cal', 'pro_pref':'pct_meals_high_pro', 'fat_pref':'pct_meals_low_fat', 'carb_pref':'pct_meals_low_carb'}.items()):\n",
    "    qtysum_prefsum[v] = qtysum_prefsum[k]/ qtysum_prefsum.quantity\n",
    "    df[v] = 0\n",
    "    for user in unique_user:\n",
    "        df.loc[df.user_id==user,v] = qtysum_prefsum.loc[user, v]\n",
    "    "
   ]
  },
  {
   "cell_type": "markdown",
   "metadata": {},
   "source": [
    "### 5. Meal wave"
   ]
  },
  {
   "cell_type": "code",
   "execution_count": 40,
   "metadata": {},
   "outputs": [
    {
     "data": {
      "text/plain": [
       "first     21524\n",
       "second    14304\n",
       "third      5097\n",
       "0          1451\n",
       "Name: meal_wave, dtype: int64"
      ]
     },
     "execution_count": 40,
     "metadata": {},
     "output_type": "execute_result"
    }
   ],
   "source": [
    "#Check possible values\n",
    "df.meal_wave.value_counts()"
   ]
  },
  {
   "cell_type": "code",
   "execution_count": 41,
   "metadata": {},
   "outputs": [],
   "source": [
    "#One hot encode meal wave information\n",
    "df_mw = pd.get_dummies(df.meal_wave, drop_first=True) #drop those outside of peak hours"
   ]
  },
  {
   "cell_type": "markdown",
   "metadata": {},
   "source": [
    "### 6. Group buyer"
   ]
  },
  {
   "cell_type": "markdown",
   "metadata": {},
   "source": [
    "I create a new feature to indicate when a user has, at average, more than 1.5 items in their order to capture information when users are likely to be purchasing meals for more than an individual. "
   ]
  },
  {
   "cell_type": "code",
   "execution_count": 42,
   "metadata": {},
   "outputs": [],
   "source": [
    "#For each user, find total quantity and number of unique deliveries\n",
    "qtysum_deliverycount = pd.DataFrame(df.groupby('user_id').agg({'quantity':'sum','delivery_order_id':lambda x: x.nunique()})).reset_index()\n",
    "\n",
    "#Compute average quantity per delivery using total quantity / num deliveries \n",
    "qtysum_deliverycount['avg_qty_per_del'] = qtysum_deliverycount.quantity/qtysum_deliverycount.delivery_order_id"
   ]
  },
  {
   "cell_type": "code",
   "execution_count": 43,
   "metadata": {},
   "outputs": [
    {
     "data": {
      "image/png": "[encoded data removed]",
      "text/plain": [
       "<Figure size 1080x360 with 1 Axes>"
      ]
     },
     "metadata": {
      "needs_background": "light"
     },
     "output_type": "display_data"
    }
   ],
   "source": [
    "#Plot average quantity per delivery\n",
    "plt.figure(figsize=(15,5))\n",
    "qtysum_deliverycount.avg_qty_per_del.hist(bins=100)\n",
    "plt.title('Average Quantity per Delivery Order')\n",
    "plt.show()"
   ]
  },
  {
   "cell_type": "code",
   "execution_count": 44,
   "metadata": {},
   "outputs": [
    {
     "data": {
      "application/vnd.jupyter.widget-view+json": {
       "model_id": "39e3873a87b8446dadeb9cda1d525426",
       "version_major": 2,
       "version_minor": 0
      },
      "text/plain": [
       "HBox(children=(IntProgress(value=0, max=6556), HTML(value='')))"
      ]
     },
     "metadata": {},
     "output_type": "display_data"
    },
    {
     "name": "stdout",
     "output_type": "stream",
     "text": [
      "\n"
     ]
    }
   ],
   "source": [
    "#Add new column where average quantity per delivery > 1.5 is a user who makes group purchase more than half the time\n",
    "df['groupbuyer'] = 0\n",
    "for user in tqdm(unique_user):\n",
    "    if qtysum_deliverycount.loc[qtysum_deliverycount.user_id==user,'avg_qty_per_del'].iloc[0] > 1.5:\n",
    "        df.loc[df.user_id == user, 'groupbuyer'] = 1\n",
    "    else:\n",
    "        df.loc[df.user_id == user, 'groupbuyer'] = 0"
   ]
  },
  {
   "cell_type": "code",
   "execution_count": 45,
   "metadata": {},
   "outputs": [
    {
     "data": {
      "text/plain": [
       "1    33320\n",
       "0     9056\n",
       "Name: groupbuyer, dtype: int64"
      ]
     },
     "execution_count": 45,
     "metadata": {},
     "output_type": "execute_result"
    }
   ],
   "source": [
    "#Check value representation\n",
    "df.groupbuyer.value_counts()"
   ]
  },
  {
   "cell_type": "markdown",
   "metadata": {},
   "source": [
    "### 7. Delivery fee"
   ]
  },
  {
   "cell_type": "markdown",
   "metadata": {},
   "source": [
    "Two new features are created here. One for max delivery fee user has ever paid and one for average delivery fee paid for each user. "
   ]
  },
  {
   "cell_type": "code",
   "execution_count": 46,
   "metadata": {},
   "outputs": [
    {
     "data": {
      "application/vnd.jupyter.widget-view+json": {
       "model_id": "c1a0b53039d24488903def5f3d30345a",
       "version_major": 2,
       "version_minor": 0
      },
      "text/plain": [
       "HBox(children=(IntProgress(value=0, max=6556), HTML(value='')))"
      ]
     },
     "metadata": {},
     "output_type": "display_data"
    },
    {
     "name": "stdout",
     "output_type": "stream",
     "text": [
      "\n"
     ]
    }
   ],
   "source": [
    "#For each user, find delivery fee from each delivery\n",
    "user_delivery_fees = pd.DataFrame(df.groupby(['user_id','delivery_order_id']).agg({'delivery_fee':'mean'})).reset_index()\n",
    "\n",
    "#Add new column for maximum delivery fee user has paid\n",
    "df['max_delivery_fee'] = 0\n",
    "for user in tqdm(unique_user):\n",
    "    df.loc[df.user_id==user,'max_delivery_fee'] = user_delivery_fees.groupby('user_id').delivery_fee.max()[user]"
   ]
  },
  {
   "cell_type": "code",
   "execution_count": 47,
   "metadata": {},
   "outputs": [
    {
     "data": {
      "application/vnd.jupyter.widget-view+json": {
       "model_id": "9562c3b29c7d47fc8a718786973378d9",
       "version_major": 2,
       "version_minor": 0
      },
      "text/plain": [
       "HBox(children=(IntProgress(value=0, max=6556), HTML(value='')))"
      ]
     },
     "metadata": {},
     "output_type": "display_data"
    },
    {
     "name": "stdout",
     "output_type": "stream",
     "text": [
      "\n"
     ]
    }
   ],
   "source": [
    "#For each user, find sum of delivery fees and number of unique deliveries\n",
    "feesum_deliverycount = user_delivery_fees.groupby('user_id').agg({'delivery_order_id':lambda x: x.nunique(),'delivery_fee':'sum'})\n",
    "\n",
    "#Compute average delivery fee\n",
    "feesum_deliverycount['avg_delivery_fee'] = feesum_deliverycount.delivery_fee / feesum_deliverycount.delivery_order_id\n",
    "\n",
    "#Add new column for avg delivery fee user has paid\n",
    "df['avg_delivery_fee'] = 0\n",
    "for user in tqdm(unique_user):\n",
    "    df.loc[df.user_id==user,'avg_delivery_fee'] = feesum_deliverycount.loc[user, 'avg_delivery_fee']"
   ]
  },
  {
   "cell_type": "markdown",
   "metadata": {},
   "source": [
    "### 8. Delivery Order Value"
   ]
  },
  {
   "cell_type": "markdown",
   "metadata": {},
   "source": [
    "Two new features are created here as well. One for max delivery order user has ever paid and one for average delivery order paid for each user. "
   ]
  },
  {
   "cell_type": "code",
   "execution_count": 48,
   "metadata": {},
   "outputs": [],
   "source": [
    "#Compute revenue from each SKU in new column\n",
    "df['rev_sum_per_sku'] = df.unit_price * df.quantity"
   ]
  },
  {
   "cell_type": "code",
   "execution_count": 49,
   "metadata": {},
   "outputs": [
    {
     "data": {
      "application/vnd.jupyter.widget-view+json": {
       "model_id": "e6c4c5455f7a4693a06db16acae7125f",
       "version_major": 2,
       "version_minor": 0
      },
      "text/plain": [
       "HBox(children=(IntProgress(value=0, max=6556), HTML(value='')))"
      ]
     },
     "metadata": {},
     "output_type": "display_data"
    },
    {
     "name": "stdout",
     "output_type": "stream",
     "text": [
      "\n"
     ]
    }
   ],
   "source": [
    "#For each user, find order value of each delivery by summing revenue from each SKU\n",
    "delivery_value = pd.DataFrame(df.groupby(['user_id','delivery_order_id']).agg({'rev_sum_per_sku':'sum'})).reset_index()\n",
    "\n",
    "#Add new column for maximum value of any delivery user has ordered\n",
    "df['max_order_value'] = 0\n",
    "for user in tqdm(unique_user):\n",
    "    df.loc[df.user_id==user,'max_order_value'] = delivery_value.groupby('user_id').rev_sum_per_sku.max()[user]"
   ]
  },
  {
   "cell_type": "code",
   "execution_count": 50,
   "metadata": {},
   "outputs": [
    {
     "data": {
      "application/vnd.jupyter.widget-view+json": {
       "model_id": "634df6f42b494ffa845577b219bffd54",
       "version_major": 2,
       "version_minor": 0
      },
      "text/plain": [
       "HBox(children=(IntProgress(value=0, max=6556), HTML(value='')))"
      ]
     },
     "metadata": {},
     "output_type": "display_data"
    },
    {
     "name": "stdout",
     "output_type": "stream",
     "text": [
      "\n"
     ]
    }
   ],
   "source": [
    "#For each user, find sum of order value and number of unique deliveries\n",
    "revsum_deliverycount = delivery_value.groupby('user_id').agg({'delivery_order_id':lambda x: x.nunique(),'rev_sum_per_sku':'sum'})\n",
    "\n",
    "#Compute average order value\n",
    "revsum_deliverycount['avg_order_value'] = revsum_deliverycount.rev_sum_per_sku / revsum_deliverycount.delivery_order_id\n",
    "\n",
    "#Add new column for avg values of deliveries user has ordered\n",
    "df['avg_order_value'] = 0\n",
    "for user in tqdm(unique_user):\n",
    "    df.loc[df.user_id==user,'avg_order_value'] = revsum_deliverycount.loc[user, 'avg_order_value']"
   ]
  },
  {
   "cell_type": "markdown",
   "metadata": {},
   "source": [
    "### 9. Source"
   ]
  },
  {
   "cell_type": "code",
   "execution_count": 51,
   "metadata": {},
   "outputs": [],
   "source": [
    "#One hot encode source information\n",
    "df_source = pd.get_dummies(df.source)"
   ]
  },
  {
   "cell_type": "markdown",
   "metadata": {},
   "source": [
    "### 10. Feedback"
   ]
  },
  {
   "cell_type": "markdown",
   "metadata": {},
   "source": [
    "I create a new binary feature to indicate if a user had every given feedback before."
   ]
  },
  {
   "cell_type": "code",
   "execution_count": 52,
   "metadata": {},
   "outputs": [
    {
     "data": {
      "application/vnd.jupyter.widget-view+json": {
       "model_id": "b53ce88aae2f45a8bb7cce471881d4eb",
       "version_major": 2,
       "version_minor": 0
      },
      "text/plain": [
       "HBox(children=(IntProgress(value=0, max=6556), HTML(value='')))"
      ]
     },
     "metadata": {},
     "output_type": "display_data"
    },
    {
     "name": "stdout",
     "output_type": "stream",
     "text": [
      "\n"
     ]
    }
   ],
   "source": [
    "#For each user, find whether a feedback was ever given before\n",
    "gave_feedback_before = df.groupby('user_id').agg({'gave_feedback':lambda x : x.mode().max()})\n",
    "\n",
    "#Add new column for whether user has given feedback before\n",
    "df['gave_feedback_before'] = 0\n",
    "for user in tqdm(unique_user):\n",
    "    df.loc[df.user_id==user,'gave_feedback_before'] = gave_feedback_before.loc[user, 'gave_feedback']"
   ]
  },
  {
   "cell_type": "markdown",
   "metadata": {},
   "source": [
    "### 11. One Hot Encoded Values"
   ]
  },
  {
   "cell_type": "code",
   "execution_count": 53,
   "metadata": {},
   "outputs": [],
   "source": [
    "#Merge one hot encodings with main dataset\n",
    "df_com = pd.concat([df,df_cat,df_mw,df_source], axis=1)"
   ]
  },
  {
   "cell_type": "markdown",
   "metadata": {},
   "source": [
    "For the one hot encoded values, I calculate the percentage of meals ordered that fell under each column as new features."
   ]
  },
  {
   "cell_type": "markdown",
   "metadata": {},
   "source": [
    "### A) Product Categories"
   ]
  },
  {
   "cell_type": "code",
   "execution_count": 54,
   "metadata": {},
   "outputs": [
    {
     "data": {
      "application/vnd.jupyter.widget-view+json": {
       "model_id": "b674420cc8e14ba9b3adbf5b0a1637b7",
       "version_major": 2,
       "version_minor": 0
      },
      "text/plain": [
       "HBox(children=(IntProgress(value=0, max=11), HTML(value='')))"
      ]
     },
     "metadata": {},
     "output_type": "display_data"
    },
    {
     "name": "stdout",
     "output_type": "stream",
     "text": [
      "\n"
     ]
    }
   ],
   "source": [
    "#Group by user, find sum of items in each category \n",
    "catsum = df_com.groupby(['user_id','delivery_order_id'])[['dessert', 'drink', 'favorite', 'fresh', 'guilt-free', 'highlight',\n",
    "       'local', 'main', 'off_menu', 'regular', 'side']].sum()\n",
    "\n",
    "#Convert to binary to indicate if order has items from a category or not\n",
    "for i in df_cat:\n",
    "    catsum['have_'+i] = catsum[i].map(lambda x: 1 if x != 0 else 0)\n",
    "\n",
    "#Count number of deliveries with category presence\n",
    "num_deliveries = catsum.groupby('user_id')[['have_dessert','have_drink', 'have_favorite', 'have_fresh', \n",
    "                        'have_guilt-free','have_highlight', 'have_local', 'have_main', 'have_off_menu',\n",
    "                        'have_regular', 'have_side']].sum()\n",
    "\n",
    "#Group by user, find number of unique deliveries\n",
    "num_unique_del = df_com.groupby('user_id').agg({'delivery_order_id':lambda x: x.nunique()})\n",
    "\n",
    "#Add new column for pct deliveries with category presence\n",
    "for k,v in tqdm({'dessert':'pct_meals_dessert', 'drink':'pct_meals_drink', 'favorite':'pct_meals_fav', 'fresh':'pct_meals_fresh', \n",
    "                 'guilt-free':'pct_meals_guiltfree', 'highlight':'pct_meals_highlight','local':'pct_meals_local', 'main':'pct_meals_main',\n",
    "                 'off_menu':'pct_meals_offmenu', 'regular':'pct_meals_reg', 'side':'pct_meals_side'}.items()):\n",
    "    df_com[v] = 0\n",
    "    for user in unique_user:\n",
    "        df_com.loc[df_com.user_id==user,v] = num_deliveries.loc[user,'have_'+k] / num_unique_del.loc[user,'delivery_order_id']\n",
    "    "
   ]
  },
  {
   "cell_type": "markdown",
   "metadata": {},
   "source": [
    "### B) Meal Wave"
   ]
  },
  {
   "cell_type": "code",
   "execution_count": 55,
   "metadata": {},
   "outputs": [
    {
     "data": {
      "application/vnd.jupyter.widget-view+json": {
       "model_id": "edec25a3f75347c6a0c802269db06c11",
       "version_major": 2,
       "version_minor": 0
      },
      "text/plain": [
       "HBox(children=(IntProgress(value=0, max=3), HTML(value='')))"
      ]
     },
     "metadata": {},
     "output_type": "display_data"
    },
    {
     "name": "stdout",
     "output_type": "stream",
     "text": [
      "\n"
     ]
    }
   ],
   "source": [
    "#Group by user, find sum of items in each meal wave \n",
    "mwsum = df_com.groupby(['user_id','delivery_order_id'])[['first', 'second', 'third']].sum()\n",
    "\n",
    "#Convert to binary to indicate if order was during specific meal wave or not\n",
    "for i in df_mw:\n",
    "    mwsum[i+'_mealwave'] = mwsum[i].map(lambda x: 1 if x != 0 else 0)\n",
    "\n",
    "#Count number of deliveries that were in each meal wave\n",
    "num_delv = mwsum.groupby('user_id')[['first_mealwave', 'second_mealwave','third_mealwave']].sum()\n",
    "\n",
    "#Add new column for pct deliveries with category presence\n",
    "for k,v in tqdm({'first':'pct_meals_firstwave', 'second':'pct_meals_secondwave', 'third':'pct_meals_thirdwave'}.items()):\n",
    "    df_com[v] = 0\n",
    "    for user in unique_user:\n",
    "        df_com.loc[df_com.user_id==user,v] = num_delv.loc[user,k+'_mealwave'] / num_unique_del.loc[user,'delivery_order_id']\n",
    "    "
   ]
  },
  {
   "cell_type": "markdown",
   "metadata": {},
   "source": [
    "### C) Source"
   ]
  },
  {
   "cell_type": "code",
   "execution_count": 56,
   "metadata": {},
   "outputs": [
    {
     "data": {
      "application/vnd.jupyter.widget-view+json": {
       "model_id": "12b2f2f7c17f406a9763757672fb4fe0",
       "version_major": 2,
       "version_minor": 0
      },
      "text/plain": [
       "HBox(children=(IntProgress(value=0, max=4), HTML(value='')))"
      ]
     },
     "metadata": {},
     "output_type": "display_data"
    },
    {
     "name": "stdout",
     "output_type": "stream",
     "text": [
      "\n"
     ]
    }
   ],
   "source": [
    "#Group by user, find sum of items made on each platform\n",
    "source_sum = df_com.groupby(['user_id','delivery_order_id'])[['mobile', 'web', 'sales', 'legacy']].sum()\n",
    "\n",
    "#Convert to binary to indicate if order was made on a specific platform\n",
    "for i in df_source:\n",
    "    source_sum['use_'+i] = source_sum[i].map(lambda x: 1 if x != 0 else 0)\n",
    "\n",
    "#Count number of deliveries made on each platform\n",
    "num_plat = source_sum.groupby('user_id')[['use_mobile', 'use_web','use_sales','use_legacy']].sum()\n",
    "\n",
    "#Add new column for pct deliveries made on each platform\n",
    "for k,v in tqdm({'mobile':'pct_mobile', 'web':'pct_web', 'sales':'pct_sales','legacy':'pct_legacy'}.items()):\n",
    "    df_com[v] = 0\n",
    "    for user in unique_user:\n",
    "        df_com.loc[df_com.user_id==user,v] = num_plat.loc[user,'use_'+k] / num_unique_del.loc[user,'delivery_order_id']\n",
    "    "
   ]
  },
  {
   "cell_type": "markdown",
   "metadata": {},
   "source": [
    "I convert the data set to represent purchase behaviour by user and export for modelling."
   ]
  },
  {
   "cell_type": "code",
   "execution_count": 57,
   "metadata": {},
   "outputs": [
    {
     "data": {
      "text/plain": [
       "Index(['user_id', 'account_balance', 'has_coupon', 'birthday_year',\n",
       "       'birthday_month', 'age', 'zone_id', 'salesperson_id', 'discount',\n",
       "       'delivery_fee', 'surcharge_amount', 'promo_code_used', 'gave_feedback',\n",
       "       'district', 'delivery_order_id', 'item_id', 'quantity', 'unit_price',\n",
       "       'is_chilled', 'pct_is_chilled', 'calories', 'fat', 'protein', 'carb',\n",
       "       'calorie_pref', 'fat_pref', 'pro_pref', 'carb_pref',\n",
       "       'pct_meals_low_cal', 'pct_meals_high_pro', 'pct_meals_low_fat',\n",
       "       'pct_meals_low_carb', 'groupbuyer', 'max_delivery_fee',\n",
       "       'avg_delivery_fee', 'rev_sum_per_sku', 'max_order_value',\n",
       "       'avg_order_value', 'gave_feedback_before', 'dessert', 'drink',\n",
       "       'favorite', 'fresh', 'guilt-free', 'highlight', 'local', 'main',\n",
       "       'off_menu', 'regular', 'side', 'first', 'second', 'third', 'legacy',\n",
       "       'mobile', 'sales', 'web', 'pct_meals_dessert', 'pct_meals_drink',\n",
       "       'pct_meals_fav', 'pct_meals_fresh', 'pct_meals_guiltfree',\n",
       "       'pct_meals_highlight', 'pct_meals_local', 'pct_meals_main',\n",
       "       'pct_meals_offmenu', 'pct_meals_reg', 'pct_meals_side',\n",
       "       'pct_meals_firstwave', 'pct_meals_secondwave', 'pct_meals_thirdwave',\n",
       "       'pct_mobile', 'pct_web', 'pct_sales', 'pct_legacy'],\n",
       "      dtype='object')"
      ]
     },
     "execution_count": 57,
     "metadata": {},
     "output_type": "execute_result"
    }
   ],
   "source": [
    "#Group data by user \n",
    "df_com_by_users = pd.DataFrame(df_com.groupby('user_id').mean()).reset_index()\n",
    "df_com_by_users.columns"
   ]
  },
  {
   "cell_type": "code",
   "execution_count": 58,
   "metadata": {},
   "outputs": [],
   "source": [
    "#Output data\n",
    "df_com_by_users.to_csv('../inputs/model_data_2017_2019.csv',index=False)"
   ]
  }
 ],
 "metadata": {
  "kernelspec": {
   "display_name": "Python 3",
   "language": "python",
   "name": "python3"
  },
  "language_info": {
   "codemirror_mode": {
    "name": "ipython",
    "version": 3
   },
   "file_extension": ".py",
   "mimetype": "text/x-python",
   "name": "python",
   "nbconvert_exporter": "python",
   "pygments_lexer": "ipython3",
   "version": "3.7.3"
  }
 },
 "nbformat": 4,
 "nbformat_minor": 2
}
