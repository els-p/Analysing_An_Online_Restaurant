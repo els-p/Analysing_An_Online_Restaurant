{
 "cells": [
  {
   "cell_type": "markdown",
   "metadata": {},
   "source": [
    "# Data Cleaning and Pre-Processing"
   ]
  },
  {
   "cell_type": "markdown",
   "metadata": {},
   "source": [
    "Data quality is of paramount importance to analysis. I look into the datasets provided to check for inconsistencies in data types, range, and fill missing values/fix inaccuracies to the best of my knowlege, referencing across datasets and columns for information. \n",
    "\n",
    "Keeping overarching intention of customer and product segmentation in mind, I also identify features that could be useful for the analysis, leaving out irrelevant data.  "
   ]
  },
  {
   "cell_type": "markdown",
   "metadata": {},
   "source": [
    "## Direct links to sections:\n",
    "\n",
    "1. [User Data](#User-Data)\n",
    "2. [Delivery Info](#Delivery-Info)\n",
    "3. [Order Details](#Order-Details)\n",
    "4. [Menu](#Menu)\n",
    "5. [Combined Dataset](#Combined-Dataset)"
   ]
  },
  {
   "cell_type": "markdown",
   "metadata": {},
   "source": [
    "## Import Libraries"
   ]
  },
  {
   "cell_type": "code",
   "execution_count": 1,
   "metadata": {},
   "outputs": [],
   "source": [
    "#Import libraries\n",
    "import pandas as pd\n",
    "import numpy as np\n",
    "import seaborn as sns\n",
    "import matplotlib.pyplot as plt\n",
    "import datetime\n",
    "from sklearn.neighbors import KNeighborsClassifier\n",
    "from sklearn.preprocessing import StandardScaler\n",
    "\n",
    "%matplotlib inline\n",
    "\n",
    "import warnings\n",
    "warnings.filterwarnings(\"ignore\")"
   ]
  },
  {
   "cell_type": "markdown",
   "metadata": {},
   "source": [
    "## Functions"
   ]
  },
  {
   "cell_type": "code",
   "execution_count": 2,
   "metadata": {},
   "outputs": [],
   "source": [
    "def clean_date(df, col): \n",
    "    df[col+'_year'] = pd.DatetimeIndex(df[col]).year #create new column for year\n",
    "    df[col+'_month'] = pd.DatetimeIndex(df[col]).month #create new column for month\n",
    "    df[col+'_day'] = pd.DatetimeIndex(df[col]).day #create new column for day\n",
    "    \n",
    "    return df\n",
    "\n",
    "def clean_postalcode_non_int(x):\n",
    "    if isinstance(x, float):\n",
    "        if len(str(int(x))) < 6:\n",
    "            return str(str(int(x)).zfill(6))\n",
    "        else:\n",
    "            return str(x)\n",
    "    elif isinstance(x, str):\n",
    "        if len(x) < 6:\n",
    "            return (x.zfill(6))\n",
    "        else:\n",
    "            return x\n",
    "    else:\n",
    "        return np.nan\n",
    "\n",
    "def consolidate_platform(x):\n",
    "    if x in ['mobile-ios','mobile-android','iOS']:\n",
    "        return 'mobile'\n",
    "    elif x in ['web','web-group','web-group-teams']:\n",
    "        return 'web'\n",
    "    elif x == 'sales':\n",
    "        return 'sales'\n",
    "    else:\n",
    "        return 'legacy'\n",
    "\n",
    "def set_region(x):\n",
    "    i = str(x)[:2]\n",
    "    if i in ['01', '02', '03', '04', '05', '06']:\n",
    "        return 1\n",
    "    elif i in ['07', '08']:\n",
    "        return 2\n",
    "    elif i in ['14', '15', '16']:\n",
    "        return 3\n",
    "    elif i in ['09', '10']:\n",
    "        return 4\n",
    "    elif i in ['11', '12', '13']:\n",
    "        return 5\n",
    "    elif i in ['17']:\n",
    "        return 6\n",
    "    elif i in ['18', '19']:\n",
    "        return 7\n",
    "    elif i in ['20', '21']:\n",
    "        return 8\n",
    "    elif i in ['22', '23']:\n",
    "        return 9\n",
    "    elif i in ['24', '25', '26', '27']:\n",
    "        return 10\n",
    "    elif i in ['28', '29', '30']:\n",
    "        return 11\n",
    "    elif i in ['31', '32', '33']:\n",
    "        return 12\n",
    "    elif i in ['34', '35', '36', '37']:\n",
    "        return 13\n",
    "    elif i in ['38', '39', '40', '41']:\n",
    "        return 14\n",
    "    elif i in ['42', '43', '44', '45']:\n",
    "        return 15\n",
    "    elif i in ['46', '47', '48']:\n",
    "        return 16\n",
    "    elif i in ['49', '50', '81']:\n",
    "        return 17\n",
    "    elif i in ['51', '52']:\n",
    "        return 18\n",
    "    elif i in ['53', '54', '55', '82']:\n",
    "        return 19\n",
    "    elif i in ['56', '57']:\n",
    "        return 20\n",
    "    elif i in ['58', '59']:\n",
    "        return 21\n",
    "    elif i in ['60', '61', '62', '63', '64']:\n",
    "        return 22\n",
    "    elif i in ['65', '66', '67', '68']:\n",
    "        return 23\n",
    "    elif i in ['69', '70', '71']:\n",
    "        return 24\n",
    "    elif i in ['72', '73']:\n",
    "        return 25\n",
    "    elif i in ['77', '78']:\n",
    "        return 25\n",
    "    elif i in ['75', '76']:\n",
    "        return 27\n",
    "    elif i in ['79', '80']:\n",
    "        return 28\n",
    "    else:\n",
    "        return np.nan "
   ]
  },
  {
   "cell_type": "markdown",
   "metadata": {},
   "source": [
    "## User Data"
   ]
  },
  {
   "cell_type": "code",
   "execution_count": 3,
   "metadata": {},
   "outputs": [],
   "source": [
    "#Import data\n",
    "users = pd.read_csv('../raw/users.csv')"
   ]
  },
  {
   "cell_type": "code",
   "execution_count": 4,
   "metadata": {},
   "outputs": [],
   "source": [
    "# #Inspect data\n",
    "# users.sample()"
   ]
  },
  {
   "cell_type": "code",
   "execution_count": 5,
   "metadata": {},
   "outputs": [],
   "source": [
    "#Define original dataset shape\n",
    "initial_nrows = users.shape[0]\n",
    "initial_cols = users.shape[1]"
   ]
  },
  {
   "cell_type": "code",
   "execution_count": 6,
   "metadata": {},
   "outputs": [
    {
     "name": "stdout",
     "output_type": "stream",
     "text": [
      "User data includes 60301 user_ids out of which 60301 are unique.\n",
      "\n",
      "---------------------------------------------------------------------------\n",
      "\n",
      "There are 17 features including:\n"
     ]
    },
    {
     "data": {
      "text/plain": [
       "['id',\n",
       " 'address',\n",
       " 'postal_code',\n",
       " 'created_at',\n",
       " 'updated_at',\n",
       " 'roles',\n",
       " 'zone_id',\n",
       " 'location_id',\n",
       " 'account_balance',\n",
       " 'card_brand',\n",
       " 'notes',\n",
       " 'coupon_code',\n",
       " 'floor',\n",
       " 'unit_no',\n",
       " 'blk_tower',\n",
       " 'company_name',\n",
       " 'birthday']"
      ]
     },
     "execution_count": 6,
     "metadata": {},
     "output_type": "execute_result"
    }
   ],
   "source": [
    "#Print number of unique users and features\n",
    "print('User data includes {} user_ids out of which {} are unique.'.format(initial_nrows,users.id.nunique())+'\\n'+'\\n'+'-'*75)\n",
    "print('\\n'+'There are {} features including:'.format(initial_cols))\n",
    "\n",
    "list(users.columns)"
   ]
  },
  {
   "cell_type": "markdown",
   "metadata": {},
   "source": [
    "### Missing data"
   ]
  },
  {
   "cell_type": "code",
   "execution_count": 7,
   "metadata": {},
   "outputs": [
    {
     "name": "stdout",
     "output_type": "stream",
     "text": [
      "Columns with missing data are sorted starting from the column with most missing values:\n"
     ]
    },
    {
     "data": {
      "text/html": [
       "<div>\n",
       "<style scoped>\n",
       "    .dataframe tbody tr th:only-of-type {\n",
       "        vertical-align: middle;\n",
       "    }\n",
       "\n",
       "    .dataframe tbody tr th {\n",
       "        vertical-align: top;\n",
       "    }\n",
       "\n",
       "    .dataframe thead th {\n",
       "        text-align: right;\n",
       "    }\n",
       "</style>\n",
       "<table border=\"1\" class=\"dataframe\">\n",
       "  <thead>\n",
       "    <tr style=\"text-align: right;\">\n",
       "      <th></th>\n",
       "      <th>%Null</th>\n",
       "    </tr>\n",
       "  </thead>\n",
       "  <tbody>\n",
       "    <tr>\n",
       "      <th>notes</th>\n",
       "      <td>0.999204</td>\n",
       "    </tr>\n",
       "    <tr>\n",
       "      <th>zone_id</th>\n",
       "      <td>0.852308</td>\n",
       "    </tr>\n",
       "    <tr>\n",
       "      <th>birthday</th>\n",
       "      <td>0.829588</td>\n",
       "    </tr>\n",
       "    <tr>\n",
       "      <th>coupon_code</th>\n",
       "      <td>0.781629</td>\n",
       "    </tr>\n",
       "    <tr>\n",
       "      <th>roles</th>\n",
       "      <td>0.711812</td>\n",
       "    </tr>\n",
       "    <tr>\n",
       "      <th>card_brand</th>\n",
       "      <td>0.699922</td>\n",
       "    </tr>\n",
       "    <tr>\n",
       "      <th>blk_tower</th>\n",
       "      <td>0.639077</td>\n",
       "    </tr>\n",
       "    <tr>\n",
       "      <th>company_name</th>\n",
       "      <td>0.622494</td>\n",
       "    </tr>\n",
       "    <tr>\n",
       "      <th>unit_no</th>\n",
       "      <td>0.071591</td>\n",
       "    </tr>\n",
       "    <tr>\n",
       "      <th>floor</th>\n",
       "      <td>0.066384</td>\n",
       "    </tr>\n",
       "    <tr>\n",
       "      <th>location_id</th>\n",
       "      <td>0.030298</td>\n",
       "    </tr>\n",
       "    <tr>\n",
       "      <th>address</th>\n",
       "      <td>0.030232</td>\n",
       "    </tr>\n",
       "    <tr>\n",
       "      <th>postal_code</th>\n",
       "      <td>0.030182</td>\n",
       "    </tr>\n",
       "  </tbody>\n",
       "</table>\n",
       "</div>"
      ],
      "text/plain": [
       "                 %Null\n",
       "notes         0.999204\n",
       "zone_id       0.852308\n",
       "birthday      0.829588\n",
       "coupon_code   0.781629\n",
       "roles         0.711812\n",
       "card_brand    0.699922\n",
       "blk_tower     0.639077\n",
       "company_name  0.622494\n",
       "unit_no       0.071591\n",
       "floor         0.066384\n",
       "location_id   0.030298\n",
       "address       0.030232\n",
       "postal_code   0.030182"
      ]
     },
     "execution_count": 7,
     "metadata": {},
     "output_type": "execute_result"
    }
   ],
   "source": [
    "#Check for missing values\n",
    "print('Columns with missing data are sorted starting from the column with most missing values:')\n",
    "\n",
    "#Find % of missing values in each column\n",
    "missing_pct = pd.DataFrame(users.isnull().sum()/users.shape[0], columns=['%Null']).sort_values('%Null',ascending=False)\n",
    "\n",
    "#Print only those with missing values\n",
    "missing_pct[missing_pct['%Null']> 0]\n"
   ]
  },
  {
   "cell_type": "markdown",
   "metadata": {},
   "source": [
    "### Useful features"
   ]
  },
  {
   "cell_type": "markdown",
   "metadata": {},
   "source": [
    "Taking into consideration the amount of missing values in some columns, I identify the following columns to be potentially useful for profiling users and prioritise data cleaning accordingly:\n",
    "\n",
    "\n",
    "`account_balance`, `card_brand`, `coupon_code`, `birthday`"
   ]
  },
  {
   "cell_type": "code",
   "execution_count": 8,
   "metadata": {},
   "outputs": [],
   "source": [
    "#Identify useful features for customer profiling \n",
    "profile_features = ['id','account_balance','card_brand','coupon_code','birthday']"
   ]
  },
  {
   "cell_type": "code",
   "execution_count": 9,
   "metadata": {},
   "outputs": [
    {
     "data": {
      "text/plain": [
       "id                  int64\n",
       "account_balance     int64\n",
       "card_brand         object\n",
       "coupon_code        object\n",
       "birthday           object\n",
       "dtype: object"
      ]
     },
     "execution_count": 9,
     "metadata": {},
     "output_type": "execute_result"
    }
   ],
   "source": [
    "#Inspect data types\n",
    "users[profile_features].dtypes"
   ]
  },
  {
   "cell_type": "markdown",
   "metadata": {},
   "source": [
    "I convert `birthday` values into to datetime type."
   ]
  },
  {
   "cell_type": "code",
   "execution_count": 10,
   "metadata": {},
   "outputs": [],
   "source": [
    "users.birthday = pd.to_datetime(users.birthday)"
   ]
  },
  {
   "cell_type": "markdown",
   "metadata": {},
   "source": [
    "I proceed to check for missing values."
   ]
  },
  {
   "cell_type": "code",
   "execution_count": 11,
   "metadata": {},
   "outputs": [
    {
     "data": {
      "text/plain": [
       "id                     0\n",
       "account_balance        0\n",
       "card_brand         42206\n",
       "coupon_code        47133\n",
       "birthday           50025\n",
       "dtype: int64"
      ]
     },
     "execution_count": 11,
     "metadata": {},
     "output_type": "execute_result"
    }
   ],
   "source": [
    "#Inspect missing data\n",
    "users[profile_features].isnull().sum()"
   ]
  },
  {
   "cell_type": "markdown",
   "metadata": {},
   "source": [
    "For `birthday`, I create a new column to compute age using year of birth."
   ]
  },
  {
   "cell_type": "code",
   "execution_count": 12,
   "metadata": {},
   "outputs": [],
   "source": [
    "#Compute age using year of birth\n",
    "users['age'] = datetime.datetime.now().year - users.birthday.dt.year"
   ]
  },
  {
   "cell_type": "markdown",
   "metadata": {},
   "source": [
    "I check where age is negative and impute as null since age cannot be negative.\n",
    "\n",
    "I also create new columns for birth year, month and day, and compute year as null where year is beyond current year."
   ]
  },
  {
   "cell_type": "code",
   "execution_count": 13,
   "metadata": {},
   "outputs": [
    {
     "name": "stdout",
     "output_type": "stream",
     "text": [
      "\n",
      "There are 334 rows with negative age values.\n"
     ]
    }
   ],
   "source": [
    "#Check for negative values\n",
    "print('\\n'+'There are {} rows with negative age values.'.format(users[users.age < 0].shape[0]))"
   ]
  },
  {
   "cell_type": "code",
   "execution_count": 14,
   "metadata": {},
   "outputs": [],
   "source": [
    "#Correct negative age values as null\n",
    "users.loc[users.age < 0, 'age'] = np.nan"
   ]
  },
  {
   "cell_type": "code",
   "execution_count": 15,
   "metadata": {},
   "outputs": [],
   "source": [
    "#Create new columns for year, month and day\n",
    "users = clean_date(\n",
    "    users, \n",
    "    'birthday'\n",
    ")\n",
    "\n",
    "#Correct birthday_year values where > current year\n",
    "users.loc[users.birthday_year > datetime.datetime.now().year, 'birthday_year'] = np.nan"
   ]
  },
  {
   "cell_type": "markdown",
   "metadata": {},
   "source": [
    "I add the new columns `birthday_year`,`birthday_month`, `age` to profile features in replacement of `birthday`."
   ]
  },
  {
   "cell_type": "code",
   "execution_count": 16,
   "metadata": {},
   "outputs": [],
   "source": [
    "#Add new columns, drop birthday\n",
    "profile_features = [\n",
    "    'id',\n",
    "    'account_balance',\n",
    "    'card_brand',\n",
    "    'coupon_code',\n",
    "    'birthday_year', \n",
    "    'birthday_month',\n",
    "    'age'\n",
    "]"
   ]
  },
  {
   "cell_type": "markdown",
   "metadata": {},
   "source": [
    "I also convert `coupon_code` to binary, 1 meaning that the user used a coupon code upon registering an account. "
   ]
  },
  {
   "cell_type": "code",
   "execution_count": 17,
   "metadata": {},
   "outputs": [],
   "source": [
    "#First fill null values in coupon code column with 0\n",
    "users.coupon_code.fillna(0, inplace=True)"
   ]
  },
  {
   "cell_type": "code",
   "execution_count": 18,
   "metadata": {},
   "outputs": [
    {
     "data": {
      "text/plain": [
       "0    47133\n",
       "1    13168\n",
       "Name: has_coupon, dtype: int64"
      ]
     },
     "execution_count": 18,
     "metadata": {},
     "output_type": "execute_result"
    }
   ],
   "source": [
    "#Then convert coupon_code to binary in new column\n",
    "users['has_coupon'] = users.coupon_code.map(lambda x : 1 if x !=0 else 0)\n",
    "\n",
    "#Check class representation\n",
    "users.has_coupon.value_counts(dropna=False)"
   ]
  },
  {
   "cell_type": "markdown",
   "metadata": {},
   "source": [
    "I add the new column `has_coupon` to profile features in replacement of `coupon_code`."
   ]
  },
  {
   "cell_type": "code",
   "execution_count": 19,
   "metadata": {},
   "outputs": [],
   "source": [
    "#Add new columns, drop birthday\n",
    "profile_features = [\n",
    "    'id',\n",
    "    'account_balance',\n",
    "    'card_brand',\n",
    "    'has_coupon',\n",
    "    'birthday_year', \n",
    "    'birthday_month',\n",
    "    'age'\n",
    "]"
   ]
  },
  {
   "cell_type": "code",
   "execution_count": 20,
   "metadata": {},
   "outputs": [
    {
     "data": {
      "text/plain": [
       "id                     0\n",
       "account_balance        0\n",
       "card_brand         42206\n",
       "has_coupon             0\n",
       "birthday_year      50359\n",
       "birthday_month     50025\n",
       "age                50359\n",
       "dtype: int64"
      ]
     },
     "execution_count": 20,
     "metadata": {},
     "output_type": "execute_result"
    }
   ],
   "source": [
    "#Inspect missing data\n",
    "users[profile_features].isnull().sum()"
   ]
  },
  {
   "cell_type": "markdown",
   "metadata": {},
   "source": [
    "I leave the rest of the null values as is for now. "
   ]
  },
  {
   "cell_type": "markdown",
   "metadata": {},
   "source": [
    "## Delivery Info"
   ]
  },
  {
   "cell_type": "code",
   "execution_count": 21,
   "metadata": {},
   "outputs": [],
   "source": [
    "#Import data\n",
    "delivery = pd.read_csv('../raw/delivery_orders.csv')"
   ]
  },
  {
   "cell_type": "code",
   "execution_count": 22,
   "metadata": {
    "scrolled": true
   },
   "outputs": [],
   "source": [
    "# #Inspect data\n",
    "# delivery.sample()"
   ]
  },
  {
   "cell_type": "code",
   "execution_count": 23,
   "metadata": {},
   "outputs": [
    {
     "data": {
      "text/plain": [
       "3"
      ]
     },
     "execution_count": 23,
     "metadata": {},
     "output_type": "execute_result"
    }
   ],
   "source": [
    "#Check missing values for location_id which is the key to be used to merge postal code information\n",
    "delivery.location_id.isnull().sum()"
   ]
  },
  {
   "cell_type": "markdown",
   "metadata": {},
   "source": [
    "Retrieve and merge postal code data for delivery locations."
   ]
  },
  {
   "cell_type": "code",
   "execution_count": 24,
   "metadata": {},
   "outputs": [],
   "source": [
    "#Import location data for postal code\n",
    "loc = pd.read_csv('../raw/locations.csv')"
   ]
  },
  {
   "cell_type": "code",
   "execution_count": 25,
   "metadata": {},
   "outputs": [],
   "source": [
    "#Take only id and postal code from locations.csv\n",
    "loc = loc[['id','postal_code']]"
   ]
  },
  {
   "cell_type": "code",
   "execution_count": 26,
   "metadata": {},
   "outputs": [],
   "source": [
    "#Merge postal_code information\n",
    "delivery_with_postal_code = pd.merge(delivery, loc, how='left',left_on = 'location_id', right_on='id', suffixes=('','_loc')).drop('id_loc',axis=1)"
   ]
  },
  {
   "cell_type": "code",
   "execution_count": 27,
   "metadata": {},
   "outputs": [],
   "source": [
    "#Define original dataset shape\n",
    "initial_nrows = delivery_with_postal_code.shape[0]\n",
    "initial_cols = delivery_with_postal_code.shape[1]"
   ]
  },
  {
   "cell_type": "code",
   "execution_count": 28,
   "metadata": {},
   "outputs": [
    {
     "name": "stdout",
     "output_type": "stream",
     "text": [
      "Delivery with postal code data includes 32915 delivery orders from 9468 unique users.\n",
      "\n",
      "---------------------------------------------------------------------------\n",
      "\n",
      "There are 72 features including:\n"
     ]
    },
    {
     "data": {
      "text/plain": [
       "['id',\n",
       " 'zone_id',\n",
       " 'address',\n",
       " 'state',\n",
       " 'item',\n",
       " 'created_at',\n",
       " 'updated_at',\n",
       " 'location_id',\n",
       " 'user_id',\n",
       " 'cart_id',\n",
       " 'amount',\n",
       " 'charge_id',\n",
       " 'discount',\n",
       " 'due',\n",
       " 'credit_deduction',\n",
       " 'delivery_orders_count',\n",
       " 'feedback_link',\n",
       " 'meal_names',\n",
       " 'order_id',\n",
       " 'due_dates',\n",
       " 'to_office',\n",
       " 'card_details',\n",
       " 'billing_reference',\n",
       " 'credit_terms',\n",
       " 'card_brand',\n",
       " 'card_last4',\n",
       " 'source',\n",
       " 'macros',\n",
       " 'component_string',\n",
       " 'timing',\n",
       " 'delivery_fee',\n",
       " 'delivery_fees',\n",
       " 'cbd_fee',\n",
       " 'meal_wave',\n",
       " 'version',\n",
       " 'card_id',\n",
       " 'islandwide',\n",
       " 'pickup_point_id',\n",
       " 'trello_url',\n",
       " 'pickup_points',\n",
       " 'floor',\n",
       " 'unit_no',\n",
       " 'delivery_node_id',\n",
       " 'surcharge_amount',\n",
       " 'business',\n",
       " 'serving_date',\n",
       " 'promo_code',\n",
       " 'hub_id',\n",
       " 'delivery_state',\n",
       " 'type',\n",
       " 'delivery_note',\n",
       " 'courier',\n",
       " 'sample',\n",
       " 'feedback_form_id',\n",
       " 'product_tracking_option_id',\n",
       " 'business_unit_tracking_option_id',\n",
       " 'invoice_date',\n",
       " 'xero_contact_id',\n",
       " 'gst_charged',\n",
       " 'salesperson_id',\n",
       " 'delivery_fee_excluding_gst',\n",
       " 'surcharge_amount_excluding_gst',\n",
       " 'discount_excluding_gst',\n",
       " 'should_commit_stock',\n",
       " 'recurring_type',\n",
       " 'xero_invoice_id',\n",
       " 'dispatching_hub_id',\n",
       " 'blk_tower',\n",
       " 'feedback_token',\n",
       " 'credit_deduction_excluding_gst',\n",
       " 'is_outbound',\n",
       " 'postal_code']"
      ]
     },
     "execution_count": 28,
     "metadata": {},
     "output_type": "execute_result"
    }
   ],
   "source": [
    "#Print number of unique users and features\n",
    "print('Delivery with postal code data includes {} delivery orders from {} unique users.'.format(initial_nrows,delivery_with_postal_code.user_id.nunique())+'\\n'+'\\n'+'-'*75)\n",
    "print('\\n'+'There are {} features including:'.format(initial_cols))\n",
    "\n",
    "list(delivery_with_postal_code.columns)"
   ]
  },
  {
   "cell_type": "markdown",
   "metadata": {},
   "source": [
    "<b> I keep only rows with `user_id` matching `id` in users dataset because this means we have the user data. "
   ]
  },
  {
   "cell_type": "code",
   "execution_count": 29,
   "metadata": {},
   "outputs": [],
   "source": [
    "#Filter for users we know\n",
    "delivery_info = delivery_with_postal_code[delivery_with_postal_code['user_id'].isin(users.id)]"
   ]
  },
  {
   "cell_type": "code",
   "execution_count": 30,
   "metadata": {},
   "outputs": [
    {
     "name": "stdout",
     "output_type": "stream",
     "text": [
      "\n",
      "We now have data for 32845 delivery orders from 9425 unique users.\n"
     ]
    }
   ],
   "source": [
    "#Print number of unique users for which we have delivery info\n",
    "print('\\n'+'We now have data for {} delivery orders from {} unique users.'.format(delivery_info.shape[0],delivery_info.user_id.nunique()))"
   ]
  },
  {
   "cell_type": "code",
   "execution_count": 31,
   "metadata": {},
   "outputs": [
    {
     "name": "stdout",
     "output_type": "stream",
     "text": [
      "\n",
      "Delivery info data we have is from 2014-07-07 03:17:28.448908 to 2019-04-16 11:00:00\n"
     ]
    }
   ],
   "source": [
    "#Print time period of data\n",
    "print('\\n'+'Delivery info data we have is from {} to {}'.format(pd.to_datetime(delivery_info.serving_date).min(),pd.to_datetime(delivery_info.serving_date).max()))"
   ]
  },
  {
   "cell_type": "markdown",
   "metadata": {},
   "source": [
    "### Missing data"
   ]
  },
  {
   "cell_type": "code",
   "execution_count": 32,
   "metadata": {},
   "outputs": [
    {
     "name": "stdout",
     "output_type": "stream",
     "text": [
      "Columns with missing data are sorted starting from the column with most missing values:\n"
     ]
    },
    {
     "data": {
      "text/html": [
       "<div>\n",
       "<style scoped>\n",
       "    .dataframe tbody tr th:only-of-type {\n",
       "        vertical-align: middle;\n",
       "    }\n",
       "\n",
       "    .dataframe tbody tr th {\n",
       "        vertical-align: top;\n",
       "    }\n",
       "\n",
       "    .dataframe thead th {\n",
       "        text-align: right;\n",
       "    }\n",
       "</style>\n",
       "<table border=\"1\" class=\"dataframe\">\n",
       "  <thead>\n",
       "    <tr style=\"text-align: right;\">\n",
       "      <th></th>\n",
       "      <th>%Null</th>\n",
       "    </tr>\n",
       "  </thead>\n",
       "  <tbody>\n",
       "    <tr>\n",
       "      <th>pickup_points</th>\n",
       "      <td>1.000000</td>\n",
       "    </tr>\n",
       "    <tr>\n",
       "      <th>delivery_orders_count</th>\n",
       "      <td>1.000000</td>\n",
       "    </tr>\n",
       "    <tr>\n",
       "      <th>billing_reference</th>\n",
       "      <td>0.999970</td>\n",
       "    </tr>\n",
       "    <tr>\n",
       "      <th>trello_url</th>\n",
       "      <td>0.999208</td>\n",
       "    </tr>\n",
       "    <tr>\n",
       "      <th>islandwide</th>\n",
       "      <td>0.996955</td>\n",
       "    </tr>\n",
       "    <tr>\n",
       "      <th>due</th>\n",
       "      <td>0.995007</td>\n",
       "    </tr>\n",
       "    <tr>\n",
       "      <th>business</th>\n",
       "      <td>0.986786</td>\n",
       "    </tr>\n",
       "    <tr>\n",
       "      <th>cbd_fee</th>\n",
       "      <td>0.981580</td>\n",
       "    </tr>\n",
       "    <tr>\n",
       "      <th>xero_contact_id</th>\n",
       "      <td>0.976283</td>\n",
       "    </tr>\n",
       "    <tr>\n",
       "      <th>invoice_date</th>\n",
       "      <td>0.973542</td>\n",
       "    </tr>\n",
       "    <tr>\n",
       "      <th>credit_terms</th>\n",
       "      <td>0.972994</td>\n",
       "    </tr>\n",
       "    <tr>\n",
       "      <th>delivery_fees</th>\n",
       "      <td>0.965078</td>\n",
       "    </tr>\n",
       "    <tr>\n",
       "      <th>xero_invoice_id</th>\n",
       "      <td>0.956432</td>\n",
       "    </tr>\n",
       "    <tr>\n",
       "      <th>meal_wave</th>\n",
       "      <td>0.935089</td>\n",
       "    </tr>\n",
       "    <tr>\n",
       "      <th>salesperson_id</th>\n",
       "      <td>0.931984</td>\n",
       "    </tr>\n",
       "    <tr>\n",
       "      <th>recurring_type</th>\n",
       "      <td>0.931831</td>\n",
       "    </tr>\n",
       "    <tr>\n",
       "      <th>product_tracking_option_id</th>\n",
       "      <td>0.930583</td>\n",
       "    </tr>\n",
       "    <tr>\n",
       "      <th>business_unit_tracking_option_id</th>\n",
       "      <td>0.929913</td>\n",
       "    </tr>\n",
       "    <tr>\n",
       "      <th>timing</th>\n",
       "      <td>0.917156</td>\n",
       "    </tr>\n",
       "    <tr>\n",
       "      <th>component_string</th>\n",
       "      <td>0.917156</td>\n",
       "    </tr>\n",
       "    <tr>\n",
       "      <th>macros</th>\n",
       "      <td>0.917156</td>\n",
       "    </tr>\n",
       "    <tr>\n",
       "      <th>promo_code</th>\n",
       "      <td>0.912650</td>\n",
       "    </tr>\n",
       "    <tr>\n",
       "      <th>sample</th>\n",
       "      <td>0.889998</td>\n",
       "    </tr>\n",
       "    <tr>\n",
       "      <th>version</th>\n",
       "      <td>0.873101</td>\n",
       "    </tr>\n",
       "    <tr>\n",
       "      <th>card_id</th>\n",
       "      <td>0.870726</td>\n",
       "    </tr>\n",
       "    <tr>\n",
       "      <th>feedback_form_id</th>\n",
       "      <td>0.859370</td>\n",
       "    </tr>\n",
       "    <tr>\n",
       "      <th>delivery_note</th>\n",
       "      <td>0.809499</td>\n",
       "    </tr>\n",
       "    <tr>\n",
       "      <th>to_office</th>\n",
       "      <td>0.802344</td>\n",
       "    </tr>\n",
       "    <tr>\n",
       "      <th>blk_tower</th>\n",
       "      <td>0.792571</td>\n",
       "    </tr>\n",
       "    <tr>\n",
       "      <th>pickup_point_id</th>\n",
       "      <td>0.779632</td>\n",
       "    </tr>\n",
       "    <tr>\n",
       "      <th>courier</th>\n",
       "      <td>0.749064</td>\n",
       "    </tr>\n",
       "    <tr>\n",
       "      <th>feedback_token</th>\n",
       "      <td>0.593424</td>\n",
       "    </tr>\n",
       "    <tr>\n",
       "      <th>card_details</th>\n",
       "      <td>0.475384</td>\n",
       "    </tr>\n",
       "    <tr>\n",
       "      <th>feedback_link</th>\n",
       "      <td>0.465946</td>\n",
       "    </tr>\n",
       "    <tr>\n",
       "      <th>gst_charged</th>\n",
       "      <td>0.409256</td>\n",
       "    </tr>\n",
       "    <tr>\n",
       "      <th>surcharge_amount</th>\n",
       "      <td>0.369006</td>\n",
       "    </tr>\n",
       "    <tr>\n",
       "      <th>delivery_fee</th>\n",
       "      <td>0.325285</td>\n",
       "    </tr>\n",
       "    <tr>\n",
       "      <th>card_last4</th>\n",
       "      <td>0.305008</td>\n",
       "    </tr>\n",
       "    <tr>\n",
       "      <th>card_brand</th>\n",
       "      <td>0.305008</td>\n",
       "    </tr>\n",
       "    <tr>\n",
       "      <th>unit_no</th>\n",
       "      <td>0.303760</td>\n",
       "    </tr>\n",
       "    <tr>\n",
       "      <th>floor</th>\n",
       "      <td>0.297214</td>\n",
       "    </tr>\n",
       "    <tr>\n",
       "      <th>source</th>\n",
       "      <td>0.265246</td>\n",
       "    </tr>\n",
       "    <tr>\n",
       "      <th>delivery_node_id</th>\n",
       "      <td>0.227006</td>\n",
       "    </tr>\n",
       "    <tr>\n",
       "      <th>cart_id</th>\n",
       "      <td>0.170072</td>\n",
       "    </tr>\n",
       "    <tr>\n",
       "      <th>discount</th>\n",
       "      <td>0.158198</td>\n",
       "    </tr>\n",
       "    <tr>\n",
       "      <th>charge_id</th>\n",
       "      <td>0.097062</td>\n",
       "    </tr>\n",
       "    <tr>\n",
       "      <th>credit_deduction</th>\n",
       "      <td>0.088659</td>\n",
       "    </tr>\n",
       "    <tr>\n",
       "      <th>meal_names</th>\n",
       "      <td>0.016197</td>\n",
       "    </tr>\n",
       "    <tr>\n",
       "      <th>dispatching_hub_id</th>\n",
       "      <td>0.003197</td>\n",
       "    </tr>\n",
       "    <tr>\n",
       "      <th>address</th>\n",
       "      <td>0.002009</td>\n",
       "    </tr>\n",
       "    <tr>\n",
       "      <th>state</th>\n",
       "      <td>0.000944</td>\n",
       "    </tr>\n",
       "    <tr>\n",
       "      <th>postal_code</th>\n",
       "      <td>0.000365</td>\n",
       "    </tr>\n",
       "    <tr>\n",
       "      <th>amount</th>\n",
       "      <td>0.000365</td>\n",
       "    </tr>\n",
       "    <tr>\n",
       "      <th>location_id</th>\n",
       "      <td>0.000091</td>\n",
       "    </tr>\n",
       "    <tr>\n",
       "      <th>zone_id</th>\n",
       "      <td>0.000061</td>\n",
       "    </tr>\n",
       "  </tbody>\n",
       "</table>\n",
       "</div>"
      ],
      "text/plain": [
       "                                     %Null\n",
       "pickup_points                     1.000000\n",
       "delivery_orders_count             1.000000\n",
       "billing_reference                 0.999970\n",
       "trello_url                        0.999208\n",
       "islandwide                        0.996955\n",
       "due                               0.995007\n",
       "business                          0.986786\n",
       "cbd_fee                           0.981580\n",
       "xero_contact_id                   0.976283\n",
       "invoice_date                      0.973542\n",
       "credit_terms                      0.972994\n",
       "delivery_fees                     0.965078\n",
       "xero_invoice_id                   0.956432\n",
       "meal_wave                         0.935089\n",
       "salesperson_id                    0.931984\n",
       "recurring_type                    0.931831\n",
       "product_tracking_option_id        0.930583\n",
       "business_unit_tracking_option_id  0.929913\n",
       "timing                            0.917156\n",
       "component_string                  0.917156\n",
       "macros                            0.917156\n",
       "promo_code                        0.912650\n",
       "sample                            0.889998\n",
       "version                           0.873101\n",
       "card_id                           0.870726\n",
       "feedback_form_id                  0.859370\n",
       "delivery_note                     0.809499\n",
       "to_office                         0.802344\n",
       "blk_tower                         0.792571\n",
       "pickup_point_id                   0.779632\n",
       "courier                           0.749064\n",
       "feedback_token                    0.593424\n",
       "card_details                      0.475384\n",
       "feedback_link                     0.465946\n",
       "gst_charged                       0.409256\n",
       "surcharge_amount                  0.369006\n",
       "delivery_fee                      0.325285\n",
       "card_last4                        0.305008\n",
       "card_brand                        0.305008\n",
       "unit_no                           0.303760\n",
       "floor                             0.297214\n",
       "source                            0.265246\n",
       "delivery_node_id                  0.227006\n",
       "cart_id                           0.170072\n",
       "discount                          0.158198\n",
       "charge_id                         0.097062\n",
       "credit_deduction                  0.088659\n",
       "meal_names                        0.016197\n",
       "dispatching_hub_id                0.003197\n",
       "address                           0.002009\n",
       "state                             0.000944\n",
       "postal_code                       0.000365\n",
       "amount                            0.000365\n",
       "location_id                       0.000091\n",
       "zone_id                           0.000061"
      ]
     },
     "execution_count": 32,
     "metadata": {},
     "output_type": "execute_result"
    }
   ],
   "source": [
    "#Check for missing values\n",
    "print('Columns with missing data are sorted starting from the column with most missing values:')\n",
    "\n",
    "#Find % of missing values in each column\n",
    "missing_pct = pd.DataFrame(delivery_info.isnull().sum()/delivery_info.shape[0], columns=['%Null']).sort_values('%Null',ascending=False)\n",
    "\n",
    "#Print only those with missing values\n",
    "missing_pct[missing_pct['%Null']> 0]"
   ]
  },
  {
   "cell_type": "markdown",
   "metadata": {},
   "source": [
    "### Useful Features"
   ]
  },
  {
   "cell_type": "markdown",
   "metadata": {},
   "source": [
    "Taking into consideration the amount of missing values in some columns, I identify the following columns to be useful for profiling users and prioritise data cleaning accordingly:\n",
    "\n",
    "\n",
    "`salesperson_id`,`zone_id`, `address`, `discount`, `due_dates`, `card_details`, `card_brand`, `source`, `delivery_fee`, `meal_wave`, `surcharge_amount`, `promo_code`, `feedback_form_id`, `postal_code`"
   ]
  },
  {
   "cell_type": "code",
   "execution_count": 33,
   "metadata": {},
   "outputs": [],
   "source": [
    "#Identify useful columns  \n",
    "profile_features_del = ['id','user_id','salesperson_id','zone_id','address','discount', 'due_dates', \n",
    "                        'card_details', 'card_brand', 'source', 'delivery_fee', \n",
    "                        'meal_wave', 'surcharge_amount', 'promo_code', 'feedback_form_id','postal_code']"
   ]
  },
  {
   "cell_type": "code",
   "execution_count": 34,
   "metadata": {},
   "outputs": [
    {
     "data": {
      "text/plain": [
       "id                    int64\n",
       "user_id               int64\n",
       "salesperson_id      float64\n",
       "zone_id             float64\n",
       "address              object\n",
       "discount            float64\n",
       "due_dates            object\n",
       "card_details         object\n",
       "card_brand           object\n",
       "source               object\n",
       "delivery_fee        float64\n",
       "meal_wave            object\n",
       "surcharge_amount    float64\n",
       "promo_code           object\n",
       "feedback_form_id     object\n",
       "postal_code          object\n",
       "dtype: object"
      ]
     },
     "execution_count": 34,
     "metadata": {},
     "output_type": "execute_result"
    }
   ],
   "source": [
    "#Inspect data types\n",
    "delivery_info[profile_features_del].dtypes"
   ]
  },
  {
   "cell_type": "markdown",
   "metadata": {},
   "source": [
    "Since `postal_code` should not be object type. I investigate this."
   ]
  },
  {
   "cell_type": "code",
   "execution_count": 35,
   "metadata": {},
   "outputs": [
    {
     "name": "stdout",
     "output_type": "stream",
     "text": [
      "Error found: could not convert string to float: 'T312'\n"
     ]
    }
   ],
   "source": [
    "#Find error in postal_code\n",
    "try:\n",
    "    delivery_info.postal_code.dropna().astype(float) \n",
    "except Exception as ex:\n",
    "    print('Error found: {}'.format(ex))"
   ]
  },
  {
   "cell_type": "markdown",
   "metadata": {},
   "source": [
    "The error reveals that there are string type values in the column. I manually check the column for 'T312' and replace with the correct value i.e. '465403' from desktop research on valid postal code."
   ]
  },
  {
   "cell_type": "code",
   "execution_count": 36,
   "metadata": {},
   "outputs": [],
   "source": [
    "#Replace postal_code T312 with valid postal code  \n",
    "delivery_info.replace('T312', '465403', inplace=True)"
   ]
  },
  {
   "cell_type": "markdown",
   "metadata": {},
   "source": [
    "I convert `due_dates` to datetime together with the other dates in the dataset; `created_at`,`serving_date`,`invoice_date`"
   ]
  },
  {
   "cell_type": "code",
   "execution_count": 37,
   "metadata": {},
   "outputs": [],
   "source": [
    "dates= ['created_at','due_dates','serving_date','invoice_date']"
   ]
  },
  {
   "cell_type": "code",
   "execution_count": 38,
   "metadata": {},
   "outputs": [
    {
     "name": "stdout",
     "output_type": "stream",
     "text": [
      "Error on due_dates column.\n",
      "Error messsage: ('Unknown string format:', \"---\\n'2015-11-19': 11:15am\\n\")\n"
     ]
    }
   ],
   "source": [
    "#Convert to datetime\n",
    "for i in dates:\n",
    "    try:\n",
    "        delivery_info[i] = pd.to_datetime(delivery_info[i])\n",
    "    except Exception as e:\n",
    "        print('Error on {} column.'.format(i))\n",
    "        print('Error messsage: {}'.format(e))"
   ]
  },
  {
   "cell_type": "markdown",
   "metadata": {},
   "source": [
    "Some cleaning needs to be done on the values in `due_dates` before it can be converted.\n",
    "<p>\n",
    "I also create two new columns to split due date time and dates."
   ]
  },
  {
   "cell_type": "code",
   "execution_count": 39,
   "metadata": {},
   "outputs": [
    {
     "data": {
      "text/plain": [
       "dtype('<M8[ns]')"
      ]
     },
     "execution_count": 39,
     "metadata": {},
     "output_type": "execute_result"
    }
   ],
   "source": [
    "#To strip out date and convert to datetime \n",
    "delivery_info['due_dates_only'] = pd.to_datetime(\n",
    "    delivery_info.due_dates.map(\n",
    "        lambda x : x.split('\\n')[1].split(': ')[0]\n",
    "    )\n",
    ")\n",
    "\n",
    "#Checks new column type\n",
    "delivery_info.due_dates_only.dtype"
   ]
  },
  {
   "cell_type": "code",
   "execution_count": 40,
   "metadata": {},
   "outputs": [
    {
     "data": {
      "text/plain": [
       "dtype('<M8[ns]')"
      ]
     },
     "execution_count": 40,
     "metadata": {},
     "output_type": "execute_result"
    }
   ],
   "source": [
    "#Strip out time -note default date is added.\n",
    "delivery_info['due_dates_time'] = pd.to_datetime(\n",
    "    delivery_info.due_dates.map(\n",
    "        lambda x : \":\".join([\n",
    "            x.split('\\n')[1].split(':')[1].replace(' \" ',\"\").replace(' ',\"\"),\n",
    "            x.split('\\n')[1].split(':')[2].replace('\"',\"\")\n",
    "        ])\n",
    "    )\n",
    ")\n",
    "\n",
    "#Checks new column type\n",
    "delivery_info.due_dates_time.dtype"
   ]
  },
  {
   "cell_type": "markdown",
   "metadata": {},
   "source": [
    "I would  assume that `due_dates` has the same values as those in `serving_date` given that the meal is served when its due. I check if this is true."
   ]
  },
  {
   "cell_type": "code",
   "execution_count": 41,
   "metadata": {},
   "outputs": [
    {
     "name": "stdout",
     "output_type": "stream",
     "text": [
      "\n",
      "There are 47 rows where due date and serving date did not coincide (meal served days earlier or later).\n",
      "----------------------------------------------------------------------------------------------------\n",
      "There are 32696 rows where due time and serving time did not coincide (meal served at earlier or later time).\n"
     ]
    }
   ],
   "source": [
    "print('\\n'+'There are {} rows where due date and serving date did not coincide (meal served days earlier or later).'\n",
    "      .format(\n",
    "          delivery_info[delivery_info.due_dates_only.dt.date != delivery_info.serving_date.dt.date].shape[0]\n",
    "      )+'\\n'+'-'*100\n",
    "     )\n",
    "\n",
    "print('There are {} rows where due time and serving time did not coincide (meal served at earlier or later time).'\n",
    "      .format(\n",
    "          delivery_info[delivery_info.due_dates_only.dt.time != delivery_info.serving_date.dt.time].shape[0]\n",
    "      )\n",
    "     )"
   ]
  },
  {
   "cell_type": "markdown",
   "metadata": {},
   "source": [
    "Most of the time, the order is served on the day the customer requires it (not withstanding time inaccuracies). However, there are 48 instances where this is not so. We can investigate this later on.\n",
    "\n",
    "I add `due_dates_only` to profile features in place of `due_dates`."
   ]
  },
  {
   "cell_type": "code",
   "execution_count": 42,
   "metadata": {},
   "outputs": [],
   "source": [
    "#Add due_dates_only in place of due_dates\n",
    "profile_features_del = ['id','user_id','zone_id','salesperson_id', 'address', 'discount', 'due_dates_only', \n",
    "                        'card_details', 'card_brand', 'source', 'delivery_fee', \n",
    "                        'meal_wave', 'surcharge_amount', 'promo_code', 'feedback_form_id','postal_code']"
   ]
  },
  {
   "cell_type": "markdown",
   "metadata": {},
   "source": [
    "I proceed to check for missing values."
   ]
  },
  {
   "cell_type": "code",
   "execution_count": 43,
   "metadata": {},
   "outputs": [
    {
     "name": "stdout",
     "output_type": "stream",
     "text": [
      "Columns with missing data are sorted starting from the column with most missing values:\n"
     ]
    },
    {
     "data": {
      "text/html": [
       "<div>\n",
       "<style scoped>\n",
       "    .dataframe tbody tr th:only-of-type {\n",
       "        vertical-align: middle;\n",
       "    }\n",
       "\n",
       "    .dataframe tbody tr th {\n",
       "        vertical-align: top;\n",
       "    }\n",
       "\n",
       "    .dataframe thead th {\n",
       "        text-align: right;\n",
       "    }\n",
       "</style>\n",
       "<table border=\"1\" class=\"dataframe\">\n",
       "  <thead>\n",
       "    <tr style=\"text-align: right;\">\n",
       "      <th></th>\n",
       "      <th>%Null</th>\n",
       "    </tr>\n",
       "  </thead>\n",
       "  <tbody>\n",
       "    <tr>\n",
       "      <th>meal_wave</th>\n",
       "      <td>0.935089</td>\n",
       "    </tr>\n",
       "    <tr>\n",
       "      <th>salesperson_id</th>\n",
       "      <td>0.931984</td>\n",
       "    </tr>\n",
       "    <tr>\n",
       "      <th>promo_code</th>\n",
       "      <td>0.912650</td>\n",
       "    </tr>\n",
       "    <tr>\n",
       "      <th>feedback_form_id</th>\n",
       "      <td>0.859370</td>\n",
       "    </tr>\n",
       "    <tr>\n",
       "      <th>card_details</th>\n",
       "      <td>0.475384</td>\n",
       "    </tr>\n",
       "    <tr>\n",
       "      <th>surcharge_amount</th>\n",
       "      <td>0.369006</td>\n",
       "    </tr>\n",
       "    <tr>\n",
       "      <th>delivery_fee</th>\n",
       "      <td>0.325285</td>\n",
       "    </tr>\n",
       "    <tr>\n",
       "      <th>card_brand</th>\n",
       "      <td>0.305008</td>\n",
       "    </tr>\n",
       "    <tr>\n",
       "      <th>source</th>\n",
       "      <td>0.265246</td>\n",
       "    </tr>\n",
       "    <tr>\n",
       "      <th>discount</th>\n",
       "      <td>0.158198</td>\n",
       "    </tr>\n",
       "    <tr>\n",
       "      <th>address</th>\n",
       "      <td>0.002009</td>\n",
       "    </tr>\n",
       "    <tr>\n",
       "      <th>postal_code</th>\n",
       "      <td>0.000365</td>\n",
       "    </tr>\n",
       "    <tr>\n",
       "      <th>zone_id</th>\n",
       "      <td>0.000061</td>\n",
       "    </tr>\n",
       "  </tbody>\n",
       "</table>\n",
       "</div>"
      ],
      "text/plain": [
       "                     %Null\n",
       "meal_wave         0.935089\n",
       "salesperson_id    0.931984\n",
       "promo_code        0.912650\n",
       "feedback_form_id  0.859370\n",
       "card_details      0.475384\n",
       "surcharge_amount  0.369006\n",
       "delivery_fee      0.325285\n",
       "card_brand        0.305008\n",
       "source            0.265246\n",
       "discount          0.158198\n",
       "address           0.002009\n",
       "postal_code       0.000365\n",
       "zone_id           0.000061"
      ]
     },
     "execution_count": 43,
     "metadata": {},
     "output_type": "execute_result"
    }
   ],
   "source": [
    "#Check for missing values\n",
    "print('Columns with missing data are sorted starting from the column with most missing values:')\n",
    "\n",
    "#Find % of missing values in each column\n",
    "missing_pct = pd.DataFrame(delivery_info[profile_features_del].isnull().sum()/delivery_info.shape[0], columns=['%Null']).sort_values('%Null',ascending=False)\n",
    "\n",
    "#Print only those with missing values\n",
    "missing_pct[missing_pct['%Null']> 0]"
   ]
  },
  {
   "cell_type": "markdown",
   "metadata": {},
   "source": [
    "For `meal_wave`, I first check the class representation."
   ]
  },
  {
   "cell_type": "code",
   "execution_count": 44,
   "metadata": {},
   "outputs": [
    {
     "data": {
      "text/plain": [
       "third     845\n",
       "second    665\n",
       "first     621\n",
       "1           1\n",
       "Name: meal_wave, dtype: int64"
      ]
     },
     "execution_count": 44,
     "metadata": {},
     "output_type": "execute_result"
    }
   ],
   "source": [
    "#Check class representation\n",
    "delivery_info.meal_wave.value_counts()"
   ]
  },
  {
   "cell_type": "markdown",
   "metadata": {},
   "source": [
    "There are broadly three categories and a single outlier labelled '1'. I investigate this."
   ]
  },
  {
   "cell_type": "code",
   "execution_count": 45,
   "metadata": {},
   "outputs": [
    {
     "data": {
      "text/plain": [
       "6801   2014-07-07 03:17:28.448908\n",
       "Name: serving_date, dtype: datetime64[ns]"
      ]
     },
     "execution_count": 45,
     "metadata": {},
     "output_type": "execute_result"
    }
   ],
   "source": [
    "#Check time served for specific row\n",
    "delivery_info[delivery_info.meal_wave == '1'].serving_date"
   ]
  },
  {
   "cell_type": "markdown",
   "metadata": {},
   "source": [
    "The order was served at 3am in the morning and not likely to belong to any of the three main categories in `meal_wave`. I replace this with 0."
   ]
  },
  {
   "cell_type": "code",
   "execution_count": 46,
   "metadata": {},
   "outputs": [],
   "source": [
    "#Replace the error\n",
    "delivery_info.meal_wave.replace('1',0 , inplace=True)"
   ]
  },
  {
   "cell_type": "markdown",
   "metadata": {},
   "source": [
    "I plot the timings during which meals are served, to look for peak periods."
   ]
  },
  {
   "cell_type": "code",
   "execution_count": 47,
   "metadata": {},
   "outputs": [
    {
     "data": {
      "image/png": "[encoded data removed]",
      "text/plain": [
       "<Figure size 1080x360 with 1 Axes>"
      ]
     },
     "metadata": {
      "needs_background": "light"
     },
     "output_type": "display_data"
    }
   ],
   "source": [
    "#Plot number of meals against time\n",
    "plt.figure(figsize=(15,5))\n",
    "x = delivery_info.serving_date.dt.time.value_counts().sort_index()\n",
    "x.plot(kind='line',title='Meal peak periods (time served)')\n",
    "plt.show()"
   ]
  },
  {
   "cell_type": "markdown",
   "metadata": {},
   "source": [
    "It is clear that the lunch meal occasion i.e. 11am-130pm is the restaurant's key service. We can also see some activity between 6-8pm when the restaurant is open to B2C customers but this is not significant. \n",
    "\n",
    "I also look at the labelled data to see what the wave timing definitions are."
   ]
  },
  {
   "cell_type": "code",
   "execution_count": 48,
   "metadata": {},
   "outputs": [
    {
     "name": "stdout",
     "output_type": "stream",
     "text": [
      "Meal Wave = First\n",
      "--------------------------------------------------\n",
      "11:00:00    120\n",
      "11:15:00    185\n",
      "11:30:00    142\n",
      "11:45:00    149\n",
      "12:00:00     24\n",
      "12:30:00      1\n",
      "Name: serving_date, dtype: int64\n"
     ]
    },
    {
     "data": {
      "image/png": "[encoded data removed]",
      "text/plain": [
       "<Figure size 432x288 with 1 Axes>"
      ]
     },
     "metadata": {
      "needs_background": "light"
     },
     "output_type": "display_data"
    },
    {
     "name": "stdout",
     "output_type": "stream",
     "text": [
      "First wave peaks at 11:15am. Busy period is between 11:15-1145am. It will make sense to define first wave as 11:00 to 11:59am.\n",
      "\n",
      "\n",
      "Meal Wave = Second\n",
      "--------------------------------------------------\n",
      "12:00:00    173\n",
      "12:15:00    230\n",
      "12:30:00     99\n",
      "12:45:00    146\n",
      "13:00:00     17\n",
      "Name: serving_date, dtype: int64\n"
     ]
    },
    {
     "data": {
      "image/png": "[encoded data removed]",
      "text/plain": [
       "<Figure size 432x288 with 1 Axes>"
      ]
     },
     "metadata": {
      "needs_background": "light"
     },
     "output_type": "display_data"
    },
    {
     "name": "stdout",
     "output_type": "stream",
     "text": [
      "Second wave peaks at 12:15am. Busy period is between 12:00-12:15am. It will make sense to define second wave as 12:00 to 12:59am.\n",
      "\n",
      "\n",
      "Meal Wave = Third\n",
      "--------------------------------------------------\n",
      "11:00:00     41\n",
      "11:15:00     29\n",
      "11:30:00     45\n",
      "11:45:00     60\n",
      "12:00:00     56\n",
      "12:15:00     64\n",
      "12:30:00     46\n",
      "12:45:00     32\n",
      "13:00:00    117\n",
      "13:15:00    166\n",
      "13:30:00     99\n",
      "13:45:00     90\n",
      "Name: serving_date, dtype: int64\n"
     ]
    },
    {
     "data": {
      "image/png": "[encoded data removed]",
      "text/plain": [
       "<Figure size 432x288 with 1 Axes>"
      ]
     },
     "metadata": {
      "needs_background": "light"
     },
     "output_type": "display_data"
    },
    {
     "name": "stdout",
     "output_type": "stream",
     "text": [
      "Third wave peaks at 13:15am. Busy period is between 13:00-1315am. It will make sense to define third wave as 13:00 to 13:59am.\n"
     ]
    }
   ],
   "source": [
    "#Plot first wave peak periods\n",
    "print('Meal Wave = First'+'\\n'+'-'*50)\n",
    "print(delivery_info[delivery_info.meal_wave == 'first'].serving_date.dt.time.value_counts().sort_index())\n",
    "delivery_info[delivery_info.meal_wave == 'first'].serving_date.dt.time.value_counts().sort_index().plot(kind='bar',title='Meal Wave = First')\n",
    "plt.show()\n",
    "print('First wave peaks at 11:15am. Busy period is between 11:15-1145am. It will make sense to define first wave as 11:00 to 11:59am.')\n",
    "\n",
    "\n",
    "#Plot second wave peak periods\n",
    "print('\\n'+'\\n'+'Meal Wave = Second'+'\\n'+'-'*50)\n",
    "print(delivery_info[delivery_info.meal_wave == 'second'].serving_date.dt.time.value_counts().sort_index())\n",
    "delivery_info[delivery_info.meal_wave == 'second'].serving_date.dt.time.value_counts().sort_index().plot(kind='bar',title='Meal Wave = Second')\n",
    "plt.show()\n",
    "print('Second wave peaks at 12:15am. Busy period is between 12:00-12:15am. It will make sense to define second wave as 12:00 to 12:59am.')\n",
    "\n",
    "#Plot third wave peak periods\n",
    "print('\\n'+'\\n'+'Meal Wave = Third'+'\\n'+'-'*50)\n",
    "print(delivery_info[delivery_info.meal_wave == 'third'].serving_date.dt.time.value_counts().sort_index())\n",
    "delivery_info[delivery_info.meal_wave == 'third'].serving_date.dt.time.value_counts().sort_index().plot(kind='bar',title='Meal Wave = Third')\n",
    "plt.show()\n",
    "print('Third wave peaks at 13:15am. Busy period is between 13:00-1315am. It will make sense to define third wave as 13:00 to 13:59am.')\n"
   ]
  },
  {
   "cell_type": "markdown",
   "metadata": {},
   "source": [
    "I revise `meal_wave` values for each row according to the above timing defintions for each wave and indicate the other timings as '0'."
   ]
  },
  {
   "cell_type": "code",
   "execution_count": 49,
   "metadata": {},
   "outputs": [],
   "source": [
    "import datetime\n",
    "delivery_info.loc[\n",
    "    (delivery_info.serving_date.dt.time > datetime.time(12,59))&\n",
    "    (delivery_info.serving_date.dt.time < datetime.time(14,00)),\n",
    "    'meal_wave'\n",
    "] = 'third'\n",
    "\n",
    "delivery_info.loc[\n",
    "    (delivery_info.serving_date.dt.time > datetime.time(11,59))&\n",
    "    (delivery_info.serving_date.dt.time < datetime.time(13,00)),\n",
    "    'meal_wave'\n",
    "] = 'second'\n",
    "\n",
    "delivery_info.loc[\n",
    "    (delivery_info.serving_date.dt.time > datetime.time(10,59))&\n",
    "    (delivery_info.serving_date.dt.time < datetime.time(12,00)),\n",
    "    'meal_wave'\n",
    "] = 'first'"
   ]
  },
  {
   "cell_type": "code",
   "execution_count": 50,
   "metadata": {},
   "outputs": [],
   "source": [
    "delivery_info.meal_wave.fillna(0, inplace=True)"
   ]
  },
  {
   "cell_type": "code",
   "execution_count": 51,
   "metadata": {},
   "outputs": [
    {
     "data": {
      "text/plain": [
       "first     13430\n",
       "second    12665\n",
       "third      5385\n",
       "0          1365\n",
       "Name: meal_wave, dtype: int64"
      ]
     },
     "execution_count": 51,
     "metadata": {},
     "output_type": "execute_result"
    }
   ],
   "source": [
    "#Check class representation\n",
    "delivery_info.meal_wave.value_counts(dropna=False)"
   ]
  },
  {
   "cell_type": "code",
   "execution_count": 52,
   "metadata": {},
   "outputs": [
    {
     "data": {
      "image/png": "[encoded data removed]",
      "text/plain": [
       "<Figure size 1080x360 with 1 Axes>"
      ]
     },
     "metadata": {
      "needs_background": "light"
     },
     "output_type": "display_data"
    }
   ],
   "source": [
    "#Plot other meal delivery timings\n",
    "plt.figure(figsize=(15,5))\n",
    "delivery_info[delivery_info.meal_wave == 0].serving_date.dt.time.value_counts().sort_index().plot(title='Non peak periods (time served)')\n",
    "plt.show()"
   ]
  },
  {
   "cell_type": "markdown",
   "metadata": {},
   "source": [
    "From the above plot, it is interesting to see some activity in three main periods, 12-3am, 8-1030am and 4-730pm."
   ]
  },
  {
   "cell_type": "markdown",
   "metadata": {},
   "source": [
    "For `promo_code`, I convert values to binary, 1 being that a promo code was used."
   ]
  },
  {
   "cell_type": "code",
   "execution_count": 53,
   "metadata": {},
   "outputs": [],
   "source": [
    "# #Inspect first 5 rows of class representation\n",
    "# pd.DataFrame(delivery_info.promo_code.value_counts()).head()"
   ]
  },
  {
   "cell_type": "code",
   "execution_count": 54,
   "metadata": {},
   "outputs": [],
   "source": [
    "#Compute missing values as 0\n",
    "delivery_info.promo_code.fillna(0,inplace=True)\n",
    "\n",
    "#Convert non null values as 1\n",
    "delivery_info['promo_code_used'] = delivery_info.promo_code.map(lambda x : 1 if x!=0 else 0)"
   ]
  },
  {
   "cell_type": "code",
   "execution_count": 55,
   "metadata": {},
   "outputs": [
    {
     "data": {
      "text/plain": [
       "0    29976\n",
       "1     2869\n",
       "Name: promo_code_used, dtype: int64"
      ]
     },
     "execution_count": 55,
     "metadata": {},
     "output_type": "execute_result"
    }
   ],
   "source": [
    "#Check class representation\n",
    "delivery_info.promo_code_used.value_counts()"
   ]
  },
  {
   "cell_type": "markdown",
   "metadata": {},
   "source": [
    "I also look at all the feedback related columns together and investigate relationship."
   ]
  },
  {
   "cell_type": "code",
   "execution_count": 56,
   "metadata": {},
   "outputs": [
    {
     "name": "stdout",
     "output_type": "stream",
     "text": [
      "\n",
      "There are three columns related to feedback:\n"
     ]
    },
    {
     "data": {
      "text/plain": [
       "['feedback_link', 'feedback_form_id', 'feedback_token']"
      ]
     },
     "execution_count": 56,
     "metadata": {},
     "output_type": "execute_result"
    }
   ],
   "source": [
    "#Find columns with 'feedback' in header\n",
    "fb = delivery_info.columns[delivery_info.columns.str.contains('feedback')]\n",
    "\n",
    "print('\\n'+'There are three columns related to feedback:')\n",
    "list(fb.values)"
   ]
  },
  {
   "cell_type": "code",
   "execution_count": 57,
   "metadata": {},
   "outputs": [
    {
     "data": {
      "text/plain": [
       "feedback_link       15304\n",
       "feedback_form_id    28226\n",
       "feedback_token      19491\n",
       "dtype: int64"
      ]
     },
     "execution_count": 57,
     "metadata": {},
     "output_type": "execute_result"
    }
   ],
   "source": [
    "#Check number of missing values in each column\n",
    "delivery_info[fb].isnull().sum()"
   ]
  },
  {
   "cell_type": "code",
   "execution_count": 58,
   "metadata": {},
   "outputs": [
    {
     "name": "stdout",
     "output_type": "stream",
     "text": [
      "Num missing values given feedback_token:\n",
      "feedback_form_id    13162\n",
      "feedback_link       12560\n",
      "dtype: int64\n",
      "\n",
      "Num missing values given feedback_form_id:\n",
      "feedback_token    4427\n",
      "feedback_link        0\n",
      "dtype: int64\n",
      "\n",
      "Num missing values given feedback_link:\n",
      "feedback_token      16747\n",
      "feedback_form_id    12922\n",
      "dtype: int64\n"
     ]
    }
   ],
   "source": [
    "#Check relationship between the columns\n",
    "print('Num missing values given feedback_token:')\n",
    "print(delivery_info[delivery_info.feedback_token.notnull()][['feedback_form_id', 'feedback_link']].isnull().sum())\n",
    "\n",
    "print('\\n'+'Num missing values given feedback_form_id:')\n",
    "print(delivery_info[delivery_info.feedback_form_id.notnull()][['feedback_token', 'feedback_link']].isnull().sum())\n",
    "\n",
    "print('\\n'+'Num missing values given feedback_link:')\n",
    "print(delivery_info[delivery_info.feedback_link.notnull()][['feedback_token', 'feedback_form_id']].isnull().sum())"
   ]
  },
  {
   "cell_type": "markdown",
   "metadata": {},
   "source": [
    "I make a guess that while the option to provide feedback is given to customers as indicated by `feedback_link`, not all participate. For those who participate, we have the `feedback_form_id` for reference. Hence I decide to convert the latter to binary where presence of a value means user provided feedback i.e. 1, to keep information that the user provided feedback. "
   ]
  },
  {
   "cell_type": "code",
   "execution_count": 59,
   "metadata": {},
   "outputs": [],
   "source": [
    "#Compute missing values as '0'\n",
    "delivery_info.feedback_form_id.fillna(0, inplace=True)\n",
    "\n",
    "#Convert to binary\n",
    "delivery_info['gave_feedback'] = delivery_info.feedback_form_id.map(lambda x : 1 if x!=0 else 0)"
   ]
  },
  {
   "cell_type": "code",
   "execution_count": 60,
   "metadata": {},
   "outputs": [
    {
     "data": {
      "text/plain": [
       "0    28226\n",
       "1     4619\n",
       "Name: gave_feedback, dtype: int64"
      ]
     },
     "execution_count": 60,
     "metadata": {},
     "output_type": "execute_result"
    }
   ],
   "source": [
    "#Check class representation\n",
    "delivery_info['gave_feedback'].value_counts()"
   ]
  },
  {
   "cell_type": "markdown",
   "metadata": {},
   "source": [
    "I add the new columns to profile features in replacement of `feedback_form_id` and `promo_code`."
   ]
  },
  {
   "cell_type": "code",
   "execution_count": 61,
   "metadata": {},
   "outputs": [],
   "source": [
    "#Add new columns \n",
    "profile_features_del = ['id','user_id','zone_id', 'salesperson_id','address','discount', 'due_dates_only', \n",
    "                        'card_details', 'card_brand', 'source', 'delivery_fee', \n",
    "                        'meal_wave', 'surcharge_amount', 'promo_code_used', 'gave_feedback','postal_code']"
   ]
  },
  {
   "cell_type": "markdown",
   "metadata": {},
   "source": [
    "I look at all the surcharge related columns together and investigate relationship."
   ]
  },
  {
   "cell_type": "code",
   "execution_count": 62,
   "metadata": {},
   "outputs": [
    {
     "name": "stdout",
     "output_type": "stream",
     "text": [
      "There are two columns related to surcharge:\n"
     ]
    },
    {
     "data": {
      "text/plain": [
       "['surcharge_amount', 'surcharge_amount_excluding_gst']"
      ]
     },
     "execution_count": 62,
     "metadata": {},
     "output_type": "execute_result"
    }
   ],
   "source": [
    "#Find columns with 'surcharge' in header\n",
    "surcharge = delivery_info.columns[delivery_info.columns.str.contains('surcharge')]\n",
    "\n",
    "print('There are two columns related to surcharge:')\n",
    "list(surcharge.values)"
   ]
  },
  {
   "cell_type": "code",
   "execution_count": 63,
   "metadata": {},
   "outputs": [
    {
     "data": {
      "text/plain": [
       "surcharge_amount                  12120\n",
       "surcharge_amount_excluding_gst        0\n",
       "dtype: int64"
      ]
     },
     "execution_count": 63,
     "metadata": {},
     "output_type": "execute_result"
    }
   ],
   "source": [
    "#Check number of missing values in each column\n",
    "delivery_info[surcharge].isnull().sum()"
   ]
  },
  {
   "cell_type": "code",
   "execution_count": 64,
   "metadata": {},
   "outputs": [
    {
     "data": {
      "text/plain": [
       "0    12120\n",
       "Name: surcharge_amount_excluding_gst, dtype: int64"
      ]
     },
     "execution_count": 64,
     "metadata": {},
     "output_type": "execute_result"
    }
   ],
   "source": [
    "#Find surcharge_amount_excluding_gst values, where surcharge amount is missing\n",
    "delivery_info.loc[delivery_info.surcharge_amount.isnull(),'surcharge_amount_excluding_gst'].value_counts()"
   ]
  },
  {
   "cell_type": "markdown",
   "metadata": {},
   "source": [
    "Where `surcharge_amount` is missing, `surcharge_amount_excluding_gst` is \\$0. Hence i compute missing values as 0."
   ]
  },
  {
   "cell_type": "code",
   "execution_count": 65,
   "metadata": {},
   "outputs": [],
   "source": [
    "#Compute missing values as '0'\n",
    "delivery_info.surcharge_amount.fillna(0, inplace=True)"
   ]
  },
  {
   "cell_type": "markdown",
   "metadata": {},
   "source": [
    "For delivery fees, I look at three columns to see if I can find any information to help me compute missing values: <br>`delivery_fees`, `delivery_fee`, `delivery_fee_excluding_gst`"
   ]
  },
  {
   "cell_type": "code",
   "execution_count": 66,
   "metadata": {},
   "outputs": [],
   "source": [
    "delivery_cost = ['delivery_fee','delivery_fees','delivery_fee_excluding_gst']"
   ]
  },
  {
   "cell_type": "code",
   "execution_count": 67,
   "metadata": {},
   "outputs": [
    {
     "data": {
      "text/plain": [
       "delivery_fee                  10684\n",
       "delivery_fees                 31698\n",
       "delivery_fee_excluding_gst        0\n",
       "dtype: int64"
      ]
     },
     "execution_count": 67,
     "metadata": {},
     "output_type": "execute_result"
    }
   ],
   "source": [
    "#Checks missing values \n",
    "delivery_info[delivery_cost].isnull().sum()"
   ]
  },
  {
   "cell_type": "markdown",
   "metadata": {},
   "source": [
    "Note that `delivery_fee_excluding_gst` has no missing values. I take a closer look where delivery_fee_excluding_gst is 0. Given this information, `delivery_fee` and `delivery_fees` should be 0 as well. I check if so. \n",
    "\n",
    "Where the `delivery_fee_excluding_gst` is 0, are there any values in `delivery_fee` and `delivery_fees` other than 0 (or missing). If no, I can proceed to assume missing values as 0. "
   ]
  },
  {
   "cell_type": "code",
   "execution_count": 68,
   "metadata": {},
   "outputs": [],
   "source": [
    "#Find rows where delivery_fee_excluding_gst is 0\n",
    "supposed_zero = delivery_info[delivery_info.delivery_fee_excluding_gst == 0][delivery_cost]"
   ]
  },
  {
   "cell_type": "code",
   "execution_count": 69,
   "metadata": {},
   "outputs": [
    {
     "data": {
      "text/plain": [
       "0.0       8862\n",
       "2000.0      98\n",
       "Name: delivery_fee, dtype: int64"
      ]
     },
     "execution_count": 69,
     "metadata": {},
     "output_type": "execute_result"
    }
   ],
   "source": [
    "#Find values in delivery_fee where delivery_fee_excluding_gst is 0\n",
    "supposed_zero.delivery_fee.value_counts()"
   ]
  },
  {
   "cell_type": "markdown",
   "metadata": {},
   "source": [
    "Where `delivery_fee_excluding_gst` is supposedly \\$0, there are actually 98 rows where `delivery_fee` is \\$20. I check the corresponding values in `delivery_fees` where `delivery_fee` is \\$20."
   ]
  },
  {
   "cell_type": "code",
   "execution_count": 70,
   "metadata": {},
   "outputs": [
    {
     "data": {
      "text/html": [
       "<div>\n",
       "<style scoped>\n",
       "    .dataframe tbody tr th:only-of-type {\n",
       "        vertical-align: middle;\n",
       "    }\n",
       "\n",
       "    .dataframe tbody tr th {\n",
       "        vertical-align: top;\n",
       "    }\n",
       "\n",
       "    .dataframe thead th {\n",
       "        text-align: right;\n",
       "    }\n",
       "</style>\n",
       "<table border=\"1\" class=\"dataframe\">\n",
       "  <thead>\n",
       "    <tr style=\"text-align: right;\">\n",
       "      <th></th>\n",
       "      <th>delivery_fee</th>\n",
       "      <th>delivery_fees</th>\n",
       "      <th>delivery_fee_excluding_gst</th>\n",
       "    </tr>\n",
       "  </thead>\n",
       "  <tbody>\n",
       "    <tr>\n",
       "      <th>7814</th>\n",
       "      <td>2000.0</td>\n",
       "      <td>---\\n'2016-12-15': 2000\\n</td>\n",
       "      <td>0</td>\n",
       "    </tr>\n",
       "    <tr>\n",
       "      <th>7827</th>\n",
       "      <td>2000.0</td>\n",
       "      <td>---\\n'2016-12-23': 2000\\n</td>\n",
       "      <td>0</td>\n",
       "    </tr>\n",
       "    <tr>\n",
       "      <th>7828</th>\n",
       "      <td>2000.0</td>\n",
       "      <td>---\\n'2016-12-23': 2000\\n</td>\n",
       "      <td>0</td>\n",
       "    </tr>\n",
       "    <tr>\n",
       "      <th>7840</th>\n",
       "      <td>2000.0</td>\n",
       "      <td>---\\n'2016-12-24': 2000\\n</td>\n",
       "      <td>0</td>\n",
       "    </tr>\n",
       "    <tr>\n",
       "      <th>7847</th>\n",
       "      <td>2000.0</td>\n",
       "      <td>---\\n'2016-12-28': 2000\\n</td>\n",
       "      <td>0</td>\n",
       "    </tr>\n",
       "    <tr>\n",
       "      <th>7855</th>\n",
       "      <td>2000.0</td>\n",
       "      <td>---\\n'2016-12-25': 2000\\n</td>\n",
       "      <td>0</td>\n",
       "    </tr>\n",
       "    <tr>\n",
       "      <th>8098</th>\n",
       "      <td>2000.0</td>\n",
       "      <td>---\\n'2016-12-23': 2000\\n</td>\n",
       "      <td>0</td>\n",
       "    </tr>\n",
       "    <tr>\n",
       "      <th>8100</th>\n",
       "      <td>2000.0</td>\n",
       "      <td>---\\n'2016-12-23': 2000\\n</td>\n",
       "      <td>0</td>\n",
       "    </tr>\n",
       "    <tr>\n",
       "      <th>8101</th>\n",
       "      <td>2000.0</td>\n",
       "      <td>---\\n'2016-12-24': 2000\\n</td>\n",
       "      <td>0</td>\n",
       "    </tr>\n",
       "  </tbody>\n",
       "</table>\n",
       "</div>"
      ],
      "text/plain": [
       "      delivery_fee              delivery_fees  delivery_fee_excluding_gst\n",
       "7814        2000.0  ---\\n'2016-12-15': 2000\\n                           0\n",
       "7827        2000.0  ---\\n'2016-12-23': 2000\\n                           0\n",
       "7828        2000.0  ---\\n'2016-12-23': 2000\\n                           0\n",
       "7840        2000.0  ---\\n'2016-12-24': 2000\\n                           0\n",
       "7847        2000.0  ---\\n'2016-12-28': 2000\\n                           0\n",
       "7855        2000.0  ---\\n'2016-12-25': 2000\\n                           0\n",
       "8098        2000.0  ---\\n'2016-12-23': 2000\\n                           0\n",
       "8100        2000.0  ---\\n'2016-12-23': 2000\\n                           0\n",
       "8101        2000.0  ---\\n'2016-12-24': 2000\\n                           0"
      ]
     },
     "execution_count": 70,
     "metadata": {},
     "output_type": "execute_result"
    }
   ],
   "source": [
    "#Find rows where delivery_fee is 2000 and delivery_fees is not null \n",
    "supposed_zero[(supposed_zero.delivery_fee == 2000) & (supposed_zero.delivery_fees.notnull())]"
   ]
  },
  {
   "cell_type": "markdown",
   "metadata": {},
   "source": [
    "The above shows that where `delivery_fee` is 2000, `delivery_fees` is also 2000. It is likely that `delivery_fees`, `delivery_fee` have the same information.\n",
    "\n",
    "To investigate this, for rows where there is information in `delivery_fees`, I create new columns to split out the fee information."
   ]
  },
  {
   "cell_type": "code",
   "execution_count": 71,
   "metadata": {},
   "outputs": [
    {
     "name": "stdout",
     "output_type": "stream",
     "text": [
      "1147 rows have fee date values.\n",
      "1147 rows have fee amount values.\n"
     ]
    }
   ],
   "source": [
    "#Find rows where delivery_fees is not null and not 'nan'\n",
    "delvfees_notnull = delivery_info[(delivery_info.delivery_fees != 'nan')&(delivery_info.delivery_fees.notnull())]\n",
    "\n",
    "#Split dates into new column\n",
    "delivery_info['delivery_fees_date'] = pd.to_datetime(\n",
    "    delvfees_notnull.delivery_fees.map(\n",
    "        lambda x : x.split(\"'\")[1]\n",
    "    )\n",
    ")\n",
    "\n",
    "#Split fee into new column\n",
    "delivery_info['delivery_fees_amt'] = delvfees_notnull.delivery_fees.map(\n",
    "    lambda x : x.split(\"': \")[1].replace('\\n','').replace(\"'\",'')\n",
    ")\n",
    "\n",
    "\n",
    "print('{} rows have fee date values.'.format(delivery_info[delivery_info.delivery_fees_date.notnull()].shape[0]))\n",
    "print('{} rows have fee amount values.'.format(delivery_info[delivery_info.delivery_fees_amt.notnull()].shape[0]))"
   ]
  },
  {
   "cell_type": "markdown",
   "metadata": {},
   "source": [
    "I check if the fee amounts tally."
   ]
  },
  {
   "cell_type": "code",
   "execution_count": 72,
   "metadata": {},
   "outputs": [
    {
     "data": {
      "text/html": [
       "<div>\n",
       "<style scoped>\n",
       "    .dataframe tbody tr th:only-of-type {\n",
       "        vertical-align: middle;\n",
       "    }\n",
       "\n",
       "    .dataframe tbody tr th {\n",
       "        vertical-align: top;\n",
       "    }\n",
       "\n",
       "    .dataframe thead th {\n",
       "        text-align: right;\n",
       "    }\n",
       "</style>\n",
       "<table border=\"1\" class=\"dataframe\">\n",
       "  <thead>\n",
       "    <tr style=\"text-align: right;\">\n",
       "      <th></th>\n",
       "      <th>delivery_fees_amt</th>\n",
       "      <th>delivery_fee</th>\n",
       "    </tr>\n",
       "  </thead>\n",
       "  <tbody>\n",
       "    <tr>\n",
       "      <th>4457</th>\n",
       "      <td>0</td>\n",
       "      <td>5500.0</td>\n",
       "    </tr>\n",
       "    <tr>\n",
       "      <th>7440</th>\n",
       "      <td>6000</td>\n",
       "      <td>0.0</td>\n",
       "    </tr>\n",
       "  </tbody>\n",
       "</table>\n",
       "</div>"
      ],
      "text/plain": [
       "     delivery_fees_amt  delivery_fee\n",
       "4457                 0        5500.0\n",
       "7440              6000           0.0"
      ]
     },
     "execution_count": 72,
     "metadata": {},
     "output_type": "execute_result"
    }
   ],
   "source": [
    "#Find rows where there is information in delivery_fee and delivery_fees_amt\n",
    "df = delivery_info[\n",
    "    (delivery_info.delivery_fee.notnull())&\n",
    "    (delivery_info.delivery_fees_amt.notnull())\n",
    "][['delivery_fees_amt','delivery_fee']]\n",
    "\n",
    "#Check for difference in fee amounts\n",
    "df[df.delivery_fee.apply(lambda x: str(x).split('.')[0]) != df.delivery_fees_amt]"
   ]
  },
  {
   "cell_type": "markdown",
   "metadata": {},
   "source": [
    "There are two rows where the information differs. Hence it cannot be assumed that the rows provide exactly the same information. \n",
    "\n",
    "I proceed to impute missing values in `delivery_fee` as 0 and will just use this column only."
   ]
  },
  {
   "cell_type": "code",
   "execution_count": 73,
   "metadata": {},
   "outputs": [],
   "source": [
    "#Compute missing values as '0'\n",
    "delivery_info.delivery_fee.fillna(0, inplace=True)"
   ]
  },
  {
   "cell_type": "markdown",
   "metadata": {},
   "source": [
    "For `source`, I consolidate orders made on the same platform e.g. web/ mobile/sales and group the rest as one category, assumed to be so due to legacy (as adviced by the restaurant)."
   ]
  },
  {
   "cell_type": "code",
   "execution_count": 74,
   "metadata": {},
   "outputs": [
    {
     "data": {
      "text/plain": [
       "array([nan, 'personalised', 'sales', 'mobile-android', 'iOS',\n",
       "       'mobile-ios', 'web', 'christmas_special', 'web-group',\n",
       "       'web-group-teams'], dtype=object)"
      ]
     },
     "execution_count": 74,
     "metadata": {},
     "output_type": "execute_result"
    }
   ],
   "source": [
    "#Check unique values\n",
    "delivery_info.source.unique()"
   ]
  },
  {
   "cell_type": "code",
   "execution_count": 75,
   "metadata": {},
   "outputs": [
    {
     "data": {
      "text/plain": [
       "legacy    11535\n",
       "mobile    10358\n",
       "web        8635\n",
       "sales      2317\n",
       "Name: source, dtype: int64"
      ]
     },
     "execution_count": 75,
     "metadata": {},
     "output_type": "execute_result"
    }
   ],
   "source": [
    "#Consolidating categories\n",
    "delivery_info.source = delivery_info.source.apply(lambda x : consolidate_platform(x))\n",
    "\n",
    "#Print new categories\n",
    "delivery_info.source.value_counts()"
   ]
  },
  {
   "cell_type": "markdown",
   "metadata": {},
   "source": [
    "For `discount` , I impute missing values as '0'."
   ]
  },
  {
   "cell_type": "code",
   "execution_count": 76,
   "metadata": {},
   "outputs": [
    {
     "data": {
      "text/plain": [
       "0.0       24562\n",
       "200.0      1179\n",
       "600.0       510\n",
       "500.0       415\n",
       "1000.0      284\n",
       "Name: discount, dtype: int64"
      ]
     },
     "execution_count": 76,
     "metadata": {},
     "output_type": "execute_result"
    }
   ],
   "source": [
    "#Check class representation\n",
    "delivery_info.discount.value_counts().head()"
   ]
  },
  {
   "cell_type": "code",
   "execution_count": 77,
   "metadata": {},
   "outputs": [],
   "source": [
    "#Compute missing values as '0'\n",
    "delivery_info.discount.fillna(0,inplace=True)"
   ]
  },
  {
   "cell_type": "markdown",
   "metadata": {},
   "source": [
    "I look at address for information to compute missing values in `zone_id`."
   ]
  },
  {
   "cell_type": "code",
   "execution_count": 78,
   "metadata": {},
   "outputs": [
    {
     "name": "stdout",
     "output_type": "stream",
     "text": [
      "Where zone_id is null, addresses are:\n",
      "------------------------------------------------------------\n",
      "11421                                            NaN\n",
      "31969    Roundabout between MBFC Tower 1 and Tower 2\n",
      "Name: address, dtype: object\n",
      "\n",
      "I find that the most likely zone_id value where address is \"Roundabout between MBFC Tower1 and Tower 2\" is 74.0.\n"
     ]
    }
   ],
   "source": [
    "#Find address values where zone_id is missing\n",
    "print('Where zone_id is null, addresses are:'+'\\n'+'-'*60)\n",
    "print(delivery_info.loc[delivery_info.zone_id.isnull(),'address'])\n",
    "\n",
    "#Find mode of zone_id where address == 'Roundabout between MBFC Tower 1 and Tower 2'\n",
    "most_likely_zone_id = delivery_info[\n",
    "    delivery_info.address == 'Roundabout between MBFC Tower 1 and Tower 2'\n",
    "].zone_id.mode()[0]\n",
    "\n",
    "print('\\n'+'I find that the most likely zone_id value where address is \"Roundabout between MBFC Tower1 and Tower 2\" is {}.'.format(most_likely_zone_id))"
   ]
  },
  {
   "cell_type": "markdown",
   "metadata": {},
   "source": [
    "I compute the missing value for \"Roundabout between MBFC Tower1 and Tower 2\" as 74.0, and fill missing values as '0'."
   ]
  },
  {
   "cell_type": "code",
   "execution_count": 79,
   "metadata": {},
   "outputs": [],
   "source": [
    "#Replace the missing values in zone_id where address == 'Roundabout between MBFC Tower1 and Tower 2' to 74.0\n",
    "delivery_info.loc[\n",
    "    (delivery_info.address == 'Roundabout between MBFC Tower 1 and Tower 2')&\n",
    "    (delivery_info.zone_id.isnull()),\n",
    "    'zone_id'\n",
    "] = most_likely_zone_id"
   ]
  },
  {
   "cell_type": "code",
   "execution_count": 80,
   "metadata": {},
   "outputs": [],
   "source": [
    "#Compute missing values as '0'\n",
    "delivery_info.zone_id.fillna(0, inplace=True)"
   ]
  },
  {
   "cell_type": "markdown",
   "metadata": {},
   "source": [
    "For `postal_code`, I fill missing values as 000000 and convert values to float type."
   ]
  },
  {
   "cell_type": "code",
   "execution_count": 81,
   "metadata": {},
   "outputs": [],
   "source": [
    "#Compute missing values as '0'\n",
    "delivery_info.postal_code.fillna(0, inplace=True)"
   ]
  },
  {
   "cell_type": "code",
   "execution_count": 82,
   "metadata": {},
   "outputs": [],
   "source": [
    "#Convert to float type\n",
    "delivery_info.postal_code = delivery_info.postal_code.astype(float)"
   ]
  },
  {
   "cell_type": "markdown",
   "metadata": {},
   "source": [
    "I then group postal codes into regions according to URA's district definition."
   ]
  },
  {
   "cell_type": "code",
   "execution_count": 83,
   "metadata": {},
   "outputs": [],
   "source": [
    "#First we need to add missing zeros where postal code starts with 0 e.g. 018394\n",
    "delivery_info['postal_code_clean'] = delivery_info.postal_code.map(lambda x: clean_postalcode_non_int(x))"
   ]
  },
  {
   "cell_type": "code",
   "execution_count": 84,
   "metadata": {},
   "outputs": [],
   "source": [
    "#Then group into regions\n",
    "delivery_info['district'] = delivery_info.postal_code_clean.map(lambda x : set_region(x))"
   ]
  },
  {
   "cell_type": "code",
   "execution_count": 85,
   "metadata": {},
   "outputs": [
    {
     "data": {
      "text/plain": [
       "000000    12\n",
       "Name: postal_code_clean, dtype: int64"
      ]
     },
     "execution_count": 85,
     "metadata": {},
     "output_type": "execute_result"
    }
   ],
   "source": [
    "#Check if there are any postal codes not belonging to any district\n",
    "delivery_info[delivery_info.district.isnull()]['postal_code_clean'].value_counts()"
   ]
  },
  {
   "cell_type": "markdown",
   "metadata": {},
   "source": [
    "I look at address for information to compute missing values in `district`."
   ]
  },
  {
   "cell_type": "code",
   "execution_count": 86,
   "metadata": {},
   "outputs": [
    {
     "name": "stdout",
     "output_type": "stream",
     "text": [
      "Where district is null, addresses are:\n",
      "------------------------------------------------------------\n",
      "Roundabout between MBFC Tower 1 and Tower 2    4\n",
      "21 Ocean Way                                   2\n",
      "Special Location                               2\n",
      "TESTTOWER                                      2\n",
      "Marina Bay Testing Tower                       1\n",
      "Name: address, dtype: int64\n"
     ]
    }
   ],
   "source": [
    "#Find address values where zone_id is missing\n",
    "print('Where district is null, addresses are:'+'\\n'+'-'*60)\n",
    "print(delivery_info.loc[delivery_info.district.isnull(),'address'].value_counts())"
   ]
  },
  {
   "cell_type": "markdown",
   "metadata": {},
   "source": [
    "I fill in the most probable district value for addresses in \"Roundabout between MBFC Tower 1 and Tower 2\" and fill 4 for 21 Ocean Way (From desktop research, postal code: 098374)."
   ]
  },
  {
   "cell_type": "code",
   "execution_count": 87,
   "metadata": {},
   "outputs": [
    {
     "name": "stdout",
     "output_type": "stream",
     "text": [
      "\n",
      "Most likely district value where address is \"Roundabout between MBFC Tower 1 and Tower 2\" is 1.0.\n"
     ]
    }
   ],
   "source": [
    "#Find mode of district values for the above addresses\n",
    "print('\\n'+'Most likely district value where address is \"Roundabout between MBFC Tower 1 and Tower 2\" is {}.'.format(delivery_info[delivery_info.address == 'Roundabout between MBFC Tower 1 and Tower 2'].district.mode()[0]))"
   ]
  },
  {
   "cell_type": "code",
   "execution_count": 88,
   "metadata": {},
   "outputs": [],
   "source": [
    "#Replace the missing values \n",
    "delivery_info.loc[\n",
    "    (delivery_info.address == 'Roundabout between MBFC Tower 1 and Tower 2')&\n",
    "    (delivery_info.district.isnull()),\n",
    "    'district'\n",
    "] = 1\n",
    "\n",
    "delivery_info.loc[\n",
    "    (delivery_info.address == '21 Ocean Way')&\n",
    "    (delivery_info.district.isnull()),\n",
    "    'district'\n",
    "] = 4"
   ]
  },
  {
   "cell_type": "markdown",
   "metadata": {},
   "source": [
    "I add the new column to profile features in replacement of `postal_code`."
   ]
  },
  {
   "cell_type": "code",
   "execution_count": 89,
   "metadata": {},
   "outputs": [],
   "source": [
    "#Convert salesperson_id to binary\n",
    "delivery_info.salesperson_id.fillna(0, inplace=True)\n",
    "delivery_info.salesperson_id = delivery_info.salesperson_id.apply(lambda x: 1 if x != 0 else 0)"
   ]
  },
  {
   "cell_type": "code",
   "execution_count": 90,
   "metadata": {},
   "outputs": [],
   "source": [
    "#Add new columns \n",
    "profile_features_del = ['id','user_id', 'address','zone_id', 'salesperson_id','discount', 'due_dates_only', \n",
    "                        'card_details', 'card_brand', 'source', 'delivery_fee', \n",
    "                        'meal_wave', 'surcharge_amount', 'promo_code_used', 'gave_feedback','district']"
   ]
  },
  {
   "cell_type": "code",
   "execution_count": 91,
   "metadata": {},
   "outputs": [
    {
     "data": {
      "text/plain": [
       "id                      0\n",
       "user_id                 0\n",
       "address                66\n",
       "zone_id                 0\n",
       "salesperson_id          0\n",
       "discount                0\n",
       "due_dates_only          0\n",
       "card_details        15614\n",
       "card_brand          10018\n",
       "source                  0\n",
       "delivery_fee            0\n",
       "meal_wave               0\n",
       "surcharge_amount        0\n",
       "promo_code_used         0\n",
       "gave_feedback           0\n",
       "district                6\n",
       "dtype: int64"
      ]
     },
     "execution_count": 91,
     "metadata": {},
     "output_type": "execute_result"
    }
   ],
   "source": [
    "#Check again for missing values\n",
    "delivery_info[profile_features_del].isnull().sum()"
   ]
  },
  {
   "cell_type": "markdown",
   "metadata": {},
   "source": [
    "I leave the rest of the null values as is for now. "
   ]
  },
  {
   "cell_type": "markdown",
   "metadata": {},
   "source": [
    "<b> Other Notes <b>"
   ]
  },
  {
   "cell_type": "markdown",
   "metadata": {},
   "source": [
    "While checking class representations in `delivery_fees_amt`, I find an outlier in the data point where value is 9502015-9-8 ."
   ]
  },
  {
   "cell_type": "markdown",
   "metadata": {},
   "source": [
    "It happens that there are two fee amounts in this order."
   ]
  },
  {
   "cell_type": "markdown",
   "metadata": {},
   "source": [
    "## Order Details"
   ]
  },
  {
   "cell_type": "code",
   "execution_count": 92,
   "metadata": {},
   "outputs": [],
   "source": [
    "#Import data\n",
    "order_items = pd.read_csv('../raw/order_items.csv')"
   ]
  },
  {
   "cell_type": "code",
   "execution_count": 93,
   "metadata": {},
   "outputs": [],
   "source": [
    "# #Inspect data\n",
    "# order_items.sample()"
   ]
  },
  {
   "cell_type": "code",
   "execution_count": 94,
   "metadata": {},
   "outputs": [],
   "source": [
    "#Define original dataset shape\n",
    "initial_nrows = order_items.shape[0]\n",
    "initial_cols = order_items.shape[1]"
   ]
  },
  {
   "cell_type": "code",
   "execution_count": 95,
   "metadata": {},
   "outputs": [
    {
     "name": "stdout",
     "output_type": "stream",
     "text": [
      "Order data includes information on 285260 orders for 511 unique menu items.\n",
      "\n",
      "---------------------------------------------------------------------------\n",
      "\n",
      "There are 16 features including:\n"
     ]
    },
    {
     "data": {
      "text/plain": [
       "['id',\n",
       " 'item_id',\n",
       " 'quantity',\n",
       " 'unit_price',\n",
       " 'name',\n",
       " 'delivery_order_id',\n",
       " 'created_at',\n",
       " 'updated_at',\n",
       " 'item_type',\n",
       " 'meal_code',\n",
       " 'serving_date',\n",
       " 'order_id',\n",
       " 'type',\n",
       " 'unit_price_excluding_gst',\n",
       " 'gst_value',\n",
       " 'bundle_meal_id']"
      ]
     },
     "execution_count": 95,
     "metadata": {},
     "output_type": "execute_result"
    }
   ],
   "source": [
    "#Print number of orders, unique menu items and features\n",
    "print('Order data includes information on {} orders for {} unique menu items.'.format(initial_nrows,order_items.item_id.nunique())+'\\n'+'\\n'+'-'*75)\n",
    "print('\\n'+'There are {} features including:'.format(initial_cols))\n",
    "\n",
    "list(order_items.columns)"
   ]
  },
  {
   "cell_type": "markdown",
   "metadata": {},
   "source": [
    "<b>I keep only rows with `delivery_order_id` matching `id` in delivery info dataset because this means we have the delivery information and user data."
   ]
  },
  {
   "cell_type": "code",
   "execution_count": 96,
   "metadata": {},
   "outputs": [],
   "source": [
    "##Filter for delivery orders we know\n",
    "u_order = order_items[order_items['delivery_order_id'].isin(delivery_info.id)]"
   ]
  },
  {
   "cell_type": "code",
   "execution_count": 97,
   "metadata": {},
   "outputs": [
    {
     "name": "stdout",
     "output_type": "stream",
     "text": [
      "\n",
      "We now have 57461 data for 29504 unique delivery orders.\n"
     ]
    }
   ],
   "source": [
    "#Print number of unique delivery ids for which we have order details\n",
    "print('\\n'+'We now have {} data for {} unique delivery orders.'.format(u_order.shape[0],u_order.delivery_order_id.nunique()))"
   ]
  },
  {
   "cell_type": "code",
   "execution_count": 98,
   "metadata": {},
   "outputs": [
    {
     "name": "stdout",
     "output_type": "stream",
     "text": [
      "\n",
      "Note that 227799 rows had delivery order ids which were not recognised.\n"
     ]
    }
   ],
   "source": [
    "#Print number of rows where delivery order id is not found in delivery info data set.\n",
    "print('\\n'+'Note that {} rows had delivery order ids which were not recognised.'.format(order_items[~order_items['delivery_order_id'].isin(delivery_info.id)].shape[0]))"
   ]
  },
  {
   "cell_type": "code",
   "execution_count": 99,
   "metadata": {},
   "outputs": [
    {
     "name": "stdout",
     "output_type": "stream",
     "text": [
      "\n",
      "Order details data we have is from 2014-07-23 04:52:40 to 2019-08-27 19:00:00\n"
     ]
    }
   ],
   "source": [
    "#Print time period of data\n",
    "print('\\n'+'Order details data we have is from {} to {}'.format(pd.to_datetime(order_items.serving_date).min(),pd.to_datetime(order_items.serving_date).max()))"
   ]
  },
  {
   "cell_type": "markdown",
   "metadata": {},
   "source": [
    "### Missing data"
   ]
  },
  {
   "cell_type": "code",
   "execution_count": 100,
   "metadata": {},
   "outputs": [
    {
     "name": "stdout",
     "output_type": "stream",
     "text": [
      "Columns with missing data are sorted starting from the column with most missing values:\n"
     ]
    },
    {
     "data": {
      "text/html": [
       "<div>\n",
       "<style scoped>\n",
       "    .dataframe tbody tr th:only-of-type {\n",
       "        vertical-align: middle;\n",
       "    }\n",
       "\n",
       "    .dataframe tbody tr th {\n",
       "        vertical-align: top;\n",
       "    }\n",
       "\n",
       "    .dataframe thead th {\n",
       "        text-align: right;\n",
       "    }\n",
       "</style>\n",
       "<table border=\"1\" class=\"dataframe\">\n",
       "  <thead>\n",
       "    <tr style=\"text-align: right;\">\n",
       "      <th></th>\n",
       "      <th>%Null</th>\n",
       "    </tr>\n",
       "  </thead>\n",
       "  <tbody>\n",
       "    <tr>\n",
       "      <th>bundle_meal_id</th>\n",
       "      <td>0.999443</td>\n",
       "    </tr>\n",
       "    <tr>\n",
       "      <th>order_id</th>\n",
       "      <td>0.990829</td>\n",
       "    </tr>\n",
       "    <tr>\n",
       "      <th>unit_price_excluding_gst</th>\n",
       "      <td>0.004212</td>\n",
       "    </tr>\n",
       "    <tr>\n",
       "      <th>gst_value</th>\n",
       "      <td>0.004212</td>\n",
       "    </tr>\n",
       "    <tr>\n",
       "      <th>type</th>\n",
       "      <td>0.000661</td>\n",
       "    </tr>\n",
       "    <tr>\n",
       "      <th>unit_price</th>\n",
       "      <td>0.000348</td>\n",
       "    </tr>\n",
       "    <tr>\n",
       "      <th>meal_code</th>\n",
       "      <td>0.000157</td>\n",
       "    </tr>\n",
       "    <tr>\n",
       "      <th>name</th>\n",
       "      <td>0.000104</td>\n",
       "    </tr>\n",
       "    <tr>\n",
       "      <th>item_type</th>\n",
       "      <td>0.000104</td>\n",
       "    </tr>\n",
       "    <tr>\n",
       "      <th>item_id</th>\n",
       "      <td>0.000087</td>\n",
       "    </tr>\n",
       "  </tbody>\n",
       "</table>\n",
       "</div>"
      ],
      "text/plain": [
       "                             %Null\n",
       "bundle_meal_id            0.999443\n",
       "order_id                  0.990829\n",
       "unit_price_excluding_gst  0.004212\n",
       "gst_value                 0.004212\n",
       "type                      0.000661\n",
       "unit_price                0.000348\n",
       "meal_code                 0.000157\n",
       "name                      0.000104\n",
       "item_type                 0.000104\n",
       "item_id                   0.000087"
      ]
     },
     "execution_count": 100,
     "metadata": {},
     "output_type": "execute_result"
    }
   ],
   "source": [
    "#Check for missing values\n",
    "print('Columns with missing data are sorted starting from the column with most missing values:')\n",
    "\n",
    "#Find % of missing values in each column\n",
    "missing_pct = pd.DataFrame(u_order.isnull().sum()/u_order.shape[0], columns=['%Null']).sort_values('%Null',ascending=False)\n",
    "\n",
    "#Print only those with missing values\n",
    "missing_pct[missing_pct['%Null']> 0]"
   ]
  },
  {
   "cell_type": "markdown",
   "metadata": {},
   "source": [
    "### Useful Features"
   ]
  },
  {
   "cell_type": "markdown",
   "metadata": {},
   "source": [
    "Taking into consideration the amount of missing values in some columns, I identify the following columns to be useful for profiling users and prioritise data cleaning accordingly:\n",
    "\n",
    "\n",
    "`quantity`, `unit_price`, `item_type`"
   ]
  },
  {
   "cell_type": "code",
   "execution_count": 101,
   "metadata": {},
   "outputs": [],
   "source": [
    "#Identify useful deatures\n",
    "profile_features_ord = ['delivery_order_id','item_id','item_type','quantity', 'unit_price']"
   ]
  },
  {
   "cell_type": "code",
   "execution_count": 102,
   "metadata": {},
   "outputs": [
    {
     "data": {
      "text/plain": [
       "delivery_order_id      int64\n",
       "item_id              float64\n",
       "item_type             object\n",
       "quantity             float64\n",
       "unit_price           float64\n",
       "dtype: object"
      ]
     },
     "execution_count": 102,
     "metadata": {},
     "output_type": "execute_result"
    }
   ],
   "source": [
    "#Inspect data types\n",
    "u_order[profile_features_ord].dtypes"
   ]
  },
  {
   "cell_type": "markdown",
   "metadata": {},
   "source": [
    "I proceed to check for missing values."
   ]
  },
  {
   "cell_type": "code",
   "execution_count": 103,
   "metadata": {},
   "outputs": [
    {
     "data": {
      "text/plain": [
       "delivery_order_id     0\n",
       "item_id               5\n",
       "item_type             6\n",
       "quantity              0\n",
       "unit_price           20\n",
       "dtype: int64"
      ]
     },
     "execution_count": 103,
     "metadata": {},
     "output_type": "execute_result"
    }
   ],
   "source": [
    "#Check for missing values\n",
    "u_order[profile_features_ord].isnull().sum()"
   ]
  },
  {
   "cell_type": "code",
   "execution_count": 104,
   "metadata": {},
   "outputs": [
    {
     "data": {
      "text/plain": [
       "319.0    15\n",
       "NaN       5\n",
       "Name: item_id, dtype: int64"
      ]
     },
     "execution_count": 104,
     "metadata": {},
     "output_type": "execute_result"
    }
   ],
   "source": [
    "#Find the item id where unit price is missing \n",
    "u_order.loc[u_order.unit_price.isnull(),'item_id'].value_counts(dropna=False)"
   ]
  },
  {
   "cell_type": "markdown",
   "metadata": {},
   "source": [
    "There are 15 null values relating to item 319. "
   ]
  },
  {
   "cell_type": "markdown",
   "metadata": {},
   "source": [
    "I compute them with median price of all items labeled item 319. Mean is not used as the data is highly skewed. "
   ]
  },
  {
   "cell_type": "code",
   "execution_count": 105,
   "metadata": {},
   "outputs": [
    {
     "data": {
      "image/png": "[encoded data removed]",
      "text/plain": [
       "<Figure size 432x288 with 1 Axes>"
      ]
     },
     "metadata": {
      "needs_background": "light"
     },
     "output_type": "display_data"
    }
   ],
   "source": [
    "#Plot unit prices of items labelled with item_id = 319\n",
    "(u_order[u_order.item_id == 319].unit_price).plot(kind='box')\n",
    "plt.show()"
   ]
  },
  {
   "cell_type": "code",
   "execution_count": 106,
   "metadata": {},
   "outputs": [],
   "source": [
    "#Compute median unit price\n",
    "median_unit_price = u_order[u_order.item_id == 319].unit_price.median()"
   ]
  },
  {
   "cell_type": "code",
   "execution_count": 107,
   "metadata": {
    "scrolled": true
   },
   "outputs": [],
   "source": [
    "#Fill missing values\n",
    "u_order.loc[(u_order.unit_price.isnull())&(u_order.item_id == 319) , 'unit_price'] = median_unit_price"
   ]
  },
  {
   "cell_type": "code",
   "execution_count": 108,
   "metadata": {},
   "outputs": [
    {
     "data": {
      "text/plain": [
       "delivery_order_id    0\n",
       "item_id              5\n",
       "item_type            6\n",
       "quantity             0\n",
       "unit_price           5\n",
       "dtype: int64"
      ]
     },
     "execution_count": 108,
     "metadata": {},
     "output_type": "execute_result"
    }
   ],
   "source": [
    "#Check again for missing values\n",
    "u_order[profile_features_ord].isnull().sum()"
   ]
  },
  {
   "cell_type": "markdown",
   "metadata": {},
   "source": [
    "I leave the rest of the null values as is for now. "
   ]
  },
  {
   "cell_type": "markdown",
   "metadata": {},
   "source": [
    "## Menu"
   ]
  },
  {
   "cell_type": "code",
   "execution_count": 109,
   "metadata": {
    "scrolled": false
   },
   "outputs": [],
   "source": [
    "#Import data\n",
    "menu = pd.read_csv('../raw/meals.csv')"
   ]
  },
  {
   "cell_type": "code",
   "execution_count": 110,
   "metadata": {},
   "outputs": [],
   "source": [
    "# #Inspect data\n",
    "# menu.sample()"
   ]
  },
  {
   "cell_type": "code",
   "execution_count": 111,
   "metadata": {},
   "outputs": [
    {
     "name": "stdout",
     "output_type": "stream",
     "text": [
      "Meals data includes information of 607 unique menu items.\n",
      "\n",
      "---------------------------------------------------------------------------\n",
      "\n",
      "There are 26 features including:\n"
     ]
    },
    {
     "data": {
      "text/plain": [
       "['id',\n",
       " 'name',\n",
       " 'date',\n",
       " 'price',\n",
       " 'description',\n",
       " 'created_at',\n",
       " 'updated_at',\n",
       " 'recipe_id',\n",
       " 'serving',\n",
       " 'meal_id',\n",
       " 'sold_out',\n",
       " 'macros',\n",
       " 'drink',\n",
       " 'restocking',\n",
       " 'ingredients',\n",
       " 'daily',\n",
       " 'sides',\n",
       " 'temperature',\n",
       " 'category',\n",
       " 'byline',\n",
       " 'price_excluding_gst',\n",
       " 'price_including_gst',\n",
       " 'feedback_score',\n",
       " 'is_archived',\n",
       " 'is_resale',\n",
       " 'premium_surcharge_per_pax']"
      ]
     },
     "execution_count": 111,
     "metadata": {},
     "output_type": "execute_result"
    }
   ],
   "source": [
    "#Define original dataset shape\n",
    "initial_nrows = menu.shape[0]\n",
    "initial_cols = menu.shape[1]\n",
    "\n",
    "#Print number of unique menu items and features\n",
    "print('Meals data includes information of {} unique menu items.'.format(menu.id.nunique())+'\\n'+'\\n'+'-'*75)\n",
    "print('\\n'+'There are {} features including:'.format(initial_cols))\n",
    "\n",
    "list(menu.columns)"
   ]
  },
  {
   "cell_type": "markdown",
   "metadata": {},
   "source": [
    "<b> I keep only rows with `id` matching `item_id` in order info dataset because this means we can match this to order details. <b>"
   ]
  },
  {
   "cell_type": "code",
   "execution_count": 112,
   "metadata": {},
   "outputs": [],
   "source": [
    "u_menu = menu[menu.id.isin(u_order.item_id)]"
   ]
  },
  {
   "cell_type": "code",
   "execution_count": 113,
   "metadata": {},
   "outputs": [
    {
     "name": "stdout",
     "output_type": "stream",
     "text": [
      "We only need information on 363 unique menu items.\n"
     ]
    }
   ],
   "source": [
    "print('We only need information on {} unique menu items.'.format(u_menu.id.nunique()))"
   ]
  },
  {
   "cell_type": "markdown",
   "metadata": {},
   "source": [
    "Out of 607 menu items, only half were being ordered by users."
   ]
  },
  {
   "cell_type": "markdown",
   "metadata": {},
   "source": [
    "### Missing data"
   ]
  },
  {
   "cell_type": "code",
   "execution_count": 114,
   "metadata": {},
   "outputs": [
    {
     "name": "stdout",
     "output_type": "stream",
     "text": [
      "Columns with missing data are sorted starting from the column with most missing values:\n"
     ]
    },
    {
     "data": {
      "text/html": [
       "<div>\n",
       "<style scoped>\n",
       "    .dataframe tbody tr th:only-of-type {\n",
       "        vertical-align: middle;\n",
       "    }\n",
       "\n",
       "    .dataframe tbody tr th {\n",
       "        vertical-align: top;\n",
       "    }\n",
       "\n",
       "    .dataframe thead th {\n",
       "        text-align: right;\n",
       "    }\n",
       "</style>\n",
       "<table border=\"1\" class=\"dataframe\">\n",
       "  <thead>\n",
       "    <tr style=\"text-align: right;\">\n",
       "      <th></th>\n",
       "      <th>%Null</th>\n",
       "    </tr>\n",
       "  </thead>\n",
       "  <tbody>\n",
       "    <tr>\n",
       "      <th>premium_surcharge_per_pax</th>\n",
       "      <td>1.000000</td>\n",
       "    </tr>\n",
       "    <tr>\n",
       "      <th>restocking</th>\n",
       "      <td>0.986226</td>\n",
       "    </tr>\n",
       "    <tr>\n",
       "      <th>sold_out</th>\n",
       "      <td>0.983471</td>\n",
       "    </tr>\n",
       "    <tr>\n",
       "      <th>date</th>\n",
       "      <td>0.977961</td>\n",
       "    </tr>\n",
       "    <tr>\n",
       "      <th>feedback_score</th>\n",
       "      <td>0.977961</td>\n",
       "    </tr>\n",
       "    <tr>\n",
       "      <th>daily</th>\n",
       "      <td>0.575758</td>\n",
       "    </tr>\n",
       "    <tr>\n",
       "      <th>drink</th>\n",
       "      <td>0.567493</td>\n",
       "    </tr>\n",
       "    <tr>\n",
       "      <th>serving</th>\n",
       "      <td>0.567493</td>\n",
       "    </tr>\n",
       "    <tr>\n",
       "      <th>byline</th>\n",
       "      <td>0.388430</td>\n",
       "    </tr>\n",
       "    <tr>\n",
       "      <th>temperature</th>\n",
       "      <td>0.063361</td>\n",
       "    </tr>\n",
       "    <tr>\n",
       "      <th>price_including_gst</th>\n",
       "      <td>0.022039</td>\n",
       "    </tr>\n",
       "    <tr>\n",
       "      <th>price_excluding_gst</th>\n",
       "      <td>0.022039</td>\n",
       "    </tr>\n",
       "    <tr>\n",
       "      <th>ingredients</th>\n",
       "      <td>0.016529</td>\n",
       "    </tr>\n",
       "    <tr>\n",
       "      <th>price</th>\n",
       "      <td>0.008264</td>\n",
       "    </tr>\n",
       "    <tr>\n",
       "      <th>macros</th>\n",
       "      <td>0.008264</td>\n",
       "    </tr>\n",
       "    <tr>\n",
       "      <th>meal_id</th>\n",
       "      <td>0.008264</td>\n",
       "    </tr>\n",
       "    <tr>\n",
       "      <th>category</th>\n",
       "      <td>0.002755</td>\n",
       "    </tr>\n",
       "    <tr>\n",
       "      <th>description</th>\n",
       "      <td>0.002755</td>\n",
       "    </tr>\n",
       "  </tbody>\n",
       "</table>\n",
       "</div>"
      ],
      "text/plain": [
       "                              %Null\n",
       "premium_surcharge_per_pax  1.000000\n",
       "restocking                 0.986226\n",
       "sold_out                   0.983471\n",
       "date                       0.977961\n",
       "feedback_score             0.977961\n",
       "daily                      0.575758\n",
       "drink                      0.567493\n",
       "serving                    0.567493\n",
       "byline                     0.388430\n",
       "temperature                0.063361\n",
       "price_including_gst        0.022039\n",
       "price_excluding_gst        0.022039\n",
       "ingredients                0.016529\n",
       "price                      0.008264\n",
       "macros                     0.008264\n",
       "meal_id                    0.008264\n",
       "category                   0.002755\n",
       "description                0.002755"
      ]
     },
     "execution_count": 114,
     "metadata": {},
     "output_type": "execute_result"
    }
   ],
   "source": [
    "#Check for missing values\n",
    "print('Columns with missing data are sorted starting from the column with most missing values:')\n",
    "\n",
    "#Find % of missing values in each column\n",
    "missing_pct = pd.DataFrame(u_menu.isnull().sum()/u_menu.shape[0], columns=['%Null']).sort_values('%Null',ascending=False)\n",
    "\n",
    "#Print only those with missing values\n",
    "missing_pct[missing_pct['%Null']> 0]"
   ]
  },
  {
   "cell_type": "markdown",
   "metadata": {},
   "source": [
    "### Useful Features"
   ]
  },
  {
   "cell_type": "markdown",
   "metadata": {},
   "source": [
    "Taking into consideration the amount of missing values in some columns, I identify the following columns to be useful for profiling users and prioritise data cleaning accordingly:\n",
    "\n",
    "\n",
    "`macros`, `ingredients`, `temperature`, `category`"
   ]
  },
  {
   "cell_type": "code",
   "execution_count": 115,
   "metadata": {},
   "outputs": [],
   "source": [
    "#Identify useful features\n",
    "profile_features_men = ['id','name','macros','ingredients','temperature','category']"
   ]
  },
  {
   "cell_type": "code",
   "execution_count": 116,
   "metadata": {},
   "outputs": [
    {
     "data": {
      "text/plain": [
       "id              0\n",
       "name            0\n",
       "macros          3\n",
       "ingredients     6\n",
       "temperature    23\n",
       "category        1\n",
       "dtype: int64"
      ]
     },
     "execution_count": 116,
     "metadata": {},
     "output_type": "execute_result"
    }
   ],
   "source": [
    "#Check for missing values\n",
    "u_menu[profile_features_men].isnull().sum()"
   ]
  },
  {
   "cell_type": "markdown",
   "metadata": {},
   "source": [
    "For `macros`, I compute missing values as 0."
   ]
  },
  {
   "cell_type": "code",
   "execution_count": 117,
   "metadata": {},
   "outputs": [],
   "source": [
    "#Compute missing values as 0\n",
    "u_menu.macros.fillna(0, inplace=True)"
   ]
  },
  {
   "cell_type": "markdown",
   "metadata": {},
   "source": [
    "For null values in `temperature` I check what are the items and if we can logically fill the missing values. "
   ]
  },
  {
   "cell_type": "code",
   "execution_count": 118,
   "metadata": {},
   "outputs": [
    {
     "data": {
      "text/plain": [
       "array([nan, 'warm', 'chilled', 'room'], dtype=object)"
      ]
     },
     "execution_count": 118,
     "metadata": {},
     "output_type": "execute_result"
    }
   ],
   "source": [
    "#Check possible values\n",
    "u_menu.temperature.unique()"
   ]
  },
  {
   "cell_type": "markdown",
   "metadata": {},
   "source": [
    "I inspect the names and descriptions of items with missing values for temperature a assign a value."
   ]
  },
  {
   "cell_type": "code",
   "execution_count": 119,
   "metadata": {},
   "outputs": [],
   "source": [
    "# #Inspect name of items with missing values for temperature\n",
    "# u_menu[u_menu.temperature.isnull()].name.value_counts()"
   ]
  },
  {
   "cell_type": "code",
   "execution_count": 120,
   "metadata": {},
   "outputs": [],
   "source": [
    "# #Loop through each unique item and print description for context\n",
    "# lst = list(u_menu[u_menu.temperature.isnull()].name.unique())\n",
    "\n",
    "# for i in lst:\n",
    "#     print('{}: {} '.format(i,u_menu[u_menu.name == i].description.iloc[0])+'\\n'+'-'*10)\n"
   ]
  },
  {
   "cell_type": "code",
   "execution_count": 121,
   "metadata": {},
   "outputs": [],
   "source": [
    "#Fill in temperature using description context\n",
    "censored"
   ]
  },
  {
   "cell_type": "markdown",
   "metadata": {},
   "source": [
    "## Combined Dataset"
   ]
  },
  {
   "cell_type": "markdown",
   "metadata": {},
   "source": [
    "I merge the dataframes on the respective keys, taking only the useful features identified. "
   ]
  },
  {
   "cell_type": "code",
   "execution_count": 122,
   "metadata": {},
   "outputs": [],
   "source": [
    "#Merge user data with delivery information using id, user_id respectively\n",
    "users_delivery_info = users[profile_features].merge(\n",
    "    delivery_info[profile_features_del], \n",
    "    left_on='id', \n",
    "    right_on='user_id', \n",
    "    suffixes=('_users', '_delivery_info')\n",
    ")"
   ]
  },
  {
   "cell_type": "code",
   "execution_count": 123,
   "metadata": {},
   "outputs": [
    {
     "data": {
      "text/plain": [
       "Index(['id_users', 'account_balance', 'card_brand_users', 'has_coupon',\n",
       "       'birthday_year', 'birthday_month', 'age', 'id_delivery_info', 'user_id',\n",
       "       'address', 'zone_id', 'salesperson_id', 'discount', 'due_dates_only',\n",
       "       'card_details', 'card_brand_delivery_info', 'source', 'delivery_fee',\n",
       "       'meal_wave', 'surcharge_amount', 'promo_code_used', 'gave_feedback',\n",
       "       'district'],\n",
       "      dtype='object')"
      ]
     },
     "execution_count": 123,
     "metadata": {},
     "output_type": "execute_result"
    }
   ],
   "source": [
    "#Check features\n",
    "users_delivery_info.columns"
   ]
  },
  {
   "cell_type": "code",
   "execution_count": 124,
   "metadata": {},
   "outputs": [],
   "source": [
    "#Drop duplicate column\n",
    "users_delivery_info.drop('id_users', axis=1, inplace=True)"
   ]
  },
  {
   "cell_type": "code",
   "execution_count": 125,
   "metadata": {},
   "outputs": [
    {
     "data": {
      "text/plain": [
       "(32845, 22)"
      ]
     },
     "execution_count": 125,
     "metadata": {},
     "output_type": "execute_result"
    }
   ],
   "source": [
    "#Check shape\n",
    "users_delivery_info.shape"
   ]
  },
  {
   "cell_type": "code",
   "execution_count": 126,
   "metadata": {},
   "outputs": [],
   "source": [
    "#Merge again using delivery data id, and delivery_order_id from Order data\n",
    "users_delivery_info_order = users_delivery_info.merge(\n",
    "    u_order[profile_features_ord], \n",
    "    left_on='id_delivery_info', \n",
    "    right_on='delivery_order_id',\n",
    "    suffixes=('_users_delivery_info','orders')\n",
    ")"
   ]
  },
  {
   "cell_type": "code",
   "execution_count": 127,
   "metadata": {},
   "outputs": [
    {
     "data": {
      "text/plain": [
       "Index(['account_balance', 'card_brand_users', 'has_coupon', 'birthday_year',\n",
       "       'birthday_month', 'age', 'id_delivery_info', 'user_id', 'address',\n",
       "       'zone_id', 'salesperson_id', 'discount', 'due_dates_only',\n",
       "       'card_details', 'card_brand_delivery_info', 'source', 'delivery_fee',\n",
       "       'meal_wave', 'surcharge_amount', 'promo_code_used', 'gave_feedback',\n",
       "       'district', 'delivery_order_id', 'item_id', 'item_type', 'quantity',\n",
       "       'unit_price'],\n",
       "      dtype='object')"
      ]
     },
     "execution_count": 127,
     "metadata": {},
     "output_type": "execute_result"
    }
   ],
   "source": [
    "#Check features\n",
    "users_delivery_info_order.columns"
   ]
  },
  {
   "cell_type": "code",
   "execution_count": 128,
   "metadata": {},
   "outputs": [],
   "source": [
    "#Drop duplicate column\n",
    "users_delivery_info_order.drop('id_delivery_info', axis=1, inplace=True)"
   ]
  },
  {
   "cell_type": "code",
   "execution_count": 129,
   "metadata": {},
   "outputs": [
    {
     "data": {
      "text/plain": [
       "(57499, 26)"
      ]
     },
     "execution_count": 129,
     "metadata": {},
     "output_type": "execute_result"
    }
   ],
   "source": [
    "#Check shape\n",
    "users_delivery_info_order.shape"
   ]
  },
  {
   "cell_type": "code",
   "execution_count": 130,
   "metadata": {},
   "outputs": [],
   "source": [
    "#Final merge matching item id to id in meals/menu data \n",
    "users_delivery_info_order_menu = users_delivery_info_order.merge(\n",
    "    u_menu[profile_features_men],\n",
    "    left_on='item_id', \n",
    "    right_on='id',\n",
    "    how = 'left',\n",
    "    suffixes=('_delivery_info','_menu')\n",
    ")"
   ]
  },
  {
   "cell_type": "code",
   "execution_count": 131,
   "metadata": {},
   "outputs": [
    {
     "data": {
      "text/plain": [
       "Index(['account_balance', 'card_brand_users', 'has_coupon', 'birthday_year',\n",
       "       'birthday_month', 'age', 'user_id', 'address', 'zone_id',\n",
       "       'salesperson_id', 'discount', 'due_dates_only', 'card_details',\n",
       "       'card_brand_delivery_info', 'source', 'delivery_fee', 'meal_wave',\n",
       "       'surcharge_amount', 'promo_code_used', 'gave_feedback', 'district',\n",
       "       'delivery_order_id', 'item_id', 'item_type', 'quantity', 'unit_price',\n",
       "       'id', 'name', 'macros', 'ingredients', 'temperature', 'category'],\n",
       "      dtype='object')"
      ]
     },
     "execution_count": 131,
     "metadata": {},
     "output_type": "execute_result"
    }
   ],
   "source": [
    "#Check features\n",
    "users_delivery_info_order_menu.columns"
   ]
  },
  {
   "cell_type": "code",
   "execution_count": 132,
   "metadata": {},
   "outputs": [],
   "source": [
    "#Drop duplicate column\n",
    "users_delivery_info_order_menu.drop('id', axis=1, inplace=True)"
   ]
  },
  {
   "cell_type": "code",
   "execution_count": 133,
   "metadata": {},
   "outputs": [
    {
     "data": {
      "text/plain": [
       "(57499, 31)"
      ]
     },
     "execution_count": 133,
     "metadata": {},
     "output_type": "execute_result"
    }
   ],
   "source": [
    "#Check shape\n",
    "users_delivery_info_order_menu.shape"
   ]
  },
  {
   "cell_type": "code",
   "execution_count": 134,
   "metadata": {},
   "outputs": [],
   "source": [
    "#Output clean data\n",
    "users_delivery_info_order_menu.to_csv('../inputs/profile_features_clean.csv',index=False)"
   ]
  }
 ],
 "metadata": {
  "kernelspec": {
   "display_name": "Python 3",
   "language": "python",
   "name": "python3"
  },
  "language_info": {
   "codemirror_mode": {
    "name": "ipython",
    "version": 3
   },
   "file_extension": ".py",
   "mimetype": "text/x-python",
   "name": "python",
   "nbconvert_exporter": "python",
   "pygments_lexer": "ipython3",
   "version": "3.7.3"
  }
 },
 "nbformat": 4,
 "nbformat_minor": 2
}
