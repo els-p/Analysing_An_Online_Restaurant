{
 "cells": [
  {
   "cell_type": "markdown",
   "metadata": {},
   "source": [
    "# Descriptive Statstics\n"
   ]
  },
  {
   "cell_type": "markdown",
   "metadata": {},
   "source": [
    "Here descriptive statistics is used to analyse business situation to find a direction for a problem statement to work on. "
   ]
  },
  {
   "cell_type": "markdown",
   "metadata": {},
   "source": [
    "## Data Import and Pre-processing"
   ]
  },
  {
   "cell_type": "code",
   "execution_count": 1,
   "metadata": {},
   "outputs": [],
   "source": [
    "#Import libraries\n",
    "import pandas as pd\n",
    "import matplotlib.pyplot as plt\n",
    "from matplotlib.ticker import FuncFormatter\n",
    "import seaborn as sns\n",
    "import sqlite3\n",
    "\n",
    "%matplotlib inline"
   ]
  },
  {
   "cell_type": "code",
   "execution_count": 2,
   "metadata": {},
   "outputs": [],
   "source": [
    "#Import data\n",
    "analytics = pd.read_csv('../raw/analytics_orders.csv')\n",
    "orders = pd.read_csv('../raw/order_items.csv')\n",
    "menu = pd.read_csv('../raw/meals.csv')"
   ]
  },
  {
   "cell_type": "code",
   "execution_count": 3,
   "metadata": {},
   "outputs": [
    {
     "data": {
      "text/plain": [
       "id                       0\n",
       "sales                    0\n",
       "discount_given       21130\n",
       "credits_deducted         0\n",
       "amount_charged           0\n",
       "delivery_fee             0\n",
       "short_code           35975\n",
       "hub                      0\n",
       "order_date               0\n",
       "serving_date             0\n",
       "timeslot              8146\n",
       "meal_count               0\n",
       "ancillary_count          0\n",
       "created_at               0\n",
       "updated_at               0\n",
       "ao_id                    0\n",
       "user_id                  0\n",
       "delivery_order_id        0\n",
       "amount_paid              0\n",
       "surcharge_amount     66119\n",
       "service_zone_id         19\n",
       "revenue                 13\n",
       "dtype: int64"
      ]
     },
     "execution_count": 3,
     "metadata": {},
     "output_type": "execute_result"
    }
   ],
   "source": [
    "#Check for missing values\n",
    "analytics.isnull().sum()"
   ]
  },
  {
   "cell_type": "code",
   "execution_count": 4,
   "metadata": {},
   "outputs": [],
   "source": [
    "#Convert value units in revenue and sales columns from cents to dollars\n",
    "analytics.revenue = analytics.revenue/100\n",
    "analytics.sales = analytics.sales/100\n",
    "\n",
    "orders.unit_price = orders.unit_price/100"
   ]
  },
  {
   "cell_type": "code",
   "execution_count": 5,
   "metadata": {},
   "outputs": [
    {
     "data": {
      "image/png": "[encoded data removed]",
      "text/plain": [
       "<Figure size 432x288 with 1 Axes>"
      ]
     },
     "metadata": {
      "needs_background": "light"
     },
     "output_type": "display_data"
    }
   ],
   "source": [
    "#Plot sales to check for outliers\n",
    "analytics.sales.plot(kind='box')\n",
    "plt.show()"
   ]
  },
  {
   "cell_type": "code",
   "execution_count": 6,
   "metadata": {},
   "outputs": [],
   "source": [
    "#Remove rows where sales > 40000, negative and 0\n",
    "analytics = analytics[(analytics.sales < 40000)&(analytics.sales>0)]"
   ]
  },
  {
   "cell_type": "code",
   "execution_count": 7,
   "metadata": {},
   "outputs": [
    {
     "name": "stdout",
     "output_type": "stream",
     "text": [
      "We have data dated from 2014-07-15 00:00:00 to 2019-12-01 00:00:00.\n"
     ]
    }
   ],
   "source": [
    "#Convert serving_date to date time type\n",
    "analytics.serving_date = pd.to_datetime(analytics.serving_date)\n",
    "\n",
    "#Print data duration\n",
    "print('We have data dated from {} to {}.'.format(analytics.serving_date.min(),analytics.serving_date.max()))"
   ]
  },
  {
   "cell_type": "code",
   "execution_count": 8,
   "metadata": {},
   "outputs": [
    {
     "data": {
      "image/png": "[encoded data removed]",
      "text/plain": [
       "<Figure size 360x720 with 3 Axes>"
      ]
     },
     "metadata": {
      "needs_background": "light"
     },
     "output_type": "display_data"
    }
   ],
   "source": [
    "#Plot sales to check for outliers\n",
    "fig, axes = plt.subplots(nrows=3, figsize=(5,10))\n",
    "plt.subplot(3,1,1)\n",
    "orders.unit_price.plot(kind='box')\n",
    "plt.subplot(3,1,2)\n",
    "orders[orders.unit_price <20000].unit_price.plot(kind='box')\n",
    "plt.subplot(3,1,3)\n",
    "orders[(orders.unit_price <150)& (orders.unit_price > 0)].unit_price.plot(kind='box')\n",
    "plt.show()"
   ]
  },
  {
   "cell_type": "code",
   "execution_count": 9,
   "metadata": {},
   "outputs": [],
   "source": [
    "#Remove rows where unit_price > 150, negative and 0\n",
    "orders = orders[(orders.unit_price <150)& (orders.unit_price > 0)]\n",
    "\n",
    "#Convert serving_date to date time type\n",
    "orders.serving_date = pd.to_datetime(orders.serving_date)"
   ]
  },
  {
   "cell_type": "code",
   "execution_count": 10,
   "metadata": {},
   "outputs": [
    {
     "data": {
      "image/png": "[encoded data removed]",
      "text/plain": [
       "<Figure size 432x288 with 1 Axes>"
      ]
     },
     "metadata": {
      "needs_background": "light"
     },
     "output_type": "display_data"
    }
   ],
   "source": [
    "#Convert updated_at to date time type\n",
    "menu.updated_at = pd.to_datetime(menu.updated_at)\n",
    "\n",
    "#Plot price to check for outliers\n",
    "menu.price.plot(kind='box')\n",
    "plt.show()"
   ]
  },
  {
   "cell_type": "code",
   "execution_count": 11,
   "metadata": {},
   "outputs": [],
   "source": [
    "# #Inspect outlier\n",
    "# menu[menu.price == menu.price.max()]"
   ]
  },
  {
   "cell_type": "code",
   "execution_count": 12,
   "metadata": {},
   "outputs": [],
   "source": [
    "#Replace value with $10 instead of $1000\n",
    "menu.loc[menu.price == 1000,'price'] = 10"
   ]
  },
  {
   "cell_type": "code",
   "execution_count": 13,
   "metadata": {},
   "outputs": [
    {
     "data": {
      "image/png": "[encoded data removed]",
      "text/plain": [
       "<Figure size 432x288 with 1 Axes>"
      ]
     },
     "metadata": {
      "needs_background": "light"
     },
     "output_type": "display_data"
    }
   ],
   "source": [
    "#Plot price excluding christmas party sets \n",
    "menu[menu.price<100].price.plot(kind='box')\n",
    "plt.show()"
   ]
  },
  {
   "cell_type": "code",
   "execution_count": 14,
   "metadata": {},
   "outputs": [],
   "source": [
    "#Remove rows where price > 100, negative and 0\n",
    "menu = menu[(menu.price<100)&(menu.price>0)]"
   ]
  },
  {
   "cell_type": "markdown",
   "metadata": {},
   "source": [
    "## Exploratory Data Analysis"
   ]
  },
  {
   "cell_type": "markdown",
   "metadata": {},
   "source": [
    "### Revenue Performance"
   ]
  },
  {
   "cell_type": "code",
   "execution_count": 15,
   "metadata": {},
   "outputs": [],
   "source": [
    "#Define total sales by year dataframe\n",
    "sales_by_year = pd.DataFrame(analytics.groupby(analytics.serving_date.dt.year).sales.sum())\n",
    "\n",
    "#Add new column for order count by year\n",
    "sales_by_year['num_orders'] = analytics.groupby(analytics.serving_date.dt.year).delivery_order_id.nunique()\n",
    "\n",
    "#Compute average order value by year in new column\n",
    "sales_by_year['avg_order_val'] = sales_by_year.sales / sales_by_year.num_orders"
   ]
  },
  {
   "cell_type": "markdown",
   "metadata": {},
   "source": [
    "### Number of Orders"
   ]
  },
  {
   "cell_type": "code",
   "execution_count": 16,
   "metadata": {},
   "outputs": [],
   "source": [
    "#Define total orders by year dataframe\n",
    "tot_orders = pd.DataFrame(analytics.serving_date.dt.year.value_counts().sort_index()).reset_index()\n",
    "\n",
    "#Add new column for growth rate by year\n",
    "tot_orders['pct_change'] = tot_orders.pct_change()['serving_date']"
   ]
  },
  {
   "cell_type": "markdown",
   "metadata": {},
   "source": [
    "### Order Value"
   ]
  },
  {
   "cell_type": "code",
   "execution_count": 17,
   "metadata": {},
   "outputs": [
    {
     "data": {
      "image/png": "[encoded data removed]",
      "text/plain": [
       "<Figure size 720x360 with 1 Axes>"
      ]
     },
     "metadata": {
      "needs_background": "light"
     },
     "output_type": "display_data"
    }
   ],
   "source": [
    "#Plot average order value by year\n",
    "fig = plt.figure(figsize=(10,5))\n",
    "sales_by_year.avg_order_val.sort_index(ascending=False).plot(kind='barh', color='navy')\n",
    "fig.suptitle('Average Order Value by Year', fontsize=20)\n",
    "plt.xlabel('Value $', fontsize=18)\n",
    "plt.ylabel('Year', fontsize=10)\n",
    "plt.show()"
   ]
  },
  {
   "cell_type": "markdown",
   "metadata": {},
   "source": [
    "### Quantity per Order"
   ]
  },
  {
   "cell_type": "code",
   "execution_count": 18,
   "metadata": {},
   "outputs": [],
   "source": [
    "#Define total quantity by order by year dataframe\n",
    "tot_qty_per_order = pd.DataFrame(\n",
    "    orders.groupby([\n",
    "        orders.serving_date.dt.year, orders.delivery_order_id\n",
    "    ]).quantity.sum()).reset_index()"
   ]
  },
  {
   "cell_type": "code",
   "execution_count": 19,
   "metadata": {},
   "outputs": [],
   "source": [
    "#Define total quantity and total number of orders by year dataframe\n",
    "data1 = tot_qty_per_order.groupby('serving_date').agg({\n",
    "    'delivery_order_id':lambda x :x.nunique(), \n",
    "    'quantity':'sum'\n",
    "})\n",
    "\n",
    "#Compute average quantity per order in a new column\n",
    "data1['qty_per_order'] = data1.quantity/data1.delivery_order_id"
   ]
  },
  {
   "cell_type": "markdown",
   "metadata": {},
   "source": [
    "### Average Price of  Purchased Items"
   ]
  },
  {
   "cell_type": "code",
   "execution_count": 20,
   "metadata": {},
   "outputs": [
    {
     "data": {
      "text/plain": [
       "serving_date\n",
       "2014.0    10.265241\n",
       "2015.0    11.053260\n",
       "2016.0    10.733563\n",
       "2017.0    11.358485\n",
       "2018.0    11.500807\n",
       "2019.0    13.184246\n",
       "Name: unit_price, dtype: float64"
      ]
     },
     "execution_count": 20,
     "metadata": {},
     "output_type": "execute_result"
    }
   ],
   "source": [
    "orders.groupby(orders.serving_date.dt.year).unit_price.mean()"
   ]
  },
  {
   "cell_type": "markdown",
   "metadata": {},
   "source": [
    "### Average Price on Menu "
   ]
  },
  {
   "cell_type": "code",
   "execution_count": 21,
   "metadata": {},
   "outputs": [
    {
     "data": {
      "text/plain": [
       "updated_at\n",
       "2014    10.950000\n",
       "2015    11.475000\n",
       "2016    10.952083\n",
       "2017    11.159388\n",
       "2018    11.371237\n",
       "2019    10.552581\n",
       "Name: price, dtype: float64"
      ]
     },
     "execution_count": 21,
     "metadata": {},
     "output_type": "execute_result"
    }
   ],
   "source": [
    "#Find average price of items on menu by year\n",
    "menu.groupby(menu.updated_at.dt.year).price.mean()"
   ]
  },
  {
   "cell_type": "markdown",
   "metadata": {},
   "source": [
    "### Exploring Further into 2018"
   ]
  },
  {
   "cell_type": "code",
   "execution_count": 22,
   "metadata": {},
   "outputs": [
    {
     "name": "stdout",
     "output_type": "stream",
     "text": [
      "We have 39827 data points for 2018.\n",
      "\n",
      "9202 users made transactions in 2018\n",
      "\n"
     ]
    }
   ],
   "source": [
    "#Taking a closer look at 2018 data\n",
    "df_2018 = analytics[analytics.serving_date.dt.year == 2018]\n",
    "\n",
    "#Print number of data points\n",
    "print('We have {} data points for 2018.'.format(df_2018.shape[0]))\n",
    "\n",
    "#Print number of unique users\n",
    "print('\\n{} users made transactions in 2018\\n'.format(df_2018.user_id.nunique()))"
   ]
  },
  {
   "cell_type": "code",
   "execution_count": 23,
   "metadata": {},
   "outputs": [],
   "source": [
    "#Define total sales and total order count by users\n",
    "rev_2018 = df_2018.groupby('user_id').agg({'sales':'sum', 'delivery_order_id':'count' })"
   ]
  },
  {
   "cell_type": "code",
   "execution_count": 24,
   "metadata": {},
   "outputs": [
    {
     "data": {
      "text/html": [
       "<div>\n",
       "<style scoped>\n",
       "    .dataframe tbody tr th:only-of-type {\n",
       "        vertical-align: middle;\n",
       "    }\n",
       "\n",
       "    .dataframe tbody tr th {\n",
       "        vertical-align: top;\n",
       "    }\n",
       "\n",
       "    .dataframe thead th {\n",
       "        text-align: right;\n",
       "    }\n",
       "</style>\n",
       "<table border=\"1\" class=\"dataframe\">\n",
       "  <thead>\n",
       "    <tr style=\"text-align: right;\">\n",
       "      <th></th>\n",
       "      <th>pct_sales</th>\n",
       "    </tr>\n",
       "    <tr>\n",
       "      <th>user_id</th>\n",
       "      <th></th>\n",
       "    </tr>\n",
       "  </thead>\n",
       "  <tbody>\n",
       "    <tr>\n",
       "      <th>28126</th>\n",
       "      <td>0.161187</td>\n",
       "    </tr>\n",
       "    <tr>\n",
       "      <th>28133</th>\n",
       "      <td>0.274190</td>\n",
       "    </tr>\n",
       "    <tr>\n",
       "      <th>24270</th>\n",
       "      <td>0.301378</td>\n",
       "    </tr>\n",
       "    <tr>\n",
       "      <th>4727</th>\n",
       "      <td>0.328166</td>\n",
       "    </tr>\n",
       "    <tr>\n",
       "      <th>40025</th>\n",
       "      <td>0.353024</td>\n",
       "    </tr>\n",
       "  </tbody>\n",
       "</table>\n",
       "</div>"
      ],
      "text/plain": [
       "         pct_sales\n",
       "user_id           \n",
       "28126     0.161187\n",
       "28133     0.274190\n",
       "24270     0.301378\n",
       "4727      0.328166\n",
       "40025     0.353024"
      ]
     },
     "execution_count": 24,
     "metadata": {},
     "output_type": "execute_result"
    }
   ],
   "source": [
    "#Define total sales by users\n",
    "df_18_rev = df_2018.groupby('user_id').agg({'sales':'sum'})\n",
    "\n",
    "#Add new column for each user's percentage contribution to total revenue in 2018\n",
    "df_18_rev['pct_sales'] = df_18_rev.sales.map(lambda x: x/df_2018.sales.sum())\n",
    "\n",
    "#Sort users starting from largest percentage contribution to total revenue\n",
    "pct_sales = df_18_rev.sort_values('pct_sales', ascending=False)\n",
    "\n",
    "#Define cumulative sum dataframe\n",
    "cum_sum = pd.DataFrame(pct_sales.pct_sales.cumsum())\n",
    "\n",
    "#Inspect table\n",
    "cum_sum.head()"
   ]
  },
  {
   "cell_type": "code",
   "execution_count": 25,
   "metadata": {},
   "outputs": [
    {
     "data": {
      "text/plain": [
       "[28126, 28133, 24270, 4727, 40025]"
      ]
     },
     "execution_count": 25,
     "metadata": {},
     "output_type": "execute_result"
    }
   ],
   "source": [
    "#Save user_id of largest spenders in 2018 to a list\n",
    "top_users = cum_sum[:5].index.tolist()\n",
    "top_users"
   ]
  },
  {
   "cell_type": "markdown",
   "metadata": {},
   "source": [
    "### Filtering Out Catering Using SQL"
   ]
  },
  {
   "cell_type": "code",
   "execution_count": 26,
   "metadata": {},
   "outputs": [
    {
     "name": "stderr",
     "output_type": "stream",
     "text": [
      "/anaconda3/lib/python3.7/site-packages/IPython/core/interactiveshell.py:3049: DtypeWarning: Columns (9,13,22,31,33,35,36,38,44,65) have mixed types. Specify dtype option on import or set low_memory=False.\n",
      "  interactivity=interactivity, compiler=compiler, result=result)\n"
     ]
    }
   ],
   "source": [
    "#Import delivery data\n",
    "df = pd.read_csv('../raw/delivery_orders.csv')\n",
    "\n",
    "#Connect to a database and create new file 'capstone.db' in directory\n",
    "conn = sqlite3.connect(\"capstone.db\") \n",
    "\n",
    "#Store data into a delivery table in the database:\n",
    "df.to_sql('delivery', conn)"
   ]
  },
  {
   "cell_type": "code",
   "execution_count": 27,
   "metadata": {},
   "outputs": [],
   "source": [
    "#Filter out transactions related to catering\n",
    "df = pd.read_sql('SELECT * FROM delivery WHERE item NOT LIKE \"%catering%\"', conn)"
   ]
  },
  {
   "cell_type": "code",
   "execution_count": 28,
   "metadata": {},
   "outputs": [],
   "source": [
    "#Delete data from database\n",
    "conn.cursor().execute('DROP TABLE delivery;')\n",
    "conn.commit()"
   ]
  },
  {
   "cell_type": "code",
   "execution_count": 29,
   "metadata": {},
   "outputs": [],
   "source": [
    "#Convert serving_date to date time format\n",
    "df.serving_date = pd.to_datetime(df.serving_date)\n",
    "\n",
    "#Convert value units in amount column from cents to dollars\n",
    "df.amount = df.amount / 100"
   ]
  },
  {
   "cell_type": "code",
   "execution_count": 30,
   "metadata": {},
   "outputs": [
    {
     "data": {
      "text/plain": [
       "11"
      ]
     },
     "execution_count": 30,
     "metadata": {},
     "output_type": "execute_result"
    }
   ],
   "source": [
    "#Find missing values in amount column\n",
    "df.amount.isnull().sum()"
   ]
  },
  {
   "cell_type": "code",
   "execution_count": 31,
   "metadata": {},
   "outputs": [],
   "source": [
    "# #Drop rows with missing values in amount column\n",
    "# df = df[df.amount.notnull()]\n",
    "\n",
    "# #Print sales by year\n",
    "# df.groupby(df.serving_date.dt.year).amount.sum()"
   ]
  }
 ],
 "metadata": {
  "kernelspec": {
   "display_name": "Python 3",
   "language": "python",
   "name": "python3"
  },
  "language_info": {
   "codemirror_mode": {
    "name": "ipython",
    "version": 3
   },
   "file_extension": ".py",
   "mimetype": "text/x-python",
   "name": "python",
   "nbconvert_exporter": "python",
   "pygments_lexer": "ipython3",
   "version": "3.7.3"
  }
 },
 "nbformat": 4,
 "nbformat_minor": 2
}
