{
 "cells": [
  {
   "cell_type": "markdown",
   "metadata": {},
   "source": [
    "## Recency, Frequency, Monetary Value Model for Marketing Decisions"
   ]
  },
  {
   "cell_type": "code",
   "execution_count": 1,
   "metadata": {},
   "outputs": [
    {
     "name": "stderr",
     "output_type": "stream",
     "text": [
      "Using TensorFlow backend.\n"
     ]
    }
   ],
   "source": [
    "#Import libraries\n",
    "import pandas as pd\n",
    "import seaborn as sns\n",
    "import numpy as np\n",
    "import string\n",
    "from datetime import timedelta\n",
    "import squarify\n",
    "\n",
    "from tqdm import tqdm_notebook as tqdm\n",
    "from keras.utils import np_utils\n",
    "import matplotlib.pyplot as plt\n",
    "%matplotlib inline\n",
    "\n",
    "from sklearn.cluster import KMeans, DBSCAN\n",
    "from sklearn.preprocessing import StandardScaler, OneHotEncoder\n",
    "from sklearn import metrics\n",
    "from sklearn.metrics import silhouette_score\n",
    "from sklearn.model_selection import GridSearchCV\n",
    "from sklearn.feature_extraction.text import CountVectorizer\n",
    "from sklearn.decomposition import PCA"
   ]
  },
  {
   "cell_type": "code",
   "execution_count": 2,
   "metadata": {},
   "outputs": [],
   "source": [
    "#Import data\n",
    "df = pd.read_csv('../inputs/profile_features_clean.csv')"
   ]
  },
  {
   "cell_type": "code",
   "execution_count": 3,
   "metadata": {},
   "outputs": [
    {
     "data": {
      "text/html": [
       "<div>\n",
       "<style scoped>\n",
       "    .dataframe tbody tr th:only-of-type {\n",
       "        vertical-align: middle;\n",
       "    }\n",
       "\n",
       "    .dataframe tbody tr th {\n",
       "        vertical-align: top;\n",
       "    }\n",
       "\n",
       "    .dataframe thead th {\n",
       "        text-align: right;\n",
       "    }\n",
       "</style>\n",
       "<table border=\"1\" class=\"dataframe\">\n",
       "  <thead>\n",
       "    <tr style=\"text-align: right;\">\n",
       "      <th></th>\n",
       "      <th>address</th>\n",
       "      <th>postal_code</th>\n",
       "      <th>account_balance</th>\n",
       "      <th>card_brand_users</th>\n",
       "      <th>has_coupon</th>\n",
       "      <th>birthday_year</th>\n",
       "      <th>birthday_month</th>\n",
       "      <th>age</th>\n",
       "      <th>region</th>\n",
       "      <th>user_id</th>\n",
       "      <th>zone_id</th>\n",
       "      <th>discount</th>\n",
       "      <th>due_dates_only</th>\n",
       "      <th>card_details</th>\n",
       "      <th>card_brand_delivery_info</th>\n",
       "      <th>source</th>\n",
       "      <th>delivery_fee</th>\n",
       "      <th>meal_wave</th>\n",
       "      <th>surcharge_amount</th>\n",
       "      <th>promo_code_used</th>\n",
       "      <th>gave_feedback</th>\n",
       "      <th>delivery_order_id</th>\n",
       "      <th>item_id</th>\n",
       "      <th>item_type</th>\n",
       "      <th>quantity</th>\n",
       "      <th>unit_price</th>\n",
       "      <th>name</th>\n",
       "      <th>macros</th>\n",
       "      <th>ingredients</th>\n",
       "      <th>temperature</th>\n",
       "      <th>category</th>\n",
       "    </tr>\n",
       "  </thead>\n",
       "  <tbody>\n",
       "    <tr>\n",
       "      <th>49942</th>\n",
       "      <td>10 Lengkok Bahru</td>\n",
       "      <td>159050.0</td>\n",
       "      <td>0</td>\n",
       "      <td>American Express</td>\n",
       "      <td>0</td>\n",
       "      <td>NaN</td>\n",
       "      <td>NaN</td>\n",
       "      <td>NaN</td>\n",
       "      <td>3.0</td>\n",
       "      <td>42435</td>\n",
       "      <td>74.0</td>\n",
       "      <td>1200.0</td>\n",
       "      <td>2018-07-27</td>\n",
       "      <td>NaN</td>\n",
       "      <td>NaN</td>\n",
       "      <td>mobile-android</td>\n",
       "      <td>0.0</td>\n",
       "      <td>first</td>\n",
       "      <td>300.0</td>\n",
       "      <td>1</td>\n",
       "      <td>0</td>\n",
       "      <td>133572</td>\n",
       "      <td>535.0</td>\n",
       "      <td>main</td>\n",
       "      <td>1.0</td>\n",
       "      <td>1095.0</td>\n",
       "      <td>Sous‑vide Chicken Rice</td>\n",
       "      <td>Calories: 630, Fat: 11g, Carb: 91g, Protein: 40g</td>\n",
       "      <td>chicken breast, kai lan, white rice, brown ric...</td>\n",
       "      <td>warm</td>\n",
       "      <td>regular</td>\n",
       "    </tr>\n",
       "    <tr>\n",
       "      <th>36140</th>\n",
       "      <td>109 Rivervale Walk</td>\n",
       "      <td>540109.0</td>\n",
       "      <td>0</td>\n",
       "      <td>MasterCard</td>\n",
       "      <td>0</td>\n",
       "      <td>1982.0</td>\n",
       "      <td>7.0</td>\n",
       "      <td>37.0</td>\n",
       "      <td>19.0</td>\n",
       "      <td>28988</td>\n",
       "      <td>61.0</td>\n",
       "      <td>1000.0</td>\n",
       "      <td>2017-03-30</td>\n",
       "      <td>NaN</td>\n",
       "      <td>MasterCard</td>\n",
       "      <td>mobile-ios</td>\n",
       "      <td>650.0</td>\n",
       "      <td>first</td>\n",
       "      <td>500.0</td>\n",
       "      <td>1</td>\n",
       "      <td>1</td>\n",
       "      <td>85066</td>\n",
       "      <td>376.0</td>\n",
       "      <td>main</td>\n",
       "      <td>1.0</td>\n",
       "      <td>995.0</td>\n",
       "      <td>Grain Chicken Rice</td>\n",
       "      <td>Calories: 517, Fat: 7g, Carb: 76g, Protein: 36g</td>\n",
       "      <td>chicken, brown rice, white rice, kailan, chick...</td>\n",
       "      <td>warm</td>\n",
       "      <td>regular</td>\n",
       "    </tr>\n",
       "    <tr>\n",
       "      <th>2280</th>\n",
       "      <td>12 Marina Boulevard</td>\n",
       "      <td>18982.0</td>\n",
       "      <td>0</td>\n",
       "      <td>Visa</td>\n",
       "      <td>1</td>\n",
       "      <td>NaN</td>\n",
       "      <td>NaN</td>\n",
       "      <td>NaN</td>\n",
       "      <td>1.0</td>\n",
       "      <td>38952</td>\n",
       "      <td>74.0</td>\n",
       "      <td>0.0</td>\n",
       "      <td>2017-10-16</td>\n",
       "      <td>---\\n16/10:\\n  :name: '16/10 | 11:30am | MBFC3...</td>\n",
       "      <td>Visa</td>\n",
       "      <td>mobile-ios</td>\n",
       "      <td>0.0</td>\n",
       "      <td>first</td>\n",
       "      <td>0.0</td>\n",
       "      <td>0</td>\n",
       "      <td>0</td>\n",
       "      <td>102884</td>\n",
       "      <td>334.0</td>\n",
       "      <td>main</td>\n",
       "      <td>1.0</td>\n",
       "      <td>1450.0</td>\n",
       "      <td>Pan‑seared Norwegian Salmon</td>\n",
       "      <td>Calories: 654, Fat: 20g, Carb: 73g, Protein: 46g</td>\n",
       "      <td>salmon, edamame, cherry tomato, arugula, fusil...</td>\n",
       "      <td>chilled</td>\n",
       "      <td>regular</td>\n",
       "    </tr>\n",
       "  </tbody>\n",
       "</table>\n",
       "</div>"
      ],
      "text/plain": [
       "                   address  postal_code  account_balance  card_brand_users  \\\n",
       "49942     10 Lengkok Bahru     159050.0                0  American Express   \n",
       "36140   109 Rivervale Walk     540109.0                0        MasterCard   \n",
       "2280   12 Marina Boulevard      18982.0                0              Visa   \n",
       "\n",
       "       has_coupon  birthday_year  birthday_month   age  region  user_id  \\\n",
       "49942           0            NaN             NaN   NaN     3.0    42435   \n",
       "36140           0         1982.0             7.0  37.0    19.0    28988   \n",
       "2280            1            NaN             NaN   NaN     1.0    38952   \n",
       "\n",
       "       zone_id  discount due_dates_only  \\\n",
       "49942     74.0    1200.0     2018-07-27   \n",
       "36140     61.0    1000.0     2017-03-30   \n",
       "2280      74.0       0.0     2017-10-16   \n",
       "\n",
       "                                            card_details  \\\n",
       "49942                                                NaN   \n",
       "36140                                                NaN   \n",
       "2280   ---\\n16/10:\\n  :name: '16/10 | 11:30am | MBFC3...   \n",
       "\n",
       "      card_brand_delivery_info          source  delivery_fee meal_wave  \\\n",
       "49942                      NaN  mobile-android           0.0     first   \n",
       "36140               MasterCard      mobile-ios         650.0     first   \n",
       "2280                      Visa      mobile-ios           0.0     first   \n",
       "\n",
       "       surcharge_amount  promo_code_used  gave_feedback  delivery_order_id  \\\n",
       "49942             300.0                1              0             133572   \n",
       "36140             500.0                1              1              85066   \n",
       "2280                0.0                0              0             102884   \n",
       "\n",
       "       item_id item_type  quantity  unit_price                         name  \\\n",
       "49942    535.0      main       1.0      1095.0       Sous‑vide Chicken Rice   \n",
       "36140    376.0      main       1.0       995.0           Grain Chicken Rice   \n",
       "2280     334.0      main       1.0      1450.0  Pan‑seared Norwegian Salmon   \n",
       "\n",
       "                                                 macros  \\\n",
       "49942  Calories: 630, Fat: 11g, Carb: 91g, Protein: 40g   \n",
       "36140   Calories: 517, Fat: 7g, Carb: 76g, Protein: 36g   \n",
       "2280   Calories: 654, Fat: 20g, Carb: 73g, Protein: 46g   \n",
       "\n",
       "                                             ingredients temperature category  \n",
       "49942  chicken breast, kai lan, white rice, brown ric...        warm  regular  \n",
       "36140  chicken, brown rice, white rice, kailan, chick...        warm  regular  \n",
       "2280   salmon, edamame, cherry tomato, arugula, fusil...     chilled  regular  "
      ]
     },
     "execution_count": 3,
     "metadata": {},
     "output_type": "execute_result"
    }
   ],
   "source": [
    "#Inspect data\n",
    "pd.options.display.max_columns = None\n",
    "df.sample(3)"
   ]
  },
  {
   "cell_type": "code",
   "execution_count": 4,
   "metadata": {},
   "outputs": [
    {
     "data": {
      "text/html": [
       "<div>\n",
       "<style scoped>\n",
       "    .dataframe tbody tr th:only-of-type {\n",
       "        vertical-align: middle;\n",
       "    }\n",
       "\n",
       "    .dataframe tbody tr th {\n",
       "        vertical-align: top;\n",
       "    }\n",
       "\n",
       "    .dataframe thead th {\n",
       "        text-align: right;\n",
       "    }\n",
       "</style>\n",
       "<table border=\"1\" class=\"dataframe\">\n",
       "  <thead>\n",
       "    <tr style=\"text-align: right;\">\n",
       "      <th></th>\n",
       "      <th>%Null</th>\n",
       "    </tr>\n",
       "  </thead>\n",
       "  <tbody>\n",
       "    <tr>\n",
       "      <th>birthday_year</th>\n",
       "      <td>0.877520</td>\n",
       "    </tr>\n",
       "    <tr>\n",
       "      <th>age</th>\n",
       "      <td>0.877520</td>\n",
       "    </tr>\n",
       "    <tr>\n",
       "      <th>birthday_month</th>\n",
       "      <td>0.875024</td>\n",
       "    </tr>\n",
       "    <tr>\n",
       "      <th>card_details</th>\n",
       "      <td>0.616483</td>\n",
       "    </tr>\n",
       "    <tr>\n",
       "      <th>card_brand_delivery_info</th>\n",
       "      <td>0.322033</td>\n",
       "    </tr>\n",
       "    <tr>\n",
       "      <th>card_brand_users</th>\n",
       "      <td>0.114379</td>\n",
       "    </tr>\n",
       "    <tr>\n",
       "      <th>category</th>\n",
       "      <td>0.001554</td>\n",
       "    </tr>\n",
       "    <tr>\n",
       "      <th>ingredients</th>\n",
       "      <td>0.001082</td>\n",
       "    </tr>\n",
       "    <tr>\n",
       "      <th>address</th>\n",
       "      <td>0.000035</td>\n",
       "    </tr>\n",
       "    <tr>\n",
       "      <th>region</th>\n",
       "      <td>0.000035</td>\n",
       "    </tr>\n",
       "    <tr>\n",
       "      <th>item_type</th>\n",
       "      <td>0.000017</td>\n",
       "    </tr>\n",
       "  </tbody>\n",
       "</table>\n",
       "</div>"
      ],
      "text/plain": [
       "                             %Null\n",
       "birthday_year             0.877520\n",
       "age                       0.877520\n",
       "birthday_month            0.875024\n",
       "card_details              0.616483\n",
       "card_brand_delivery_info  0.322033\n",
       "card_brand_users          0.114379\n",
       "category                  0.001554\n",
       "ingredients               0.001082\n",
       "address                   0.000035\n",
       "region                    0.000035\n",
       "item_type                 0.000017"
      ]
     },
     "execution_count": 4,
     "metadata": {},
     "output_type": "execute_result"
    }
   ],
   "source": [
    "#Find pct missing values in each column\n",
    "missing_pct = pd.DataFrame(df.isnull().sum()/df.shape[0], columns=['%Null']).sort_values('%Null',ascending=False)\n",
    "\n",
    "#Print only those with missing values\n",
    "missing_pct[missing_pct['%Null']> 0]"
   ]
  },
  {
   "cell_type": "code",
   "execution_count": 5,
   "metadata": {},
   "outputs": [
    {
     "data": {
      "text/plain": [
       "address                      object\n",
       "postal_code                 float64\n",
       "account_balance               int64\n",
       "card_brand_users             object\n",
       "has_coupon                    int64\n",
       "birthday_year               float64\n",
       "birthday_month              float64\n",
       "age                         float64\n",
       "region                      float64\n",
       "user_id                       int64\n",
       "zone_id                     float64\n",
       "discount                    float64\n",
       "due_dates_only               object\n",
       "card_details                 object\n",
       "card_brand_delivery_info     object\n",
       "source                       object\n",
       "delivery_fee                float64\n",
       "meal_wave                    object\n",
       "surcharge_amount            float64\n",
       "promo_code_used               int64\n",
       "gave_feedback                 int64\n",
       "delivery_order_id             int64\n",
       "item_id                     float64\n",
       "item_type                    object\n",
       "quantity                    float64\n",
       "unit_price                  float64\n",
       "name                         object\n",
       "macros                       object\n",
       "ingredients                  object\n",
       "temperature                  object\n",
       "category                     object\n",
       "dtype: object"
      ]
     },
     "execution_count": 5,
     "metadata": {},
     "output_type": "execute_result"
    }
   ],
   "source": [
    "#Inspect data types\n",
    "df.dtypes"
   ]
  },
  {
   "cell_type": "code",
   "execution_count": 6,
   "metadata": {},
   "outputs": [],
   "source": [
    "#Take delivery dates as invoice dates\n",
    "#Convert dates to datetime format\n",
    "df['due_dates_only'] = pd.to_datetime(df.due_dates_only)"
   ]
  },
  {
   "cell_type": "code",
   "execution_count": 7,
   "metadata": {},
   "outputs": [
    {
     "name": "stdout",
     "output_type": "stream",
     "text": [
      "We have 57283 records of transactions dated from 2014-11-17 to 2019-04-16 from 8886 unique users.\n"
     ]
    }
   ],
   "source": [
    "print('We have {} records of transactions dated from {} to {} from {} unique users.'.format(\n",
    "    df.shape[0],\n",
    "    df.due_dates_only.dt.date.min(),\n",
    "    df.due_dates_only.dt.date.max(),\n",
    "    df.user_id.nunique()\n",
    "))"
   ]
  },
  {
   "cell_type": "code",
   "execution_count": 8,
   "metadata": {},
   "outputs": [],
   "source": [
    "#Convert unit price to dollar unit\n",
    "df.unit_price = df.unit_price / 100"
   ]
  },
  {
   "cell_type": "code",
   "execution_count": 9,
   "metadata": {},
   "outputs": [],
   "source": [
    "#Take useful columns to develop RFM model\n",
    "df_rfm = df[[\n",
    "    'due_dates_only',       #to find last transaction date\n",
    "    'user_id',\n",
    "    'quantity',             #to multiply with unit price for rev contributed\n",
    "    'unit_price',           #to multiply with quantity for rev contributed\n",
    "    'delivery_order_id'     #to count for number of orders made\n",
    "]]"
   ]
  },
  {
   "cell_type": "code",
   "execution_count": 10,
   "metadata": {},
   "outputs": [
    {
     "data": {
      "text/plain": [
       "due_dates_only       0\n",
       "user_id              0\n",
       "quantity             0\n",
       "unit_price           0\n",
       "delivery_order_id    0\n",
       "dtype: int64"
      ]
     },
     "execution_count": 10,
     "metadata": {},
     "output_type": "execute_result"
    }
   ],
   "source": [
    "#Check for missing values\n",
    "df_rfm.isnull().sum()"
   ]
  },
  {
   "cell_type": "code",
   "execution_count": 11,
   "metadata": {},
   "outputs": [
    {
     "name": "stderr",
     "output_type": "stream",
     "text": [
      "/anaconda3/lib/python3.7/site-packages/ipykernel_launcher.py:2: SettingWithCopyWarning: \n",
      "A value is trying to be set on a copy of a slice from a DataFrame.\n",
      "Try using .loc[row_indexer,col_indexer] = value instead\n",
      "\n",
      "See the caveats in the documentation: http://pandas.pydata.org/pandas-docs/stable/indexing.html#indexing-view-versus-copy\n",
      "  \n"
     ]
    }
   ],
   "source": [
    "#Create new column for rev contributed from purchase of items\n",
    "df_rfm['rev'] = df_rfm.quantity * df_rfm.unit_price"
   ]
  },
  {
   "cell_type": "code",
   "execution_count": 12,
   "metadata": {},
   "outputs": [
    {
     "name": "stdout",
     "output_type": "stream",
     "text": [
      "The reference date is 2019-04-17 i.e. the latest transaction date.\n"
     ]
    }
   ],
   "source": [
    "#Set reference date as last transaction date\n",
    "ref_date = df.due_dates_only.dt.date.max() + timedelta(days=1)\n",
    "print('The reference date is {} i.e. the latest transaction date.'.format(ref_date))"
   ]
  },
  {
   "cell_type": "code",
   "execution_count": 13,
   "metadata": {},
   "outputs": [],
   "source": [
    "#Compute Recency as no. of days from ref date, Frequency as no. of delivery orders, Monetary Value as revenue contributed \n",
    "rfm = df_rfm.groupby(['user_id']).agg({\n",
    "    'due_dates_only': lambda x: (ref_date - x.dt.date.max()).days,\n",
    "    'delivery_order_id': 'count',\n",
    "    'rev': 'sum'})\n",
    "\n",
    "rfm.rename(columns={'due_dates_only': 'Recency',\n",
    "                         'delivery_order_id': 'Frequency',\n",
    "                         'rev': 'Monetary_Val'}, inplace=True)"
   ]
  },
  {
   "cell_type": "code",
   "execution_count": 14,
   "metadata": {},
   "outputs": [
    {
     "data": {
      "text/html": [
       "<div>\n",
       "<style scoped>\n",
       "    .dataframe tbody tr th:only-of-type {\n",
       "        vertical-align: middle;\n",
       "    }\n",
       "\n",
       "    .dataframe tbody tr th {\n",
       "        vertical-align: top;\n",
       "    }\n",
       "\n",
       "    .dataframe thead th {\n",
       "        text-align: right;\n",
       "    }\n",
       "</style>\n",
       "<table border=\"1\" class=\"dataframe\">\n",
       "  <thead>\n",
       "    <tr style=\"text-align: right;\">\n",
       "      <th></th>\n",
       "      <th>Recency</th>\n",
       "      <th>Frequency</th>\n",
       "      <th>Monetary_Val</th>\n",
       "    </tr>\n",
       "    <tr>\n",
       "      <th>user_id</th>\n",
       "      <th></th>\n",
       "      <th></th>\n",
       "      <th></th>\n",
       "    </tr>\n",
       "  </thead>\n",
       "  <tbody>\n",
       "    <tr>\n",
       "      <th>36696</th>\n",
       "      <td>624</td>\n",
       "      <td>2</td>\n",
       "      <td>20.45</td>\n",
       "    </tr>\n",
       "    <tr>\n",
       "      <th>32900</th>\n",
       "      <td>720</td>\n",
       "      <td>2</td>\n",
       "      <td>38.85</td>\n",
       "    </tr>\n",
       "    <tr>\n",
       "      <th>33665</th>\n",
       "      <td>643</td>\n",
       "      <td>7</td>\n",
       "      <td>211.70</td>\n",
       "    </tr>\n",
       "    <tr>\n",
       "      <th>7510</th>\n",
       "      <td>813</td>\n",
       "      <td>4</td>\n",
       "      <td>54.70</td>\n",
       "    </tr>\n",
       "    <tr>\n",
       "      <th>48898</th>\n",
       "      <td>282</td>\n",
       "      <td>4</td>\n",
       "      <td>463.75</td>\n",
       "    </tr>\n",
       "  </tbody>\n",
       "</table>\n",
       "</div>"
      ],
      "text/plain": [
       "         Recency  Frequency  Monetary_Val\n",
       "user_id                                  \n",
       "36696        624          2         20.45\n",
       "32900        720          2         38.85\n",
       "33665        643          7        211.70\n",
       "7510         813          4         54.70\n",
       "48898        282          4        463.75"
      ]
     },
     "execution_count": 14,
     "metadata": {},
     "output_type": "execute_result"
    }
   ],
   "source": [
    "#Inspect data\n",
    "rfm.sample(5)"
   ]
  },
  {
   "cell_type": "code",
   "execution_count": 15,
   "metadata": {},
   "outputs": [
    {
     "data": {
      "image/png": "[encoded data removed]",
      "text/plain": [
       "<Figure size 1080x360 with 1 Axes>"
      ]
     },
     "metadata": {
      "needs_background": "light"
     },
     "output_type": "display_data"
    }
   ],
   "source": [
    "# Plot Recency dist\n",
    "fig = plt.figure(figsize=(15,5))\n",
    "sns.distplot(rfm.Recency, bins = 30, color='darkblue')\n",
    "fig.suptitle('Recency of transaction', fontsize=20)\n",
    "plt.xlabel('Days between date of delivery and ref date', fontsize=18)\n",
    "plt.ylabel('Probability density', fontsize=10)\n",
    "\n",
    "plt.show()"
   ]
  },
  {
   "cell_type": "code",
   "execution_count": 16,
   "metadata": {},
   "outputs": [
    {
     "data": {
      "image/png": "[encoded data removed]",
      "text/plain": [
       "<Figure size 1080x360 with 1 Axes>"
      ]
     },
     "metadata": {
      "needs_background": "light"
     },
     "output_type": "display_data"
    }
   ],
   "source": [
    "# Plot Frequency dist\n",
    "fig = plt.figure(figsize=(15,5))\n",
    "sns.distplot(rfm.Frequency, bins = 20, color='green')\n",
    "fig.suptitle('Frequency of delivery order', fontsize=20)\n",
    "plt.xlabel('No. of deliveries', fontsize=18)\n",
    "plt.ylabel('Probability density', fontsize=10)\n",
    "\n",
    "plt.show()"
   ]
  },
  {
   "cell_type": "code",
   "execution_count": 17,
   "metadata": {},
   "outputs": [
    {
     "data": {
      "image/png": "[encoded data removed]",
      "text/plain": [
       "<Figure size 1080x360 with 1 Axes>"
      ]
     },
     "metadata": {
      "needs_background": "light"
     },
     "output_type": "display_data"
    }
   ],
   "source": [
    "# Plot Monetary Value dist\n",
    "fig = plt.figure(figsize=(15,5))\n",
    "sns.distplot(rfm.Monetary_Val, bins=20, color='purple')\n",
    "fig.suptitle('Monetary Value of Users', fontsize=20)\n",
    "plt.xlabel('Revenue dollars', fontsize=18)\n",
    "plt.ylabel('Probability density', fontsize=10)\n",
    "\n",
    "plt.show()"
   ]
  },
  {
   "cell_type": "code",
   "execution_count": 18,
   "metadata": {},
   "outputs": [
    {
     "data": {
      "text/html": [
       "<div>\n",
       "<style scoped>\n",
       "    .dataframe tbody tr th:only-of-type {\n",
       "        vertical-align: middle;\n",
       "    }\n",
       "\n",
       "    .dataframe tbody tr th {\n",
       "        vertical-align: top;\n",
       "    }\n",
       "\n",
       "    .dataframe thead th {\n",
       "        text-align: right;\n",
       "    }\n",
       "</style>\n",
       "<table border=\"1\" class=\"dataframe\">\n",
       "  <thead>\n",
       "    <tr style=\"text-align: right;\">\n",
       "      <th></th>\n",
       "      <th>Recency</th>\n",
       "      <th>Frequency</th>\n",
       "      <th>Monetary_Val</th>\n",
       "      <th>R</th>\n",
       "      <th>F</th>\n",
       "      <th>M</th>\n",
       "    </tr>\n",
       "    <tr>\n",
       "      <th>user_id</th>\n",
       "      <th></th>\n",
       "      <th></th>\n",
       "      <th></th>\n",
       "      <th></th>\n",
       "      <th></th>\n",
       "      <th></th>\n",
       "    </tr>\n",
       "  </thead>\n",
       "  <tbody>\n",
       "    <tr>\n",
       "      <th>1</th>\n",
       "      <td>580</td>\n",
       "      <td>82</td>\n",
       "      <td>1221.40</td>\n",
       "      <td>3</td>\n",
       "      <td>4</td>\n",
       "      <td>4</td>\n",
       "    </tr>\n",
       "    <tr>\n",
       "      <th>6</th>\n",
       "      <td>1140</td>\n",
       "      <td>22</td>\n",
       "      <td>338.00</td>\n",
       "      <td>1</td>\n",
       "      <td>4</td>\n",
       "      <td>4</td>\n",
       "    </tr>\n",
       "    <tr>\n",
       "      <th>10</th>\n",
       "      <td>1492</td>\n",
       "      <td>1</td>\n",
       "      <td>12.95</td>\n",
       "      <td>1</td>\n",
       "      <td>1</td>\n",
       "      <td>1</td>\n",
       "    </tr>\n",
       "    <tr>\n",
       "      <th>14</th>\n",
       "      <td>1449</td>\n",
       "      <td>2</td>\n",
       "      <td>35.85</td>\n",
       "      <td>1</td>\n",
       "      <td>1</td>\n",
       "      <td>2</td>\n",
       "    </tr>\n",
       "    <tr>\n",
       "      <th>18</th>\n",
       "      <td>1500</td>\n",
       "      <td>2</td>\n",
       "      <td>19.90</td>\n",
       "      <td>1</td>\n",
       "      <td>1</td>\n",
       "      <td>1</td>\n",
       "    </tr>\n",
       "  </tbody>\n",
       "</table>\n",
       "</div>"
      ],
      "text/plain": [
       "         Recency  Frequency  Monetary_Val  R  F  M\n",
       "user_id                                           \n",
       "1            580         82       1221.40  3  4  4\n",
       "6           1140         22        338.00  1  4  4\n",
       "10          1492          1         12.95  1  1  1\n",
       "14          1449          2         35.85  1  1  2\n",
       "18          1500          2         19.90  1  1  1"
      ]
     },
     "execution_count": 18,
     "metadata": {},
     "output_type": "execute_result"
    }
   ],
   "source": [
    "#Create scoring (1-4)\n",
    "r_labels = range(4, 0, -1) #low recency, higher score\n",
    "f_labels = range(1, 5)     #low frequency, lower score\n",
    "m_labels = range(1, 5)     #low monetary value, lower score\n",
    "\n",
    "#Split users into quartile groups wrt to RFM\n",
    "r_groups = pd.qcut(rfm.Recency, q=4, labels=r_labels)\n",
    "f_groups = pd.qcut(rfm.Frequency, q=4, labels=f_labels)\n",
    "m_groups = pd.qcut(rfm.Monetary_Val, q=4, labels=m_labels)\n",
    "\n",
    "# Create new columns \n",
    "rfm = rfm.assign(R = r_groups.values, F = f_groups.values, M = m_groups.values)\n",
    "rfm.head()"
   ]
  },
  {
   "cell_type": "code",
   "execution_count": 19,
   "metadata": {},
   "outputs": [],
   "source": [
    "#Sum scores in new column\n",
    "rfm['RFM_Score'] = rfm[['R','F','M']].sum(axis=1)"
   ]
  },
  {
   "cell_type": "code",
   "execution_count": 20,
   "metadata": {},
   "outputs": [
    {
     "data": {
      "text/html": [
       "<div>\n",
       "<style scoped>\n",
       "    .dataframe tbody tr th:only-of-type {\n",
       "        vertical-align: middle;\n",
       "    }\n",
       "\n",
       "    .dataframe tbody tr th {\n",
       "        vertical-align: top;\n",
       "    }\n",
       "\n",
       "    .dataframe thead th {\n",
       "        text-align: right;\n",
       "    }\n",
       "</style>\n",
       "<table border=\"1\" class=\"dataframe\">\n",
       "  <thead>\n",
       "    <tr style=\"text-align: right;\">\n",
       "      <th></th>\n",
       "      <th>Recency</th>\n",
       "      <th>Frequency</th>\n",
       "      <th>Monetary_Val</th>\n",
       "      <th>R</th>\n",
       "      <th>F</th>\n",
       "      <th>M</th>\n",
       "      <th>RFM_Score</th>\n",
       "    </tr>\n",
       "    <tr>\n",
       "      <th>user_id</th>\n",
       "      <th></th>\n",
       "      <th></th>\n",
       "      <th></th>\n",
       "      <th></th>\n",
       "      <th></th>\n",
       "      <th></th>\n",
       "      <th></th>\n",
       "    </tr>\n",
       "  </thead>\n",
       "  <tbody>\n",
       "    <tr>\n",
       "      <th>1</th>\n",
       "      <td>580</td>\n",
       "      <td>82</td>\n",
       "      <td>1221.40</td>\n",
       "      <td>3</td>\n",
       "      <td>4</td>\n",
       "      <td>4</td>\n",
       "      <td>11.0</td>\n",
       "    </tr>\n",
       "    <tr>\n",
       "      <th>6</th>\n",
       "      <td>1140</td>\n",
       "      <td>22</td>\n",
       "      <td>338.00</td>\n",
       "      <td>1</td>\n",
       "      <td>4</td>\n",
       "      <td>4</td>\n",
       "      <td>9.0</td>\n",
       "    </tr>\n",
       "    <tr>\n",
       "      <th>10</th>\n",
       "      <td>1492</td>\n",
       "      <td>1</td>\n",
       "      <td>12.95</td>\n",
       "      <td>1</td>\n",
       "      <td>1</td>\n",
       "      <td>1</td>\n",
       "      <td>3.0</td>\n",
       "    </tr>\n",
       "    <tr>\n",
       "      <th>14</th>\n",
       "      <td>1449</td>\n",
       "      <td>2</td>\n",
       "      <td>35.85</td>\n",
       "      <td>1</td>\n",
       "      <td>1</td>\n",
       "      <td>2</td>\n",
       "      <td>4.0</td>\n",
       "    </tr>\n",
       "    <tr>\n",
       "      <th>18</th>\n",
       "      <td>1500</td>\n",
       "      <td>2</td>\n",
       "      <td>19.90</td>\n",
       "      <td>1</td>\n",
       "      <td>1</td>\n",
       "      <td>1</td>\n",
       "      <td>3.0</td>\n",
       "    </tr>\n",
       "  </tbody>\n",
       "</table>\n",
       "</div>"
      ],
      "text/plain": [
       "         Recency  Frequency  Monetary_Val  R  F  M  RFM_Score\n",
       "user_id                                                      \n",
       "1            580         82       1221.40  3  4  4       11.0\n",
       "6           1140         22        338.00  1  4  4        9.0\n",
       "10          1492          1         12.95  1  1  1        3.0\n",
       "14          1449          2         35.85  1  1  2        4.0\n",
       "18          1500          2         19.90  1  1  1        3.0"
      ]
     },
     "execution_count": 20,
     "metadata": {},
     "output_type": "execute_result"
    }
   ],
   "source": [
    "#Inspect data\n",
    "rfm.head()"
   ]
  },
  {
   "cell_type": "code",
   "execution_count": 21,
   "metadata": {},
   "outputs": [
    {
     "data": {
      "image/png": "[encoded data removed]",
      "text/plain": [
       "<Figure size 432x288 with 1 Axes>"
      ]
     },
     "metadata": {
      "needs_background": "light"
     },
     "output_type": "display_data"
    }
   ],
   "source": [
    "#Plot frequency of scores\n",
    "fig = plt.figure()\n",
    "rfm.RFM_Score.hist(bins=30)\n",
    "fig.suptitle('RFM Scores', fontsize=20)\n",
    "plt.xlabel('Score', fontsize=18)\n",
    "plt.ylabel('Frequency', fontsize=10)\n",
    "plt.show()"
   ]
  },
  {
   "cell_type": "code",
   "execution_count": 29,
   "metadata": {},
   "outputs": [
    {
     "data": {
      "text/html": [
       "<div>\n",
       "<style scoped>\n",
       "    .dataframe tbody tr th:only-of-type {\n",
       "        vertical-align: middle;\n",
       "    }\n",
       "\n",
       "    .dataframe tbody tr th {\n",
       "        vertical-align: top;\n",
       "    }\n",
       "\n",
       "    .dataframe thead th {\n",
       "        text-align: right;\n",
       "    }\n",
       "</style>\n",
       "<table border=\"1\" class=\"dataframe\">\n",
       "  <thead>\n",
       "    <tr style=\"text-align: right;\">\n",
       "      <th></th>\n",
       "      <th>Recency</th>\n",
       "      <th>Frequency</th>\n",
       "      <th>Monetary_Val</th>\n",
       "      <th>R</th>\n",
       "      <th>F</th>\n",
       "      <th>M</th>\n",
       "      <th>RFM_Score</th>\n",
       "      <th>Labels</th>\n",
       "    </tr>\n",
       "    <tr>\n",
       "      <th>user_id</th>\n",
       "      <th></th>\n",
       "      <th></th>\n",
       "      <th></th>\n",
       "      <th></th>\n",
       "      <th></th>\n",
       "      <th></th>\n",
       "      <th></th>\n",
       "      <th></th>\n",
       "    </tr>\n",
       "  </thead>\n",
       "  <tbody>\n",
       "    <tr>\n",
       "      <th>44723</th>\n",
       "      <td>273</td>\n",
       "      <td>8</td>\n",
       "      <td>623.00</td>\n",
       "      <td>4</td>\n",
       "      <td>4</td>\n",
       "      <td>4</td>\n",
       "      <td>12.0</td>\n",
       "      <td>Absolutely Loyal</td>\n",
       "    </tr>\n",
       "    <tr>\n",
       "      <th>14213</th>\n",
       "      <td>1192</td>\n",
       "      <td>2</td>\n",
       "      <td>124.50</td>\n",
       "      <td>1</td>\n",
       "      <td>1</td>\n",
       "      <td>3</td>\n",
       "      <td>5.0</td>\n",
       "      <td>Hanging By The Thread</td>\n",
       "    </tr>\n",
       "    <tr>\n",
       "      <th>2917</th>\n",
       "      <td>1435</td>\n",
       "      <td>3</td>\n",
       "      <td>36.85</td>\n",
       "      <td>1</td>\n",
       "      <td>2</td>\n",
       "      <td>2</td>\n",
       "      <td>5.0</td>\n",
       "      <td>Hanging By The Thread</td>\n",
       "    </tr>\n",
       "    <tr>\n",
       "      <th>19533</th>\n",
       "      <td>413</td>\n",
       "      <td>11</td>\n",
       "      <td>155.80</td>\n",
       "      <td>4</td>\n",
       "      <td>4</td>\n",
       "      <td>4</td>\n",
       "      <td>12.0</td>\n",
       "      <td>Absolutely Loyal</td>\n",
       "    </tr>\n",
       "    <tr>\n",
       "      <th>33378</th>\n",
       "      <td>664</td>\n",
       "      <td>4</td>\n",
       "      <td>51.50</td>\n",
       "      <td>2</td>\n",
       "      <td>3</td>\n",
       "      <td>3</td>\n",
       "      <td>8.0</td>\n",
       "      <td>Don't Stop Engaging</td>\n",
       "    </tr>\n",
       "  </tbody>\n",
       "</table>\n",
       "</div>"
      ],
      "text/plain": [
       "         Recency  Frequency  Monetary_Val  R  F  M  RFM_Score  \\\n",
       "user_id                                                         \n",
       "44723        273          8        623.00  4  4  4       12.0   \n",
       "14213       1192          2        124.50  1  1  3        5.0   \n",
       "2917        1435          3         36.85  1  2  2        5.0   \n",
       "19533        413         11        155.80  4  4  4       12.0   \n",
       "33378        664          4         51.50  2  3  3        8.0   \n",
       "\n",
       "                        Labels  \n",
       "user_id                         \n",
       "44723         Absolutely Loyal  \n",
       "14213    Hanging By The Thread  \n",
       "2917     Hanging By The Thread  \n",
       "19533         Absolutely Loyal  \n",
       "33378      Don't Stop Engaging  "
      ]
     },
     "execution_count": 29,
     "metadata": {},
     "output_type": "execute_result"
    }
   ],
   "source": [
    "#Label segments\n",
    "def label_rfm(df):\n",
    "    if df['RFM_Score'] <= 4:\n",
    "        return 'Say Goodbye'\n",
    "    elif df['RFM_Score'] <= 7:\n",
    "        return 'Hanging By The Thread'\n",
    "    elif df['RFM_Score'] <= 11 :\n",
    "        return \"Don't Stop Engaging\"\n",
    "    else:\n",
    "        return 'Absolutely Loyal' #score of 12\n",
    "\n",
    "rfm['Labels'] = rfm.apply(label_rfm, axis=1)\n",
    "\n",
    "#Inspect\n",
    "rfm.sample(5)"
   ]
  },
  {
   "cell_type": "code",
   "execution_count": 30,
   "metadata": {},
   "outputs": [
    {
     "name": "stdout",
     "output_type": "stream",
     "text": [
      "Total unique users: 8886\n",
      "------------------------------------------------------------\n"
     ]
    },
    {
     "data": {
      "text/html": [
       "<div>\n",
       "<style scoped>\n",
       "    .dataframe tbody tr th:only-of-type {\n",
       "        vertical-align: middle;\n",
       "    }\n",
       "\n",
       "    .dataframe tbody tr th {\n",
       "        vertical-align: top;\n",
       "    }\n",
       "\n",
       "    .dataframe thead tr th {\n",
       "        text-align: left;\n",
       "    }\n",
       "\n",
       "    .dataframe thead tr:last-of-type th {\n",
       "        text-align: right;\n",
       "    }\n",
       "</style>\n",
       "<table border=\"1\" class=\"dataframe\">\n",
       "  <thead>\n",
       "    <tr>\n",
       "      <th></th>\n",
       "      <th colspan=\"2\" halign=\"left\">Recency</th>\n",
       "      <th colspan=\"2\" halign=\"left\">Frequency</th>\n",
       "      <th colspan=\"3\" halign=\"left\">Monetary_Val</th>\n",
       "    </tr>\n",
       "    <tr>\n",
       "      <th></th>\n",
       "      <th>mean</th>\n",
       "      <th>median</th>\n",
       "      <th>mean</th>\n",
       "      <th>median</th>\n",
       "      <th>mean</th>\n",
       "      <th>median</th>\n",
       "      <th>count</th>\n",
       "    </tr>\n",
       "    <tr>\n",
       "      <th>Labels</th>\n",
       "      <th></th>\n",
       "      <th></th>\n",
       "      <th></th>\n",
       "      <th></th>\n",
       "      <th></th>\n",
       "      <th></th>\n",
       "      <th></th>\n",
       "    </tr>\n",
       "  </thead>\n",
       "  <tbody>\n",
       "    <tr>\n",
       "      <th>Absolutely Loyal</th>\n",
       "      <td>333.44</td>\n",
       "      <td>280</td>\n",
       "      <td>30.82</td>\n",
       "      <td>18</td>\n",
       "      <td>1493.69</td>\n",
       "      <td>305.40</td>\n",
       "      <td>582</td>\n",
       "    </tr>\n",
       "    <tr>\n",
       "      <th>Don't Stop Engaging</th>\n",
       "      <td>592.03</td>\n",
       "      <td>581</td>\n",
       "      <td>8.68</td>\n",
       "      <td>6</td>\n",
       "      <td>396.69</td>\n",
       "      <td>108.52</td>\n",
       "      <td>3434</td>\n",
       "    </tr>\n",
       "    <tr>\n",
       "      <th>Hanging By The Thread</th>\n",
       "      <td>707.37</td>\n",
       "      <td>645</td>\n",
       "      <td>2.30</td>\n",
       "      <td>2</td>\n",
       "      <td>76.28</td>\n",
       "      <td>28.85</td>\n",
       "      <td>3192</td>\n",
       "    </tr>\n",
       "    <tr>\n",
       "      <th>Say Goodbye</th>\n",
       "      <td>1044.13</td>\n",
       "      <td>952</td>\n",
       "      <td>1.31</td>\n",
       "      <td>1</td>\n",
       "      <td>16.14</td>\n",
       "      <td>12.95</td>\n",
       "      <td>1678</td>\n",
       "    </tr>\n",
       "  </tbody>\n",
       "</table>\n",
       "</div>"
      ],
      "text/plain": [
       "                       Recency        Frequency        Monetary_Val          \\\n",
       "                          mean median      mean median         mean  median   \n",
       "Labels                                                                        \n",
       "Absolutely Loyal        333.44    280     30.82     18      1493.69  305.40   \n",
       "Don't Stop Engaging     592.03    581      8.68      6       396.69  108.52   \n",
       "Hanging By The Thread   707.37    645      2.30      2        76.28   28.85   \n",
       "Say Goodbye            1044.13    952      1.31      1        16.14   12.95   \n",
       "\n",
       "                             \n",
       "                      count  \n",
       "Labels                       \n",
       "Absolutely Loyal        582  \n",
       "Don't Stop Engaging    3434  \n",
       "Hanging By The Thread  3192  \n",
       "Say Goodbye            1678  "
      ]
     },
     "execution_count": 30,
     "metadata": {},
     "output_type": "execute_result"
    }
   ],
   "source": [
    "#Print mean, median and category size\n",
    "rfm_agg = pd.DataFrame(rfm.groupby('Labels').agg({\n",
    "    'Recency': ['mean','median'],\n",
    "    'Frequency': ['mean','median'],\n",
    "    'Monetary_Val': ['mean', 'median','count']\n",
    "}).round(2))\n",
    "\n",
    "print('Total unique users: {}'.format(df_rfm.user_id.nunique()))\n",
    "print('-'*60)\n",
    "rfm_agg"
   ]
  },
  {
   "cell_type": "code",
   "execution_count": 31,
   "metadata": {},
   "outputs": [
    {
     "data": {
      "image/png": "[encoded data removed]",
      "text/plain": [
       "<Figure size 864x360 with 1 Axes>"
      ]
     },
     "metadata": {
      "needs_background": "light"
     },
     "output_type": "display_data"
    }
   ],
   "source": [
    "#Visualising size of segments\n",
    "rfm_agg.columns = rfm_agg.columns.droplevel()\n",
    "fig = plt.figure()\n",
    "fig.set_size_inches(12, 5)\n",
    "squarify.plot(sizes=rfm_agg['count'], \n",
    "              label=['Absolutely Loyal',\n",
    "                     \"Don't Stop Engaging\",\n",
    "                     'Hanging By The Thread',\n",
    "                     'Say Goodbye',], alpha=.6 )\n",
    "\n",
    "plt.title(\"RFM Segment Sizes\",fontsize=18)\n",
    "plt.axis('off')\n",
    "plt.show()"
   ]
  },
  {
   "cell_type": "code",
   "execution_count": 25,
   "metadata": {},
   "outputs": [],
   "source": [
    "# #Find loyalists\n",
    "# loyal_users = rfm[rfm.Labels == 'Absolutely Loyal'].index.tolist()\n",
    "# print(\"List of user ids categorised as 'Absolutely Loyal':\")\n",
    "# print('='*110)\n",
    "# print(loyal_users)"
   ]
  }
 ],
 "metadata": {
  "kernelspec": {
   "display_name": "Python 3",
   "language": "python",
   "name": "python3"
  },
  "language_info": {
   "codemirror_mode": {
    "name": "ipython",
    "version": 3
   },
   "file_extension": ".py",
   "mimetype": "text/x-python",
   "name": "python",
   "nbconvert_exporter": "python",
   "pygments_lexer": "ipython3",
   "version": "3.7.3"
  }
 },
 "nbformat": 4,
 "nbformat_minor": 2
}
