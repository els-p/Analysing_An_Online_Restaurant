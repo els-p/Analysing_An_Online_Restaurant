{
 "cells": [
  {
   "cell_type": "markdown",
   "metadata": {},
   "source": [
    "# Recency, Frequency, Monetary Value (RFM) Model <br> For Marketing Decisions"
   ]
  },
  {
   "attachments": {},
   "cell_type": "markdown",
   "metadata": {},
   "source": [
    "Here I use the RFM model to segment customers and identify groups of users to target first. Users who have been purchasing more recently, more frequently and in larger values can be expected to respond positively in the immediate term. \n",
    "\n",
    "Recency: Days since last purchase\n",
    "<br>Frequency: Total number of orders\n",
    "<br>Monetary Value: Total sales from user"
   ]
  },
  {
   "cell_type": "markdown",
   "metadata": {},
   "source": [
    "## Data Import and Pre-Processing"
   ]
  },
  {
   "cell_type": "code",
   "execution_count": 1,
   "metadata": {},
   "outputs": [
    {
     "name": "stderr",
     "output_type": "stream",
     "text": [
      "Using TensorFlow backend.\n"
     ]
    }
   ],
   "source": [
    "#Import libraries\n",
    "import pandas as pd\n",
    "import seaborn as sns\n",
    "import numpy as np\n",
    "import string\n",
    "from datetime import timedelta\n",
    "import squarify\n",
    "\n",
    "from tqdm import tqdm_notebook as tqdm\n",
    "from keras.utils import np_utils\n",
    "import matplotlib.pyplot as plt\n",
    "%matplotlib inline\n",
    "\n",
    "from sklearn.cluster import KMeans, DBSCAN\n",
    "from sklearn.preprocessing import StandardScaler, OneHotEncoder\n",
    "from sklearn import metrics\n",
    "from sklearn.metrics import silhouette_score\n",
    "from sklearn.model_selection import GridSearchCV\n",
    "from sklearn.feature_extraction.text import CountVectorizer\n",
    "from sklearn.decomposition import PCA"
   ]
  },
  {
   "cell_type": "code",
   "execution_count": 2,
   "metadata": {},
   "outputs": [],
   "source": [
    "#Import data\n",
    "df = pd.read_csv('../raw/analytics_orders.csv')"
   ]
  },
  {
   "cell_type": "code",
   "execution_count": 3,
   "metadata": {},
   "outputs": [
    {
     "data": {
      "text/html": [
       "<div>\n",
       "<style scoped>\n",
       "    .dataframe tbody tr th:only-of-type {\n",
       "        vertical-align: middle;\n",
       "    }\n",
       "\n",
       "    .dataframe tbody tr th {\n",
       "        vertical-align: top;\n",
       "    }\n",
       "\n",
       "    .dataframe thead th {\n",
       "        text-align: right;\n",
       "    }\n",
       "</style>\n",
       "<table border=\"1\" class=\"dataframe\">\n",
       "  <thead>\n",
       "    <tr style=\"text-align: right;\">\n",
       "      <th></th>\n",
       "      <th>id</th>\n",
       "      <th>sales</th>\n",
       "      <th>discount_given</th>\n",
       "      <th>credits_deducted</th>\n",
       "      <th>amount_charged</th>\n",
       "      <th>delivery_fee</th>\n",
       "      <th>short_code</th>\n",
       "      <th>hub</th>\n",
       "      <th>order_date</th>\n",
       "      <th>serving_date</th>\n",
       "      <th>timeslot</th>\n",
       "      <th>meal_count</th>\n",
       "      <th>ancillary_count</th>\n",
       "      <th>created_at</th>\n",
       "      <th>updated_at</th>\n",
       "      <th>ao_id</th>\n",
       "      <th>user_id</th>\n",
       "      <th>delivery_order_id</th>\n",
       "      <th>amount_paid</th>\n",
       "      <th>surcharge_amount</th>\n",
       "      <th>service_zone_id</th>\n",
       "      <th>revenue</th>\n",
       "    </tr>\n",
       "  </thead>\n",
       "  <tbody>\n",
       "    <tr>\n",
       "      <th>59372</th>\n",
       "      <td>229262</td>\n",
       "      <td>2290</td>\n",
       "      <td>200.0</td>\n",
       "      <td>2290</td>\n",
       "      <td>0</td>\n",
       "      <td>200</td>\n",
       "      <td>ZONE 2</td>\n",
       "      <td>JB-L</td>\n",
       "      <td>2017-11-06 07:50:14.965063</td>\n",
       "      <td>2017-11-07 00:00:00.000000</td>\n",
       "      <td>12:30pm</td>\n",
       "      <td>2</td>\n",
       "      <td>0</td>\n",
       "      <td>2017-11-06 07:50:15.163445</td>\n",
       "      <td>2019-04-03 15:59:45.032356</td>\n",
       "      <td>GO249393-AO</td>\n",
       "      <td>33186</td>\n",
       "      <td>104682</td>\n",
       "      <td>2290</td>\n",
       "      <td>0.0</td>\n",
       "      <td>74.0</td>\n",
       "      <td>2490.0</td>\n",
       "    </tr>\n",
       "  </tbody>\n",
       "</table>\n",
       "</div>"
      ],
      "text/plain": [
       "           id  sales  discount_given  credits_deducted  amount_charged  \\\n",
       "59372  229262   2290           200.0              2290               0   \n",
       "\n",
       "       delivery_fee short_code   hub                  order_date  \\\n",
       "59372           200     ZONE 2  JB-L  2017-11-06 07:50:14.965063   \n",
       "\n",
       "                     serving_date timeslot  meal_count  ancillary_count  \\\n",
       "59372  2017-11-07 00:00:00.000000  12:30pm           2                0   \n",
       "\n",
       "                       created_at                  updated_at        ao_id  \\\n",
       "59372  2017-11-06 07:50:15.163445  2019-04-03 15:59:45.032356  GO249393-AO   \n",
       "\n",
       "       user_id  delivery_order_id  amount_paid  surcharge_amount  \\\n",
       "59372    33186             104682         2290               0.0   \n",
       "\n",
       "       service_zone_id  revenue  \n",
       "59372             74.0   2490.0  "
      ]
     },
     "execution_count": 3,
     "metadata": {},
     "output_type": "execute_result"
    }
   ],
   "source": [
    "#Inspect data\n",
    "pd.options.display.max_columns = None\n",
    "df.sample()"
   ]
  },
  {
   "cell_type": "markdown",
   "metadata": {},
   "source": [
    "### Missing Values"
   ]
  },
  {
   "cell_type": "code",
   "execution_count": 4,
   "metadata": {},
   "outputs": [
    {
     "data": {
      "text/html": [
       "<div>\n",
       "<style scoped>\n",
       "    .dataframe tbody tr th:only-of-type {\n",
       "        vertical-align: middle;\n",
       "    }\n",
       "\n",
       "    .dataframe tbody tr th {\n",
       "        vertical-align: top;\n",
       "    }\n",
       "\n",
       "    .dataframe thead th {\n",
       "        text-align: right;\n",
       "    }\n",
       "</style>\n",
       "<table border=\"1\" class=\"dataframe\">\n",
       "  <thead>\n",
       "    <tr style=\"text-align: right;\">\n",
       "      <th></th>\n",
       "      <th>%Null</th>\n",
       "    </tr>\n",
       "  </thead>\n",
       "  <tbody>\n",
       "    <tr>\n",
       "      <th>surcharge_amount</th>\n",
       "      <td>0.422932</td>\n",
       "    </tr>\n",
       "    <tr>\n",
       "      <th>short_code</th>\n",
       "      <td>0.230115</td>\n",
       "    </tr>\n",
       "    <tr>\n",
       "      <th>discount_given</th>\n",
       "      <td>0.135158</td>\n",
       "    </tr>\n",
       "    <tr>\n",
       "      <th>timeslot</th>\n",
       "      <td>0.052106</td>\n",
       "    </tr>\n",
       "    <tr>\n",
       "      <th>service_zone_id</th>\n",
       "      <td>0.000122</td>\n",
       "    </tr>\n",
       "    <tr>\n",
       "      <th>revenue</th>\n",
       "      <td>0.000083</td>\n",
       "    </tr>\n",
       "  </tbody>\n",
       "</table>\n",
       "</div>"
      ],
      "text/plain": [
       "                     %Null\n",
       "surcharge_amount  0.422932\n",
       "short_code        0.230115\n",
       "discount_given    0.135158\n",
       "timeslot          0.052106\n",
       "service_zone_id   0.000122\n",
       "revenue           0.000083"
      ]
     },
     "execution_count": 4,
     "metadata": {},
     "output_type": "execute_result"
    }
   ],
   "source": [
    "#Find pct missing values in each column\n",
    "missing_pct = pd.DataFrame(df.isnull().sum()/df.shape[0], columns=['%Null']).sort_values('%Null',ascending=False)\n",
    "\n",
    "#Print only those with missing values\n",
    "missing_pct[missing_pct['%Null']> 0]"
   ]
  },
  {
   "cell_type": "code",
   "execution_count": 5,
   "metadata": {},
   "outputs": [
    {
     "data": {
      "text/plain": [
       "id                     int64\n",
       "sales                  int64\n",
       "discount_given       float64\n",
       "credits_deducted       int64\n",
       "amount_charged         int64\n",
       "delivery_fee           int64\n",
       "short_code            object\n",
       "hub                   object\n",
       "order_date            object\n",
       "serving_date          object\n",
       "timeslot              object\n",
       "meal_count             int64\n",
       "ancillary_count        int64\n",
       "created_at            object\n",
       "updated_at            object\n",
       "ao_id                 object\n",
       "user_id                int64\n",
       "delivery_order_id      int64\n",
       "amount_paid            int64\n",
       "surcharge_amount     float64\n",
       "service_zone_id      float64\n",
       "revenue              float64\n",
       "dtype: object"
      ]
     },
     "execution_count": 5,
     "metadata": {},
     "output_type": "execute_result"
    }
   ],
   "source": [
    "#Inspect data types\n",
    "df.dtypes"
   ]
  },
  {
   "cell_type": "markdown",
   "metadata": {},
   "source": [
    "For Recency, we use the date of last delivery i.e. `serving_date`.\n",
    "<br>For Frequency, we use the number of unique `delivery_order_id` attached to a user.\n",
    "<br>For Monetary Value, we use the total `sales` value."
   ]
  },
  {
   "cell_type": "code",
   "execution_count": 6,
   "metadata": {},
   "outputs": [],
   "source": [
    "#Convert serving date to date time format\n",
    "df['serving_date'] = pd.to_datetime(df.serving_date)\n",
    "\n",
    "#Convert sales units from cents to dollars\n",
    "df.sales = df.sales/100"
   ]
  },
  {
   "cell_type": "code",
   "execution_count": 7,
   "metadata": {},
   "outputs": [],
   "source": [
    "#Develop RFM model with respective columns\n",
    "df_rfm = df[[\n",
    "    'serving_date',       \n",
    "    'user_id',\n",
    "    'sales',             \n",
    "    'delivery_order_id'     \n",
    "]]"
   ]
  },
  {
   "cell_type": "markdown",
   "metadata": {},
   "source": [
    "### Remove outliers"
   ]
  },
  {
   "cell_type": "code",
   "execution_count": 8,
   "metadata": {},
   "outputs": [],
   "source": [
    "#Remove rows where sales > 40000, negative and 0 (reference 2. Descriptive Statistics)\n",
    "df_rfm = df_rfm[(df_rfm.sales < 40000)&(df.sales>0)]"
   ]
  },
  {
   "cell_type": "code",
   "execution_count": 9,
   "metadata": {},
   "outputs": [
    {
     "name": "stdout",
     "output_type": "stream",
     "text": [
      "We have 156335 records of transactions dated from 2014-07-07 to 2019-12-01 from 24254 unique users.\n"
     ]
    }
   ],
   "source": [
    "#Print number of data points, unique users and period\n",
    "print('We have {} records of transactions dated from {} to {} from {} unique users.'.format(\n",
    "    df.shape[0],\n",
    "    df.serving_date.dt.date.min(),\n",
    "    df.serving_date.dt.date.max(),\n",
    "    df.user_id.nunique()\n",
    "))"
   ]
  },
  {
   "cell_type": "markdown",
   "metadata": {},
   "source": [
    "I set reference date to compute days since last purchase as one day after the last date found in data set so that the minimum number of days after last purchase is one."
   ]
  },
  {
   "cell_type": "code",
   "execution_count": 10,
   "metadata": {},
   "outputs": [
    {
     "name": "stdout",
     "output_type": "stream",
     "text": [
      "The reference date is 2019-12-02.\n"
     ]
    }
   ],
   "source": [
    "#Set reference date\n",
    "ref_date = df.serving_date.dt.date.max() + timedelta(days=1)\n",
    "print('The reference date is {}.'.format(ref_date))"
   ]
  },
  {
   "cell_type": "code",
   "execution_count": 11,
   "metadata": {},
   "outputs": [],
   "source": [
    "#Compute Recency as no. of days from ref date, Frequency as no. of delivery orders, Monetary Value as total sales\n",
    "rfm = df_rfm.groupby(['user_id']).agg({\n",
    "    'serving_date': lambda x: (ref_date - x.dt.date.max()).days,\n",
    "    'delivery_order_id': 'count',\n",
    "    'sales': 'sum'})\n",
    "\n",
    "#Rename columns\n",
    "rfm.rename(columns={'serving_date': 'Recency',\n",
    "                         'delivery_order_id': 'Frequency',\n",
    "                         'sales': 'Monetary_Val'}, inplace=True)"
   ]
  },
  {
   "cell_type": "code",
   "execution_count": 12,
   "metadata": {},
   "outputs": [
    {
     "data": {
      "text/html": [
       "<div>\n",
       "<style scoped>\n",
       "    .dataframe tbody tr th:only-of-type {\n",
       "        vertical-align: middle;\n",
       "    }\n",
       "\n",
       "    .dataframe tbody tr th {\n",
       "        vertical-align: top;\n",
       "    }\n",
       "\n",
       "    .dataframe thead th {\n",
       "        text-align: right;\n",
       "    }\n",
       "</style>\n",
       "<table border=\"1\" class=\"dataframe\">\n",
       "  <thead>\n",
       "    <tr style=\"text-align: right;\">\n",
       "      <th></th>\n",
       "      <th>Recency</th>\n",
       "      <th>Frequency</th>\n",
       "      <th>Monetary_Val</th>\n",
       "    </tr>\n",
       "    <tr>\n",
       "      <th>user_id</th>\n",
       "      <th></th>\n",
       "      <th></th>\n",
       "      <th></th>\n",
       "    </tr>\n",
       "  </thead>\n",
       "  <tbody>\n",
       "    <tr>\n",
       "      <th>1863</th>\n",
       "      <td>1833</td>\n",
       "      <td>1</td>\n",
       "      <td>11.95</td>\n",
       "    </tr>\n",
       "    <tr>\n",
       "      <th>54301</th>\n",
       "      <td>375</td>\n",
       "      <td>1</td>\n",
       "      <td>745.20</td>\n",
       "    </tr>\n",
       "    <tr>\n",
       "      <th>49994</th>\n",
       "      <td>472</td>\n",
       "      <td>1</td>\n",
       "      <td>20.90</td>\n",
       "    </tr>\n",
       "  </tbody>\n",
       "</table>\n",
       "</div>"
      ],
      "text/plain": [
       "         Recency  Frequency  Monetary_Val\n",
       "user_id                                  \n",
       "1863        1833          1         11.95\n",
       "54301        375          1        745.20\n",
       "49994        472          1         20.90"
      ]
     },
     "execution_count": 12,
     "metadata": {},
     "output_type": "execute_result"
    }
   ],
   "source": [
    "#Inspect data\n",
    "rfm.sample(3)"
   ]
  },
  {
   "cell_type": "markdown",
   "metadata": {},
   "source": [
    "## Exploratory Data Analysis"
   ]
  },
  {
   "cell_type": "code",
   "execution_count": 13,
   "metadata": {},
   "outputs": [
    {
     "data": {
      "image/png": "[encoded data removed]",
      "text/plain": [
       "<Figure size 1080x360 with 1 Axes>"
      ]
     },
     "metadata": {
      "needs_background": "light"
     },
     "output_type": "display_data"
    }
   ],
   "source": [
    "# Plot Recency distribution\n",
    "fig = plt.figure(figsize=(15,5))\n",
    "sns.boxplot(rfm.Recency, color='purple')\n",
    "fig.suptitle('Recency of Orders', fontsize=20)\n",
    "plt.xlabel('Num days from last order', fontsize=18)\n",
    "plt.xticks(np.arange(min(rfm.Recency), max(rfm.Recency)+1,100))\n",
    "plt.ylabel('Probability density', fontsize=10)\n",
    "\n",
    "plt.show()"
   ]
  },
  {
   "cell_type": "code",
   "execution_count": 14,
   "metadata": {},
   "outputs": [
    {
     "data": {
      "image/png": "[encoded data removed]",
      "text/plain": [
       "<Figure size 1080x360 with 1 Axes>"
      ]
     },
     "metadata": {
      "needs_background": "light"
     },
     "output_type": "display_data"
    }
   ],
   "source": [
    "# Plot Frequency distribution\n",
    "fig = plt.figure(figsize=(15,5))\n",
    "sns.distplot(rfm.Frequency, bins = 100, color='green')\n",
    "fig.suptitle('Frequency of Orders', fontsize=20)\n",
    "plt.xlabel('Num of Orders', fontsize=18)\n",
    "plt.ylabel('Probability density', fontsize=10)\n",
    "\n",
    "plt.show()"
   ]
  },
  {
   "cell_type": "code",
   "execution_count": 15,
   "metadata": {},
   "outputs": [
    {
     "data": {
      "image/png": "[encoded data removed]",
      "text/plain": [
       "<Figure size 1080x360 with 1 Axes>"
      ]
     },
     "metadata": {
      "needs_background": "light"
     },
     "output_type": "display_data"
    }
   ],
   "source": [
    "# Plot Monetary Value distribution\n",
    "fig = plt.figure(figsize=(15,5))\n",
    "sns.distplot(rfm.Monetary_Val, bins=20, color='purple')\n",
    "fig.suptitle('Monetary Value of Users', fontsize=20)\n",
    "plt.xlabel('Sales $', fontsize=18)\n",
    "plt.ylabel('Probability density', fontsize=10)\n",
    "\n",
    "plt.show()"
   ]
  },
  {
   "cell_type": "markdown",
   "metadata": {},
   "source": [
    "## Modelling"
   ]
  },
  {
   "cell_type": "markdown",
   "metadata": {},
   "source": [
    "I score the Users on RFM. Customers with the lowest recency, highest frequency and monetary amounts should score the highest. RFM values are split into quartiles and allocated scores."
   ]
  },
  {
   "cell_type": "code",
   "execution_count": 16,
   "metadata": {},
   "outputs": [
    {
     "data": {
      "text/html": [
       "<div>\n",
       "<style scoped>\n",
       "    .dataframe tbody tr th:only-of-type {\n",
       "        vertical-align: middle;\n",
       "    }\n",
       "\n",
       "    .dataframe tbody tr th {\n",
       "        vertical-align: top;\n",
       "    }\n",
       "\n",
       "    .dataframe thead th {\n",
       "        text-align: right;\n",
       "    }\n",
       "</style>\n",
       "<table border=\"1\" class=\"dataframe\">\n",
       "  <thead>\n",
       "    <tr style=\"text-align: right;\">\n",
       "      <th></th>\n",
       "      <th>Recency</th>\n",
       "      <th>Frequency</th>\n",
       "      <th>Monetary_Val</th>\n",
       "      <th>R</th>\n",
       "      <th>F</th>\n",
       "      <th>M</th>\n",
       "    </tr>\n",
       "    <tr>\n",
       "      <th>user_id</th>\n",
       "      <th></th>\n",
       "      <th></th>\n",
       "      <th></th>\n",
       "      <th></th>\n",
       "      <th></th>\n",
       "      <th></th>\n",
       "    </tr>\n",
       "  </thead>\n",
       "  <tbody>\n",
       "    <tr>\n",
       "      <th>1</th>\n",
       "      <td>809</td>\n",
       "      <td>610</td>\n",
       "      <td>11569.44</td>\n",
       "      <td>2</td>\n",
       "      <td>3</td>\n",
       "      <td>4</td>\n",
       "    </tr>\n",
       "    <tr>\n",
       "      <th>3</th>\n",
       "      <td>1080</td>\n",
       "      <td>1</td>\n",
       "      <td>298.00</td>\n",
       "      <td>2</td>\n",
       "      <td>1</td>\n",
       "      <td>4</td>\n",
       "    </tr>\n",
       "    <tr>\n",
       "      <th>5</th>\n",
       "      <td>1081</td>\n",
       "      <td>1</td>\n",
       "      <td>298.00</td>\n",
       "      <td>2</td>\n",
       "      <td>1</td>\n",
       "      <td>4</td>\n",
       "    </tr>\n",
       "    <tr>\n",
       "      <th>6</th>\n",
       "      <td>1073</td>\n",
       "      <td>203</td>\n",
       "      <td>5102.37</td>\n",
       "      <td>2</td>\n",
       "      <td>3</td>\n",
       "      <td>4</td>\n",
       "    </tr>\n",
       "    <tr>\n",
       "      <th>7</th>\n",
       "      <td>1076</td>\n",
       "      <td>1</td>\n",
       "      <td>398.00</td>\n",
       "      <td>2</td>\n",
       "      <td>1</td>\n",
       "      <td>4</td>\n",
       "    </tr>\n",
       "  </tbody>\n",
       "</table>\n",
       "</div>"
      ],
      "text/plain": [
       "         Recency  Frequency  Monetary_Val  R  F  M\n",
       "user_id                                           \n",
       "1            809        610      11569.44  2  3  4\n",
       "3           1080          1        298.00  2  1  4\n",
       "5           1081          1        298.00  2  1  4\n",
       "6           1073        203       5102.37  2  3  4\n",
       "7           1076          1        398.00  2  1  4"
      ]
     },
     "execution_count": 16,
     "metadata": {},
     "output_type": "execute_result"
    }
   ],
   "source": [
    "#Create scoring (1-4)\n",
    "r_labels = range(4, 0, -1) #low recency, higher score\n",
    "f_labels = range(1, 4)     #low frequency, lower score\n",
    "m_labels = range(1, 5)     #low monetary value, lower score\n",
    "\n",
    "#Split users into quartile groups wrt to RFM\n",
    "r_groups = pd.qcut(rfm.Recency, q=4, labels=r_labels)\n",
    "f_groups = pd.qcut(rfm.Frequency, q=4, labels=f_labels, duplicates='drop')\n",
    "m_groups = pd.qcut(rfm.Monetary_Val, q=4, labels=m_labels)\n",
    "\n",
    "# Create new columns \n",
    "rfm = rfm.assign(R = r_groups.values, F = f_groups.values, M = m_groups.values)\n",
    "rfm.head()"
   ]
  },
  {
   "cell_type": "code",
   "execution_count": 17,
   "metadata": {},
   "outputs": [],
   "source": [
    "#Sum scores in new column\n",
    "rfm['RFM_Score'] = rfm[['R','F','M']].sum(axis=1)"
   ]
  },
  {
   "cell_type": "code",
   "execution_count": 18,
   "metadata": {},
   "outputs": [
    {
     "data": {
      "text/html": [
       "<div>\n",
       "<style scoped>\n",
       "    .dataframe tbody tr th:only-of-type {\n",
       "        vertical-align: middle;\n",
       "    }\n",
       "\n",
       "    .dataframe tbody tr th {\n",
       "        vertical-align: top;\n",
       "    }\n",
       "\n",
       "    .dataframe thead th {\n",
       "        text-align: right;\n",
       "    }\n",
       "</style>\n",
       "<table border=\"1\" class=\"dataframe\">\n",
       "  <thead>\n",
       "    <tr style=\"text-align: right;\">\n",
       "      <th></th>\n",
       "      <th>Recency</th>\n",
       "      <th>Frequency</th>\n",
       "      <th>Monetary_Val</th>\n",
       "      <th>R</th>\n",
       "      <th>F</th>\n",
       "      <th>M</th>\n",
       "      <th>RFM_Score</th>\n",
       "    </tr>\n",
       "    <tr>\n",
       "      <th>user_id</th>\n",
       "      <th></th>\n",
       "      <th></th>\n",
       "      <th></th>\n",
       "      <th></th>\n",
       "      <th></th>\n",
       "      <th></th>\n",
       "      <th></th>\n",
       "    </tr>\n",
       "  </thead>\n",
       "  <tbody>\n",
       "    <tr>\n",
       "      <th>1</th>\n",
       "      <td>809</td>\n",
       "      <td>610</td>\n",
       "      <td>11569.44</td>\n",
       "      <td>2</td>\n",
       "      <td>3</td>\n",
       "      <td>4</td>\n",
       "      <td>9.0</td>\n",
       "    </tr>\n",
       "    <tr>\n",
       "      <th>3</th>\n",
       "      <td>1080</td>\n",
       "      <td>1</td>\n",
       "      <td>298.00</td>\n",
       "      <td>2</td>\n",
       "      <td>1</td>\n",
       "      <td>4</td>\n",
       "      <td>7.0</td>\n",
       "    </tr>\n",
       "    <tr>\n",
       "      <th>5</th>\n",
       "      <td>1081</td>\n",
       "      <td>1</td>\n",
       "      <td>298.00</td>\n",
       "      <td>2</td>\n",
       "      <td>1</td>\n",
       "      <td>4</td>\n",
       "      <td>7.0</td>\n",
       "    </tr>\n",
       "    <tr>\n",
       "      <th>6</th>\n",
       "      <td>1073</td>\n",
       "      <td>203</td>\n",
       "      <td>5102.37</td>\n",
       "      <td>2</td>\n",
       "      <td>3</td>\n",
       "      <td>4</td>\n",
       "      <td>9.0</td>\n",
       "    </tr>\n",
       "    <tr>\n",
       "      <th>7</th>\n",
       "      <td>1076</td>\n",
       "      <td>1</td>\n",
       "      <td>398.00</td>\n",
       "      <td>2</td>\n",
       "      <td>1</td>\n",
       "      <td>4</td>\n",
       "      <td>7.0</td>\n",
       "    </tr>\n",
       "  </tbody>\n",
       "</table>\n",
       "</div>"
      ],
      "text/plain": [
       "         Recency  Frequency  Monetary_Val  R  F  M  RFM_Score\n",
       "user_id                                                      \n",
       "1            809        610      11569.44  2  3  4        9.0\n",
       "3           1080          1        298.00  2  1  4        7.0\n",
       "5           1081          1        298.00  2  1  4        7.0\n",
       "6           1073        203       5102.37  2  3  4        9.0\n",
       "7           1076          1        398.00  2  1  4        7.0"
      ]
     },
     "execution_count": 18,
     "metadata": {},
     "output_type": "execute_result"
    }
   ],
   "source": [
    "#Inspect data\n",
    "rfm.head()"
   ]
  },
  {
   "cell_type": "code",
   "execution_count": 19,
   "metadata": {},
   "outputs": [
    {
     "data": {
      "image/png": "[encoded data removed]",
      "text/plain": [
       "<Figure size 432x288 with 1 Axes>"
      ]
     },
     "metadata": {
      "needs_background": "light"
     },
     "output_type": "display_data"
    }
   ],
   "source": [
    "#Plot frequency of scores\n",
    "fig = plt.figure()\n",
    "rfm.RFM_Score.hist(bins=30)\n",
    "fig.suptitle('RFM Scores', fontsize=20)\n",
    "plt.xlabel('Score', fontsize=18)\n",
    "plt.ylabel('Frequency', fontsize=10)\n",
    "plt.show()"
   ]
  },
  {
   "cell_type": "code",
   "execution_count": 20,
   "metadata": {},
   "outputs": [
    {
     "data": {
      "text/html": [
       "<div>\n",
       "<style scoped>\n",
       "    .dataframe tbody tr th:only-of-type {\n",
       "        vertical-align: middle;\n",
       "    }\n",
       "\n",
       "    .dataframe tbody tr th {\n",
       "        vertical-align: top;\n",
       "    }\n",
       "\n",
       "    .dataframe thead th {\n",
       "        text-align: right;\n",
       "    }\n",
       "</style>\n",
       "<table border=\"1\" class=\"dataframe\">\n",
       "  <thead>\n",
       "    <tr style=\"text-align: right;\">\n",
       "      <th></th>\n",
       "      <th>Recency</th>\n",
       "      <th>Frequency</th>\n",
       "      <th>Monetary_Val</th>\n",
       "      <th>R</th>\n",
       "      <th>F</th>\n",
       "      <th>M</th>\n",
       "      <th>RFM_Score</th>\n",
       "      <th>Labels</th>\n",
       "    </tr>\n",
       "    <tr>\n",
       "      <th>user_id</th>\n",
       "      <th></th>\n",
       "      <th></th>\n",
       "      <th></th>\n",
       "      <th></th>\n",
       "      <th></th>\n",
       "      <th></th>\n",
       "      <th></th>\n",
       "      <th></th>\n",
       "    </tr>\n",
       "  </thead>\n",
       "  <tbody>\n",
       "    <tr>\n",
       "      <th>31275</th>\n",
       "      <td>944</td>\n",
       "      <td>1</td>\n",
       "      <td>28.45</td>\n",
       "      <td>2</td>\n",
       "      <td>1</td>\n",
       "      <td>2</td>\n",
       "      <td>5.0</td>\n",
       "      <td>Say Goodbye</td>\n",
       "    </tr>\n",
       "    <tr>\n",
       "      <th>58019</th>\n",
       "      <td>126</td>\n",
       "      <td>3</td>\n",
       "      <td>40.85</td>\n",
       "      <td>4</td>\n",
       "      <td>2</td>\n",
       "      <td>2</td>\n",
       "      <td>8.0</td>\n",
       "      <td>Don't Stop Engaging</td>\n",
       "    </tr>\n",
       "    <tr>\n",
       "      <th>9437</th>\n",
       "      <td>1216</td>\n",
       "      <td>1</td>\n",
       "      <td>29.85</td>\n",
       "      <td>1</td>\n",
       "      <td>1</td>\n",
       "      <td>2</td>\n",
       "      <td>4.0</td>\n",
       "      <td>Say Goodbye</td>\n",
       "    </tr>\n",
       "    <tr>\n",
       "      <th>26157</th>\n",
       "      <td>1151</td>\n",
       "      <td>1</td>\n",
       "      <td>145.35</td>\n",
       "      <td>2</td>\n",
       "      <td>1</td>\n",
       "      <td>3</td>\n",
       "      <td>6.0</td>\n",
       "      <td>Hanging By The Thread</td>\n",
       "    </tr>\n",
       "    <tr>\n",
       "      <th>42091</th>\n",
       "      <td>423</td>\n",
       "      <td>1</td>\n",
       "      <td>20.90</td>\n",
       "      <td>4</td>\n",
       "      <td>1</td>\n",
       "      <td>1</td>\n",
       "      <td>6.0</td>\n",
       "      <td>Hanging By The Thread</td>\n",
       "    </tr>\n",
       "  </tbody>\n",
       "</table>\n",
       "</div>"
      ],
      "text/plain": [
       "         Recency  Frequency  Monetary_Val  R  F  M  RFM_Score  \\\n",
       "user_id                                                         \n",
       "31275        944          1         28.45  2  1  2        5.0   \n",
       "58019        126          3         40.85  4  2  2        8.0   \n",
       "9437        1216          1         29.85  1  1  2        4.0   \n",
       "26157       1151          1        145.35  2  1  3        6.0   \n",
       "42091        423          1         20.90  4  1  1        6.0   \n",
       "\n",
       "                        Labels  \n",
       "user_id                         \n",
       "31275              Say Goodbye  \n",
       "58019      Don't Stop Engaging  \n",
       "9437               Say Goodbye  \n",
       "26157    Hanging By The Thread  \n",
       "42091    Hanging By The Thread  "
      ]
     },
     "execution_count": 20,
     "metadata": {},
     "output_type": "execute_result"
    }
   ],
   "source": [
    "#Label segments\n",
    "def label_rfm(df):\n",
    "    if df['RFM_Score'] <= 5:\n",
    "        return 'Say Goodbye'\n",
    "    elif df['RFM_Score'] <= 7:\n",
    "        return 'Hanging By The Thread'\n",
    "    elif df['RFM_Score'] <= 9 :\n",
    "        return \"Don't Stop Engaging\"\n",
    "    else:\n",
    "        return 'Absolutely Loyal' #score of 11\n",
    "\n",
    "#Call function\n",
    "rfm['Labels'] = rfm.apply(label_rfm, axis=1)\n",
    "\n",
    "#Inspect\n",
    "rfm.sample(5)"
   ]
  },
  {
   "cell_type": "markdown",
   "metadata": {},
   "source": [
    "## Interpretation"
   ]
  },
  {
   "cell_type": "code",
   "execution_count": 21,
   "metadata": {},
   "outputs": [
    {
     "name": "stdout",
     "output_type": "stream",
     "text": [
      "Total unique users: 24185\n",
      "------------------------------------------------------------\n"
     ]
    },
    {
     "data": {
      "text/html": [
       "<div>\n",
       "<style scoped>\n",
       "    .dataframe tbody tr th:only-of-type {\n",
       "        vertical-align: middle;\n",
       "    }\n",
       "\n",
       "    .dataframe tbody tr th {\n",
       "        vertical-align: top;\n",
       "    }\n",
       "\n",
       "    .dataframe thead tr th {\n",
       "        text-align: left;\n",
       "    }\n",
       "\n",
       "    .dataframe thead tr:last-of-type th {\n",
       "        text-align: right;\n",
       "    }\n",
       "</style>\n",
       "<table border=\"1\" class=\"dataframe\">\n",
       "  <thead>\n",
       "    <tr>\n",
       "      <th></th>\n",
       "      <th colspan=\"2\" halign=\"left\">Recency</th>\n",
       "      <th colspan=\"2\" halign=\"left\">Frequency</th>\n",
       "      <th colspan=\"3\" halign=\"left\">Monetary_Val</th>\n",
       "    </tr>\n",
       "    <tr>\n",
       "      <th></th>\n",
       "      <th>mean</th>\n",
       "      <th>median</th>\n",
       "      <th>mean</th>\n",
       "      <th>median</th>\n",
       "      <th>mean</th>\n",
       "      <th>median</th>\n",
       "      <th>count</th>\n",
       "    </tr>\n",
       "    <tr>\n",
       "      <th>Labels</th>\n",
       "      <th></th>\n",
       "      <th></th>\n",
       "      <th></th>\n",
       "      <th></th>\n",
       "      <th></th>\n",
       "      <th></th>\n",
       "      <th></th>\n",
       "    </tr>\n",
       "  </thead>\n",
       "  <tbody>\n",
       "    <tr>\n",
       "      <th>Absolutely Loyal</th>\n",
       "      <td>364.39</td>\n",
       "      <td>397.0</td>\n",
       "      <td>23.98</td>\n",
       "      <td>12</td>\n",
       "      <td>1695.50</td>\n",
       "      <td>508.40</td>\n",
       "      <td>3253</td>\n",
       "    </tr>\n",
       "    <tr>\n",
       "      <th>Don't Stop Engaging</th>\n",
       "      <td>616.47</td>\n",
       "      <td>524.5</td>\n",
       "      <td>9.14</td>\n",
       "      <td>4</td>\n",
       "      <td>634.56</td>\n",
       "      <td>208.32</td>\n",
       "      <td>5402</td>\n",
       "    </tr>\n",
       "    <tr>\n",
       "      <th>Hanging By The Thread</th>\n",
       "      <td>774.30</td>\n",
       "      <td>675.0</td>\n",
       "      <td>2.41</td>\n",
       "      <td>1</td>\n",
       "      <td>176.41</td>\n",
       "      <td>68.30</td>\n",
       "      <td>6716</td>\n",
       "    </tr>\n",
       "    <tr>\n",
       "      <th>Say Goodbye</th>\n",
       "      <td>1202.90</td>\n",
       "      <td>1237.0</td>\n",
       "      <td>1.33</td>\n",
       "      <td>1</td>\n",
       "      <td>28.28</td>\n",
       "      <td>21.55</td>\n",
       "      <td>8814</td>\n",
       "    </tr>\n",
       "  </tbody>\n",
       "</table>\n",
       "</div>"
      ],
      "text/plain": [
       "                       Recency         Frequency        Monetary_Val          \\\n",
       "                          mean  median      mean median         mean  median   \n",
       "Labels                                                                         \n",
       "Absolutely Loyal        364.39   397.0     23.98     12      1695.50  508.40   \n",
       "Don't Stop Engaging     616.47   524.5      9.14      4       634.56  208.32   \n",
       "Hanging By The Thread   774.30   675.0      2.41      1       176.41   68.30   \n",
       "Say Goodbye            1202.90  1237.0      1.33      1        28.28   21.55   \n",
       "\n",
       "                             \n",
       "                      count  \n",
       "Labels                       \n",
       "Absolutely Loyal       3253  \n",
       "Don't Stop Engaging    5402  \n",
       "Hanging By The Thread  6716  \n",
       "Say Goodbye            8814  "
      ]
     },
     "execution_count": 21,
     "metadata": {},
     "output_type": "execute_result"
    }
   ],
   "source": [
    "#Print mean, median and category size\n",
    "rfm_agg = pd.DataFrame(rfm.groupby('Labels').agg({\n",
    "    'Recency': ['mean','median'],\n",
    "    'Frequency': ['mean','median'],\n",
    "    'Monetary_Val': ['mean', 'median','count']\n",
    "}).round(2))\n",
    "\n",
    "print('Total unique users: {}'.format(df_rfm.user_id.nunique()))\n",
    "print('-'*60)\n",
    "rfm_agg"
   ]
  },
  {
   "cell_type": "code",
   "execution_count": 22,
   "metadata": {},
   "outputs": [
    {
     "data": {
      "image/png": "[encoded data removed]",
      "text/plain": [
       "<Figure size 1440x612 with 1 Axes>"
      ]
     },
     "metadata": {
      "needs_background": "light"
     },
     "output_type": "display_data"
    }
   ],
   "source": [
    "#Visualising size of segments\n",
    "rfm_agg.columns = rfm_agg.columns.droplevel()\n",
    "fig = plt.figure()\n",
    "fig.set_size_inches(20, 8.5)\n",
    "squarify.plot(sizes=rfm_agg['count'], \n",
    "              label=['Absolutely Loyal',\n",
    "                     \"Don't Stop Engaging\",\n",
    "                     'Hanging By The Thread',\n",
    "                     'Say Goodbye'], alpha=.6 )\n",
    "\n",
    "plt.title(\"RFM Segment Sizes\",fontsize=18)\n",
    "plt.axis('off')\n",
    "plt.show()"
   ]
  },
  {
   "cell_type": "code",
   "execution_count": 23,
   "metadata": {},
   "outputs": [
    {
     "data": {
      "text/html": [
       "<div>\n",
       "<style scoped>\n",
       "    .dataframe tbody tr th:only-of-type {\n",
       "        vertical-align: middle;\n",
       "    }\n",
       "\n",
       "    .dataframe tbody tr th {\n",
       "        vertical-align: top;\n",
       "    }\n",
       "\n",
       "    .dataframe thead th {\n",
       "        text-align: right;\n",
       "    }\n",
       "</style>\n",
       "<table border=\"1\" class=\"dataframe\">\n",
       "  <thead>\n",
       "    <tr style=\"text-align: right;\">\n",
       "      <th></th>\n",
       "      <th>user_id</th>\n",
       "      <th>Labels</th>\n",
       "    </tr>\n",
       "  </thead>\n",
       "  <tbody>\n",
       "    <tr>\n",
       "      <th>0</th>\n",
       "      <td>1</td>\n",
       "      <td>Don't Stop Engaging</td>\n",
       "    </tr>\n",
       "    <tr>\n",
       "      <th>1</th>\n",
       "      <td>3</td>\n",
       "      <td>Hanging By The Thread</td>\n",
       "    </tr>\n",
       "    <tr>\n",
       "      <th>2</th>\n",
       "      <td>5</td>\n",
       "      <td>Hanging By The Thread</td>\n",
       "    </tr>\n",
       "    <tr>\n",
       "      <th>3</th>\n",
       "      <td>6</td>\n",
       "      <td>Don't Stop Engaging</td>\n",
       "    </tr>\n",
       "    <tr>\n",
       "      <th>4</th>\n",
       "      <td>7</td>\n",
       "      <td>Hanging By The Thread</td>\n",
       "    </tr>\n",
       "  </tbody>\n",
       "</table>\n",
       "</div>"
      ],
      "text/plain": [
       "   user_id                 Labels\n",
       "0        1    Don't Stop Engaging\n",
       "1        3  Hanging By The Thread\n",
       "2        5  Hanging By The Thread\n",
       "3        6    Don't Stop Engaging\n",
       "4        7  Hanging By The Thread"
      ]
     },
     "execution_count": 23,
     "metadata": {},
     "output_type": "execute_result"
    }
   ],
   "source": [
    "#Get user_ids and labels\n",
    "result = pd.DataFrame(rfm['Labels']).reset_index()\n",
    "result.head()"
   ]
  },
  {
   "cell_type": "code",
   "execution_count": 24,
   "metadata": {},
   "outputs": [],
   "source": [
    "#Output data\n",
    "result.to_csv('../output/RFM.csv',index=False)"
   ]
  }
 ],
 "metadata": {
  "kernelspec": {
   "display_name": "Python 3",
   "language": "python",
   "name": "python3"
  },
  "language_info": {
   "codemirror_mode": {
    "name": "ipython",
    "version": 3
   },
   "file_extension": ".py",
   "mimetype": "text/x-python",
   "name": "python",
   "nbconvert_exporter": "python",
   "pygments_lexer": "ipython3",
   "version": "3.7.3"
  }
 },
 "nbformat": 4,
 "nbformat_minor": 2
}
