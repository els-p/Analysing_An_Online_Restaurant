{
 "cells": [
  {
   "cell_type": "markdown",
   "metadata": {},
   "source": [
    "# Unsupervised Machine Learning: Product Segmentation\n"
   ]
  },
  {
   "cell_type": "markdown",
   "metadata": {},
   "source": [
    "Here we use the K-Means unsupervised machine learning algorithm to group users by characteristics - popularity, price, nutrition, temperature and category.\n",
    "\n",
    "K-means clustering is one of the simplest unsupervised machine learning algorithms where similar data points are grouped together in a cluster because of certain similarities. We can use this clustering method to discover underlying patterns. \n",
    "\n",
    "A number (k) of cluster centers are randomly assigned. For each data point, the distance between itself and the cluster centers are calculated and the data point is assigned to the nearest cluster center. This process is iterated until the mean of the cluster is stable.\n"
   ]
  },
  {
   "cell_type": "markdown",
   "metadata": {},
   "source": [
    "## Data Import and Pre-Processing"
   ]
  },
  {
   "cell_type": "code",
   "execution_count": 1,
   "metadata": {},
   "outputs": [
    {
     "name": "stderr",
     "output_type": "stream",
     "text": [
      "Using TensorFlow backend.\n"
     ]
    }
   ],
   "source": [
    "#Import libraries\n",
    "import pandas as pd\n",
    "import seaborn as sns\n",
    "import numpy as np\n",
    "import string\n",
    "\n",
    "from tqdm import tqdm_notebook as tqdm\n",
    "from keras.utils import np_utils\n",
    "import matplotlib.pyplot as plt\n",
    "%matplotlib inline\n",
    "\n",
    "from sklearn.cluster import KMeans, DBSCAN\n",
    "from sklearn.preprocessing import StandardScaler, OneHotEncoder\n",
    "from sklearn import metrics\n",
    "from sklearn.metrics import silhouette_score\n",
    "from sklearn.model_selection import GridSearchCV\n",
    "from sklearn.feature_extraction.text import CountVectorizer\n",
    "from sklearn.decomposition import PCA\n",
    "from sklearn.feature_extraction import text \n",
    "\n",
    "import warnings\n",
    "warnings.filterwarnings(\"ignore\")"
   ]
  },
  {
   "cell_type": "code",
   "execution_count": 2,
   "metadata": {},
   "outputs": [],
   "source": [
    "#Import data\n",
    "data = pd.read_csv('../raw/meals.csv')\n",
    "orders = pd.read_csv('../raw/order_items.csv')"
   ]
  },
  {
   "cell_type": "code",
   "execution_count": 3,
   "metadata": {},
   "outputs": [
    {
     "data": {
      "text/html": [
       "<div>\n",
       "<style scoped>\n",
       "    .dataframe tbody tr th:only-of-type {\n",
       "        vertical-align: middle;\n",
       "    }\n",
       "\n",
       "    .dataframe tbody tr th {\n",
       "        vertical-align: top;\n",
       "    }\n",
       "\n",
       "    .dataframe thead th {\n",
       "        text-align: right;\n",
       "    }\n",
       "</style>\n",
       "<table border=\"1\" class=\"dataframe\">\n",
       "  <thead>\n",
       "    <tr style=\"text-align: right;\">\n",
       "      <th></th>\n",
       "      <th>id</th>\n",
       "      <th>name</th>\n",
       "      <th>date</th>\n",
       "      <th>price</th>\n",
       "      <th>description</th>\n",
       "      <th>created_at</th>\n",
       "      <th>updated_at</th>\n",
       "      <th>recipe_id</th>\n",
       "      <th>serving</th>\n",
       "      <th>meal_id</th>\n",
       "      <th>...</th>\n",
       "      <th>sides</th>\n",
       "      <th>temperature</th>\n",
       "      <th>category</th>\n",
       "      <th>byline</th>\n",
       "      <th>price_excluding_gst</th>\n",
       "      <th>price_including_gst</th>\n",
       "      <th>feedback_score</th>\n",
       "      <th>is_archived</th>\n",
       "      <th>is_resale</th>\n",
       "      <th>premium_surcharge_per_pax</th>\n",
       "    </tr>\n",
       "  </thead>\n",
       "  <tbody>\n",
       "    <tr>\n",
       "      <th>492</th>\n",
       "      <td>497</td>\n",
       "      <td>Beef Tenderloin Stroganoff</td>\n",
       "      <td>NaN</td>\n",
       "      <td>15.95</td>\n",
       "      <td>A timeless dish from the Old Cuisine of Russia...</td>\n",
       "      <td>2017-11-06 17:26:17.690816</td>\n",
       "      <td>2017-11-24 17:14:58.184560</td>\n",
       "      <td>447</td>\n",
       "      <td>NaN</td>\n",
       "      <td>BEEFNOFF</td>\n",
       "      <td>...</td>\n",
       "      <td>False</td>\n",
       "      <td>warm</td>\n",
       "      <td>highlight</td>\n",
       "      <td>with turmeric spaghetti, sautéed red cabbage a...</td>\n",
       "      <td>14.91</td>\n",
       "      <td>15.95</td>\n",
       "      <td>NaN</td>\n",
       "      <td>True</td>\n",
       "      <td>False</td>\n",
       "      <td>NaN</td>\n",
       "    </tr>\n",
       "  </tbody>\n",
       "</table>\n",
       "<p>1 rows × 26 columns</p>\n",
       "</div>"
      ],
      "text/plain": [
       "      id                        name date  price  \\\n",
       "492  497  Beef Tenderloin Stroganoff  NaN  15.95   \n",
       "\n",
       "                                           description  \\\n",
       "492  A timeless dish from the Old Cuisine of Russia...   \n",
       "\n",
       "                     created_at                  updated_at  recipe_id  \\\n",
       "492  2017-11-06 17:26:17.690816  2017-11-24 17:14:58.184560        447   \n",
       "\n",
       "    serving   meal_id  ...  sides temperature   category  \\\n",
       "492     NaN  BEEFNOFF  ...  False        warm  highlight   \n",
       "\n",
       "                                                byline price_excluding_gst  \\\n",
       "492  with turmeric spaghetti, sautéed red cabbage a...               14.91   \n",
       "\n",
       "    price_including_gst  feedback_score is_archived is_resale  \\\n",
       "492               15.95             NaN        True     False   \n",
       "\n",
       "    premium_surcharge_per_pax  \n",
       "492                       NaN  \n",
       "\n",
       "[1 rows x 26 columns]"
      ]
     },
     "execution_count": 3,
     "metadata": {},
     "output_type": "execute_result"
    }
   ],
   "source": [
    "#Inspect data\n",
    "data.sample()"
   ]
  },
  {
   "cell_type": "markdown",
   "metadata": {},
   "source": [
    "### Remove outliers"
   ]
  },
  {
   "cell_type": "code",
   "execution_count": 4,
   "metadata": {},
   "outputs": [],
   "source": [
    "#Reference 1.Descriptive_Statistics\n",
    "#Replace value with $10 instead of $1000\n",
    "data.loc[data.price == 1000,'price'] = 10\n",
    "\n",
    "#Remove rows where price > 100, negative and 0 \n",
    "data = data[(data.price<100)&(data.price>0)]"
   ]
  },
  {
   "cell_type": "code",
   "execution_count": 5,
   "metadata": {},
   "outputs": [
    {
     "name": "stdout",
     "output_type": "stream",
     "text": [
      "We have 562 records of transactions for 562 unique items.\n"
     ]
    }
   ],
   "source": [
    "#Print number of items\n",
    "ini_rows = data.shape[0]\n",
    "ini_columns=data.shape[1]\n",
    "print('We have {} records of transactions for {} unique items.'.format(ini_rows,data.id.nunique()))"
   ]
  },
  {
   "cell_type": "markdown",
   "metadata": {},
   "source": [
    "### Check for missing values"
   ]
  },
  {
   "cell_type": "code",
   "execution_count": 6,
   "metadata": {},
   "outputs": [
    {
     "data": {
      "text/plain": [
       "premium_surcharge_per_pax    562\n",
       "restocking                   555\n",
       "feedback_score               554\n",
       "sold_out                     539\n",
       "date                         527\n",
       "daily                        369\n",
       "serving                      347\n",
       "drink                        347\n",
       "byline                       266\n",
       "temperature                   92\n",
       "ingredients                   78\n",
       "description                   57\n",
       "macros                        57\n",
       "meal_id                       53\n",
       "price_excluding_gst           31\n",
       "price_including_gst           27\n",
       "category                       4\n",
       "is_resale                      0\n",
       "sides                          0\n",
       "recipe_id                      0\n",
       "updated_at                     0\n",
       "created_at                     0\n",
       "price                          0\n",
       "is_archived                    0\n",
       "name                           0\n",
       "id                             0\n",
       "dtype: int64"
      ]
     },
     "execution_count": 6,
     "metadata": {},
     "output_type": "execute_result"
    }
   ],
   "source": [
    "#Check missing values\n",
    "data.isnull().sum().sort_values(ascending=False)"
   ]
  },
  {
   "cell_type": "markdown",
   "metadata": {},
   "source": [
    "## Feature Engineering"
   ]
  },
  {
   "cell_type": "markdown",
   "metadata": {},
   "source": [
    "### 1. Temperature"
   ]
  },
  {
   "cell_type": "code",
   "execution_count": 7,
   "metadata": {},
   "outputs": [],
   "source": [
    "#Compute missing values in temperature (reference 1. Data_Cleaning under computing missing values in meals.csv)\n",
    "censored"
   ]
  },
  {
   "cell_type": "code",
   "execution_count": 8,
   "metadata": {},
   "outputs": [],
   "source": [
    "#Fill the rest of missing values with room temperature\n",
    "data.temperature.fillna('room', inplace=True)"
   ]
  },
  {
   "cell_type": "markdown",
   "metadata": {},
   "source": [
    "### 2. Category"
   ]
  },
  {
   "cell_type": "code",
   "execution_count": 9,
   "metadata": {},
   "outputs": [
    {
     "data": {
      "text/html": [
       "<div>\n",
       "<style scoped>\n",
       "    .dataframe tbody tr th:only-of-type {\n",
       "        vertical-align: middle;\n",
       "    }\n",
       "\n",
       "    .dataframe tbody tr th {\n",
       "        vertical-align: top;\n",
       "    }\n",
       "\n",
       "    .dataframe thead th {\n",
       "        text-align: right;\n",
       "    }\n",
       "</style>\n",
       "<table border=\"1\" class=\"dataframe\">\n",
       "  <thead>\n",
       "    <tr style=\"text-align: right;\">\n",
       "      <th></th>\n",
       "      <th>id</th>\n",
       "      <th>name</th>\n",
       "      <th>date</th>\n",
       "      <th>price</th>\n",
       "      <th>description</th>\n",
       "      <th>created_at</th>\n",
       "      <th>updated_at</th>\n",
       "      <th>recipe_id</th>\n",
       "      <th>serving</th>\n",
       "      <th>meal_id</th>\n",
       "      <th>...</th>\n",
       "      <th>sides</th>\n",
       "      <th>temperature</th>\n",
       "      <th>category</th>\n",
       "      <th>byline</th>\n",
       "      <th>price_excluding_gst</th>\n",
       "      <th>price_including_gst</th>\n",
       "      <th>feedback_score</th>\n",
       "      <th>is_archived</th>\n",
       "      <th>is_resale</th>\n",
       "      <th>premium_surcharge_per_pax</th>\n",
       "    </tr>\n",
       "  </thead>\n",
       "  <tbody>\n",
       "    <tr>\n",
       "      <th>1</th>\n",
       "      <td>21</td>\n",
       "      <td>Thai Basil Pork Rice</td>\n",
       "      <td>NaN</td>\n",
       "      <td>10.95</td>\n",
       "      <td>NaN</td>\n",
       "      <td>2019-04-08 11:40:42.520491</td>\n",
       "      <td>2019-04-08 11:42:53.577584</td>\n",
       "      <td>21</td>\n",
       "      <td>NaN</td>\n",
       "      <td>BASILPORK</td>\n",
       "      <td>...</td>\n",
       "      <td>False</td>\n",
       "      <td>warm</td>\n",
       "      <td>NaN</td>\n",
       "      <td>NaN</td>\n",
       "      <td>10.23</td>\n",
       "      <td>10.95</td>\n",
       "      <td>NaN</td>\n",
       "      <td>True</td>\n",
       "      <td>False</td>\n",
       "      <td>NaN</td>\n",
       "    </tr>\n",
       "    <tr>\n",
       "      <th>35</th>\n",
       "      <td>23</td>\n",
       "      <td>Crab and Prawn Arrabiata Pasta</td>\n",
       "      <td>NaN</td>\n",
       "      <td>10.95</td>\n",
       "      <td>Having a crabby day? This mildly-spiced crab t...</td>\n",
       "      <td>2014-07-17 17:23:11.815966</td>\n",
       "      <td>2014-07-20 08:25:04.360053</td>\n",
       "      <td>28</td>\n",
       "      <td>False</td>\n",
       "      <td>B</td>\n",
       "      <td>...</td>\n",
       "      <td>False</td>\n",
       "      <td>room</td>\n",
       "      <td>NaN</td>\n",
       "      <td>NaN</td>\n",
       "      <td>NaN</td>\n",
       "      <td>NaN</td>\n",
       "      <td>NaN</td>\n",
       "      <td>True</td>\n",
       "      <td>False</td>\n",
       "      <td>NaN</td>\n",
       "    </tr>\n",
       "    <tr>\n",
       "      <th>41</th>\n",
       "      <td>10</td>\n",
       "      <td>Grilled Saba with Japanese Salad</td>\n",
       "      <td>2014-04-08</td>\n",
       "      <td>10.00</td>\n",
       "      <td>NaN</td>\n",
       "      <td>2014-07-09 23:40:49.360210</td>\n",
       "      <td>2015-02-13 18:06:34.144767</td>\n",
       "      <td>13</td>\n",
       "      <td>NaN</td>\n",
       "      <td>NaN</td>\n",
       "      <td>...</td>\n",
       "      <td>False</td>\n",
       "      <td>room</td>\n",
       "      <td>NaN</td>\n",
       "      <td>NaN</td>\n",
       "      <td>NaN</td>\n",
       "      <td>NaN</td>\n",
       "      <td>NaN</td>\n",
       "      <td>True</td>\n",
       "      <td>False</td>\n",
       "      <td>NaN</td>\n",
       "    </tr>\n",
       "    <tr>\n",
       "      <th>75</th>\n",
       "      <td>102</td>\n",
       "      <td>Chirashi-don</td>\n",
       "      <td>NaN</td>\n",
       "      <td>12.95</td>\n",
       "      <td>Time to warm up to our world of surprises. Ben...</td>\n",
       "      <td>2014-09-11 16:10:02.414600</td>\n",
       "      <td>2015-06-03 08:35:38.034138</td>\n",
       "      <td>21</td>\n",
       "      <td>False</td>\n",
       "      <td>CHIRASHI</td>\n",
       "      <td>...</td>\n",
       "      <td>False</td>\n",
       "      <td>chilled</td>\n",
       "      <td>NaN</td>\n",
       "      <td>NaN</td>\n",
       "      <td>NaN</td>\n",
       "      <td>NaN</td>\n",
       "      <td>NaN</td>\n",
       "      <td>True</td>\n",
       "      <td>False</td>\n",
       "      <td>NaN</td>\n",
       "    </tr>\n",
       "  </tbody>\n",
       "</table>\n",
       "<p>4 rows × 26 columns</p>\n",
       "</div>"
      ],
      "text/plain": [
       "     id                              name        date  price  \\\n",
       "1    21              Thai Basil Pork Rice         NaN  10.95   \n",
       "35   23    Crab and Prawn Arrabiata Pasta         NaN  10.95   \n",
       "41   10  Grilled Saba with Japanese Salad  2014-04-08  10.00   \n",
       "75  102                      Chirashi-don         NaN  12.95   \n",
       "\n",
       "                                          description  \\\n",
       "1                                                 NaN   \n",
       "35  Having a crabby day? This mildly-spiced crab t...   \n",
       "41                                                NaN   \n",
       "75  Time to warm up to our world of surprises. Ben...   \n",
       "\n",
       "                    created_at                  updated_at  recipe_id serving  \\\n",
       "1   2019-04-08 11:40:42.520491  2019-04-08 11:42:53.577584         21     NaN   \n",
       "35  2014-07-17 17:23:11.815966  2014-07-20 08:25:04.360053         28   False   \n",
       "41  2014-07-09 23:40:49.360210  2015-02-13 18:06:34.144767         13     NaN   \n",
       "75  2014-09-11 16:10:02.414600  2015-06-03 08:35:38.034138         21   False   \n",
       "\n",
       "      meal_id  ...  sides temperature category byline price_excluding_gst  \\\n",
       "1   BASILPORK  ...  False        warm      NaN    NaN               10.23   \n",
       "35          B  ...  False        room      NaN    NaN                 NaN   \n",
       "41        NaN  ...  False        room      NaN    NaN                 NaN   \n",
       "75   CHIRASHI  ...  False     chilled      NaN    NaN                 NaN   \n",
       "\n",
       "   price_including_gst  feedback_score is_archived is_resale  \\\n",
       "1                10.95             NaN        True     False   \n",
       "35                 NaN             NaN        True     False   \n",
       "41                 NaN             NaN        True     False   \n",
       "75                 NaN             NaN        True     False   \n",
       "\n",
       "   premium_surcharge_per_pax  \n",
       "1                        NaN  \n",
       "35                       NaN  \n",
       "41                       NaN  \n",
       "75                       NaN  \n",
       "\n",
       "[4 rows x 26 columns]"
      ]
     },
     "execution_count": 9,
     "metadata": {},
     "output_type": "execute_result"
    }
   ],
   "source": [
    "#Inspect rows with missing values\n",
    "data[data.category.isnull()]"
   ]
  },
  {
   "cell_type": "code",
   "execution_count": 10,
   "metadata": {},
   "outputs": [],
   "source": [
    "#Fill missing values with main\n",
    "data.category.fillna('main', inplace=True)"
   ]
  },
  {
   "cell_type": "markdown",
   "metadata": {},
   "source": [
    "There are repeated categories such as 'main' and 'Main Course' which can be consolidated."
   ]
  },
  {
   "cell_type": "code",
   "execution_count": 11,
   "metadata": {},
   "outputs": [
    {
     "data": {
      "text/plain": [
       "main          199\n",
       "highlight     103\n",
       "regular        63\n",
       "side           59\n",
       "drink          32\n",
       "dessert        29\n",
       "local          19\n",
       "favorite       18\n",
       "guilt-free     18\n",
       "fresh          16\n",
       "off_menu        6\n",
       "Name: category, dtype: int64"
      ]
     },
     "execution_count": 11,
     "metadata": {},
     "output_type": "execute_result"
    }
   ],
   "source": [
    "#Consolidating similiar categories\n",
    "def consolidate_cat(x):\n",
    "    if x == 'Main Course':\n",
    "        return 'main'\n",
    "    elif x == 'Appetiser':\n",
    "        return 'side'\n",
    "    elif x == 'Dessert':\n",
    "        return 'dessert'\n",
    "    elif x == 'partnership':\n",
    "        return 'off_menu'\n",
    "    else:\n",
    "        return x\n",
    "\n",
    "    #Call function\n",
    "data.category = data.category.apply(lambda x : consolidate_cat(x))\n",
    "\n",
    "#Print new categories\n",
    "data.category.value_counts()"
   ]
  },
  {
   "cell_type": "markdown",
   "metadata": {},
   "source": [
    "### 3. Macros"
   ]
  },
  {
   "cell_type": "code",
   "execution_count": 12,
   "metadata": {},
   "outputs": [],
   "source": [
    "#Fill missing values with 'none'\n",
    "data.macros.fillna('none', inplace=True)"
   ]
  },
  {
   "cell_type": "code",
   "execution_count": 13,
   "metadata": {},
   "outputs": [],
   "source": [
    "#Split in new dataframe\n",
    "new = data.macros.str.split(', ', n=5, expand=True)"
   ]
  },
  {
   "cell_type": "code",
   "execution_count": 14,
   "metadata": {},
   "outputs": [
    {
     "name": "stdout",
     "output_type": "stream",
     "text": [
      "['none' 'coming soon' 'calories' ' calories' '-'\n",
      " 'information included in christmas box' 'serving size']\n",
      "['none' 'fat' 'protein' 'carbs' 'calories']\n",
      "['none' 'carb' 'protein' 'fat']\n",
      "['none' 'protein' 'carb' ' fat']\n",
      "['none' 'protein']\n"
     ]
    }
   ],
   "source": [
    "#Split name and values into seperate columns\n",
    "def split_values_into_name_and_val(col):\n",
    "    \n",
    "    #Split name into new column and convert to lowercase\n",
    "    new[str(col)+'_macros_name'] = new[col].str.split(':', n=2, expand=True)[0].fillna('None').map(lambda x: x.lower())\n",
    "    \n",
    "    #Split value into new column\n",
    "    new[str(col)+'_macros_val'] = new[col].str.split(':', n=2, expand=True)[1]\n",
    "    \n",
    "    #Print component names present in each name column\n",
    "    print(new[str(col)+'_macros_name'].unique())\n",
    "\n",
    "#Call function for each column in new dataframe   \n",
    "for col in new:\n",
    "    split_values_into_name_and_val(col)"
   ]
  },
  {
   "cell_type": "code",
   "execution_count": 15,
   "metadata": {},
   "outputs": [],
   "source": [
    "#Start new columns to store values for each component\n",
    "new['calories'] = 0\n",
    "new['fat'] = 0\n",
    "new['protein'] = 0\n",
    "new['carb'] = 0"
   ]
  },
  {
   "cell_type": "code",
   "execution_count": 16,
   "metadata": {},
   "outputs": [],
   "source": [
    "#Iterate through rows in new dataframe and allocate values into the right component columns\n",
    "new.loc[new['0_macros_name'] == 'calories', 'calories'] = new.loc[new['0_macros_name'] == 'calories', '0_macros_val']\n",
    "new.loc[new['0_macros_name'] == ' calories', 'calories'] = new.loc[new['0_macros_name'] == ' calories', '0_macros_val']\n",
    "\n",
    "new.loc[new['1_macros_name'] == 'calories', 'calories'] = new.loc[new['1_macros_name'] == 'calories', '1_macros_val']\n",
    "new.loc[new['1_macros_name'] == 'fat', 'fat'] = new.loc[new['1_macros_name'] == 'fat', '1_macros_val']\n",
    "new.loc[new['1_macros_name'] == 'protein', 'protein'] = new.loc[new['1_macros_name'] == 'protein', '1_macros_val']\n",
    "new.loc[new['1_macros_name'] == 'carbs', 'carb'] = new.loc[new['1_macros_name'] == 'carbs', '1_macros_val']\n",
    "\n",
    "new.loc[new['2_macros_name'] == 'fat', 'fat'] = new.loc[new['2_macros_name'] == 'fat', '2_macros_val']\n",
    "new.loc[new['2_macros_name'] == 'protein', 'protein'] = new.loc[new['2_macros_name'] == 'protein', '2_macros_val']\n",
    "new.loc[new['2_macros_name'] == 'carb', 'carb'] = new.loc[new['2_macros_name'] == 'carb', '2_macros_val']\n",
    "\n",
    "new.loc[new['3_macros_name'] == ' fat', 'fat'] = new.loc[new['3_macros_name'] == ' fat', '3_macros_val']\n",
    "new.loc[new['3_macros_name'] == 'protein', 'protein'] = new.loc[new['3_macros_name'] == 'protein', '3_macros_val']\n",
    "new.loc[new['3_macros_name'] == 'carb', 'carb'] = new.loc[new['3_macros_name'] == 'carb', '3_macros_val']\n",
    "\n",
    "new.loc[new['4_macros_name'] == 'protein', 'protein'] = new.loc[new['4_macros_name'] == 'protein', '4_macros_val']"
   ]
  },
  {
   "cell_type": "code",
   "execution_count": 17,
   "metadata": {},
   "outputs": [],
   "source": [
    "#Remove grams(g) from values in fat, protein and carb\n",
    "cols = ['fat','protein','carb']\n",
    "for i in cols:\n",
    "    new[str(i)] = new[str(i)].apply(lambda x: str(x).split('g')[0])"
   ]
  },
  {
   "cell_type": "code",
   "execution_count": 18,
   "metadata": {},
   "outputs": [],
   "source": [
    "#Convert to float type\n",
    "for i in ['calories', 'fat','protein','carb']:\n",
    "    new[i] = new[i].astype(float)"
   ]
  },
  {
   "cell_type": "code",
   "execution_count": 19,
   "metadata": {},
   "outputs": [],
   "source": [
    "#Merge only component columns with original dataframe\n",
    "data = pd.concat([data, new[['calories','fat','protein','carb']]],axis=1)"
   ]
  },
  {
   "cell_type": "markdown",
   "metadata": {},
   "source": [
    "### 4. One Hot Encoding"
   ]
  },
  {
   "cell_type": "code",
   "execution_count": 20,
   "metadata": {},
   "outputs": [],
   "source": [
    "#Get relevant data inputs\n",
    "menu_features = data[['temperature','calories','fat','protein','carb','price','category','name','id']]"
   ]
  },
  {
   "cell_type": "code",
   "execution_count": 21,
   "metadata": {},
   "outputs": [],
   "source": [
    "#One hot encode temperature and category information\n",
    "df_temp = pd.get_dummies(menu_features.temperature)\n",
    "df_cat = pd.get_dummies(menu_features.category)"
   ]
  },
  {
   "cell_type": "code",
   "execution_count": 22,
   "metadata": {},
   "outputs": [
    {
     "data": {
      "text/plain": [
       "(562, 23)"
      ]
     },
     "execution_count": 22,
     "metadata": {},
     "output_type": "execute_result"
    }
   ],
   "source": [
    "#Merge dataframes\n",
    "df = pd.concat([menu_features,df_cat,df_temp], axis=1)\n",
    "\n",
    "#Print shape\n",
    "df.shape"
   ]
  },
  {
   "cell_type": "markdown",
   "metadata": {},
   "source": [
    "### 5. Quantity"
   ]
  },
  {
   "cell_type": "code",
   "execution_count": 23,
   "metadata": {},
   "outputs": [
    {
     "name": "stdout",
     "output_type": "stream",
     "text": [
      "93 items are not found in transaction data.\n"
     ]
    }
   ],
   "source": [
    "#Find number of items that were never bought\n",
    "print('{} items are not found in transaction data.'.format(df[~df.id.isin(orders.item_id)].shape[0]))"
   ]
  },
  {
   "cell_type": "code",
   "execution_count": 24,
   "metadata": {},
   "outputs": [
    {
     "data": {
      "text/plain": [
       "(469, 23)"
      ]
     },
     "execution_count": 24,
     "metadata": {},
     "output_type": "execute_result"
    }
   ],
   "source": [
    "#Remove items not bought before\n",
    "df = df[df.id.isin(orders.item_id)]\n",
    "\n",
    "#Print shape\n",
    "df.shape"
   ]
  },
  {
   "cell_type": "code",
   "execution_count": 25,
   "metadata": {},
   "outputs": [],
   "source": [
    "#For each item, find total number purchased\n",
    "item_qty = pd.DataFrame(orders.groupby('item_id').quantity.sum()).reset_index()\n",
    "\n",
    "#Add new column for total quantity purchased\n",
    "df['quantity'] = 0\n",
    "for item in df.id:\n",
    "    df.loc[df.id==item,'quantity'] = item_qty.loc[item_qty.item_id == item,'quantity'].iloc[0]"
   ]
  },
  {
   "cell_type": "markdown",
   "metadata": {},
   "source": [
    "## Modelling"
   ]
  },
  {
   "cell_type": "code",
   "execution_count": 26,
   "metadata": {},
   "outputs": [
    {
     "data": {
      "text/html": [
       "<div>\n",
       "<style scoped>\n",
       "    .dataframe tbody tr th:only-of-type {\n",
       "        vertical-align: middle;\n",
       "    }\n",
       "\n",
       "    .dataframe tbody tr th {\n",
       "        vertical-align: top;\n",
       "    }\n",
       "\n",
       "    .dataframe thead th {\n",
       "        text-align: right;\n",
       "    }\n",
       "</style>\n",
       "<table border=\"1\" class=\"dataframe\">\n",
       "  <thead>\n",
       "    <tr style=\"text-align: right;\">\n",
       "      <th></th>\n",
       "      <th>price</th>\n",
       "      <th>dessert</th>\n",
       "      <th>drink</th>\n",
       "      <th>favorite</th>\n",
       "      <th>fresh</th>\n",
       "      <th>guilt-free</th>\n",
       "      <th>highlight</th>\n",
       "      <th>local</th>\n",
       "      <th>main</th>\n",
       "      <th>off_menu</th>\n",
       "      <th>regular</th>\n",
       "      <th>side</th>\n",
       "      <th>calories</th>\n",
       "      <th>fat</th>\n",
       "      <th>protein</th>\n",
       "      <th>carb</th>\n",
       "      <th>chilled</th>\n",
       "      <th>room</th>\n",
       "      <th>warm</th>\n",
       "      <th>quantity</th>\n",
       "    </tr>\n",
       "  </thead>\n",
       "  <tbody>\n",
       "    <tr>\n",
       "      <th>194</th>\n",
       "      <td>11.95</td>\n",
       "      <td>0</td>\n",
       "      <td>0</td>\n",
       "      <td>0</td>\n",
       "      <td>0</td>\n",
       "      <td>0</td>\n",
       "      <td>0</td>\n",
       "      <td>1</td>\n",
       "      <td>0</td>\n",
       "      <td>0</td>\n",
       "      <td>0</td>\n",
       "      <td>0</td>\n",
       "      <td>572.0</td>\n",
       "      <td>10.0</td>\n",
       "      <td>49.0</td>\n",
       "      <td>71.0</td>\n",
       "      <td>0</td>\n",
       "      <td>0</td>\n",
       "      <td>1</td>\n",
       "      <td>1699.0</td>\n",
       "    </tr>\n",
       "    <tr>\n",
       "      <th>575</th>\n",
       "      <td>12.95</td>\n",
       "      <td>0</td>\n",
       "      <td>0</td>\n",
       "      <td>0</td>\n",
       "      <td>0</td>\n",
       "      <td>0</td>\n",
       "      <td>0</td>\n",
       "      <td>0</td>\n",
       "      <td>0</td>\n",
       "      <td>0</td>\n",
       "      <td>1</td>\n",
       "      <td>0</td>\n",
       "      <td>518.0</td>\n",
       "      <td>35.0</td>\n",
       "      <td>6.0</td>\n",
       "      <td>51.0</td>\n",
       "      <td>0</td>\n",
       "      <td>0</td>\n",
       "      <td>1</td>\n",
       "      <td>539.0</td>\n",
       "    </tr>\n",
       "    <tr>\n",
       "      <th>500</th>\n",
       "      <td>12.95</td>\n",
       "      <td>0</td>\n",
       "      <td>0</td>\n",
       "      <td>0</td>\n",
       "      <td>0</td>\n",
       "      <td>0</td>\n",
       "      <td>1</td>\n",
       "      <td>0</td>\n",
       "      <td>0</td>\n",
       "      <td>0</td>\n",
       "      <td>0</td>\n",
       "      <td>0</td>\n",
       "      <td>551.0</td>\n",
       "      <td>19.0</td>\n",
       "      <td>45.0</td>\n",
       "      <td>51.0</td>\n",
       "      <td>0</td>\n",
       "      <td>0</td>\n",
       "      <td>1</td>\n",
       "      <td>1076.0</td>\n",
       "    </tr>\n",
       "    <tr>\n",
       "      <th>208</th>\n",
       "      <td>3.50</td>\n",
       "      <td>0</td>\n",
       "      <td>0</td>\n",
       "      <td>0</td>\n",
       "      <td>0</td>\n",
       "      <td>0</td>\n",
       "      <td>0</td>\n",
       "      <td>0</td>\n",
       "      <td>0</td>\n",
       "      <td>0</td>\n",
       "      <td>0</td>\n",
       "      <td>1</td>\n",
       "      <td>219.0</td>\n",
       "      <td>18.0</td>\n",
       "      <td>6.0</td>\n",
       "      <td>10.0</td>\n",
       "      <td>0</td>\n",
       "      <td>0</td>\n",
       "      <td>1</td>\n",
       "      <td>236.0</td>\n",
       "    </tr>\n",
       "    <tr>\n",
       "      <th>30</th>\n",
       "      <td>5.50</td>\n",
       "      <td>0</td>\n",
       "      <td>1</td>\n",
       "      <td>0</td>\n",
       "      <td>0</td>\n",
       "      <td>0</td>\n",
       "      <td>0</td>\n",
       "      <td>0</td>\n",
       "      <td>0</td>\n",
       "      <td>0</td>\n",
       "      <td>0</td>\n",
       "      <td>0</td>\n",
       "      <td>32.0</td>\n",
       "      <td>0.1</td>\n",
       "      <td>0.1</td>\n",
       "      <td>7.8</td>\n",
       "      <td>1</td>\n",
       "      <td>0</td>\n",
       "      <td>0</td>\n",
       "      <td>405.0</td>\n",
       "    </tr>\n",
       "  </tbody>\n",
       "</table>\n",
       "</div>"
      ],
      "text/plain": [
       "     price  dessert  drink  favorite  fresh  guilt-free  highlight  local  \\\n",
       "194  11.95        0      0         0      0           0          0      1   \n",
       "575  12.95        0      0         0      0           0          0      0   \n",
       "500  12.95        0      0         0      0           0          1      0   \n",
       "208   3.50        0      0         0      0           0          0      0   \n",
       "30    5.50        0      1         0      0           0          0      0   \n",
       "\n",
       "     main  off_menu  regular  side  calories   fat  protein  carb  chilled  \\\n",
       "194     0         0        0     0     572.0  10.0     49.0  71.0        0   \n",
       "575     0         0        1     0     518.0  35.0      6.0  51.0        0   \n",
       "500     0         0        0     0     551.0  19.0     45.0  51.0        0   \n",
       "208     0         0        0     1     219.0  18.0      6.0  10.0        0   \n",
       "30      0         0        0     0      32.0   0.1      0.1   7.8        1   \n",
       "\n",
       "     room  warm  quantity  \n",
       "194     0     1    1699.0  \n",
       "575     0     1     539.0  \n",
       "500     0     1    1076.0  \n",
       "208     0     1     236.0  \n",
       "30      0     0     405.0  "
      ]
     },
     "execution_count": 26,
     "metadata": {},
     "output_type": "execute_result"
    }
   ],
   "source": [
    "#Define modelling dataset\n",
    "X = df[['price','dessert', 'drink', 'favorite', 'fresh', 'guilt-free',\n",
    "       'highlight', 'local', 'main', 'off_menu', 'regular', 'side', 'calories',\n",
    "       'fat', 'protein', 'carb', 'chilled', 'room', 'warm','quantity']]\n",
    "X.sample(5)"
   ]
  },
  {
   "cell_type": "code",
   "execution_count": 27,
   "metadata": {},
   "outputs": [],
   "source": [
    "#Scale modelling data \n",
    "ss = StandardScaler()\n",
    "Xs = ss.fit_transform(X)"
   ]
  },
  {
   "cell_type": "markdown",
   "metadata": {},
   "source": [
    "### Dimension Reduction Using PCA"
   ]
  },
  {
   "cell_type": "markdown",
   "metadata": {},
   "source": [
    "Principal component analysis is a technique for feature extraction. It allows us to combine input features in a way that retains most information despite dropping some features."
   ]
  },
  {
   "cell_type": "code",
   "execution_count": 28,
   "metadata": {},
   "outputs": [
    {
     "data": {
      "image/png": "[encoded data removed]",
      "text/plain": [
       "<Figure size 432x288 with 1 Axes>"
      ]
     },
     "metadata": {
      "needs_background": "light"
     },
     "output_type": "display_data"
    }
   ],
   "source": [
    "#Initialise model\n",
    "pca = PCA()\n",
    "\n",
    "#Fit model\n",
    "principalComponents = pca.fit_transform(Xs)\n",
    "\n",
    "# Plot the explained variances\n",
    "features = range(pca.n_components_)\n",
    "plt.bar(features, pca.explained_variance_ratio_)\n",
    "plt.xlabel('PCA features')\n",
    "plt.ylabel('variance %')\n",
    "plt.title('Explained Variance by PCA Features')\n",
    "plt.xticks(features)\n",
    "\n",
    "# Save components to a DataFrame\n",
    "PCA_components = pd.DataFrame(principalComponents)"
   ]
  },
  {
   "cell_type": "code",
   "execution_count": 29,
   "metadata": {},
   "outputs": [
    {
     "data": {
      "image/png": "[encoded data removed]",
      "text/plain": [
       "<Figure size 432x288 with 1 Axes>"
      ]
     },
     "metadata": {
      "needs_background": "light"
     },
     "output_type": "display_data"
    }
   ],
   "source": [
    "#Plot components\n",
    "plt.scatter(PCA_components[8], PCA_components[9], alpha=.05, color='brown')\n",
    "plt.xlabel('PCA 1')\n",
    "plt.ylabel('PCA 2')\n",
    "plt.title('Data points on PCA Components')\n",
    "plt.show()"
   ]
  },
  {
   "cell_type": "markdown",
   "metadata": {},
   "source": [
    "### Unsupervised Clustering Using K-Means"
   ]
  },
  {
   "cell_type": "markdown",
   "metadata": {},
   "source": [
    "The Elbow Curve is used to suggest an optimal K i.e. number of clusters. The model is evaluated on silhouette score (-1 to +1). It is a measure of how similar an object is to its own cluster compared to other clusters. The closer the value is to 1, the closer the data points are to its allocated cluster."
   ]
  },
  {
   "cell_type": "code",
   "execution_count": 30,
   "metadata": {},
   "outputs": [
    {
     "data": {
      "image/png": "[encoded data removed]",
      "text/plain": [
       "<Figure size 432x288 with 1 Axes>"
      ]
     },
     "metadata": {
      "needs_background": "light"
     },
     "output_type": "display_data"
    }
   ],
   "source": [
    "#Iterate through K of range 1 to 10\n",
    "ks = range(1, 20)\n",
    "\n",
    "#Empty list to store inertia\n",
    "inertias = []\n",
    "\n",
    "for k in ks:\n",
    "    #Create a KMeans instance with k clusters: model\n",
    "    knn_model = KMeans(n_clusters=k)\n",
    "    \n",
    "    #Fit model to samples\n",
    "    knn_model.fit(PCA_components.iloc[:,:12])\n",
    "    \n",
    "    #Append the inertia to the list of inertias\n",
    "    inertias.append(knn_model.inertia_)\n",
    "\n",
    "#Plot elbow curve    \n",
    "plt.plot(ks, inertias, '-o', color='black')\n",
    "plt.xlabel('number of clusters, k')\n",
    "plt.ylabel('inertia')\n",
    "plt.xticks(ks)\n",
    "plt.show()"
   ]
  },
  {
   "cell_type": "code",
   "execution_count": 31,
   "metadata": {},
   "outputs": [],
   "source": [
    "#Initialise model\n",
    "model = KMeans(n_clusters=12, random_state=42)\n",
    "\n",
    "#Fit model\n",
    "model.fit(PCA_components.iloc[:,:12])\n",
    "\n",
    "#Get predictions\n",
    "pred = model.labels_\n",
    "\n",
    "#Add new column to store predictions\n",
    "X['cluster'] = pred"
   ]
  },
  {
   "cell_type": "code",
   "execution_count": 32,
   "metadata": {},
   "outputs": [
    {
     "data": {
      "text/plain": [
       "0.45787283377634763"
      ]
     },
     "execution_count": 32,
     "metadata": {},
     "output_type": "execute_result"
    }
   ],
   "source": [
    "#Calculate silhouette score\n",
    "silhouette_score(Xs, pred, metric='euclidean')"
   ]
  },
  {
   "cell_type": "code",
   "execution_count": 33,
   "metadata": {},
   "outputs": [
    {
     "data": {
      "text/plain": [
       "2     112\n",
       "7     104\n",
       "4      54\n",
       "6      43\n",
       "5      30\n",
       "3      29\n",
       "8      28\n",
       "9      18\n",
       "1      18\n",
       "10     15\n",
       "0      12\n",
       "11      6\n",
       "Name: cluster, dtype: int64"
      ]
     },
     "execution_count": 33,
     "metadata": {},
     "output_type": "execute_result"
    }
   ],
   "source": [
    "#Check representation\n",
    "X.cluster.value_counts()"
   ]
  },
  {
   "cell_type": "markdown",
   "metadata": {},
   "source": [
    "### Interpretation"
   ]
  },
  {
   "cell_type": "code",
   "execution_count": 34,
   "metadata": {},
   "outputs": [
    {
     "data": {
      "text/html": [
       "<div>\n",
       "<style scoped>\n",
       "    .dataframe tbody tr th:only-of-type {\n",
       "        vertical-align: middle;\n",
       "    }\n",
       "\n",
       "    .dataframe tbody tr th {\n",
       "        vertical-align: top;\n",
       "    }\n",
       "\n",
       "    .dataframe thead th {\n",
       "        text-align: right;\n",
       "    }\n",
       "</style>\n",
       "<table border=\"1\" class=\"dataframe\">\n",
       "  <thead>\n",
       "    <tr style=\"text-align: right;\">\n",
       "      <th></th>\n",
       "      <th>price</th>\n",
       "      <th>dessert</th>\n",
       "      <th>drink</th>\n",
       "      <th>favorite</th>\n",
       "      <th>fresh</th>\n",
       "      <th>guilt-free</th>\n",
       "      <th>highlight</th>\n",
       "      <th>local</th>\n",
       "      <th>main</th>\n",
       "      <th>off_menu</th>\n",
       "      <th>regular</th>\n",
       "      <th>side</th>\n",
       "      <th>calories</th>\n",
       "      <th>fat</th>\n",
       "      <th>protein</th>\n",
       "      <th>carb</th>\n",
       "      <th>chilled</th>\n",
       "      <th>room</th>\n",
       "      <th>warm</th>\n",
       "      <th>quantity</th>\n",
       "    </tr>\n",
       "    <tr>\n",
       "      <th>cluster</th>\n",
       "      <th></th>\n",
       "      <th></th>\n",
       "      <th></th>\n",
       "      <th></th>\n",
       "      <th></th>\n",
       "      <th></th>\n",
       "      <th></th>\n",
       "      <th></th>\n",
       "      <th></th>\n",
       "      <th></th>\n",
       "      <th></th>\n",
       "      <th></th>\n",
       "      <th></th>\n",
       "      <th></th>\n",
       "      <th></th>\n",
       "      <th></th>\n",
       "      <th></th>\n",
       "      <th></th>\n",
       "      <th></th>\n",
       "      <th></th>\n",
       "    </tr>\n",
       "  </thead>\n",
       "  <tbody>\n",
       "    <tr>\n",
       "      <th>0</th>\n",
       "      <td>11.954167</td>\n",
       "      <td>0.0</td>\n",
       "      <td>0.0</td>\n",
       "      <td>0.0</td>\n",
       "      <td>1.0</td>\n",
       "      <td>0.0</td>\n",
       "      <td>0.000000</td>\n",
       "      <td>0.0</td>\n",
       "      <td>0.000000</td>\n",
       "      <td>0.0</td>\n",
       "      <td>0.000000</td>\n",
       "      <td>0.000000</td>\n",
       "      <td>410.500000</td>\n",
       "      <td>16.666667</td>\n",
       "      <td>29.583333</td>\n",
       "      <td>39.333333</td>\n",
       "      <td>0.583333</td>\n",
       "      <td>0.000000</td>\n",
       "      <td>0.416667</td>\n",
       "      <td>312.416667</td>\n",
       "    </tr>\n",
       "    <tr>\n",
       "      <th>1</th>\n",
       "      <td>12.665556</td>\n",
       "      <td>0.0</td>\n",
       "      <td>0.0</td>\n",
       "      <td>0.0</td>\n",
       "      <td>0.0</td>\n",
       "      <td>0.0</td>\n",
       "      <td>0.000000</td>\n",
       "      <td>1.0</td>\n",
       "      <td>0.000000</td>\n",
       "      <td>0.0</td>\n",
       "      <td>0.000000</td>\n",
       "      <td>0.000000</td>\n",
       "      <td>352.000000</td>\n",
       "      <td>10.500000</td>\n",
       "      <td>25.666667</td>\n",
       "      <td>41.944444</td>\n",
       "      <td>0.111111</td>\n",
       "      <td>0.000000</td>\n",
       "      <td>0.888889</td>\n",
       "      <td>2588.000000</td>\n",
       "    </tr>\n",
       "    <tr>\n",
       "      <th>2</th>\n",
       "      <td>11.779911</td>\n",
       "      <td>0.0</td>\n",
       "      <td>0.0</td>\n",
       "      <td>0.0</td>\n",
       "      <td>0.0</td>\n",
       "      <td>0.0</td>\n",
       "      <td>0.000000</td>\n",
       "      <td>0.0</td>\n",
       "      <td>1.000000</td>\n",
       "      <td>0.0</td>\n",
       "      <td>0.000000</td>\n",
       "      <td>0.000000</td>\n",
       "      <td>519.062500</td>\n",
       "      <td>14.723214</td>\n",
       "      <td>34.839286</td>\n",
       "      <td>61.642857</td>\n",
       "      <td>0.401786</td>\n",
       "      <td>0.098214</td>\n",
       "      <td>0.500000</td>\n",
       "      <td>519.053571</td>\n",
       "    </tr>\n",
       "    <tr>\n",
       "      <th>3</th>\n",
       "      <td>10.600000</td>\n",
       "      <td>0.0</td>\n",
       "      <td>0.0</td>\n",
       "      <td>0.0</td>\n",
       "      <td>0.0</td>\n",
       "      <td>0.0</td>\n",
       "      <td>0.000000</td>\n",
       "      <td>0.0</td>\n",
       "      <td>0.551724</td>\n",
       "      <td>0.0</td>\n",
       "      <td>0.448276</td>\n",
       "      <td>0.000000</td>\n",
       "      <td>0.000000</td>\n",
       "      <td>0.000000</td>\n",
       "      <td>0.000000</td>\n",
       "      <td>0.000000</td>\n",
       "      <td>0.034483</td>\n",
       "      <td>0.103448</td>\n",
       "      <td>0.862069</td>\n",
       "      <td>115.758621</td>\n",
       "    </tr>\n",
       "    <tr>\n",
       "      <th>4</th>\n",
       "      <td>5.608333</td>\n",
       "      <td>0.0</td>\n",
       "      <td>0.0</td>\n",
       "      <td>0.0</td>\n",
       "      <td>0.0</td>\n",
       "      <td>0.0</td>\n",
       "      <td>0.000000</td>\n",
       "      <td>0.0</td>\n",
       "      <td>0.000000</td>\n",
       "      <td>0.0</td>\n",
       "      <td>0.000000</td>\n",
       "      <td>1.000000</td>\n",
       "      <td>242.129630</td>\n",
       "      <td>10.062963</td>\n",
       "      <td>16.868519</td>\n",
       "      <td>22.012963</td>\n",
       "      <td>0.574074</td>\n",
       "      <td>0.111111</td>\n",
       "      <td>0.314815</td>\n",
       "      <td>540.962963</td>\n",
       "    </tr>\n",
       "    <tr>\n",
       "      <th>5</th>\n",
       "      <td>6.045000</td>\n",
       "      <td>0.0</td>\n",
       "      <td>1.0</td>\n",
       "      <td>0.0</td>\n",
       "      <td>0.0</td>\n",
       "      <td>0.0</td>\n",
       "      <td>0.000000</td>\n",
       "      <td>0.0</td>\n",
       "      <td>0.000000</td>\n",
       "      <td>0.0</td>\n",
       "      <td>0.000000</td>\n",
       "      <td>0.000000</td>\n",
       "      <td>105.356667</td>\n",
       "      <td>0.836667</td>\n",
       "      <td>2.336000</td>\n",
       "      <td>22.310000</td>\n",
       "      <td>0.866667</td>\n",
       "      <td>0.100000</td>\n",
       "      <td>0.033333</td>\n",
       "      <td>1901.533333</td>\n",
       "    </tr>\n",
       "    <tr>\n",
       "      <th>6</th>\n",
       "      <td>14.322093</td>\n",
       "      <td>0.0</td>\n",
       "      <td>0.0</td>\n",
       "      <td>0.0</td>\n",
       "      <td>0.0</td>\n",
       "      <td>0.0</td>\n",
       "      <td>0.000000</td>\n",
       "      <td>0.0</td>\n",
       "      <td>0.000000</td>\n",
       "      <td>0.0</td>\n",
       "      <td>1.000000</td>\n",
       "      <td>0.000000</td>\n",
       "      <td>553.046512</td>\n",
       "      <td>19.662791</td>\n",
       "      <td>35.620930</td>\n",
       "      <td>64.162791</td>\n",
       "      <td>0.232558</td>\n",
       "      <td>0.000000</td>\n",
       "      <td>0.767442</td>\n",
       "      <td>5759.837209</td>\n",
       "    </tr>\n",
       "    <tr>\n",
       "      <th>7</th>\n",
       "      <td>14.690385</td>\n",
       "      <td>0.0</td>\n",
       "      <td>0.0</td>\n",
       "      <td>0.0</td>\n",
       "      <td>0.0</td>\n",
       "      <td>0.0</td>\n",
       "      <td>0.980769</td>\n",
       "      <td>0.0</td>\n",
       "      <td>0.000000</td>\n",
       "      <td>0.0</td>\n",
       "      <td>0.000000</td>\n",
       "      <td>0.019231</td>\n",
       "      <td>643.211538</td>\n",
       "      <td>24.673077</td>\n",
       "      <td>44.802885</td>\n",
       "      <td>62.605769</td>\n",
       "      <td>0.125000</td>\n",
       "      <td>0.000000</td>\n",
       "      <td>0.875000</td>\n",
       "      <td>939.951923</td>\n",
       "    </tr>\n",
       "    <tr>\n",
       "      <th>8</th>\n",
       "      <td>6.446429</td>\n",
       "      <td>1.0</td>\n",
       "      <td>0.0</td>\n",
       "      <td>0.0</td>\n",
       "      <td>0.0</td>\n",
       "      <td>0.0</td>\n",
       "      <td>0.000000</td>\n",
       "      <td>0.0</td>\n",
       "      <td>0.000000</td>\n",
       "      <td>0.0</td>\n",
       "      <td>0.000000</td>\n",
       "      <td>0.000000</td>\n",
       "      <td>385.714286</td>\n",
       "      <td>21.357143</td>\n",
       "      <td>7.428571</td>\n",
       "      <td>43.178571</td>\n",
       "      <td>0.928571</td>\n",
       "      <td>0.000000</td>\n",
       "      <td>0.071429</td>\n",
       "      <td>807.500000</td>\n",
       "    </tr>\n",
       "    <tr>\n",
       "      <th>9</th>\n",
       "      <td>11.619444</td>\n",
       "      <td>0.0</td>\n",
       "      <td>0.0</td>\n",
       "      <td>0.0</td>\n",
       "      <td>0.0</td>\n",
       "      <td>1.0</td>\n",
       "      <td>0.000000</td>\n",
       "      <td>0.0</td>\n",
       "      <td>0.000000</td>\n",
       "      <td>0.0</td>\n",
       "      <td>0.000000</td>\n",
       "      <td>0.000000</td>\n",
       "      <td>477.666667</td>\n",
       "      <td>17.222222</td>\n",
       "      <td>33.277778</td>\n",
       "      <td>49.611111</td>\n",
       "      <td>0.777778</td>\n",
       "      <td>0.000000</td>\n",
       "      <td>0.222222</td>\n",
       "      <td>812.777778</td>\n",
       "    </tr>\n",
       "    <tr>\n",
       "      <th>10</th>\n",
       "      <td>12.723333</td>\n",
       "      <td>0.0</td>\n",
       "      <td>0.0</td>\n",
       "      <td>1.0</td>\n",
       "      <td>0.0</td>\n",
       "      <td>0.0</td>\n",
       "      <td>0.000000</td>\n",
       "      <td>0.0</td>\n",
       "      <td>0.000000</td>\n",
       "      <td>0.0</td>\n",
       "      <td>0.000000</td>\n",
       "      <td>0.000000</td>\n",
       "      <td>569.533333</td>\n",
       "      <td>16.133333</td>\n",
       "      <td>41.866667</td>\n",
       "      <td>69.933333</td>\n",
       "      <td>0.266667</td>\n",
       "      <td>0.000000</td>\n",
       "      <td>0.733333</td>\n",
       "      <td>1545.666667</td>\n",
       "    </tr>\n",
       "    <tr>\n",
       "      <th>11</th>\n",
       "      <td>9.303333</td>\n",
       "      <td>0.0</td>\n",
       "      <td>0.0</td>\n",
       "      <td>0.0</td>\n",
       "      <td>0.0</td>\n",
       "      <td>0.0</td>\n",
       "      <td>0.000000</td>\n",
       "      <td>0.0</td>\n",
       "      <td>0.000000</td>\n",
       "      <td>1.0</td>\n",
       "      <td>0.000000</td>\n",
       "      <td>0.000000</td>\n",
       "      <td>0.000000</td>\n",
       "      <td>0.000000</td>\n",
       "      <td>0.000000</td>\n",
       "      <td>0.000000</td>\n",
       "      <td>0.166667</td>\n",
       "      <td>0.166667</td>\n",
       "      <td>0.666667</td>\n",
       "      <td>37816.833333</td>\n",
       "    </tr>\n",
       "  </tbody>\n",
       "</table>\n",
       "</div>"
      ],
      "text/plain": [
       "             price  dessert  drink  favorite  fresh  guilt-free  highlight  \\\n",
       "cluster                                                                      \n",
       "0        11.954167      0.0    0.0       0.0    1.0         0.0   0.000000   \n",
       "1        12.665556      0.0    0.0       0.0    0.0         0.0   0.000000   \n",
       "2        11.779911      0.0    0.0       0.0    0.0         0.0   0.000000   \n",
       "3        10.600000      0.0    0.0       0.0    0.0         0.0   0.000000   \n",
       "4         5.608333      0.0    0.0       0.0    0.0         0.0   0.000000   \n",
       "5         6.045000      0.0    1.0       0.0    0.0         0.0   0.000000   \n",
       "6        14.322093      0.0    0.0       0.0    0.0         0.0   0.000000   \n",
       "7        14.690385      0.0    0.0       0.0    0.0         0.0   0.980769   \n",
       "8         6.446429      1.0    0.0       0.0    0.0         0.0   0.000000   \n",
       "9        11.619444      0.0    0.0       0.0    0.0         1.0   0.000000   \n",
       "10       12.723333      0.0    0.0       1.0    0.0         0.0   0.000000   \n",
       "11        9.303333      0.0    0.0       0.0    0.0         0.0   0.000000   \n",
       "\n",
       "         local      main  off_menu   regular      side    calories        fat  \\\n",
       "cluster                                                                         \n",
       "0          0.0  0.000000       0.0  0.000000  0.000000  410.500000  16.666667   \n",
       "1          1.0  0.000000       0.0  0.000000  0.000000  352.000000  10.500000   \n",
       "2          0.0  1.000000       0.0  0.000000  0.000000  519.062500  14.723214   \n",
       "3          0.0  0.551724       0.0  0.448276  0.000000    0.000000   0.000000   \n",
       "4          0.0  0.000000       0.0  0.000000  1.000000  242.129630  10.062963   \n",
       "5          0.0  0.000000       0.0  0.000000  0.000000  105.356667   0.836667   \n",
       "6          0.0  0.000000       0.0  1.000000  0.000000  553.046512  19.662791   \n",
       "7          0.0  0.000000       0.0  0.000000  0.019231  643.211538  24.673077   \n",
       "8          0.0  0.000000       0.0  0.000000  0.000000  385.714286  21.357143   \n",
       "9          0.0  0.000000       0.0  0.000000  0.000000  477.666667  17.222222   \n",
       "10         0.0  0.000000       0.0  0.000000  0.000000  569.533333  16.133333   \n",
       "11         0.0  0.000000       1.0  0.000000  0.000000    0.000000   0.000000   \n",
       "\n",
       "           protein       carb   chilled      room      warm      quantity  \n",
       "cluster                                                                    \n",
       "0        29.583333  39.333333  0.583333  0.000000  0.416667    312.416667  \n",
       "1        25.666667  41.944444  0.111111  0.000000  0.888889   2588.000000  \n",
       "2        34.839286  61.642857  0.401786  0.098214  0.500000    519.053571  \n",
       "3         0.000000   0.000000  0.034483  0.103448  0.862069    115.758621  \n",
       "4        16.868519  22.012963  0.574074  0.111111  0.314815    540.962963  \n",
       "5         2.336000  22.310000  0.866667  0.100000  0.033333   1901.533333  \n",
       "6        35.620930  64.162791  0.232558  0.000000  0.767442   5759.837209  \n",
       "7        44.802885  62.605769  0.125000  0.000000  0.875000    939.951923  \n",
       "8         7.428571  43.178571  0.928571  0.000000  0.071429    807.500000  \n",
       "9        33.277778  49.611111  0.777778  0.000000  0.222222    812.777778  \n",
       "10       41.866667  69.933333  0.266667  0.000000  0.733333   1545.666667  \n",
       "11        0.000000   0.000000  0.166667  0.166667  0.666667  37816.833333  "
      ]
     },
     "execution_count": 34,
     "metadata": {},
     "output_type": "execute_result"
    }
   ],
   "source": [
    "X.groupby('cluster').mean()"
   ]
  },
  {
   "cell_type": "code",
   "execution_count": 35,
   "metadata": {},
   "outputs": [],
   "source": [
    "#Add new column to store predictions in original dataframe\n",
    "df['cluster']=pred\n",
    "\n",
    "#Get user_ids of users belonging in each cluster\n",
    "product_seg = df[['id','cluster']]\n",
    "\n",
    "#Output data\n",
    "product_seg.to_csv('../output/product_segmentation.csv',index=False)"
   ]
  },
  {
   "cell_type": "markdown",
   "metadata": {},
   "source": [
    "### Explore Characteristics of Products by Clusters"
   ]
  },
  {
   "cell_type": "code",
   "execution_count": 36,
   "metadata": {},
   "outputs": [
    {
     "data": {
      "image/png": "[encoded data removed]",
      "text/plain": [
       "<Figure size 720x360 with 1 Axes>"
      ]
     },
     "metadata": {
      "needs_background": "light"
     },
     "output_type": "display_data"
    }
   ],
   "source": [
    "#Plot average price by product cluster\n",
    "fig = plt.figure(figsize=(10,5))\n",
    "X.groupby('cluster').mean().price.sort_values().plot('bar', color='orange', alpha=.6)\n",
    "fig.suptitle('Price by Product Cluster', fontsize=20)\n",
    "plt.xlabel('Cluster', fontsize=18)\n",
    "plt.xticks(rotation=360)\n",
    "plt.ylabel('Price', fontsize=10)\n",
    "plt.yticks(np.arange(0,18,2))\n",
    "plt.show()"
   ]
  },
  {
   "cell_type": "code",
   "execution_count": 37,
   "metadata": {},
   "outputs": [
    {
     "data": {
      "image/png": "[encoded data removed]",
      "text/plain": [
       "<Figure size 720x360 with 1 Axes>"
      ]
     },
     "metadata": {
      "needs_background": "light"
     },
     "output_type": "display_data"
    }
   ],
   "source": [
    "#Plot popularity of products in clusters with similiar pricing\n",
    "fig = plt.figure(figsize=(10,5))\n",
    "result = pd.DataFrame(X.groupby('cluster').mean())\n",
    "result.iloc[[9,2,0,1,10]].quantity.plot('bar', color='green', alpha=.5)\n",
    "fig.suptitle('Popularity by Product Cluster', fontsize=20)\n",
    "plt.xlabel('Cluster', fontsize=18)\n",
    "plt.xticks(rotation=360)\n",
    "plt.ylabel('Total Quantity Purchased', fontsize=10)\n",
    "# plt.yticks(np.arange(0,30,2))\n",
    "plt.show()"
   ]
  }
 ],
 "metadata": {
  "kernelspec": {
   "display_name": "Python 3",
   "language": "python",
   "name": "python3"
  },
  "language_info": {
   "codemirror_mode": {
    "name": "ipython",
    "version": 3
   },
   "file_extension": ".py",
   "mimetype": "text/x-python",
   "name": "python",
   "nbconvert_exporter": "python",
   "pygments_lexer": "ipython3",
   "version": "3.7.3"
  }
 },
 "nbformat": 4,
 "nbformat_minor": 2
}
